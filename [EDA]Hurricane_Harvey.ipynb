{
 "cells": [
  {
   "cell_type": "code",
   "execution_count": 45,
   "metadata": {},
   "outputs": [],
   "source": [
    "# Douglas \n",
    "# 6/11/2019"
   ]
  },
  {
   "cell_type": "code",
   "execution_count": 14,
   "metadata": {},
   "outputs": [],
   "source": [
    "import pandas as pd \n",
    "pd.set_option('max_colwidth', -1)"
   ]
  },
  {
   "cell_type": "code",
   "execution_count": 3,
   "metadata": {},
   "outputs": [
    {
     "name": "stdout",
     "output_type": "stream",
     "text": [
      "disaster-relief-dfe-854578.csv\t\t  paired_terms_disaster_relef.csv\n",
      "Emergency_Help_Requests_from_Twitter.csv  socialmedia-disaster-tweets-DFE.csv\n"
     ]
    }
   ],
   "source": [
    "!ls data/"
   ]
  },
  {
   "cell_type": "code",
   "execution_count": 7,
   "metadata": {},
   "outputs": [],
   "source": [
    "help_reqs = pd.read_csv('./data/Emergency_Help_Requests_from_Twitter.csv')\n",
    "# Data source: http://localhost:8888/?token=bb82409f3904772fa6e5e907c013a527b8b62aa7c803b879"
   ]
  },
  {
   "cell_type": "code",
   "execution_count": 9,
   "metadata": {},
   "outputs": [
    {
     "data": {
      "text/plain": [
       "(85, 20)"
      ]
     },
     "execution_count": 9,
     "metadata": {},
     "output_type": "execute_result"
    }
   ],
   "source": [
    "help_reqs.shape"
   ]
  },
  {
   "cell_type": "code",
   "execution_count": 10,
   "metadata": {},
   "outputs": [
    {
     "data": {
      "text/plain": [
       "Index(['X', 'Y', 'OBJECTID', 'displayName', 'username', 'latitude',\n",
       "       'longitude', 'message', 'imageUrl', 'type', 'subType', 'dcId',\n",
       "       'locationType', 'locationDetails', 'algorithmType', 'algorithmMatch',\n",
       "       'date', 'postUrl', 'profileUrl', 'replyUrl'],\n",
       "      dtype='object')"
      ]
     },
     "execution_count": 10,
     "metadata": {},
     "output_type": "execute_result"
    }
   ],
   "source": [
    "help_reqs.columns"
   ]
  },
  {
   "cell_type": "code",
   "execution_count": 15,
   "metadata": {},
   "outputs": [
    {
     "data": {
      "text/plain": [
       "0     @mastasj 2231 Fredrick st port Arthur to 776404097208322 Linda chambers                                                                     \n",
       "1     RESCUE ALERT: Six people in Port Arthur need rescuing. They're at 5235 Ebony Lane with water knee deep into their home.                     \n",
       "2     2320 COX ST PORT ARTHUR TX 77640 !!!!!!!!!!                                                                                                 \n",
       "3     .@HarveyRescue https://t.co/HqJcQPkLJH                                                                                                      \n",
       "4     @austin_milan y'all got a team out in PA? https://t.co/6zptz4mnKG                                                                           \n",
       "5     Need a boat rescue at 2611 east 12th street, Port Arthur, 77640.  Donald Sennette (74 y/o old).… https://t.co/yUjopFdo6L                    \n",
       "6     If it's not one thing . It's another! My great grandma , Ophelia Kinlaw is in need of rescue! 3401 10 st Port Arthu… https://t.co/zJXCWX1PjT\n",
       "7     4005 4th st call my daddy 4095191044 my number is 8322353561 https://t.co/kothOSZClV                                                        \n",
       "8     RT @Kendraax2: I'm shaking , I don't know what to do. Please rescue me 4209 7th St. Port Arthur Tx !!!!!! Water is rising.                  \n",
       "9     @HarveyRescue @RescueQueue Family of 6 needs to be rescued at 5307 Gulfway Apt 161 groves TX. Beverly Place Apts                            \n",
       "10    Switching to real person mode. I need help with getting my family out of a Port Arthur house. Please email julie.garcia@caller.com. #rescue \n",
       "11    HELP!!! THESE PEOPLE NEED RESCUE!!! https://t.co/vKL3idrmEv                                                                                 \n",
       "12    RT @joyceconger: Need rescue at 221 pecan loop liberty texas 77575. south liberty oilfield.. will need boat. #HurricaneHarvy #HoustonFlood  \n",
       "13    ‼️MY GRANDPA COUSIN AND HER 5 KIDS NEED RESCUE, 4641 PROCTOR PORT ARTHUR ACROSS ST. JOSEPHS CHURCH‼️CONTACT 409.853.2561                    \n",
       "14    RT @Shaknotstird: @alt_noods If anyone is out there my family and I need rescue. My address is 1329 Barbara Ln, Port Arthur, TX / PHO…      \n",
       "15    RT @bornidentityP: Jacquelyn Foreman 6010 Daisy Ave. Port Arthur, Tx.  I need of rescue. In house with 3 adults and 3 kids. #HarveyRescue   \n",
       "16    RT @Taykerryn_: ALSO IN NEED OF RESCUINGBrandon captain 409 543 7396 4620 5th st port Arthur Texas my nephew is only 1 and has medical pr…  \n",
       "17    RT @YesMrHoward: Old friend of mine. RT this yall. 3717 5th st. Port Arthur, TX https://t.co/qkRNu5kSwl                                     \n",
       "18    RT @shiphitsthefan: @alt_noods RESCUE: Lonnie & Phillip Collins2601 19th Street Port Arthur, TX(409) 932-0689                               \n",
       "19    RT @Teeeeethegee: please send help to my dad house 2021 East 17th street port Arthur Texas , his house is flooded bad and the water is gett…\n",
       "20    RT @_noonieee: 800 10th st.Port Arthur tx !! Please somebody please send help my 1 year old nephew is in there along with the rest of my fa…\n",
       "21    RT @OlliverTerry: 4318 kylewood ct port Arthur Tx 77642 11 adults 4 kids!  We need rescuing.. https://t.co/38VLwxPCp0                       \n",
       "22    RT @Misskei_: PLEASE SEND HELP ! 1531 Grannis Street Port Arthur, Tx!  My Bestfriends grandma and mother are inside the water is rising rap…\n",
       "23    RT @WhipTheRapper: Somebody help my daddy !!! 1113 w procter st Port Arthur tx !!!!                                                         \n",
       "24    RT @JayeNick_: SOMEBODY GO HELP MY SISTER PLEASE!! SHES IN THERE WITH 3 KIDS (5month yr old,2, & 5) 2317 17th St PORT ARTHUR TX             \n",
       "25    RT @w_terrence: Any one in Port Arthur that can help there is a man at his address that need to be rescued! 2021 east 17th street port Arth…\n",
       "26    RT @ohyulissaa_: If somebody can send help for my family & myself please 5249 4th st port arthur ! 3 people                                 \n",
       "27    RT @ThatGuyTevo: @Its_randle @FatDawg__ 628 12th st. Port Arthur TX 77640 ! My brothers parents are there ! Water rising in the hous…       \n",
       "28    RT @KariVanHorn: 13 mins ago from @CharmingChelle --> 1320 14th Street Port Arthur, Texas @TriggaTreee 's GRANDPARENTS!!!! https://t.co/G…  \n",
       "29    RT @rubynnz: I have family at 5208 13th st port Arthur tx 77742 that need help out of the rising water if anyone is in that area rescuing!!…\n",
       "                                                                          ...                                                                     \n",
       "55    RT @iamnickwest_: Grandma who stays in #PortArthur water is Waist deep & rising shes home alone addy is 801 18th st port Arthur Tx 77640 Na…\n",
       "56    RT @ohsnapitztab: @ReporterTiffany @kfdmnews Please send help!5247 5th StPort Arthur4099987005 https://t.co/Pkf9vpVdXg                      \n",
       "57    RT @Rodieee_: 4000 3RD ST as well !!!!! 🗣🗣🗣 https://t.co/MKJIEFlpt9                                                                         \n",
       "58    WE NEED A RESCUE TEAM HERE ASAP! 5333 LAKESIDEPORT ARTHUR TX 77642THEY ARE ON THE ROOF!!! NEWBORN BABY!!!... https://t.co/yXOSIt34IG        \n",
       "59    RT @luisfvzz: If anyone can come help me and brother @3039 40 th st Port Arthur Tx 77642                                                    \n",
       "60    RT @LoveDeepEast: @trillhomie_esg 6112 13th street port arthur tx !  Family of 4 they need rescue water pass knee level 🗣We need help…      \n",
       "61    RT @macyyabrego: 2408 19th StOrange, TX  77630Key box code is 192494 Y/O LADY, NEEDS RESCUE, LAYING ON THE FLOOR IN WATER, CANT GET UP!!…   \n",
       "62    RT @Teeeeethegee: water is now rising at our home. 4248 vassar st port arthur tx! if anyone knows ofany assistance please send them we hav… \n",
       "63    RT @ToddJdance: my family and a few more on the street are trapped and need assistance. please some help them. 614 12th st. Port Arthur, TX \n",
       "64    RT @Ravishing_Woo: Please can someone send help to my cousins grandmother house 1040 E 18th stPort Arthur, Tx 77640! Water in her house!    \n",
       "65    RT @DylanCohl: Yo anybody in PA with a Boat? Lil Chad Jr. and his family are in need of a boat rescue. 5048 Shreveport AvePort Arthur, TX…  \n",
       "66    RT @DJ_LeBear: SOMEONE PLEASE SEND HELP TO 3920 6th St Port Arthur, TX. 5-6 people on roof!! \\n\\n- J                                        \n",
       "67    RT @bristeez_: 2237 FREDICK ST. PORT ARTHUR, TX MY AUNT HAS SPECIAL NEEDS AND THEYRE STUCK !!!!                                             \n",
       "68    RT @briaHTX: Guys please RT & send help to 6314 Homeview Dr Houston TX 77049. My mom is trapped alone and needs to be rescued ‼️…           \n",
       "69    RT @Thisisbryyy_: Please someone help my grandparents who are stuck in Port Arthur they still haven't received help 1425 15th St Port Arthu…\n",
       "70    RT @DejaaBloo: @Keep2020Alive 937 18th St Port Arthur tx woman in home alone #HarveySOS                                                     \n",
       "71    RT @_kayluuv: 634 18th ST. Port Arthur, TX. My mom and dog needs to be rescued. She's been waiting for 4 hours.                             \n",
       "72    RT @WMN4SRVL: @harveyrescue #HarveyRescue #Harveysos #CajunNavy #NeedsRescue3181 26th St PORT ARTHUR https://t.co/hqgv29dU0z                \n",
       "73    RT @andrea_portes: @modeane Erica Wycoff at 3180 26th St.  Port Arthur.  4 adults (1 special needs) and 1 child🚑🚑🚑🚨🚨🚨High Water             \n",
       "74    RT @naerrueche: My grandmother is wheelchair bound and the water is to her knees at her house. 2601 19th street port Arthur Texas PLEASE    \n",
       "75    RT @Donttellyournew: @JVOkendall 909 Phyllis St Port Arthur TX 77640 x Roosevelt & 60th ⭕️EMERGENCY People on car hood high flood water…    \n",
       "76    RT @BobbyRushingJr: Friend with household of 5 needs help in flood 3160 26th St Port Arthur TX #PortArthurSOS @12NewsNow @kfdmnews          \n",
       "77    RT @SayMaia_: @CajunNavyRelief FAMILY OF 4 4029 7th Street Port Arthur, TX 77642! One is sickly and they have been waiting since 5 a.m.!    \n",
       "78    RT @Rainsong___: @alt_noods @DejaaBloo great grandmother and 2 relatives needs to be rescued. Address is 3410 Avalon Ave. Port Arthur, TX 7…\n",
       "79    RT @CharmingChelle: IF ANYONE CAN GET TO @LilSexyTaaaj and her family on:920 EAST 15th STREETPORT ARTHUR, TEXAS!                            \n",
       "80    @angel_ponders 1119 11th street Port Arthur, 4 people, one of them is 83 year old grandmother, and 3 other adults. Thank you! Let me know!  \n",
       "81    RT @_Caatina: Please 1535 15th st port Arthur TX https://t.co/1RbDATQC7e                                                                    \n",
       "82    RT @courtneyjanae_: A lady is stuck in her attic with her 2 grandkids. 500 neches ave @5th street Port Arthur. Please somebody help her     \n",
       "83    RT @theyloovere: 1934 east 15 street port arthur tx PLEASE HELP US 3 ADULTS 4 SMALL KIDS                                                    \n",
       "84    RT @fxyyyth_: somebody help my bestfriend! the flooding is really bad where she is . 1605 E. 15th street Port Arthur, Texas https://t.co/gX…\n",
       "Name: message, Length: 85, dtype: object"
      ]
     },
     "execution_count": 15,
     "metadata": {},
     "output_type": "execute_result"
    }
   ],
   "source": [
    "help_reqs['message']"
   ]
  },
  {
   "cell_type": "code",
   "execution_count": null,
   "metadata": {},
   "outputs": [],
   "source": [
    "# To do:\n"
   ]
  },
  {
   "cell_type": "code",
   "execution_count": null,
   "metadata": {},
   "outputs": [],
   "source": []
  },
  {
   "cell_type": "code",
   "execution_count": 40,
   "metadata": {},
   "outputs": [
    {
     "name": "stdout",
     "output_type": "stream",
     "text": [
      "CPU times: user 4.14 s, sys: 179 ms, total: 4.32 s\n",
      "Wall time: 4.29 s\n"
     ]
    }
   ],
   "source": [
    "%%time \n",
    "harvey = pd.read_csv('./data/HurricaneHarvey_ids.txt.gz', header=None, names=['id'])['id'].tolist()\n",
    "# https://digital.library.unt.edu/ark:/67531/metadc993940/"
   ]
  },
  {
   "cell_type": "markdown",
   "metadata": {},
   "source": [
    "Keywords used to generate dataset\n",
    "    #Harvey\n",
    "    #Harvey2017\n",
    "    #HarveyStorm\n",
    "    #HoustonFlood\n",
    "    #HoustonFlooding\n",
    "    #HoustonFloods\n",
    "    #HurricaneHarvey\n",
    "    Gulf Coast\n",
    "    Hurricane Harvey\n",
    "    Twitter"
   ]
  },
  {
   "cell_type": "code",
   "execution_count": 36,
   "metadata": {},
   "outputs": [
    {
     "data": {
      "text/plain": [
       "(7041866, 1)"
      ]
     },
     "execution_count": 36,
     "metadata": {},
     "output_type": "execute_result"
    }
   ],
   "source": [
    "# 7 million tweets \n",
    "harvey.shape"
   ]
  },
  {
   "cell_type": "code",
   "execution_count": 23,
   "metadata": {},
   "outputs": [],
   "source": [
    "from twarc import Twarc"
   ]
  },
  {
   "cell_type": "code",
   "execution_count": 28,
   "metadata": {},
   "outputs": [],
   "source": [
    "import gzip"
   ]
  },
  {
   "cell_type": "code",
   "execution_count": 44,
   "metadata": {},
   "outputs": [
    {
     "name": "stdout",
     "output_type": "stream",
     "text": [
      "CPU times: user 5.45 s, sys: 285 ms, total: 5.74 s\n",
      "Wall time: 5.77 s\n"
     ]
    }
   ],
   "source": [
    "# %%time\n",
    "# with gzip.open('./data/HurricaneHarvey_ids.txt.gz', 'rt') as f: #rt=read text\n",
    "#     tweet_ids = [line[:-1] for line in f] # remove \\n char\n",
    "# pandas does it faster and easier\n",
    "# https://stackoverflow.com/questions/10566558/python-read-lines-from-compressed-text-files"
   ]
  },
  {
   "cell_type": "code",
   "execution_count": 42,
   "metadata": {},
   "outputs": [
    {
     "data": {
      "text/plain": [
       "['898676461032189952',\n",
       " '898679833554759680',\n",
       " '898680216989696000',\n",
       " '898681045884715008',\n",
       " '898681292643909632']"
      ]
     },
     "execution_count": 42,
     "metadata": {},
     "output_type": "execute_result"
    }
   ],
   "source": [
    "# tweet_ids[:5]"
   ]
  },
  {
   "cell_type": "code",
   "execution_count": 48,
   "metadata": {},
   "outputs": [],
   "source": [
    "# https://github.com/DocNow/twarc\n",
    "# Create instance - filling in crednetials from .twarc file\n",
    "t = Twarc()"
   ]
  },
  {
   "cell_type": "code",
   "execution_count": 49,
   "metadata": {},
   "outputs": [],
   "source": [
    "tweets = []\n",
    "for tweet in t.hydrate(harvey[:5]):\n",
    "    tweets.append(tweet)"
   ]
  },
  {
   "cell_type": "code",
   "execution_count": 52,
   "metadata": {},
   "outputs": [
    {
     "data": {
      "text/plain": [
       "{'contributors': None,\n",
       " 'coordinates': None,\n",
       " 'created_at': 'Fri Aug 18 22:55:43 +0000 2017',\n",
       " 'display_text_range': [0, 120],\n",
       " 'entities': {'hashtags': [{'indices': [32, 39], 'text': 'Harvey'},\n",
       "   {'indices': [64, 73], 'text': 'Coahuila'},\n",
       "   {'indices': [74, 84], 'text': 'NuevoLeon'},\n",
       "   {'indices': [85, 96], 'text': 'Tamaulipas'}],\n",
       "  'media': [{'display_url': 'pic.twitter.com/DGW2NdvgpD',\n",
       "    'expanded_url': 'https://twitter.com/mmsoriano/status/898639604240203776/photo/1',\n",
       "    'id': 898639595323047936,\n",
       "    'id_str': '898639595323047936',\n",
       "    'indices': [97, 120],\n",
       "    'media_url': 'http://pbs.twimg.com/media/DHib82RUwAAjE9i.jpg',\n",
       "    'media_url_https': 'https://pbs.twimg.com/media/DHib82RUwAAjE9i.jpg',\n",
       "    'sizes': {'large': {'h': 736, 'resize': 'fit', 'w': 897},\n",
       "     'medium': {'h': 736, 'resize': 'fit', 'w': 897},\n",
       "     'small': {'h': 558, 'resize': 'fit', 'w': 680},\n",
       "     'thumb': {'h': 150, 'resize': 'crop', 'w': 150}},\n",
       "    'source_status_id': 898639604240203776,\n",
       "    'source_status_id_str': '898639604240203776',\n",
       "    'source_user_id': 56844577,\n",
       "    'source_user_id_str': '56844577',\n",
       "    'type': 'photo',\n",
       "    'url': 'https://t.co/DGW2NdvgpD'}],\n",
       "  'symbols': [],\n",
       "  'urls': [],\n",
       "  'user_mentions': [{'id': 56844577,\n",
       "    'id_str': '56844577',\n",
       "    'indices': [3, 13],\n",
       "    'name': 'Soriano',\n",
       "    'screen_name': 'mmsoriano'}]},\n",
       " 'extended_entities': {'media': [{'display_url': 'pic.twitter.com/DGW2NdvgpD',\n",
       "    'expanded_url': 'https://twitter.com/mmsoriano/status/898639604240203776/photo/1',\n",
       "    'ext_alt_text': None,\n",
       "    'id': 898639595323047936,\n",
       "    'id_str': '898639595323047936',\n",
       "    'indices': [97, 120],\n",
       "    'media_url': 'http://pbs.twimg.com/media/DHib82RUwAAjE9i.jpg',\n",
       "    'media_url_https': 'https://pbs.twimg.com/media/DHib82RUwAAjE9i.jpg',\n",
       "    'sizes': {'large': {'h': 736, 'resize': 'fit', 'w': 897},\n",
       "     'medium': {'h': 736, 'resize': 'fit', 'w': 897},\n",
       "     'small': {'h': 558, 'resize': 'fit', 'w': 680},\n",
       "     'thumb': {'h': 150, 'resize': 'crop', 'w': 150}},\n",
       "    'source_status_id': 898639604240203776,\n",
       "    'source_status_id_str': '898639604240203776',\n",
       "    'source_user_id': 56844577,\n",
       "    'source_user_id_str': '56844577',\n",
       "    'type': 'photo',\n",
       "    'url': 'https://t.co/DGW2NdvgpD'}]},\n",
       " 'favorite_count': 0,\n",
       " 'favorited': False,\n",
       " 'full_text': 'RT @mmsoriano: Aguas con el tal #Harvey, no lo pierdan de vista #Coahuila #NuevoLeon #Tamaulipas https://t.co/DGW2NdvgpD',\n",
       " 'geo': None,\n",
       " 'id': 898679833554759680,\n",
       " 'id_str': '898679833554759680',\n",
       " 'in_reply_to_screen_name': None,\n",
       " 'in_reply_to_status_id': None,\n",
       " 'in_reply_to_status_id_str': None,\n",
       " 'in_reply_to_user_id': None,\n",
       " 'in_reply_to_user_id_str': None,\n",
       " 'is_quote_status': False,\n",
       " 'lang': 'es',\n",
       " 'place': None,\n",
       " 'possibly_sensitive': False,\n",
       " 'retweet_count': 11,\n",
       " 'retweeted': False,\n",
       " 'retweeted_status': {'contributors': None,\n",
       "  'coordinates': None,\n",
       "  'created_at': 'Fri Aug 18 20:15:52 +0000 2017',\n",
       "  'display_text_range': [0, 81],\n",
       "  'entities': {'hashtags': [{'indices': [17, 24], 'text': 'Harvey'},\n",
       "    {'indices': [49, 58], 'text': 'Coahuila'},\n",
       "    {'indices': [59, 69], 'text': 'NuevoLeon'},\n",
       "    {'indices': [70, 81], 'text': 'Tamaulipas'}],\n",
       "   'media': [{'display_url': 'pic.twitter.com/DGW2NdvgpD',\n",
       "     'expanded_url': 'https://twitter.com/mmsoriano/status/898639604240203776/photo/1',\n",
       "     'id': 898639595323047936,\n",
       "     'id_str': '898639595323047936',\n",
       "     'indices': [82, 105],\n",
       "     'media_url': 'http://pbs.twimg.com/media/DHib82RUwAAjE9i.jpg',\n",
       "     'media_url_https': 'https://pbs.twimg.com/media/DHib82RUwAAjE9i.jpg',\n",
       "     'sizes': {'large': {'h': 736, 'resize': 'fit', 'w': 897},\n",
       "      'medium': {'h': 736, 'resize': 'fit', 'w': 897},\n",
       "      'small': {'h': 558, 'resize': 'fit', 'w': 680},\n",
       "      'thumb': {'h': 150, 'resize': 'crop', 'w': 150}},\n",
       "     'type': 'photo',\n",
       "     'url': 'https://t.co/DGW2NdvgpD'}],\n",
       "   'symbols': [],\n",
       "   'urls': [],\n",
       "   'user_mentions': []},\n",
       "  'extended_entities': {'media': [{'display_url': 'pic.twitter.com/DGW2NdvgpD',\n",
       "     'expanded_url': 'https://twitter.com/mmsoriano/status/898639604240203776/photo/1',\n",
       "     'ext_alt_text': None,\n",
       "     'id': 898639595323047936,\n",
       "     'id_str': '898639595323047936',\n",
       "     'indices': [82, 105],\n",
       "     'media_url': 'http://pbs.twimg.com/media/DHib82RUwAAjE9i.jpg',\n",
       "     'media_url_https': 'https://pbs.twimg.com/media/DHib82RUwAAjE9i.jpg',\n",
       "     'sizes': {'large': {'h': 736, 'resize': 'fit', 'w': 897},\n",
       "      'medium': {'h': 736, 'resize': 'fit', 'w': 897},\n",
       "      'small': {'h': 558, 'resize': 'fit', 'w': 680},\n",
       "      'thumb': {'h': 150, 'resize': 'crop', 'w': 150}},\n",
       "     'type': 'photo',\n",
       "     'url': 'https://t.co/DGW2NdvgpD'}]},\n",
       "  'favorite_count': 9,\n",
       "  'favorited': False,\n",
       "  'full_text': 'Aguas con el tal #Harvey, no lo pierdan de vista #Coahuila #NuevoLeon #Tamaulipas https://t.co/DGW2NdvgpD',\n",
       "  'geo': None,\n",
       "  'id': 898639604240203776,\n",
       "  'id_str': '898639604240203776',\n",
       "  'in_reply_to_screen_name': None,\n",
       "  'in_reply_to_status_id': None,\n",
       "  'in_reply_to_status_id_str': None,\n",
       "  'in_reply_to_user_id': None,\n",
       "  'in_reply_to_user_id_str': None,\n",
       "  'is_quote_status': False,\n",
       "  'lang': 'es',\n",
       "  'place': None,\n",
       "  'possibly_sensitive': False,\n",
       "  'retweet_count': 11,\n",
       "  'retweeted': False,\n",
       "  'source': '<a href=\"http://twitter.com\" rel=\"nofollow\">Twitter Web Client</a>',\n",
       "  'truncated': False,\n",
       "  'user': {'contributors_enabled': False,\n",
       "   'created_at': 'Tue Jul 14 22:53:12 +0000 2009',\n",
       "   'default_profile': False,\n",
       "   'default_profile_image': False,\n",
       "   'description': 'Periodista en el norte de México. Comment is free. Facts are sacred.',\n",
       "   'entities': {'description': {'urls': []}},\n",
       "   'favourites_count': 195,\n",
       "   'follow_request_sent': False,\n",
       "   'followers_count': 59432,\n",
       "   'following': False,\n",
       "   'friends_count': 1138,\n",
       "   'geo_enabled': True,\n",
       "   'has_extended_profile': True,\n",
       "   'id': 56844577,\n",
       "   'id_str': '56844577',\n",
       "   'is_translation_enabled': False,\n",
       "   'is_translator': False,\n",
       "   'lang': None,\n",
       "   'listed_count': 224,\n",
       "   'location': 'Saltillo, México',\n",
       "   'name': 'Soriano',\n",
       "   'notifications': False,\n",
       "   'profile_background_color': '913C75',\n",
       "   'profile_background_image_url': 'http://abs.twimg.com/images/themes/theme14/bg.gif',\n",
       "   'profile_background_image_url_https': 'https://abs.twimg.com/images/themes/theme14/bg.gif',\n",
       "   'profile_background_tile': False,\n",
       "   'profile_banner_extensions_alt_text': None,\n",
       "   'profile_banner_url': 'https://pbs.twimg.com/profile_banners/56844577/1559944480',\n",
       "   'profile_image_extensions_alt_text': None,\n",
       "   'profile_image_url': 'http://pbs.twimg.com/profile_images/839219818091819008/ertUfoU8_normal.jpg',\n",
       "   'profile_image_url_https': 'https://pbs.twimg.com/profile_images/839219818091819008/ertUfoU8_normal.jpg',\n",
       "   'profile_link_color': '981CEB',\n",
       "   'profile_sidebar_border_color': '000000',\n",
       "   'profile_sidebar_fill_color': 'EFEFEF',\n",
       "   'profile_text_color': '333333',\n",
       "   'profile_use_background_image': False,\n",
       "   'protected': False,\n",
       "   'screen_name': 'mmsoriano',\n",
       "   'statuses_count': 103023,\n",
       "   'time_zone': None,\n",
       "   'translator_type': 'none',\n",
       "   'url': None,\n",
       "   'utc_offset': None,\n",
       "   'verified': False}},\n",
       " 'source': '<a href=\"http://twitter.com\" rel=\"nofollow\">Twitter Web Client</a>',\n",
       " 'truncated': False,\n",
       " 'user': {'contributors_enabled': False,\n",
       "  'created_at': 'Mon Nov 19 09:31:33 +0000 2007',\n",
       "  'default_profile': False,\n",
       "  'default_profile_image': False,\n",
       "  'description': 'Administrador del portal Saltilloenfrecuencia.\\nInteresado en la Promoción Turistica y Cultural de la Ciudad de #Saltillo Coahuila.',\n",
       "  'entities': {'description': {'urls': []},\n",
       "   'url': {'urls': [{'display_url': 'saltilloenfrecuencia.zxq.net',\n",
       "      'expanded_url': 'http://www.saltilloenfrecuencia.zxq.net',\n",
       "      'indices': [0, 22],\n",
       "      'url': 'http://t.co/vmxp77OdyD'}]}},\n",
       "  'favourites_count': 11708,\n",
       "  'follow_request_sent': False,\n",
       "  'followers_count': 8157,\n",
       "  'following': False,\n",
       "  'friends_count': 8156,\n",
       "  'geo_enabled': True,\n",
       "  'has_extended_profile': False,\n",
       "  'id': 10378402,\n",
       "  'id_str': '10378402',\n",
       "  'is_translation_enabled': False,\n",
       "  'is_translator': False,\n",
       "  'lang': None,\n",
       "  'listed_count': 14,\n",
       "  'location': '',\n",
       "  'name': 'arma_dc',\n",
       "  'notifications': False,\n",
       "  'profile_background_color': 'C0DEED',\n",
       "  'profile_background_image_url': 'http://abs.twimg.com/images/themes/theme1/bg.png',\n",
       "  'profile_background_image_url_https': 'https://abs.twimg.com/images/themes/theme1/bg.png',\n",
       "  'profile_background_tile': False,\n",
       "  'profile_banner_extensions_alt_text': None,\n",
       "  'profile_banner_url': 'https://pbs.twimg.com/profile_banners/10378402/1536134392',\n",
       "  'profile_image_extensions_alt_text': None,\n",
       "  'profile_image_url': 'http://pbs.twimg.com/profile_images/1227088679/plazaarmas_normal.jpg',\n",
       "  'profile_image_url_https': 'https://pbs.twimg.com/profile_images/1227088679/plazaarmas_normal.jpg',\n",
       "  'profile_link_color': '0084B4',\n",
       "  'profile_sidebar_border_color': 'FFFFFF',\n",
       "  'profile_sidebar_fill_color': 'DDEEF6',\n",
       "  'profile_text_color': '333333',\n",
       "  'profile_use_background_image': True,\n",
       "  'protected': False,\n",
       "  'screen_name': 'arma_dc',\n",
       "  'statuses_count': 19658,\n",
       "  'time_zone': None,\n",
       "  'translator_type': 'none',\n",
       "  'url': 'http://t.co/vmxp77OdyD',\n",
       "  'utc_offset': None,\n",
       "  'verified': False}}"
      ]
     },
     "execution_count": 52,
     "metadata": {},
     "output_type": "execute_result"
    }
   ],
   "source": [
    "tweets[0]"
   ]
  },
  {
   "cell_type": "code",
   "execution_count": null,
   "metadata": {},
   "outputs": [],
   "source": [
    "tweets[0]['full_text'] # extract text"
   ]
  }
 ],
 "metadata": {
  "kernelspec": {
   "display_name": "Python 3",
   "language": "python",
   "name": "python3"
  },
  "language_info": {
   "codemirror_mode": {
    "name": "ipython",
    "version": 3
   },
   "file_extension": ".py",
   "mimetype": "text/x-python",
   "name": "python",
   "nbconvert_exporter": "python",
   "pygments_lexer": "ipython3",
   "version": "3.6.8"
  }
 },
 "nbformat": 4,
 "nbformat_minor": 2
}

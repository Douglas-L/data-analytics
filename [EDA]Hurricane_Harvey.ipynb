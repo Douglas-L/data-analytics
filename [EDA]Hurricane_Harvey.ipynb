{
 "cells": [
  {
   "cell_type": "markdown",
   "metadata": {},
   "source": [
    "# HUrricane Harvey tweets\n",
    "1. [Emergency Help Requests](#help) \n",
    "    - only 85 tweets but a great match for the task \n",
    "    - how do people actually talk when requesting for help?\n",
    "        - mention address (OWL has GPS and a separate address field)\n",
    "        - specifics like knee deep water, number of kids and elderly \n",
    "    - clean up some twitter specific quirks with tweet-preprocessor\n",
    "2. [Hydrate tweets](#hydrate)\n",
    "    - 7 million but were generated through keywords, so contains many news type of tweets and not as appropriate for task\n",
    "    - twitter policy is can share lists of tweetids but not the content, so need to \"hydrate\" (pull actual data with api)"
   ]
  },
  {
   "cell_type": "code",
   "execution_count": 1,
   "metadata": {},
   "outputs": [],
   "source": [
    "# Douglas \n",
    "# 6/11/2019"
   ]
  },
  {
   "cell_type": "code",
   "execution_count": 2,
   "metadata": {},
   "outputs": [],
   "source": [
    "import pandas as pd \n",
    "pd.set_option('max_colwidth', -1)"
   ]
  },
  {
   "cell_type": "code",
   "execution_count": 3,
   "metadata": {},
   "outputs": [
    {
     "name": "stdout",
     "output_type": "stream",
     "text": [
      "disaster-relief-dfe-854578.csv\t\t  paired_medical_terms.pkl\n",
      "disaster-relief-dfe-backup.csv\t\t  paired_terms_disaster_relef.csv\n",
      "Emergency_Help_Requests_from_Twitter.csv  socialmedia-disaster-tweets-DFE.csv\n",
      "harvey_port_arthur_tweets.pkl\t\t  twarc.log\n",
      "HurricaneHarvey_ids.txt.gz\n"
     ]
    }
   ],
   "source": [
    "!ls data/"
   ]
  },
  {
   "cell_type": "markdown",
   "metadata": {},
   "source": [
    "<a id='help'></a>\n",
    "# 1. Emergency Help Requests"
   ]
  },
  {
   "cell_type": "code",
   "execution_count": 4,
   "metadata": {},
   "outputs": [],
   "source": [
    "help_reqs = pd.read_csv('./data/Emergency_Help_Requests_from_Twitter.csv')\n",
    "# Data source: http://localhost:8888/?token=bb82409f3904772fa6e5e907c013a527b8b62aa7c803b879"
   ]
  },
  {
   "cell_type": "code",
   "execution_count": 5,
   "metadata": {},
   "outputs": [
    {
     "data": {
      "text/plain": [
       "(85, 20)"
      ]
     },
     "execution_count": 5,
     "metadata": {},
     "output_type": "execute_result"
    }
   ],
   "source": [
    "help_reqs.shape"
   ]
  },
  {
   "cell_type": "code",
   "execution_count": 6,
   "metadata": {},
   "outputs": [
    {
     "data": {
      "text/plain": [
       "Index(['X', 'Y', 'OBJECTID', 'displayName', 'username', 'latitude',\n",
       "       'longitude', 'message', 'imageUrl', 'type', 'subType', 'dcId',\n",
       "       'locationType', 'locationDetails', 'algorithmType', 'algorithmMatch',\n",
       "       'date', 'postUrl', 'profileUrl', 'replyUrl'],\n",
       "      dtype='object')"
      ]
     },
     "execution_count": 6,
     "metadata": {},
     "output_type": "execute_result"
    }
   ],
   "source": [
    "help_reqs.columns"
   ]
  },
  {
   "cell_type": "code",
   "execution_count": 7,
   "metadata": {},
   "outputs": [
    {
     "data": {
      "text/plain": [
       "0     @mastasj 2231 Fredrick st port Arthur to 776404097208322 Linda chambers                                                                     \n",
       "1     RESCUE ALERT: Six people in Port Arthur need rescuing. They're at 5235 Ebony Lane with water knee deep into their home.                     \n",
       "2     2320 COX ST PORT ARTHUR TX 77640 !!!!!!!!!!                                                                                                 \n",
       "3     .@HarveyRescue https://t.co/HqJcQPkLJH                                                                                                      \n",
       "4     @austin_milan y'all got a team out in PA? https://t.co/6zptz4mnKG                                                                           \n",
       "5     Need a boat rescue at 2611 east 12th street, Port Arthur, 77640.  Donald Sennette (74 y/o old).… https://t.co/yUjopFdo6L                    \n",
       "6     If it's not one thing . It's another! My great grandma , Ophelia Kinlaw is in need of rescue! 3401 10 st Port Arthu… https://t.co/zJXCWX1PjT\n",
       "7     4005 4th st call my daddy 4095191044 my number is 8322353561 https://t.co/kothOSZClV                                                        \n",
       "8     RT @Kendraax2: I'm shaking , I don't know what to do. Please rescue me 4209 7th St. Port Arthur Tx !!!!!! Water is rising.                  \n",
       "9     @HarveyRescue @RescueQueue Family of 6 needs to be rescued at 5307 Gulfway Apt 161 groves TX. Beverly Place Apts                            \n",
       "10    Switching to real person mode. I need help with getting my family out of a Port Arthur house. Please email julie.garcia@caller.com. #rescue \n",
       "11    HELP!!! THESE PEOPLE NEED RESCUE!!! https://t.co/vKL3idrmEv                                                                                 \n",
       "12    RT @joyceconger: Need rescue at 221 pecan loop liberty texas 77575. south liberty oilfield.. will need boat. #HurricaneHarvy #HoustonFlood  \n",
       "13    ‼️MY GRANDPA COUSIN AND HER 5 KIDS NEED RESCUE, 4641 PROCTOR PORT ARTHUR ACROSS ST. JOSEPHS CHURCH‼️CONTACT 409.853.2561                    \n",
       "14    RT @Shaknotstird: @alt_noods If anyone is out there my family and I need rescue. My address is 1329 Barbara Ln, Port Arthur, TX / PHO…      \n",
       "15    RT @bornidentityP: Jacquelyn Foreman 6010 Daisy Ave. Port Arthur, Tx.  I need of rescue. In house with 3 adults and 3 kids. #HarveyRescue   \n",
       "16    RT @Taykerryn_: ALSO IN NEED OF RESCUINGBrandon captain 409 543 7396 4620 5th st port Arthur Texas my nephew is only 1 and has medical pr…  \n",
       "17    RT @YesMrHoward: Old friend of mine. RT this yall. 3717 5th st. Port Arthur, TX https://t.co/qkRNu5kSwl                                     \n",
       "18    RT @shiphitsthefan: @alt_noods RESCUE: Lonnie & Phillip Collins2601 19th Street Port Arthur, TX(409) 932-0689                               \n",
       "19    RT @Teeeeethegee: please send help to my dad house 2021 East 17th street port Arthur Texas , his house is flooded bad and the water is gett…\n",
       "20    RT @_noonieee: 800 10th st.Port Arthur tx !! Please somebody please send help my 1 year old nephew is in there along with the rest of my fa…\n",
       "21    RT @OlliverTerry: 4318 kylewood ct port Arthur Tx 77642 11 adults 4 kids!  We need rescuing.. https://t.co/38VLwxPCp0                       \n",
       "22    RT @Misskei_: PLEASE SEND HELP ! 1531 Grannis Street Port Arthur, Tx!  My Bestfriends grandma and mother are inside the water is rising rap…\n",
       "23    RT @WhipTheRapper: Somebody help my daddy !!! 1113 w procter st Port Arthur tx !!!!                                                         \n",
       "24    RT @JayeNick_: SOMEBODY GO HELP MY SISTER PLEASE!! SHES IN THERE WITH 3 KIDS (5month yr old,2, & 5) 2317 17th St PORT ARTHUR TX             \n",
       "25    RT @w_terrence: Any one in Port Arthur that can help there is a man at his address that need to be rescued! 2021 east 17th street port Arth…\n",
       "26    RT @ohyulissaa_: If somebody can send help for my family & myself please 5249 4th st port arthur ! 3 people                                 \n",
       "27    RT @ThatGuyTevo: @Its_randle @FatDawg__ 628 12th st. Port Arthur TX 77640 ! My brothers parents are there ! Water rising in the hous…       \n",
       "28    RT @KariVanHorn: 13 mins ago from @CharmingChelle --> 1320 14th Street Port Arthur, Texas @TriggaTreee 's GRANDPARENTS!!!! https://t.co/G…  \n",
       "29    RT @rubynnz: I have family at 5208 13th st port Arthur tx 77742 that need help out of the rising water if anyone is in that area rescuing!!…\n",
       "                                                                          ...                                                                     \n",
       "55    RT @iamnickwest_: Grandma who stays in #PortArthur water is Waist deep & rising shes home alone addy is 801 18th st port Arthur Tx 77640 Na…\n",
       "56    RT @ohsnapitztab: @ReporterTiffany @kfdmnews Please send help!5247 5th StPort Arthur4099987005 https://t.co/Pkf9vpVdXg                      \n",
       "57    RT @Rodieee_: 4000 3RD ST as well !!!!! 🗣🗣🗣 https://t.co/MKJIEFlpt9                                                                         \n",
       "58    WE NEED A RESCUE TEAM HERE ASAP! 5333 LAKESIDEPORT ARTHUR TX 77642THEY ARE ON THE ROOF!!! NEWBORN BABY!!!... https://t.co/yXOSIt34IG        \n",
       "59    RT @luisfvzz: If anyone can come help me and brother @3039 40 th st Port Arthur Tx 77642                                                    \n",
       "60    RT @LoveDeepEast: @trillhomie_esg 6112 13th street port arthur tx !  Family of 4 they need rescue water pass knee level 🗣We need help…      \n",
       "61    RT @macyyabrego: 2408 19th StOrange, TX  77630Key box code is 192494 Y/O LADY, NEEDS RESCUE, LAYING ON THE FLOOR IN WATER, CANT GET UP!!…   \n",
       "62    RT @Teeeeethegee: water is now rising at our home. 4248 vassar st port arthur tx! if anyone knows ofany assistance please send them we hav… \n",
       "63    RT @ToddJdance: my family and a few more on the street are trapped and need assistance. please some help them. 614 12th st. Port Arthur, TX \n",
       "64    RT @Ravishing_Woo: Please can someone send help to my cousins grandmother house 1040 E 18th stPort Arthur, Tx 77640! Water in her house!    \n",
       "65    RT @DylanCohl: Yo anybody in PA with a Boat? Lil Chad Jr. and his family are in need of a boat rescue. 5048 Shreveport AvePort Arthur, TX…  \n",
       "66    RT @DJ_LeBear: SOMEONE PLEASE SEND HELP TO 3920 6th St Port Arthur, TX. 5-6 people on roof!! \\n\\n- J                                        \n",
       "67    RT @bristeez_: 2237 FREDICK ST. PORT ARTHUR, TX MY AUNT HAS SPECIAL NEEDS AND THEYRE STUCK !!!!                                             \n",
       "68    RT @briaHTX: Guys please RT & send help to 6314 Homeview Dr Houston TX 77049. My mom is trapped alone and needs to be rescued ‼️…           \n",
       "69    RT @Thisisbryyy_: Please someone help my grandparents who are stuck in Port Arthur they still haven't received help 1425 15th St Port Arthu…\n",
       "70    RT @DejaaBloo: @Keep2020Alive 937 18th St Port Arthur tx woman in home alone #HarveySOS                                                     \n",
       "71    RT @_kayluuv: 634 18th ST. Port Arthur, TX. My mom and dog needs to be rescued. She's been waiting for 4 hours.                             \n",
       "72    RT @WMN4SRVL: @harveyrescue #HarveyRescue #Harveysos #CajunNavy #NeedsRescue3181 26th St PORT ARTHUR https://t.co/hqgv29dU0z                \n",
       "73    RT @andrea_portes: @modeane Erica Wycoff at 3180 26th St.  Port Arthur.  4 adults (1 special needs) and 1 child🚑🚑🚑🚨🚨🚨High Water             \n",
       "74    RT @naerrueche: My grandmother is wheelchair bound and the water is to her knees at her house. 2601 19th street port Arthur Texas PLEASE    \n",
       "75    RT @Donttellyournew: @JVOkendall 909 Phyllis St Port Arthur TX 77640 x Roosevelt & 60th ⭕️EMERGENCY People on car hood high flood water…    \n",
       "76    RT @BobbyRushingJr: Friend with household of 5 needs help in flood 3160 26th St Port Arthur TX #PortArthurSOS @12NewsNow @kfdmnews          \n",
       "77    RT @SayMaia_: @CajunNavyRelief FAMILY OF 4 4029 7th Street Port Arthur, TX 77642! One is sickly and they have been waiting since 5 a.m.!    \n",
       "78    RT @Rainsong___: @alt_noods @DejaaBloo great grandmother and 2 relatives needs to be rescued. Address is 3410 Avalon Ave. Port Arthur, TX 7…\n",
       "79    RT @CharmingChelle: IF ANYONE CAN GET TO @LilSexyTaaaj and her family on:920 EAST 15th STREETPORT ARTHUR, TEXAS!                            \n",
       "80    @angel_ponders 1119 11th street Port Arthur, 4 people, one of them is 83 year old grandmother, and 3 other adults. Thank you! Let me know!  \n",
       "81    RT @_Caatina: Please 1535 15th st port Arthur TX https://t.co/1RbDATQC7e                                                                    \n",
       "82    RT @courtneyjanae_: A lady is stuck in her attic with her 2 grandkids. 500 neches ave @5th street Port Arthur. Please somebody help her     \n",
       "83    RT @theyloovere: 1934 east 15 street port arthur tx PLEASE HELP US 3 ADULTS 4 SMALL KIDS                                                    \n",
       "84    RT @fxyyyth_: somebody help my bestfriend! the flooding is really bad where she is . 1605 E. 15th street Port Arthur, Texas https://t.co/gX…\n",
       "Name: message, Length: 85, dtype: object"
      ]
     },
     "execution_count": 7,
     "metadata": {},
     "output_type": "execute_result"
    }
   ],
   "source": [
    "help_reqs['message']"
   ]
  },
  {
   "cell_type": "code",
   "execution_count": 8,
   "metadata": {},
   "outputs": [],
   "source": [
    "# 6/12 "
   ]
  },
  {
   "cell_type": "code",
   "execution_count": 9,
   "metadata": {},
   "outputs": [],
   "source": [
    "# https://pypi.org/project/tweet-preprocessor/\n",
    "import preprocessor as tweet_p"
   ]
  },
  {
   "cell_type": "code",
   "execution_count": 10,
   "metadata": {},
   "outputs": [],
   "source": [
    "tweet_p.set_options(tweet_p.OPT.MENTION, tweet_p.OPT.HASHTAG, tweet_p.OPT.URL, tweet_p.OPT.SMILEY, tweet_p.OPT.EMOJI, tweet_p.OPT.RESERVED)"
   ]
  },
  {
   "cell_type": "code",
   "execution_count": 11,
   "metadata": {},
   "outputs": [
    {
     "data": {
      "text/plain": [
       "'2231 Fredrick st port Arthur to 776404097208322 Linda chambers'"
      ]
     },
     "execution_count": 11,
     "metadata": {},
     "output_type": "execute_result"
    }
   ],
   "source": [
    "tweet_p.clean(help_reqs['message'][0])"
   ]
  },
  {
   "cell_type": "code",
   "execution_count": 12,
   "metadata": {},
   "outputs": [],
   "source": [
    "help_reqs['processed'] = help_reqs['message'].apply(tweet_p.clean).str.replace(': ', '')"
   ]
  },
  {
   "cell_type": "code",
   "execution_count": 13,
   "metadata": {},
   "outputs": [],
   "source": [
    "pd.set_option('max_colwidth', -1)"
   ]
  },
  {
   "cell_type": "code",
   "execution_count": 14,
   "metadata": {},
   "outputs": [
    {
     "data": {
      "text/plain": [
       "0     2231 Fredrick st port Arthur to 776404097208322 Linda chambers                                                             \n",
       "1     RESCUE ALERTSix people in Port Arthur need rescuing. They're at 5235 Ebony Lane with water knee deep into their home.      \n",
       "2     2320 COX ST PORT ARTHUR TX 77640 !!!!!!!!!!                                                                                \n",
       "3     .                                                                                                                          \n",
       "4     y'all got a team out in PA?                                                                                                \n",
       "80    1119 11th street Port Arthur, 4 people, one of them is 83 year old grandmother, and 3 other adults. Thank you! Let me know!\n",
       "81    Please 1535 15th st port Arthur TX                                                                                         \n",
       "82    A lady is stuck in her attic with her 2 grandkids. 500 neches ave street Port Arthur. Please somebody help her             \n",
       "83    1934 east 15 street port arthur tx PLEASE HELP US 3 ADULTS 4 SMALL KIDS                                                    \n",
       "84    somebody help my bestfriend! the flooding is really bad where she is . 1605 E. 15th street Port Arthur, Texas              \n",
       "Name: processed, dtype: object"
      ]
     },
     "execution_count": 14,
     "metadata": {},
     "output_type": "execute_result"
    }
   ],
   "source": [
    "pd.concat([help_reqs['processed'].head(), help_reqs['processed'].tail()])"
   ]
  },
  {
   "cell_type": "code",
   "execution_count": 15,
   "metadata": {},
   "outputs": [],
   "source": [
    "import wordninja"
   ]
  },
  {
   "cell_type": "code",
   "execution_count": 19,
   "metadata": {},
   "outputs": [],
   "source": [
    "tokens = help_reqs['processed'].map(wordninja.split).map(' '.join)"
   ]
  },
  {
   "cell_type": "code",
   "execution_count": 20,
   "metadata": {},
   "outputs": [
    {
     "data": {
      "text/plain": [
       "0     2231 Fredrick st port Arthur to 776404097208322 Linda chambers                                                               \n",
       "1     RESCUE ALERT Six people in Port Arthur need rescuing They're at 5235 Ebony Lane with water knee deep into their home         \n",
       "2     2320 COX ST PORT ARTHUR TX 77640                                                                                             \n",
       "3                                                                                                                                  \n",
       "4     y'all got a team out in PA                                                                                                   \n",
       "5     Need a boat rescue at 2611 east 12 th street Port Arthur 77640 Donald S enne tte 74 y o old                                  \n",
       "6     If it's not one thing It's another My great grandma Ophelia Kin law is in need of rescue 3401 10 st Port Art hu              \n",
       "7     4005 4 th st call my daddy 4095191044 my number is 8322353561                                                                \n",
       "8     I'm shaking I don't know what to do Please rescue me 4209 7 th St Port Arthur Tx Water is rising                             \n",
       "9     Family of 6 needs to be rescued at 5307 Gulf way Apt 161 groves TX Beverly Place A pts                                       \n",
       "10    Switching to real person mode I need help with getting my family out of a Port Arthur house Please email julie garcia com    \n",
       "11    HELP THESE PEOPLE NEED RESCUE                                                                                                \n",
       "12    Need rescue at 221 pecan loop liberty texas 77575 south liberty oilfield will need boat                                      \n",
       "13    MY GRANDPA COUSIN AND HER 5 KIDS NEED RESCUE 4641 PROCTOR PORT ARTHUR ACROSS ST JOSEPHS CHURCH CONTACT 409 853 2561          \n",
       "14    If anyone is out there my family and I need rescue My address is 1329 Barbara Ln Port Arthur TX PH O                         \n",
       "15    Jacque lyn Foreman 6010 Daisy Ave Port Arthur Tx I need of rescue In house with 3 adults and 3 kids                          \n",
       "16    ALSO IN NEED OF RESCUING Brandon captain 409 543 7396 4620 5 th st port Arthur Texas my nephew is only 1 and has medical pr  \n",
       "17    Old friend of mine RT this yall 3717 5 th st Port Arthur TX                                                                  \n",
       "18    RESCUE Lonnie Phillip Collins 2601 19 th Street Port Arthur T 409 932 0689                                                   \n",
       "19    please send help to my dad house 2021 East 17 th street port Arthur Texas his house is flooded bad and the water is get t    \n",
       "20    800 10 th st Port Arthur tx Please somebody please send help my 1 year old nephew is in there along with the rest of my fa   \n",
       "21    4318 kyle wood ct port Arthur Tx 77642 11 adults 4 kids We need rescuing                                                     \n",
       "22    PLEASE SEND HELP 1531 Gran n is Street Port Arthur Tx My Best friends grandma and mother are inside the water is rising rap  \n",
       "23    Somebody help my daddy 1113 w procter st Port Arthur tx                                                                      \n",
       "24    SOMEBODY GO HELP MY SISTER PLEASE SHE S IN THERE WITH 3 KIDS 5 month yr old 2 5 2317 17 th St PORT ARTHUR TX                 \n",
       "25    Any one in Port Arthur that can help there is a man at his address that need to be rescued 2021 east 17 th street port Arth  \n",
       "26    If somebody can send help for my family myself please 5249 4 th st port arthur 3 people                                      \n",
       "27    628 12 th st Port Arthur TX 77640 My brothers parents are there Water rising in the hous                                     \n",
       "28    13 mins ago from 1320 14 th Street Port Arthur Texas 's GRANDPARENTS                                                         \n",
       "29    I have family at 5208 13 th st port Arthur tx 77742 that need help out of the rising water if anyone is in that area rescuing\n",
       "                                                                  ...                                                              \n",
       "55    Grandma who stays in water is Waist deep rising she s home alone addy is 801 18 th st port Arthur Tx 77640 Na                \n",
       "56    Please send help 5247 5 th St Port Arthur 4099987005                                                                         \n",
       "57    4000 3 RD ST as well                                                                                                         \n",
       "58    WE NEED A RESCUE TEAM HERE ASAP 5333 LAKESIDE PORT ARTHUR TX 77642 THEY ARE ON THE ROOF NEWBORN BABY                         \n",
       "59    If anyone can come help me and brother 40 th st Port Arthur Tx 77642                                                         \n",
       "60    6112 13 th street port arthur tx Family of 4 they need rescue water pass knee level We need help                             \n",
       "61    2408 19 th St Orange TX 77630 Key box code is 192494 Y O LADY NEEDS RESCUE LAYING ON THE FLOOR IN WATER CANT GET UP          \n",
       "62    water is now rising at our home 4248 vassar st port arthur tx if anyone knows of any assistance please send them we ha v     \n",
       "63    my family and a few more on the street are trapped and need assistance please some help them 614 12 th st Port Arthur TX     \n",
       "64    Please can someone send help to my cousins grandmother house 1040 E 18 th st Port Arthur Tx 77640 Water in her house         \n",
       "65    Yo anybody in PA with a Boat Lil Chad Jr and his family are in need of a boat rescue 5048 Shreveport Ave Port Arthur TX      \n",
       "66    SOMEONE PLEASE SEND HELP TO 3920 6 th St Port Arthur TX 5 6 people on roof J                                                 \n",
       "67    2237 F REDICK ST PORT ARTHUR TX MY AUNT HAS SPECIAL NEEDS AND THEY RE STUCK                                                  \n",
       "68    Guys please RT send help to 6314 Home view Dr Houston TX 77049 My mom is trapped alone and needs to be rescued               \n",
       "69    Please someone help my grandparents who are stuck in Port Arthur they still haven't received help 1425 15 th St Port Art hu  \n",
       "70    937 18 th St Port Arthur tx woman in home alone                                                                              \n",
       "71    634 18 th ST Port Arthur TX My mom and dog needs to be rescued She's been waiting for 4 hours                                \n",
       "72    26 th St PORT ARTHUR                                                                                                         \n",
       "73    Erica Wy c off at 3180 26 th St Port Arthur 4 adults 1 special needs and 1 child High Water                                  \n",
       "74    My grandmother is wheelchair bound and the water is to her knees at her house 2601 19 th street port Arthur Texas PLEASE     \n",
       "75    909 Phyllis St Port Arthur TX 77640 x Roosevelt 60 th EMERGENCY People on car hood high flood water                          \n",
       "76    Friend with household of 5 needs help in flood 3160 26 th St Port Arthur TX                                                  \n",
       "77    FAMILY OF 4 4029 7 th Street Port Arthur TX 77642 One is sickly and they have been waiting since 5 a m                       \n",
       "78    great grandmother and 2 relatives needs to be rescued Address is 3410 Avalon Ave Port Arthur TX 7                            \n",
       "79    IF ANYONE CAN GET TO and her family on 920 EAST 15 th STREET PORT ARTHUR TEXAS                                               \n",
       "80    1119 11 th street Port Arthur 4 people one of them is 83 year old grandmother and 3 other adults Thank you Let me know       \n",
       "81    Please 1535 15 th st port Arthur TX                                                                                          \n",
       "82    A lady is stuck in her attic with her 2 grand kids 500 nec he s ave street Port Arthur Please somebody help her              \n",
       "83    1934 east 15 street port arthur tx PLEASE HELP US 3 ADULTS 4 SMALL KIDS                                                      \n",
       "84    somebody help my best friend the flooding is really bad where she is 1605 E 15 th street Port Arthur Texas                   \n",
       "Name: processed, Length: 85, dtype: object"
      ]
     },
     "execution_count": 20,
     "metadata": {},
     "output_type": "execute_result"
    }
   ],
   "source": [
    "tokens"
   ]
  },
  {
   "cell_type": "code",
   "execution_count": 21,
   "metadata": {},
   "outputs": [],
   "source": [
    "import spacy"
   ]
  },
  {
   "cell_type": "code",
   "execution_count": 22,
   "metadata": {},
   "outputs": [],
   "source": [
    "nlp = spacy.load('en_core_web_md')"
   ]
  },
  {
   "cell_type": "code",
   "execution_count": 23,
   "metadata": {},
   "outputs": [],
   "source": [
    "# tokens.to_pickle('harvey_port_arthur_tweets.pkl')"
   ]
  },
  {
   "cell_type": "code",
   "execution_count": 24,
   "metadata": {},
   "outputs": [
    {
     "name": "stdout",
     "output_type": "stream",
     "text": [
      "CPU times: user 632 ms, sys: 71.6 ms, total: 704 ms\n",
      "Wall time: 576 ms\n"
     ]
    }
   ],
   "source": [
    "%time spacy_docs = pd.Series(nlp.pipe(tokens))"
   ]
  },
  {
   "cell_type": "code",
   "execution_count": 25,
   "metadata": {},
   "outputs": [
    {
     "data": {
      "text/plain": [
       "0     (2231, Fredrick, st, port, Arthur, to, 776404097208322, Linda, chambers)                                                                        \n",
       "1     (RESCUE, ALERT, Six, people, in, Port, Arthur, need, rescuing, They, 're, at, 5235, Ebony, Lane, with, water, knee, deep, into, their, home)    \n",
       "2     (2320, COX, ST, PORT, ARTHUR, TX, 77640)                                                                                                        \n",
       "3     ()                                                                                                                                              \n",
       "4     (y', all, got, a, team, out, in, PA)                                                                                                            \n",
       "80    (1119, 11, th, street, Port, Arthur, 4, people, one, of, them, is, 83, year, old, grandmother, and, 3, other, adults, Thank, you, Let, me, know)\n",
       "81    (Please, 1535, 15, th, st, port, Arthur, TX)                                                                                                    \n",
       "82    (A, lady, is, stuck, in, her, attic, with, her, 2, grand, kids, 500, nec, he, s, ave, street, Port, Arthur, Please, somebody, help, her)        \n",
       "83    (1934, east, 15, street, port, arthur, tx, PLEASE, HELP, US, 3, ADULTS, 4, SMALL, KIDS)                                                         \n",
       "84    (somebody, help, my, best, friend, the, flooding, is, really, bad, where, she, is, 1605, E, 15, th, street, Port, Arthur, Texas)                \n",
       "dtype: object"
      ]
     },
     "execution_count": 25,
     "metadata": {},
     "output_type": "execute_result"
    }
   ],
   "source": [
    "pd.concat([spacy_docs.head(), spacy_docs.tail()])"
   ]
  },
  {
   "cell_type": "code",
   "execution_count": 26,
   "metadata": {},
   "outputs": [
    {
     "data": {
      "text/plain": [
       "2408 19 th St Orange TX 77630 Key box code is 192494 Y O LADY NEEDS RESCUE LAYING ON THE FLOOR IN WATER CANT GET UP"
      ]
     },
     "execution_count": 26,
     "metadata": {},
     "output_type": "execute_result"
    }
   ],
   "source": [
    "samp = spacy_docs[61]\n",
    "samp"
   ]
  },
  {
   "cell_type": "code",
   "execution_count": 27,
   "metadata": {},
   "outputs": [
    {
     "name": "stdout",
     "output_type": "stream",
     "text": [
      "2408 ROOT \n",
      "19 nummod DATE\n",
      "th compound \n",
      "St compound GPE\n",
      "Orange compound GPE\n",
      "TX appos GPE\n",
      "77630 nummod CARDINAL\n",
      "Key amod \n",
      "box compound \n",
      "code nsubj \n",
      "is ROOT \n",
      "192494 nummod CARDINAL\n",
      "Y compound \n",
      "O compound \n",
      "LADY compound \n",
      "NEEDS compound \n",
      "RESCUE attr \n",
      "LAYING acl \n",
      "ON prep \n",
      "THE det \n",
      "FLOOR pobj \n",
      "IN prep \n",
      "WATER compound \n",
      "CANT pobj \n",
      "GET ROOT \n",
      "UP prt \n"
     ]
    }
   ],
   "source": [
    "for token in samp:\n",
    "    print(token.text, token.dep_, token.ent_type_)"
   ]
  },
  {
   "cell_type": "code",
   "execution_count": 28,
   "metadata": {},
   "outputs": [],
   "source": [
    "from spacy import displacy"
   ]
  },
  {
   "cell_type": "code",
   "execution_count": 29,
   "metadata": {},
   "outputs": [
    {
     "data": {
      "text/html": [
       "<svg xmlns=\"http://www.w3.org/2000/svg\" xmlns:xlink=\"http://www.w3.org/1999/xlink\" xml:lang=\"en\" id=\"0df147fc64d3436987274124eb34778b-0\" class=\"displacy\" width=\"4600\" height=\"662.0\" direction=\"ltr\" style=\"max-width: none; height: 662.0px; color: #000000; background: #ffffff; font-family: Arial; direction: ltr\"><text class=\"displacy-token\" fill=\"currentColor\" text-anchor=\"middle\" y=\"572.0\"><tspan class=\"displacy-word\" fill=\"currentColor\" x=\"50\">2408</tspan><tspan class=\"displacy-tag\" dy=\"2em\" fill=\"currentColor\" x=\"50\">NUM</tspan></text><text class=\"displacy-token\" fill=\"currentColor\" text-anchor=\"middle\" y=\"572.0\"><tspan class=\"displacy-word\" fill=\"currentColor\" x=\"225\">19</tspan><tspan class=\"displacy-tag\" dy=\"2em\" fill=\"currentColor\" x=\"225\">NUM</tspan></text><text class=\"displacy-token\" fill=\"currentColor\" text-anchor=\"middle\" y=\"572.0\"><tspan class=\"displacy-word\" fill=\"currentColor\" x=\"400\">th</tspan><tspan class=\"displacy-tag\" dy=\"2em\" fill=\"currentColor\" x=\"400\">PROPN</tspan></text><text class=\"displacy-token\" fill=\"currentColor\" text-anchor=\"middle\" y=\"572.0\"><tspan class=\"displacy-word\" fill=\"currentColor\" x=\"575\">St</tspan><tspan class=\"displacy-tag\" dy=\"2em\" fill=\"currentColor\" x=\"575\">PROPN</tspan></text><text class=\"displacy-token\" fill=\"currentColor\" text-anchor=\"middle\" y=\"572.0\"><tspan class=\"displacy-word\" fill=\"currentColor\" x=\"750\">Orange</tspan><tspan class=\"displacy-tag\" dy=\"2em\" fill=\"currentColor\" x=\"750\">PROPN</tspan></text><text class=\"displacy-token\" fill=\"currentColor\" text-anchor=\"middle\" y=\"572.0\"><tspan class=\"displacy-word\" fill=\"currentColor\" x=\"925\">TX</tspan><tspan class=\"displacy-tag\" dy=\"2em\" fill=\"currentColor\" x=\"925\">PROPN</tspan></text><text class=\"displacy-token\" fill=\"currentColor\" text-anchor=\"middle\" y=\"572.0\"><tspan class=\"displacy-word\" fill=\"currentColor\" x=\"1100\">77630</tspan><tspan class=\"displacy-tag\" dy=\"2em\" fill=\"currentColor\" x=\"1100\">NUM</tspan></text><text class=\"displacy-token\" fill=\"currentColor\" text-anchor=\"middle\" y=\"572.0\"><tspan class=\"displacy-word\" fill=\"currentColor\" x=\"1275\">Key</tspan><tspan class=\"displacy-tag\" dy=\"2em\" fill=\"currentColor\" x=\"1275\">ADJ</tspan></text><text class=\"displacy-token\" fill=\"currentColor\" text-anchor=\"middle\" y=\"572.0\"><tspan class=\"displacy-word\" fill=\"currentColor\" x=\"1450\">box</tspan><tspan class=\"displacy-tag\" dy=\"2em\" fill=\"currentColor\" x=\"1450\">NOUN</tspan></text><text class=\"displacy-token\" fill=\"currentColor\" text-anchor=\"middle\" y=\"572.0\"><tspan class=\"displacy-word\" fill=\"currentColor\" x=\"1625\">code</tspan><tspan class=\"displacy-tag\" dy=\"2em\" fill=\"currentColor\" x=\"1625\">NOUN</tspan></text><text class=\"displacy-token\" fill=\"currentColor\" text-anchor=\"middle\" y=\"572.0\"><tspan class=\"displacy-word\" fill=\"currentColor\" x=\"1800\">is</tspan><tspan class=\"displacy-tag\" dy=\"2em\" fill=\"currentColor\" x=\"1800\">VERB</tspan></text><text class=\"displacy-token\" fill=\"currentColor\" text-anchor=\"middle\" y=\"572.0\"><tspan class=\"displacy-word\" fill=\"currentColor\" x=\"1975\">192494</tspan><tspan class=\"displacy-tag\" dy=\"2em\" fill=\"currentColor\" x=\"1975\">NUM</tspan></text><text class=\"displacy-token\" fill=\"currentColor\" text-anchor=\"middle\" y=\"572.0\"><tspan class=\"displacy-word\" fill=\"currentColor\" x=\"2150\">Y</tspan><tspan class=\"displacy-tag\" dy=\"2em\" fill=\"currentColor\" x=\"2150\">NOUN</tspan></text><text class=\"displacy-token\" fill=\"currentColor\" text-anchor=\"middle\" y=\"572.0\"><tspan class=\"displacy-word\" fill=\"currentColor\" x=\"2325\">O</tspan><tspan class=\"displacy-tag\" dy=\"2em\" fill=\"currentColor\" x=\"2325\">INTJ</tspan></text><text class=\"displacy-token\" fill=\"currentColor\" text-anchor=\"middle\" y=\"572.0\"><tspan class=\"displacy-word\" fill=\"currentColor\" x=\"2500\">LADY</tspan><tspan class=\"displacy-tag\" dy=\"2em\" fill=\"currentColor\" x=\"2500\">PROPN</tspan></text><text class=\"displacy-token\" fill=\"currentColor\" text-anchor=\"middle\" y=\"572.0\"><tspan class=\"displacy-word\" fill=\"currentColor\" x=\"2675\">NEEDS</tspan><tspan class=\"displacy-tag\" dy=\"2em\" fill=\"currentColor\" x=\"2675\">VERB</tspan></text><text class=\"displacy-token\" fill=\"currentColor\" text-anchor=\"middle\" y=\"572.0\"><tspan class=\"displacy-word\" fill=\"currentColor\" x=\"2850\">RESCUE</tspan><tspan class=\"displacy-tag\" dy=\"2em\" fill=\"currentColor\" x=\"2850\">VERB</tspan></text><text class=\"displacy-token\" fill=\"currentColor\" text-anchor=\"middle\" y=\"572.0\"><tspan class=\"displacy-word\" fill=\"currentColor\" x=\"3025\">LAYING</tspan><tspan class=\"displacy-tag\" dy=\"2em\" fill=\"currentColor\" x=\"3025\">VERB</tspan></text><text class=\"displacy-token\" fill=\"currentColor\" text-anchor=\"middle\" y=\"572.0\"><tspan class=\"displacy-word\" fill=\"currentColor\" x=\"3200\">ON</tspan><tspan class=\"displacy-tag\" dy=\"2em\" fill=\"currentColor\" x=\"3200\">ADP</tspan></text><text class=\"displacy-token\" fill=\"currentColor\" text-anchor=\"middle\" y=\"572.0\"><tspan class=\"displacy-word\" fill=\"currentColor\" x=\"3375\">THE</tspan><tspan class=\"displacy-tag\" dy=\"2em\" fill=\"currentColor\" x=\"3375\">DET</tspan></text><text class=\"displacy-token\" fill=\"currentColor\" text-anchor=\"middle\" y=\"572.0\"><tspan class=\"displacy-word\" fill=\"currentColor\" x=\"3550\">FLOOR</tspan><tspan class=\"displacy-tag\" dy=\"2em\" fill=\"currentColor\" x=\"3550\">PROPN</tspan></text><text class=\"displacy-token\" fill=\"currentColor\" text-anchor=\"middle\" y=\"572.0\"><tspan class=\"displacy-word\" fill=\"currentColor\" x=\"3725\">IN</tspan><tspan class=\"displacy-tag\" dy=\"2em\" fill=\"currentColor\" x=\"3725\">ADP</tspan></text><text class=\"displacy-token\" fill=\"currentColor\" text-anchor=\"middle\" y=\"572.0\"><tspan class=\"displacy-word\" fill=\"currentColor\" x=\"3900\">WATER</tspan><tspan class=\"displacy-tag\" dy=\"2em\" fill=\"currentColor\" x=\"3900\">NOUN</tspan></text><text class=\"displacy-token\" fill=\"currentColor\" text-anchor=\"middle\" y=\"572.0\"><tspan class=\"displacy-word\" fill=\"currentColor\" x=\"4075\">CANT</tspan><tspan class=\"displacy-tag\" dy=\"2em\" fill=\"currentColor\" x=\"4075\">VERB</tspan></text><text class=\"displacy-token\" fill=\"currentColor\" text-anchor=\"middle\" y=\"572.0\"><tspan class=\"displacy-word\" fill=\"currentColor\" x=\"4250\">GET</tspan><tspan class=\"displacy-tag\" dy=\"2em\" fill=\"currentColor\" x=\"4250\">VERB</tspan></text><text class=\"displacy-token\" fill=\"currentColor\" text-anchor=\"middle\" y=\"572.0\"><tspan class=\"displacy-word\" fill=\"currentColor\" x=\"4425\">UP</tspan><tspan class=\"displacy-tag\" dy=\"2em\" fill=\"currentColor\" x=\"4425\">ADV</tspan></text><g class=\"displacy-arrow\"><path class=\"displacy-arc\" id=\"arrow-0df147fc64d3436987274124eb34778b-0-0\" stroke-width=\"2px\" d=\"M245,527.0 C245,177.0 915.0,177.0 915.0,527.0\" fill=\"none\" stroke=\"currentColor\"/><text dy=\"1.25em\" style=\"font-size: 0.8em; letter-spacing: 1px\"><textPath xlink:href=\"#arrow-0df147fc64d3436987274124eb34778b-0-0\" class=\"displacy-label\" startOffset=\"50%\" side=\"left\" fill=\"currentColor\" text-anchor=\"middle\">nummod</textPath></text><path class=\"displacy-arrowhead\" d=\"M245,529.0 L237,517.0 253,517.0\" fill=\"currentColor\"/></g><g class=\"displacy-arrow\"><path class=\"displacy-arc\" id=\"arrow-0df147fc64d3436987274124eb34778b-0-1\" stroke-width=\"2px\" d=\"M420,527.0 C420,264.5 910.0,264.5 910.0,527.0\" fill=\"none\" stroke=\"currentColor\"/><text dy=\"1.25em\" style=\"font-size: 0.8em; letter-spacing: 1px\"><textPath xlink:href=\"#arrow-0df147fc64d3436987274124eb34778b-0-1\" class=\"displacy-label\" startOffset=\"50%\" side=\"left\" fill=\"currentColor\" text-anchor=\"middle\">compound</textPath></text><path class=\"displacy-arrowhead\" d=\"M420,529.0 L412,517.0 428,517.0\" fill=\"currentColor\"/></g><g class=\"displacy-arrow\"><path class=\"displacy-arc\" id=\"arrow-0df147fc64d3436987274124eb34778b-0-2\" stroke-width=\"2px\" d=\"M595,527.0 C595,352.0 905.0,352.0 905.0,527.0\" fill=\"none\" stroke=\"currentColor\"/><text dy=\"1.25em\" style=\"font-size: 0.8em; letter-spacing: 1px\"><textPath xlink:href=\"#arrow-0df147fc64d3436987274124eb34778b-0-2\" class=\"displacy-label\" startOffset=\"50%\" side=\"left\" fill=\"currentColor\" text-anchor=\"middle\">compound</textPath></text><path class=\"displacy-arrowhead\" d=\"M595,529.0 L587,517.0 603,517.0\" fill=\"currentColor\"/></g><g class=\"displacy-arrow\"><path class=\"displacy-arc\" id=\"arrow-0df147fc64d3436987274124eb34778b-0-3\" stroke-width=\"2px\" d=\"M770,527.0 C770,439.5 900.0,439.5 900.0,527.0\" fill=\"none\" stroke=\"currentColor\"/><text dy=\"1.25em\" style=\"font-size: 0.8em; letter-spacing: 1px\"><textPath xlink:href=\"#arrow-0df147fc64d3436987274124eb34778b-0-3\" class=\"displacy-label\" startOffset=\"50%\" side=\"left\" fill=\"currentColor\" text-anchor=\"middle\">compound</textPath></text><path class=\"displacy-arrowhead\" d=\"M770,529.0 L762,517.0 778,517.0\" fill=\"currentColor\"/></g><g class=\"displacy-arrow\"><path class=\"displacy-arc\" id=\"arrow-0df147fc64d3436987274124eb34778b-0-4\" stroke-width=\"2px\" d=\"M70,527.0 C70,89.5 920.0,89.5 920.0,527.0\" fill=\"none\" stroke=\"currentColor\"/><text dy=\"1.25em\" style=\"font-size: 0.8em; letter-spacing: 1px\"><textPath xlink:href=\"#arrow-0df147fc64d3436987274124eb34778b-0-4\" class=\"displacy-label\" startOffset=\"50%\" side=\"left\" fill=\"currentColor\" text-anchor=\"middle\">appos</textPath></text><path class=\"displacy-arrowhead\" d=\"M920.0,529.0 L928.0,517.0 912.0,517.0\" fill=\"currentColor\"/></g><g class=\"displacy-arrow\"><path class=\"displacy-arc\" id=\"arrow-0df147fc64d3436987274124eb34778b-0-5\" stroke-width=\"2px\" d=\"M945,527.0 C945,439.5 1075.0,439.5 1075.0,527.0\" fill=\"none\" stroke=\"currentColor\"/><text dy=\"1.25em\" style=\"font-size: 0.8em; letter-spacing: 1px\"><textPath xlink:href=\"#arrow-0df147fc64d3436987274124eb34778b-0-5\" class=\"displacy-label\" startOffset=\"50%\" side=\"left\" fill=\"currentColor\" text-anchor=\"middle\">nummod</textPath></text><path class=\"displacy-arrowhead\" d=\"M1075.0,529.0 L1083.0,517.0 1067.0,517.0\" fill=\"currentColor\"/></g><g class=\"displacy-arrow\"><path class=\"displacy-arc\" id=\"arrow-0df147fc64d3436987274124eb34778b-0-6\" stroke-width=\"2px\" d=\"M1295,527.0 C1295,352.0 1605.0,352.0 1605.0,527.0\" fill=\"none\" stroke=\"currentColor\"/><text dy=\"1.25em\" style=\"font-size: 0.8em; letter-spacing: 1px\"><textPath xlink:href=\"#arrow-0df147fc64d3436987274124eb34778b-0-6\" class=\"displacy-label\" startOffset=\"50%\" side=\"left\" fill=\"currentColor\" text-anchor=\"middle\">amod</textPath></text><path class=\"displacy-arrowhead\" d=\"M1295,529.0 L1287,517.0 1303,517.0\" fill=\"currentColor\"/></g><g class=\"displacy-arrow\"><path class=\"displacy-arc\" id=\"arrow-0df147fc64d3436987274124eb34778b-0-7\" stroke-width=\"2px\" d=\"M1470,527.0 C1470,439.5 1600.0,439.5 1600.0,527.0\" fill=\"none\" stroke=\"currentColor\"/><text dy=\"1.25em\" style=\"font-size: 0.8em; letter-spacing: 1px\"><textPath xlink:href=\"#arrow-0df147fc64d3436987274124eb34778b-0-7\" class=\"displacy-label\" startOffset=\"50%\" side=\"left\" fill=\"currentColor\" text-anchor=\"middle\">compound</textPath></text><path class=\"displacy-arrowhead\" d=\"M1470,529.0 L1462,517.0 1478,517.0\" fill=\"currentColor\"/></g><g class=\"displacy-arrow\"><path class=\"displacy-arc\" id=\"arrow-0df147fc64d3436987274124eb34778b-0-8\" stroke-width=\"2px\" d=\"M1645,527.0 C1645,439.5 1775.0,439.5 1775.0,527.0\" fill=\"none\" stroke=\"currentColor\"/><text dy=\"1.25em\" style=\"font-size: 0.8em; letter-spacing: 1px\"><textPath xlink:href=\"#arrow-0df147fc64d3436987274124eb34778b-0-8\" class=\"displacy-label\" startOffset=\"50%\" side=\"left\" fill=\"currentColor\" text-anchor=\"middle\">nsubj</textPath></text><path class=\"displacy-arrowhead\" d=\"M1645,529.0 L1637,517.0 1653,517.0\" fill=\"currentColor\"/></g><g class=\"displacy-arrow\"><path class=\"displacy-arc\" id=\"arrow-0df147fc64d3436987274124eb34778b-0-9\" stroke-width=\"2px\" d=\"M1995,527.0 C1995,89.5 2845.0,89.5 2845.0,527.0\" fill=\"none\" stroke=\"currentColor\"/><text dy=\"1.25em\" style=\"font-size: 0.8em; letter-spacing: 1px\"><textPath xlink:href=\"#arrow-0df147fc64d3436987274124eb34778b-0-9\" class=\"displacy-label\" startOffset=\"50%\" side=\"left\" fill=\"currentColor\" text-anchor=\"middle\">nummod</textPath></text><path class=\"displacy-arrowhead\" d=\"M1995,529.0 L1987,517.0 2003,517.0\" fill=\"currentColor\"/></g><g class=\"displacy-arrow\"><path class=\"displacy-arc\" id=\"arrow-0df147fc64d3436987274124eb34778b-0-10\" stroke-width=\"2px\" d=\"M2170,527.0 C2170,439.5 2300.0,439.5 2300.0,527.0\" fill=\"none\" stroke=\"currentColor\"/><text dy=\"1.25em\" style=\"font-size: 0.8em; letter-spacing: 1px\"><textPath xlink:href=\"#arrow-0df147fc64d3436987274124eb34778b-0-10\" class=\"displacy-label\" startOffset=\"50%\" side=\"left\" fill=\"currentColor\" text-anchor=\"middle\">compound</textPath></text><path class=\"displacy-arrowhead\" d=\"M2170,529.0 L2162,517.0 2178,517.0\" fill=\"currentColor\"/></g><g class=\"displacy-arrow\"><path class=\"displacy-arc\" id=\"arrow-0df147fc64d3436987274124eb34778b-0-11\" stroke-width=\"2px\" d=\"M2345,527.0 C2345,439.5 2475.0,439.5 2475.0,527.0\" fill=\"none\" stroke=\"currentColor\"/><text dy=\"1.25em\" style=\"font-size: 0.8em; letter-spacing: 1px\"><textPath xlink:href=\"#arrow-0df147fc64d3436987274124eb34778b-0-11\" class=\"displacy-label\" startOffset=\"50%\" side=\"left\" fill=\"currentColor\" text-anchor=\"middle\">compound</textPath></text><path class=\"displacy-arrowhead\" d=\"M2345,529.0 L2337,517.0 2353,517.0\" fill=\"currentColor\"/></g><g class=\"displacy-arrow\"><path class=\"displacy-arc\" id=\"arrow-0df147fc64d3436987274124eb34778b-0-12\" stroke-width=\"2px\" d=\"M2520,527.0 C2520,352.0 2830.0,352.0 2830.0,527.0\" fill=\"none\" stroke=\"currentColor\"/><text dy=\"1.25em\" style=\"font-size: 0.8em; letter-spacing: 1px\"><textPath xlink:href=\"#arrow-0df147fc64d3436987274124eb34778b-0-12\" class=\"displacy-label\" startOffset=\"50%\" side=\"left\" fill=\"currentColor\" text-anchor=\"middle\">compound</textPath></text><path class=\"displacy-arrowhead\" d=\"M2520,529.0 L2512,517.0 2528,517.0\" fill=\"currentColor\"/></g><g class=\"displacy-arrow\"><path class=\"displacy-arc\" id=\"arrow-0df147fc64d3436987274124eb34778b-0-13\" stroke-width=\"2px\" d=\"M2695,527.0 C2695,439.5 2825.0,439.5 2825.0,527.0\" fill=\"none\" stroke=\"currentColor\"/><text dy=\"1.25em\" style=\"font-size: 0.8em; letter-spacing: 1px\"><textPath xlink:href=\"#arrow-0df147fc64d3436987274124eb34778b-0-13\" class=\"displacy-label\" startOffset=\"50%\" side=\"left\" fill=\"currentColor\" text-anchor=\"middle\">compound</textPath></text><path class=\"displacy-arrowhead\" d=\"M2695,529.0 L2687,517.0 2703,517.0\" fill=\"currentColor\"/></g><g class=\"displacy-arrow\"><path class=\"displacy-arc\" id=\"arrow-0df147fc64d3436987274124eb34778b-0-14\" stroke-width=\"2px\" d=\"M1820,527.0 C1820,2.0 2850.0,2.0 2850.0,527.0\" fill=\"none\" stroke=\"currentColor\"/><text dy=\"1.25em\" style=\"font-size: 0.8em; letter-spacing: 1px\"><textPath xlink:href=\"#arrow-0df147fc64d3436987274124eb34778b-0-14\" class=\"displacy-label\" startOffset=\"50%\" side=\"left\" fill=\"currentColor\" text-anchor=\"middle\">attr</textPath></text><path class=\"displacy-arrowhead\" d=\"M2850.0,529.0 L2858.0,517.0 2842.0,517.0\" fill=\"currentColor\"/></g><g class=\"displacy-arrow\"><path class=\"displacy-arc\" id=\"arrow-0df147fc64d3436987274124eb34778b-0-15\" stroke-width=\"2px\" d=\"M2870,527.0 C2870,439.5 3000.0,439.5 3000.0,527.0\" fill=\"none\" stroke=\"currentColor\"/><text dy=\"1.25em\" style=\"font-size: 0.8em; letter-spacing: 1px\"><textPath xlink:href=\"#arrow-0df147fc64d3436987274124eb34778b-0-15\" class=\"displacy-label\" startOffset=\"50%\" side=\"left\" fill=\"currentColor\" text-anchor=\"middle\">acl</textPath></text><path class=\"displacy-arrowhead\" d=\"M3000.0,529.0 L3008.0,517.0 2992.0,517.0\" fill=\"currentColor\"/></g><g class=\"displacy-arrow\"><path class=\"displacy-arc\" id=\"arrow-0df147fc64d3436987274124eb34778b-0-16\" stroke-width=\"2px\" d=\"M3045,527.0 C3045,439.5 3175.0,439.5 3175.0,527.0\" fill=\"none\" stroke=\"currentColor\"/><text dy=\"1.25em\" style=\"font-size: 0.8em; letter-spacing: 1px\"><textPath xlink:href=\"#arrow-0df147fc64d3436987274124eb34778b-0-16\" class=\"displacy-label\" startOffset=\"50%\" side=\"left\" fill=\"currentColor\" text-anchor=\"middle\">prep</textPath></text><path class=\"displacy-arrowhead\" d=\"M3175.0,529.0 L3183.0,517.0 3167.0,517.0\" fill=\"currentColor\"/></g><g class=\"displacy-arrow\"><path class=\"displacy-arc\" id=\"arrow-0df147fc64d3436987274124eb34778b-0-17\" stroke-width=\"2px\" d=\"M3395,527.0 C3395,439.5 3525.0,439.5 3525.0,527.0\" fill=\"none\" stroke=\"currentColor\"/><text dy=\"1.25em\" style=\"font-size: 0.8em; letter-spacing: 1px\"><textPath xlink:href=\"#arrow-0df147fc64d3436987274124eb34778b-0-17\" class=\"displacy-label\" startOffset=\"50%\" side=\"left\" fill=\"currentColor\" text-anchor=\"middle\">det</textPath></text><path class=\"displacy-arrowhead\" d=\"M3395,529.0 L3387,517.0 3403,517.0\" fill=\"currentColor\"/></g><g class=\"displacy-arrow\"><path class=\"displacy-arc\" id=\"arrow-0df147fc64d3436987274124eb34778b-0-18\" stroke-width=\"2px\" d=\"M3220,527.0 C3220,352.0 3530.0,352.0 3530.0,527.0\" fill=\"none\" stroke=\"currentColor\"/><text dy=\"1.25em\" style=\"font-size: 0.8em; letter-spacing: 1px\"><textPath xlink:href=\"#arrow-0df147fc64d3436987274124eb34778b-0-18\" class=\"displacy-label\" startOffset=\"50%\" side=\"left\" fill=\"currentColor\" text-anchor=\"middle\">pobj</textPath></text><path class=\"displacy-arrowhead\" d=\"M3530.0,529.0 L3538.0,517.0 3522.0,517.0\" fill=\"currentColor\"/></g><g class=\"displacy-arrow\"><path class=\"displacy-arc\" id=\"arrow-0df147fc64d3436987274124eb34778b-0-19\" stroke-width=\"2px\" d=\"M3045,527.0 C3045,177.0 3715.0,177.0 3715.0,527.0\" fill=\"none\" stroke=\"currentColor\"/><text dy=\"1.25em\" style=\"font-size: 0.8em; letter-spacing: 1px\"><textPath xlink:href=\"#arrow-0df147fc64d3436987274124eb34778b-0-19\" class=\"displacy-label\" startOffset=\"50%\" side=\"left\" fill=\"currentColor\" text-anchor=\"middle\">prep</textPath></text><path class=\"displacy-arrowhead\" d=\"M3715.0,529.0 L3723.0,517.0 3707.0,517.0\" fill=\"currentColor\"/></g><g class=\"displacy-arrow\"><path class=\"displacy-arc\" id=\"arrow-0df147fc64d3436987274124eb34778b-0-20\" stroke-width=\"2px\" d=\"M3920,527.0 C3920,439.5 4050.0,439.5 4050.0,527.0\" fill=\"none\" stroke=\"currentColor\"/><text dy=\"1.25em\" style=\"font-size: 0.8em; letter-spacing: 1px\"><textPath xlink:href=\"#arrow-0df147fc64d3436987274124eb34778b-0-20\" class=\"displacy-label\" startOffset=\"50%\" side=\"left\" fill=\"currentColor\" text-anchor=\"middle\">compound</textPath></text><path class=\"displacy-arrowhead\" d=\"M3920,529.0 L3912,517.0 3928,517.0\" fill=\"currentColor\"/></g><g class=\"displacy-arrow\"><path class=\"displacy-arc\" id=\"arrow-0df147fc64d3436987274124eb34778b-0-21\" stroke-width=\"2px\" d=\"M3745,527.0 C3745,352.0 4055.0,352.0 4055.0,527.0\" fill=\"none\" stroke=\"currentColor\"/><text dy=\"1.25em\" style=\"font-size: 0.8em; letter-spacing: 1px\"><textPath xlink:href=\"#arrow-0df147fc64d3436987274124eb34778b-0-21\" class=\"displacy-label\" startOffset=\"50%\" side=\"left\" fill=\"currentColor\" text-anchor=\"middle\">pobj</textPath></text><path class=\"displacy-arrowhead\" d=\"M4055.0,529.0 L4063.0,517.0 4047.0,517.0\" fill=\"currentColor\"/></g><g class=\"displacy-arrow\"><path class=\"displacy-arc\" id=\"arrow-0df147fc64d3436987274124eb34778b-0-22\" stroke-width=\"2px\" d=\"M4270,527.0 C4270,439.5 4400.0,439.5 4400.0,527.0\" fill=\"none\" stroke=\"currentColor\"/><text dy=\"1.25em\" style=\"font-size: 0.8em; letter-spacing: 1px\"><textPath xlink:href=\"#arrow-0df147fc64d3436987274124eb34778b-0-22\" class=\"displacy-label\" startOffset=\"50%\" side=\"left\" fill=\"currentColor\" text-anchor=\"middle\">prt</textPath></text><path class=\"displacy-arrowhead\" d=\"M4400.0,529.0 L4408.0,517.0 4392.0,517.0\" fill=\"currentColor\"/></g></svg>"
      ],
      "text/plain": [
       "<IPython.core.display.HTML object>"
      ]
     },
     "metadata": {},
     "output_type": "display_data"
    }
   ],
   "source": [
    "displacy.render(samp, page=False, minify=True, jupyter=True)"
   ]
  },
  {
   "cell_type": "code",
   "execution_count": 30,
   "metadata": {},
   "outputs": [
    {
     "data": {
      "text/html": [
       "<div class=\"entities\" style=\"line-height: 2.5; direction: ltr\">2408 <mark class=\"entity\" style=\"background: #bfe1d9; padding: 0.45em 0.6em; margin: 0 0.25em; line-height: 1; border-radius: 0.35em; box-decoration-break: clone; -webkit-box-decoration-break: clone\">19<span style=\"font-size: 0.8em; font-weight: bold; line-height: 1; border-radius: 0.35em; text-transform: uppercase; vertical-align: middle; margin-left: 0.5rem\">DATE</span></mark> th <mark class=\"entity\" style=\"background: #feca74; padding: 0.45em 0.6em; margin: 0 0.25em; line-height: 1; border-radius: 0.35em; box-decoration-break: clone; -webkit-box-decoration-break: clone\">St Orange<span style=\"font-size: 0.8em; font-weight: bold; line-height: 1; border-radius: 0.35em; text-transform: uppercase; vertical-align: middle; margin-left: 0.5rem\">GPE</span></mark> <mark class=\"entity\" style=\"background: #feca74; padding: 0.45em 0.6em; margin: 0 0.25em; line-height: 1; border-radius: 0.35em; box-decoration-break: clone; -webkit-box-decoration-break: clone\">TX<span style=\"font-size: 0.8em; font-weight: bold; line-height: 1; border-radius: 0.35em; text-transform: uppercase; vertical-align: middle; margin-left: 0.5rem\">GPE</span></mark> <mark class=\"entity\" style=\"background: #e4e7d2; padding: 0.45em 0.6em; margin: 0 0.25em; line-height: 1; border-radius: 0.35em; box-decoration-break: clone; -webkit-box-decoration-break: clone\">77630<span style=\"font-size: 0.8em; font-weight: bold; line-height: 1; border-radius: 0.35em; text-transform: uppercase; vertical-align: middle; margin-left: 0.5rem\">CARDINAL</span></mark> Key box code is <mark class=\"entity\" style=\"background: #e4e7d2; padding: 0.45em 0.6em; margin: 0 0.25em; line-height: 1; border-radius: 0.35em; box-decoration-break: clone; -webkit-box-decoration-break: clone\">192494<span style=\"font-size: 0.8em; font-weight: bold; line-height: 1; border-radius: 0.35em; text-transform: uppercase; vertical-align: middle; margin-left: 0.5rem\">CARDINAL</span></mark> Y O LADY NEEDS RESCUE LAYING ON THE FLOOR IN WATER CANT GET UP</div>"
      ],
      "text/plain": [
       "<IPython.core.display.HTML object>"
      ]
     },
     "metadata": {},
     "output_type": "display_data"
    }
   ],
   "source": [
    "displacy.render(samp, style='ent', page=False, minify=True, jupyter=True)"
   ]
  },
  {
   "cell_type": "code",
   "execution_count": 31,
   "metadata": {},
   "outputs": [
    {
     "data": {
      "text/plain": [
       "(19, St Orange, TX, 77630, 192494)"
      ]
     },
     "execution_count": 31,
     "metadata": {},
     "output_type": "execute_result"
    }
   ],
   "source": [
    "samp.ents"
   ]
  },
  {
   "cell_type": "markdown",
   "metadata": {},
   "source": [
    "<a id='hydrate'></a>\n",
    "# 2. Keyword generated Hurricane Harvey Tweets\n",
    "Keywords used to generate dataset\n",
    "    #Harvey\n",
    "    #Harvey2017\n",
    "    #HarveyStorm\n",
    "    #HoustonFlood\n",
    "    #HoustonFlooding\n",
    "    #HoustonFloods\n",
    "    #HurricaneHarvey\n",
    "    Gulf Coast\n",
    "    Hurricane Harvey\n",
    "    Twitter"
   ]
  },
  {
   "cell_type": "code",
   "execution_count": 32,
   "metadata": {},
   "outputs": [],
   "source": [
    "harvey = pd.read_csv('./data/HurricaneHarvey_ids.txt.gz', header=None, names=['id'])['id'].tolist()\n",
    "# https://digital.library.unt.edu/ark:/67531/metadc993940/"
   ]
  },
  {
   "cell_type": "code",
   "execution_count": 34,
   "metadata": {},
   "outputs": [
    {
     "data": {
      "text/plain": [
       "7041866"
      ]
     },
     "execution_count": 34,
     "metadata": {},
     "output_type": "execute_result"
    }
   ],
   "source": [
    "# 7 million tweets \n",
    "len(harvey)"
   ]
  },
  {
   "cell_type": "code",
   "execution_count": 35,
   "metadata": {},
   "outputs": [],
   "source": [
    "from twarc import Twarc"
   ]
  },
  {
   "cell_type": "code",
   "execution_count": 36,
   "metadata": {},
   "outputs": [],
   "source": [
    "import gzip"
   ]
  },
  {
   "cell_type": "code",
   "execution_count": 37,
   "metadata": {},
   "outputs": [],
   "source": [
    "# %%time\n",
    "# with gzip.open('./data/HurricaneHarvey_ids.txt.gz', 'rt') as f: #rt=read text\n",
    "#     tweet_ids = [line[:-1] for line in f] # remove \\n char\n",
    "# pandas does it faster and easier\n",
    "# https://stackoverflow.com/questions/10566558/python-read-lines-from-compressed-text-files"
   ]
  },
  {
   "cell_type": "code",
   "execution_count": 38,
   "metadata": {},
   "outputs": [],
   "source": [
    "# tweet_ids[:5]"
   ]
  },
  {
   "cell_type": "code",
   "execution_count": 39,
   "metadata": {},
   "outputs": [],
   "source": [
    "# https://github.com/DocNow/twarc\n",
    "# Create instance - filling in crednetials from .twarc file\n",
    "t = Twarc()"
   ]
  },
  {
   "cell_type": "code",
   "execution_count": 40,
   "metadata": {},
   "outputs": [],
   "source": [
    "tweets = []\n",
    "for tweet in t.hydrate(harvey[:5]):\n",
    "    tweets.append(tweet)"
   ]
  },
  {
   "cell_type": "code",
   "execution_count": 41,
   "metadata": {},
   "outputs": [
    {
     "data": {
      "text/plain": [
       "{'contributors': None,\n",
       " 'coordinates': None,\n",
       " 'created_at': 'Fri Aug 18 22:55:43 +0000 2017',\n",
       " 'display_text_range': [0, 120],\n",
       " 'entities': {'hashtags': [{'indices': [32, 39], 'text': 'Harvey'},\n",
       "   {'indices': [64, 73], 'text': 'Coahuila'},\n",
       "   {'indices': [74, 84], 'text': 'NuevoLeon'},\n",
       "   {'indices': [85, 96], 'text': 'Tamaulipas'}],\n",
       "  'media': [{'display_url': 'pic.twitter.com/DGW2NdvgpD',\n",
       "    'expanded_url': 'https://twitter.com/mmsoriano/status/898639604240203776/photo/1',\n",
       "    'id': 898639595323047936,\n",
       "    'id_str': '898639595323047936',\n",
       "    'indices': [97, 120],\n",
       "    'media_url': 'http://pbs.twimg.com/media/DHib82RUwAAjE9i.jpg',\n",
       "    'media_url_https': 'https://pbs.twimg.com/media/DHib82RUwAAjE9i.jpg',\n",
       "    'sizes': {'large': {'h': 736, 'resize': 'fit', 'w': 897},\n",
       "     'medium': {'h': 736, 'resize': 'fit', 'w': 897},\n",
       "     'small': {'h': 558, 'resize': 'fit', 'w': 680},\n",
       "     'thumb': {'h': 150, 'resize': 'crop', 'w': 150}},\n",
       "    'source_status_id': 898639604240203776,\n",
       "    'source_status_id_str': '898639604240203776',\n",
       "    'source_user_id': 56844577,\n",
       "    'source_user_id_str': '56844577',\n",
       "    'type': 'photo',\n",
       "    'url': 'https://t.co/DGW2NdvgpD'}],\n",
       "  'symbols': [],\n",
       "  'urls': [],\n",
       "  'user_mentions': [{'id': 56844577,\n",
       "    'id_str': '56844577',\n",
       "    'indices': [3, 13],\n",
       "    'name': 'Soriano',\n",
       "    'screen_name': 'mmsoriano'}]},\n",
       " 'extended_entities': {'media': [{'display_url': 'pic.twitter.com/DGW2NdvgpD',\n",
       "    'expanded_url': 'https://twitter.com/mmsoriano/status/898639604240203776/photo/1',\n",
       "    'ext_alt_text': None,\n",
       "    'id': 898639595323047936,\n",
       "    'id_str': '898639595323047936',\n",
       "    'indices': [97, 120],\n",
       "    'media_url': 'http://pbs.twimg.com/media/DHib82RUwAAjE9i.jpg',\n",
       "    'media_url_https': 'https://pbs.twimg.com/media/DHib82RUwAAjE9i.jpg',\n",
       "    'sizes': {'large': {'h': 736, 'resize': 'fit', 'w': 897},\n",
       "     'medium': {'h': 736, 'resize': 'fit', 'w': 897},\n",
       "     'small': {'h': 558, 'resize': 'fit', 'w': 680},\n",
       "     'thumb': {'h': 150, 'resize': 'crop', 'w': 150}},\n",
       "    'source_status_id': 898639604240203776,\n",
       "    'source_status_id_str': '898639604240203776',\n",
       "    'source_user_id': 56844577,\n",
       "    'source_user_id_str': '56844577',\n",
       "    'type': 'photo',\n",
       "    'url': 'https://t.co/DGW2NdvgpD'}]},\n",
       " 'favorite_count': 0,\n",
       " 'favorited': False,\n",
       " 'full_text': 'RT @mmsoriano: Aguas con el tal #Harvey, no lo pierdan de vista #Coahuila #NuevoLeon #Tamaulipas https://t.co/DGW2NdvgpD',\n",
       " 'geo': None,\n",
       " 'id': 898679833554759680,\n",
       " 'id_str': '898679833554759680',\n",
       " 'in_reply_to_screen_name': None,\n",
       " 'in_reply_to_status_id': None,\n",
       " 'in_reply_to_status_id_str': None,\n",
       " 'in_reply_to_user_id': None,\n",
       " 'in_reply_to_user_id_str': None,\n",
       " 'is_quote_status': False,\n",
       " 'lang': 'es',\n",
       " 'place': None,\n",
       " 'possibly_sensitive': False,\n",
       " 'retweet_count': 11,\n",
       " 'retweeted': False,\n",
       " 'retweeted_status': {'contributors': None,\n",
       "  'coordinates': None,\n",
       "  'created_at': 'Fri Aug 18 20:15:52 +0000 2017',\n",
       "  'display_text_range': [0, 81],\n",
       "  'entities': {'hashtags': [{'indices': [17, 24], 'text': 'Harvey'},\n",
       "    {'indices': [49, 58], 'text': 'Coahuila'},\n",
       "    {'indices': [59, 69], 'text': 'NuevoLeon'},\n",
       "    {'indices': [70, 81], 'text': 'Tamaulipas'}],\n",
       "   'media': [{'display_url': 'pic.twitter.com/DGW2NdvgpD',\n",
       "     'expanded_url': 'https://twitter.com/mmsoriano/status/898639604240203776/photo/1',\n",
       "     'id': 898639595323047936,\n",
       "     'id_str': '898639595323047936',\n",
       "     'indices': [82, 105],\n",
       "     'media_url': 'http://pbs.twimg.com/media/DHib82RUwAAjE9i.jpg',\n",
       "     'media_url_https': 'https://pbs.twimg.com/media/DHib82RUwAAjE9i.jpg',\n",
       "     'sizes': {'large': {'h': 736, 'resize': 'fit', 'w': 897},\n",
       "      'medium': {'h': 736, 'resize': 'fit', 'w': 897},\n",
       "      'small': {'h': 558, 'resize': 'fit', 'w': 680},\n",
       "      'thumb': {'h': 150, 'resize': 'crop', 'w': 150}},\n",
       "     'type': 'photo',\n",
       "     'url': 'https://t.co/DGW2NdvgpD'}],\n",
       "   'symbols': [],\n",
       "   'urls': [],\n",
       "   'user_mentions': []},\n",
       "  'extended_entities': {'media': [{'display_url': 'pic.twitter.com/DGW2NdvgpD',\n",
       "     'expanded_url': 'https://twitter.com/mmsoriano/status/898639604240203776/photo/1',\n",
       "     'ext_alt_text': None,\n",
       "     'id': 898639595323047936,\n",
       "     'id_str': '898639595323047936',\n",
       "     'indices': [82, 105],\n",
       "     'media_url': 'http://pbs.twimg.com/media/DHib82RUwAAjE9i.jpg',\n",
       "     'media_url_https': 'https://pbs.twimg.com/media/DHib82RUwAAjE9i.jpg',\n",
       "     'sizes': {'large': {'h': 736, 'resize': 'fit', 'w': 897},\n",
       "      'medium': {'h': 736, 'resize': 'fit', 'w': 897},\n",
       "      'small': {'h': 558, 'resize': 'fit', 'w': 680},\n",
       "      'thumb': {'h': 150, 'resize': 'crop', 'w': 150}},\n",
       "     'type': 'photo',\n",
       "     'url': 'https://t.co/DGW2NdvgpD'}]},\n",
       "  'favorite_count': 9,\n",
       "  'favorited': False,\n",
       "  'full_text': 'Aguas con el tal #Harvey, no lo pierdan de vista #Coahuila #NuevoLeon #Tamaulipas https://t.co/DGW2NdvgpD',\n",
       "  'geo': None,\n",
       "  'id': 898639604240203776,\n",
       "  'id_str': '898639604240203776',\n",
       "  'in_reply_to_screen_name': None,\n",
       "  'in_reply_to_status_id': None,\n",
       "  'in_reply_to_status_id_str': None,\n",
       "  'in_reply_to_user_id': None,\n",
       "  'in_reply_to_user_id_str': None,\n",
       "  'is_quote_status': False,\n",
       "  'lang': 'es',\n",
       "  'place': None,\n",
       "  'possibly_sensitive': False,\n",
       "  'retweet_count': 11,\n",
       "  'retweeted': False,\n",
       "  'source': '<a href=\"http://twitter.com\" rel=\"nofollow\">Twitter Web Client</a>',\n",
       "  'truncated': False,\n",
       "  'user': {'contributors_enabled': False,\n",
       "   'created_at': 'Tue Jul 14 22:53:12 +0000 2009',\n",
       "   'default_profile': False,\n",
       "   'default_profile_image': False,\n",
       "   'description': 'Periodista en el norte de México. Comment is free. Facts are sacred.',\n",
       "   'entities': {'description': {'urls': []}},\n",
       "   'favourites_count': 216,\n",
       "   'follow_request_sent': False,\n",
       "   'followers_count': 59391,\n",
       "   'following': False,\n",
       "   'friends_count': 1149,\n",
       "   'geo_enabled': True,\n",
       "   'has_extended_profile': True,\n",
       "   'id': 56844577,\n",
       "   'id_str': '56844577',\n",
       "   'is_translation_enabled': False,\n",
       "   'is_translator': False,\n",
       "   'lang': None,\n",
       "   'listed_count': 224,\n",
       "   'location': 'Saltillo, México',\n",
       "   'name': 'Soriano',\n",
       "   'notifications': False,\n",
       "   'profile_background_color': '913C75',\n",
       "   'profile_background_image_url': 'http://abs.twimg.com/images/themes/theme14/bg.gif',\n",
       "   'profile_background_image_url_https': 'https://abs.twimg.com/images/themes/theme14/bg.gif',\n",
       "   'profile_background_tile': False,\n",
       "   'profile_banner_extensions_alt_text': None,\n",
       "   'profile_banner_url': 'https://pbs.twimg.com/profile_banners/56844577/1560983943',\n",
       "   'profile_image_extensions_alt_text': None,\n",
       "   'profile_image_url': 'http://pbs.twimg.com/profile_images/839219818091819008/ertUfoU8_normal.jpg',\n",
       "   'profile_image_url_https': 'https://pbs.twimg.com/profile_images/839219818091819008/ertUfoU8_normal.jpg',\n",
       "   'profile_link_color': '981CEB',\n",
       "   'profile_sidebar_border_color': '000000',\n",
       "   'profile_sidebar_fill_color': 'EFEFEF',\n",
       "   'profile_text_color': '333333',\n",
       "   'profile_use_background_image': False,\n",
       "   'protected': False,\n",
       "   'screen_name': 'mmsoriano',\n",
       "   'statuses_count': 103100,\n",
       "   'time_zone': None,\n",
       "   'translator_type': 'none',\n",
       "   'url': None,\n",
       "   'utc_offset': None,\n",
       "   'verified': False}},\n",
       " 'source': '<a href=\"http://twitter.com\" rel=\"nofollow\">Twitter Web Client</a>',\n",
       " 'truncated': False,\n",
       " 'user': {'contributors_enabled': False,\n",
       "  'created_at': 'Mon Nov 19 09:31:33 +0000 2007',\n",
       "  'default_profile': False,\n",
       "  'default_profile_image': False,\n",
       "  'description': 'Administrador del portal Saltilloenfrecuencia.\\nInteresado en la Promoción Turistica y Cultural de la Ciudad de #Saltillo Coahuila.',\n",
       "  'entities': {'description': {'urls': []},\n",
       "   'url': {'urls': [{'display_url': 'saltilloenfrecuencia.zxq.net',\n",
       "      'expanded_url': 'http://www.saltilloenfrecuencia.zxq.net',\n",
       "      'indices': [0, 22],\n",
       "      'url': 'http://t.co/vmxp77OdyD'}]}},\n",
       "  'favourites_count': 12002,\n",
       "  'follow_request_sent': False,\n",
       "  'followers_count': 8198,\n",
       "  'following': False,\n",
       "  'friends_count': 8232,\n",
       "  'geo_enabled': True,\n",
       "  'has_extended_profile': False,\n",
       "  'id': 10378402,\n",
       "  'id_str': '10378402',\n",
       "  'is_translation_enabled': False,\n",
       "  'is_translator': False,\n",
       "  'lang': None,\n",
       "  'listed_count': 14,\n",
       "  'location': '',\n",
       "  'name': 'arma_dc',\n",
       "  'notifications': False,\n",
       "  'profile_background_color': 'C0DEED',\n",
       "  'profile_background_image_url': 'http://abs.twimg.com/images/themes/theme1/bg.png',\n",
       "  'profile_background_image_url_https': 'https://abs.twimg.com/images/themes/theme1/bg.png',\n",
       "  'profile_background_tile': False,\n",
       "  'profile_banner_extensions_alt_text': None,\n",
       "  'profile_banner_url': 'https://pbs.twimg.com/profile_banners/10378402/1536134392',\n",
       "  'profile_image_extensions_alt_text': None,\n",
       "  'profile_image_url': 'http://pbs.twimg.com/profile_images/1227088679/plazaarmas_normal.jpg',\n",
       "  'profile_image_url_https': 'https://pbs.twimg.com/profile_images/1227088679/plazaarmas_normal.jpg',\n",
       "  'profile_link_color': '0084B4',\n",
       "  'profile_sidebar_border_color': 'FFFFFF',\n",
       "  'profile_sidebar_fill_color': 'DDEEF6',\n",
       "  'profile_text_color': '333333',\n",
       "  'profile_use_background_image': True,\n",
       "  'protected': False,\n",
       "  'screen_name': 'arma_dc',\n",
       "  'statuses_count': 19921,\n",
       "  'time_zone': None,\n",
       "  'translator_type': 'none',\n",
       "  'url': 'http://t.co/vmxp77OdyD',\n",
       "  'utc_offset': None,\n",
       "  'verified': False}}"
      ]
     },
     "execution_count": 41,
     "metadata": {},
     "output_type": "execute_result"
    }
   ],
   "source": [
    "tweets[0]"
   ]
  },
  {
   "cell_type": "code",
   "execution_count": 42,
   "metadata": {},
   "outputs": [
    {
     "data": {
      "text/plain": [
       "'RT @mmsoriano: Aguas con el tal #Harvey, no lo pierdan de vista #Coahuila #NuevoLeon #Tamaulipas https://t.co/DGW2NdvgpD'"
      ]
     },
     "execution_count": 42,
     "metadata": {},
     "output_type": "execute_result"
    }
   ],
   "source": [
    "tweets[0]['full_text'] # extract text"
   ]
  },
  {
   "cell_type": "code",
   "execution_count": null,
   "metadata": {},
   "outputs": [],
   "source": []
  }
 ],
 "metadata": {
  "kernelspec": {
   "display_name": "Python 3",
   "language": "python",
   "name": "python3"
  },
  "language_info": {
   "codemirror_mode": {
    "name": "ipython",
    "version": 3
   },
   "file_extension": ".py",
   "mimetype": "text/x-python",
   "name": "python",
   "nbconvert_exporter": "python",
   "pygments_lexer": "ipython3",
   "version": "3.6.8"
  }
 },
 "nbformat": 4,
 "nbformat_minor": 2
}

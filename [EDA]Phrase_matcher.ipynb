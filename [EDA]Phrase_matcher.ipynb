{
 "cells": [
  {
   "cell_type": "code",
   "execution_count": 1,
   "metadata": {},
   "outputs": [],
   "source": [
    "import pandas as pd"
   ]
  },
  {
   "cell_type": "markdown",
   "metadata": {},
   "source": [
    "# Create entity recognition model / text matcher"
   ]
  },
  {
   "cell_type": "code",
   "execution_count": 2,
   "metadata": {},
   "outputs": [],
   "source": [
    "import spacy\n",
    "from spacy.matcher import PhraseMatcher\n",
    "from spacy.lang.en import English\n",
    "from spacy.tokens import Span\n",
    "from spacy import displacy"
   ]
  },
  {
   "cell_type": "markdown",
   "metadata": {},
   "source": [
    "PhraseMatcher matches on large terminology lists vs Matcher which matches only token patterns  \n",
    "Source: https://spacy.io/usage/rule-based-matching"
   ]
  },
  {
   "cell_type": "markdown",
   "metadata": {},
   "source": [
    "### Create list of terms / test PhraseMatcher class\n",
    "Lists are from assorted sources, including topic-terms lists related to natural disasters and manually created keywords from Hurricane Harvey tweets. "
   ]
  },
  {
   "cell_type": "code",
   "execution_count": 3,
   "metadata": {},
   "outputs": [],
   "source": [
    "nlp = English()\n",
    "matcher = PhraseMatcher(nlp.vocab, attr=\"LOWER\") # case insensitive matching"
   ]
  },
  {
   "cell_type": "code",
   "execution_count": 4,
   "metadata": {},
   "outputs": [],
   "source": [
    "s = '''attic\n",
    "basement\n",
    "bathroom\n",
    "bedroom\n",
    "cellar\n",
    "closet\n",
    "den\n",
    "dining room\n",
    "front yard\n",
    "garage\n",
    "hall\n",
    "hallway\n",
    "kitchen\n",
    "laundry\n",
    "living room\n",
    "master bedroom\n",
    "office\n",
    "pantry\n",
    "patio\n",
    "playroom\n",
    "porch\n",
    "staircase\n",
    "study\n",
    "sun room\n",
    "TV room\n",
    "workshop'''"
   ]
  },
  {
   "cell_type": "code",
   "execution_count": 5,
   "metadata": {},
   "outputs": [],
   "source": [
    "HOUSE_AREA = s.split('\\n')"
   ]
  },
  {
   "cell_type": "code",
   "execution_count": 6,
   "metadata": {},
   "outputs": [],
   "source": [
    "ACCESSIBILITY = ['wheelchair', 'stuck', 'special needs']\n",
    "YOUNG = ['newborn', 'baby', 'kid', 'kids', 'child', 'children']\n",
    "ELDERLY = ['elderly', 'grandma', 'grandpa', 'grandparents', 'grandmother']\n",
    "PETS = ['cat', 'dog', 'pet']"
   ]
  },
  {
   "cell_type": "code",
   "execution_count": 7,
   "metadata": {},
   "outputs": [],
   "source": [
    "SHELTER = ['living', 'evacuated', 'makeshift', 'necessities', 'tarpaulins',\n",
    "       'refugee camps', 'stoves', 'plastic sheeting', 'relief assistance',\n",
    "       'evacuation', 'food items', 'refuge', 'accommodation',\n",
    "       'embankments', 'roof', 'housing', 'volunteers',\n",
    "       'emergency shelter', 'emergency evacuation center', 'tent',\n",
    "       'village', 'emergency', 'humanitarian assistance', 'families',\n",
    "       'temporary housing', 'camps', 'rations', 'constructed',\n",
    "       'relocated', 'blankets', 'pet detective', 'made homeless',\n",
    "       'refugee camp', 'damaged home', 'houses', 'villages', 'meals',\n",
    "       'buildings', 'affected communities', 'host families',\n",
    "       'storm shelter', 'refugee shelters', 'sandbag homes', 'shelters',\n",
    "       'sleeping', 'classrooms', 'plastic sheets', 'basic needs',\n",
    "       'clothes', 'assistance', 'clothing', 'left homeless',\n",
    "       'construction', 'family kits', 'temporary accommodation',\n",
    "       'houses collapsed', 'slum', 'winterised', 'permanent houses',\n",
    "       'cyclone shelters', 'permanent housing', 'relief organizations',\n",
    "       'rendered homeless', 'resettled', 'worst hit areas',\n",
    "       'accommodation centres', 'several villages', 'sewage',\n",
    "       'homes damaged', 'sought refuge', 'household items',\n",
    "       'whose houses', 'corrugated', 'basic necessities',\n",
    "       'low lying areas', 'guest families', 'floods caused',\n",
    "       'communities affected', 'overcrowded', 'flood hit areas',\n",
    "       'devastated areas', 'houses damaged', 'evacuating',\n",
    "       'makeshift shelters', 'slums', 'hygiene items', 'whose homes',\n",
    "       'winterized', 'makeshift homes', 'quake survivors',\n",
    "       'isolated areas', 'mobile clinics', 'tarpaulin', 'sheltered',\n",
    "       'shelter kits', 'shelter material', 'cooking utensils',\n",
    "       'severely malnourished', 'barracks', 'water containers',\n",
    "       'dwellings', 'school buildings', 'habitable shelter',\n",
    "       'prefabricated', 'crowded', 'mass emergency shelter',\n",
    "       'winterized tents', 'tented', 'warm clothing', 'vulnerable areas',\n",
    "       'emergency shelters', 'damaged homes', 'tarps',\n",
    "       'coastal districts', 'emergency operations', 'refugee agency',\n",
    "       'sanitation services', 'temporary camps', 'total loss',\n",
    "       'destitute', 'firewood', 'transitional shelter', 'camping',\n",
    "       'housed', 'latrine', 'transitional shelters', 'building materials',\n",
    "       'prone areas', 'floating homes', 'makeshift camps', 'huts',\n",
    "       'bedding', 'resettle', 'mattresses', 'quake zone',\n",
    "       'household kits', 'mountainous areas', 'uprooted',\n",
    "       'storage facilities', 'post disaster emergency shelter',\n",
    "       'taking refuge', 'tent village', 'emergency relief efforts',\n",
    "       'shacks', 'refugee families', 'accommodation centers',\n",
    "       'warm clothes', 'houses destroyed', 'makeshift tents',\n",
    "       'collapsed buildings', 'monsoon flooding', 'flood survivors',\n",
    "       'monsoon floods', 'airstrips', 'villages near', 'heavy floods',\n",
    "       'winterization', 'families displaced', 'winter clothing',\n",
    "       'permanent homes', 'thatched', 'temporary schools', 'orphanage',\n",
    "       'mountainous regions', 'severe flood', 'jerrycans',\n",
    "       'mountain villages', 'tent camps', 'quake relief', 'iron sheets',\n",
    "       'rebuild homes', 'huddled', 'newly displaced',\n",
    "       'temporary settlements', 'water recedes', 'housing units',\n",
    "       'uprooted trees', 'sought shelter', 'essential household items',\n",
    "       'unsanitary', 'damaged buildings', 'tent villages',\n",
    "       'medical evacuation', 'rural villages', 'permanent shelters',\n",
    "       'homes destroyed', 'dwelling', 'water reservoirs',\n",
    "       'medical clinics', 'apartment', 'inaccessible areas',\n",
    "       'temporary housing camp', 'sandbags', 'transit camps',\n",
    "       'devastating flood', 'displaced thousands', 'relief coordinator',\n",
    "       'polythene sheets', 'relief centres', 'families displaced by',\n",
    "       'have taken refuge', 'squalid', 'apartments', 'seeking shelter',\n",
    "       'irrigate', 'orphanages', 'earthquake resistant',\n",
    "       'refugees fleeing', 'adequate shelter', 'cyclone survivors',\n",
    "       'vast areas', 'plastic sheet', 'sanitary facilities',\n",
    "       'winterised tents', 'thatch', 'outlying areas', 'cramped',\n",
    "       'spontaneous camps', 'accommodations', 'heaters',\n",
    "       'evacuation centers', 'seek shelter', 'displacement camps',\n",
    "       'sleeping bags', 'water tank', 'being sheltered',\n",
    "       'construction material', 'makeshift camp', 'iron sheeting',\n",
    "       'transitional housing', 'shanty', 'temporary latrines',\n",
    "       'kitchen kits', 'declared unsafe', 'cantonment', 'bednets',\n",
    "       'relocation sites', 'nearby towns', 'being housed',\n",
    "       'washing facilities', 'sewage systems', 'household utensils',\n",
    "       'habitable', 'communities devastated', 'winterisation',\n",
    "       'sleeping outside', 'unsanitary conditions', 'basic healthcare',\n",
    "       'permanent structures', 'spontaneous settlements', 'flooded homes',\n",
    "       'flood plain', 'humanitarian conditions', 'repair kits',\n",
    "       'kerosene stoves', 'river embankments', 'granaries',\n",
    "       'flood waters recede', 'temporary shelter materials',\n",
    "       'life saving supplies', 'camp management', 'catastrophic flooding',\n",
    "       'dormitories', 'shipping container comes', 'evacuation shelters',\n",
    "       'roofing materials', 'christmas mass', 'informal settlements',\n",
    "       'temporary classrooms', 'other basic necessities',\n",
    "       'building latrines', 'handpumps', 'habitation', 'roofed',\n",
    "       'makeshift tent', 'evacuation centre', 'flood areas',\n",
    "       'cooked meals', 'outlying villages', 'camp out', 'bathrooms',\n",
    "       'build temporary shelters', 'water catchment',\n",
    "       'temporary structures', 'roofing sheets', 'resettlement sites',\n",
    "       'tented camps', 'water storage tanks', 'eastern areas',\n",
    "       'winter clothes', 'shipping container homes',\n",
    "       'displaced residents', 'temporary learning spaces', 'sanctuary',\n",
    "       'flood stricken', 'basic household items', 'unhygienic',\n",
    "       'persons displaced', 'homeless shelter', 'rescue personnel',\n",
    "       'temporary accommodation centres', 'hard hit areas',\n",
    "       'bathing facilities', 'plastic tarpaulins',\n",
    "       'adequate sanitation facilities', 'areas surrounding',\n",
    "       'insulation', 'resettlement site', 'sleeping outdoors',\n",
    "       'temporary toilets', 'morgue', 'toiletries', 'buildings destroyed',\n",
    "       'without proper shelter', 'ramshackle', 'fleeing conflict',\n",
    "       'marooned villagers', 'floodplain', 'sleep outside', 'evacuee',\n",
    "       'basement', 'encampment', 'woolen blankets', 'remain unaccounted',\n",
    "       'water contaminated', 'tent cities', 'snowline',\n",
    "       'building shelters', 'campsites', 'corrugated iron sheeting',\n",
    "       'wool blankets', 'sanitary latrines', 'shelter cluster',\n",
    "       'hygiene articles', 'flood zones', 'tentage', 'thatched houses',\n",
    "       'buildings damaged', 'basic amenities', 'bamboo poles',\n",
    "       'isolation units', 'unhygienic conditions', 'squatter',\n",
    "       'quake affectees', 'evacuate residents', 'prefab',\n",
    "       'crowded conditions', 'defecate', 'kitchen equipment',\n",
    "       'prefabricated houses', 'displacement sites', 'have found refuge',\n",
    "       'tarp', 'wooden houses', 'after devastating floods',\n",
    "       'earthquake affectees', 'refuges', 'distributing hygiene kits',\n",
    "       'hostel', 'crowded camps', 'family survival kits',\n",
    "       'construct temporary', 'welfare centers', 'overcrowded camps',\n",
    "       'residential houses', 'squatters', 'neighboring areas',\n",
    "       'became homeless', 'poorly constructed', 'kerosene lamps',\n",
    "       'villages destroyed', 'temporary settlement', 'flood ravaged',\n",
    "       'dormitory', 'cooking facilities', 'single family shelters',\n",
    "       'tented villages', 'soup kitchens', 'plywood', 'evacuation plans',\n",
    "       'resistant homes', 'residential buildings', 'lodging',\n",
    "       'tented camp', 'partially damaged houses', 'zinc sheets',\n",
    "       'air dropped', 'build latrines', 'relocation camps',\n",
    "       'flood damages', 'parental controls', 'coastal residents',\n",
    "       'several buildings', 'dwelling units',\n",
    "       'proper sanitation facilities', 'cramped conditions', 'rehoused',\n",
    "       'temporarily accommodated', 'halal meals', 'beddings',\n",
    "       'kitchen items', 'hostels', 'refugee arrivals',\n",
    "       'basic necessities such', 'ground sheets', 'relocation centres',\n",
    "       'shanties', 'constructing latrines', 'deplorable conditions',\n",
    "       'transit site', 'plastic tarps', 'temporarily housed',\n",
    "       'hygiene parcels', 'heating stoves', 'transit sites',\n",
    "       'sanitary supplies', 'tents erected', 'temporary housing units',\n",
    "       'emergency accommodation', 'temporary shelter sites',\n",
    "       'internally displaced person', 'encampments',\n",
    "       'personal hygiene items', 'shelters across', 'mobile toilets',\n",
    "       'shift shelters', 'shantytowns', 'vulnerable residents',\n",
    "       'currently sheltering', 'cottages', 'cleaning kits',\n",
    "       'thatched roofs', 'sleep outdoors', 'overcrowded conditions',\n",
    "       'tarpaulin sheet', 'high rise buildings', 'host communities',\n",
    "       'living quarters', 'displaced persons camp', 'cookware',\n",
    "       'hygiene sets', 'plastic tents', 'makeshift shelter',\n",
    "       'sized tents', 'remain marooned', 'landless families',\n",
    "       'resettlement centers', 'forcibly displaced', 'emergency housing',\n",
    "       'housing units collapsed', 'makeshift settlements',\n",
    "       'spontaneous camp', 'campsite', 'transit centers', 'rockslides',\n",
    "       'drainage ditches', 'communal latrines', 'communal kitchens',\n",
    "       'cutlery', 'sturdier', 'providing cooked food', 'shelterless',\n",
    "       'winter coats', 'settlement sites', 'squalid conditions',\n",
    "       'sanitary kits', 'makeshift huts', 'larger towns', 'scavenge',\n",
    "       'temporarily sheltered', 'families fleeing', 'plastic tarpaulin',\n",
    "       'religious buildings', 'temporary learning centres']"
   ]
  },
  {
   "cell_type": "code",
   "execution_count": 8,
   "metadata": {},
   "outputs": [],
   "source": [
    "WATER = ['river basin', 'liters', 'water pumps', 'water containers',\n",
    "       'latrines', 'stagnant', 'salts', 'muddy', 'water bladders',\n",
    "       'filters', 'clean', 'sanitation services', 'pump',\n",
    "       'water purifying', 'lake', 'dams', 'chlorine tablets', 'soap',\n",
    "       'drinking water', 'dirty', 'irrigation systems', 'water supplies',\n",
    "       'clean drinking water', 'clean drinking', 'boreholes', 'canal',\n",
    "       'canals', 'herbal tea', 'overflowed', 'safe drinking',\n",
    "       'bottled water', 'contaminated', 'water system',\n",
    "       'sanitation systems', 'boiled water', 'water source', 'purifiers',\n",
    "       'pipe', 'pumps', 'upstream', 'disinfectant', 'sewage', 'lakes',\n",
    "       'ponds', 'floodwater', 'bathing', 'water quality', 'pollution',\n",
    "       'drain', 'water level', 'washing facilities',\n",
    "       'drinking water sources', 'disinfection', 'soil moisture',\n",
    "       'purify', 'disinfectants', 'salty', 'river valleys',\n",
    "       'sanitary facilities', 'waterway', 'chlorinated',\n",
    "       'sand filtration', 'polluted water', 'salt water', 'tributary',\n",
    "       'provide safe drinking', 'spillway', 'bleach', 'sewerage',\n",
    "       'river basins', 'liquid', 'surface water', 'drinkable',\n",
    "       'sewerage system', 'saltwater', 'boiling', 'seawater',\n",
    "       'water trucking', 'disinfected', 'water treatment plants',\n",
    "       'water tankers', 'flood waters recede', 'water filters',\n",
    "       'drainage systems', 'fetch water', 'water treatment units',\n",
    "       'water treatment plant', 'sales force', 'dirty water',\n",
    "       'water reservoirs', 'water pump', 'pond', 'purifying tablets',\n",
    "       'catchments', 'rainwater harvesting', 'providing safe drinking',\n",
    "       'toilet facilities', 'disinfect', 'sewage system',\n",
    "       'boiling of water', 'piped water', 'drinking water supply',\n",
    "       'mineral water', 'purified', 'treatment plants',\n",
    "       'irrigation water', 'temporary latrines', 'disinfecting',\n",
    "       'drinkable water', 'underground water', 'gallon', 'urine',\n",
    "       'irrigate', 'water catchment', 'overflowing rivers',\n",
    "       'halogen tablets', 'personal hygiene', 'soil erosion',\n",
    "       'storage tanks', 'wetlands', 'water storage tanks', 'piping',\n",
    "       'desalination', 'proper sanitation', 'unclean', 'shallow wells',\n",
    "       'borehole', 'irrigation canals', 'handpumps', 'muddy water',\n",
    "       'adequate sanitation', 'boil', 'water filtration', 'groundwater',\n",
    "       'sewage systems', 'septic', 'water tank', 'contaminating',\n",
    "       'sea water', 'swollen rivers', 'environmental sanitation',\n",
    "       'pumping stations', 'filtration units', 'water tankering',\n",
    "       'aquifer', 'lakh cusecs', 'washing hands', 'waste water',\n",
    "       'brackish', 'storage tank', 'bathing facilities',\n",
    "       'purifying water', 'creek', 'water bowsers',\n",
    "       'adequate sanitation facilities', 'non potable', 'soil salinity',\n",
    "       'cleaning wells', 'contaminate', 'filtered', 'poor drainage',\n",
    "       'silted', 'purified water', 'storage containers',\n",
    "       'collapsible water', 'faecal', 'deep wells', 'saline water',\n",
    "       'fish ponds', 'cubic meter', 'sewer', 'sanitary latrines',\n",
    "       'chlorinate', 'water pans', 'nitrate', 'wetland', 'wastewater',\n",
    "       'poor sanitary', 'drinking contaminated water',\n",
    "       'floodwaters receded', 'silting', 'sanitation practices',\n",
    "       'irrigating', 'household latrines', 'aquifers', 'flooded rivers',\n",
    "       'chlorinated water', 'evaporation', 'water tanker',\n",
    "       'contaminated drinking water', 'untreated water', 'seepage',\n",
    "       'treatment chemicals', 'artesian', 'irrigation canal', 'riverbed',\n",
    "       'sewers', 'arsenic', 'bladder tanks', 'fresh drinking water',\n",
    "       'septic tank', 'unclean water', 'stagnant pools',\n",
    "       'inadequate sanitation', 'septic tanks',\n",
    "       'water storage containers', 'water catchments', 'excreta',\n",
    "       'drainage channels', 'chlorine solution', 'water filter',\n",
    "       'water contaminated', 'snowmelt', 'cisterns', 'purifier', 'creeks',\n",
    "       'river beds', 'washing clothes', 'poor sanitary conditions',\n",
    "       'drinking contaminated', 'chlorinating', 'communal latrines',\n",
    "       'water company', 'water drainage', 'salty water', 'water purifier',\n",
    "       'contaminated wells', 'drinking water supplies', 'pollutants',\n",
    "       'constructing latrines', 'digging wells', 'municipal water',\n",
    "       'construct latrines', 'body of water', 'supplying drinking water',\n",
    "       'contaminating water', 'heavily polluted', 'sediments',\n",
    "       'collapsible water tanks', 'sewage treatment',\n",
    "       'supplying clean water', 'water storage', 'stinking',\n",
    "       'water bladder', 'irrigated crops', 'proper drainage',\n",
    "       'water quality testing', 'irrigated lands', 'radioactive water',\n",
    "       'pump stations', 'contaminants', 'salinity levels', 'flushing',\n",
    "       'potable drinking', 'litre water tanks', 'dewatering',\n",
    "       'water line', 'radioactive waste', 'hand washing facilities',\n",
    "       'salinated', 'watersheds', 'potable water supply',\n",
    "       'water consumption', 'rivulets', 'water intrusion',\n",
    "       'proper sanitation facilities', 'chloride',\n",
    "       'plastic water containers', 'water mains', 'irrigation equipment',\n",
    "       'artesian well', 'bacteriological', 'filthy water',\n",
    "       'artesian wells', 'muddy waters', 'leaching',\n",
    "       'desalination plants', 'drainages', 'filtration plants',\n",
    "       'natural springs', 'prevent waterborne diseases',\n",
    "       'radioactive materials', 'filtration system',\n",
    "       'water filtration system', 'irrigation ditches', 'chlorine powder',\n",
    "       'drinking dirty', 'feces', 'sewerage systems', 'drip irrigation',\n",
    "       'unsafe drinking water', 'drainage canals', 'water gushing',\n",
    "       'bore wells', 'drink contaminated', 'bottled drinking',\n",
    "       'hydrological gauging', 'brackish water', 'aluminium sulphate',\n",
    "       'drinking purposes', 'environmental clean',\n",
    "       'water filtration plants', 'stagnant flood', 'artificial lake',\n",
    "       'piped water system', 'drainage ditches', 'irrigation purposes',\n",
    "       'watercourses', 'water treatment chemicals', 'water storage tank',\n",
    "       'bottled drinking water', 'sedimentation',\n",
    "       'potable drinking water', 'putrid', 'rainwater collection',\n",
    "       'purified drinking', 'boil drinking', 'make water',\n",
    "       'boiling drinking', 'wastewater treatment',\n",
    "       'potentially contaminated', 'bathing places', 'freshwater lake',\n",
    "       'hand washing stations', 'flush latrines', 'drilling boreholes',\n",
    "       'toxic chemicals', 'aquaculture ponds', 'submersible pumps',\n",
    "       'purifying packets', 'ceramic water filters', 'sewage pipes',\n",
    "       'drink contaminated water', 'harvesting tanks', 'pure drinking',\n",
    "       'waste disposal systems', 'water tap', 'heating systems',\n",
    "       'lime powder', 'liter water containers', 'water testing kits',\n",
    "       'collect rainwater', 'tankering water', 'chemical fertilizers',\n",
    "       'supply pipelines', 'pumping machines', 'drinking dirty water',\n",
    "       'plastic water tanks', 'purified drinking water',\n",
    "       'contaminated floodwater', 'water pumping station',\n",
    "       'boil drinking water', 'effluent', 'electric pump',\n",
    "       'microbiological', 'shallower', 'pollute', 'liquid waste',\n",
    "       'calcium hypochlorite', 'receptacles', 'cleaning debris',\n",
    "       'safe hygiene practices', 'tankered', 'coastal waters',\n",
    "       'electric pumps', 'water lilies', 'rain water', 'borewells',\n",
    "       'residual chlorine', 'chlorination tablets', 'highly contaminated',\n",
    "       'improve drainage', 'bladder tank', 'desalinated',\n",
    "       'waste disposal system', 'murky water', 'fetid', 'fluoride',\n",
    "       'storm drains', 'pure drinking water', 'excreta disposal',\n",
    "       'filtration systems', 'drilling wells', 'water runoff',\n",
    "       'waste removal', 'drinking polluted', 'waste dumps',\n",
    "       'storage bladders', 'handpump', 'submersible pump',\n",
    "       'avoid contamination', 'turbid', 'groundwater levels',\n",
    "       'irrigation dams', 'sanitizer', 'improved sanitation facilities',\n",
    "       'chlorinating water', 'radioactive contamination',\n",
    "       'drinking wells', 'water collection tanks', 'oral saline',\n",
    "       'earth dams', 'poor drainage system', 'drink dirty',\n",
    "       'repairing wells', 'inadequate drainage', 'rehabilitating wells',\n",
    "       'existing boreholes', 'acidic', 'through portable tankers',\n",
    "       'hydroelectric dams', 'disinfecting wells', 'glacial lakes',\n",
    "       'irrigation networks', 'prevent soil erosion',\n",
    "       'installing water tanks', 'desalination units',\n",
    "       'irrigation reservoirs', 'dewatering pumps',\n",
    "       'reactor pressure vessels', 'rainwater tanks', 'silted up',\n",
    "       'water filtration systems', 'store rainwater', 'polluted wells',\n",
    "       'animal urine', 'water collection points', 'stormwater',\n",
    "       'shallow tube', 'filtered water', 'chlorination points',\n",
    "       'turbidity', 'sand filters', 'flowing downstream',\n",
    "       'radioactive substances', 'perennial rivers', 'polluted waters',\n",
    "       'rainwater catchment', 'deeper wells', 'adequate drainage',\n",
    "       'pumping equipment', 'polluted drinking water',\n",
    "       'heavily contaminated', 'oral rehydration sachets', 'drill wells',\n",
    "       'pump station', 'drinking untreated', 'contaminated ponds',\n",
    "       'drilled wells', 'flowing rivers', 'hydropower plants',\n",
    "       'stagnating water', 'consuming contaminated', 'digging latrines',\n",
    "       'contaminated soil', 'harvest rainwater', 'portable tankers',\n",
    "       'rainwater harvesting systems', 'litre tanks', 'refilling',\n",
    "       'unsanitary living conditions', 'chlorinate water', 'salt content',\n",
    "       'contaminates', 'treat waterborne diseases',\n",
    "       'handwashing stations', 'purifies', 'stagnant floodwater',\n",
    "       'underground aquifers', 'vast lakes', 'seasonal streams',\n",
    "       'pump wells', 'minor irrigation', 'drinking untreated water',\n",
    "       'pumps installed', 'flow downstream', 'pump sets', 'algae',\n",
    "       'deep tube wells', 'wash basins', 'swelled rivers',\n",
    "       'saltwater intrusion', 'desalination plant', 'chemical packets',\n",
    "       'water purifying powder', 'pond water', 'piped water systems']"
   ]
  },
  {
   "cell_type": "code",
   "execution_count": 9,
   "metadata": {},
   "outputs": [],
   "source": [
    "# simple matcher\n",
    "# matcher.add(ent_label, callback, spacy parsed terms)\n",
    "matcher.add('HOUSE_AREA', None, *list(nlp.pipe(HOUSE_AREA)))\n",
    "matcher.add('ACCESSIBILITY', None, *list(nlp.pipe(ACCESSIBILITY)))\n",
    "matcher.add('YOUNG', None, *list(nlp.pipe(YOUNG)))\n",
    "matcher.add('ELDERLY', None, *list(nlp.pipe(ELDERLY)))\n",
    "matcher.add('PETS', None, *list(nlp.pipe(PETS)))\n",
    "matcher.add('SHELTER', None, *list(nlp.pipe(SHELTER)))\n",
    "matcher.add('WATER', None, *list(nlp.pipe(WATER)))"
   ]
  },
  {
   "cell_type": "code",
   "execution_count": 10,
   "metadata": {},
   "outputs": [],
   "source": [
    "# Load Port Arthur tweets, already preprocessed with wordninja to untangle words\n",
    "port_arthur = pd.read_pickle('./harvey_port_arthur_tweets.pkl')"
   ]
  },
  {
   "cell_type": "code",
   "execution_count": 11,
   "metadata": {},
   "outputs": [
    {
     "name": "stdout",
     "output_type": "stream",
     "text": [
      "(85,)\n"
     ]
    },
    {
     "data": {
      "text/plain": [
       "0    2231 Fredrick st port Arthur to 77640409720832...\n",
       "1    RESCUE ALERT Six people in Port Arthur need re...\n",
       "2                     2320 COX ST PORT ARTHUR TX 77640\n",
       "3                                                     \n",
       "4                           y'all got a team out in PA\n",
       "Name: processed, dtype: object"
      ]
     },
     "execution_count": 11,
     "metadata": {},
     "output_type": "execute_result"
    }
   ],
   "source": [
    "print(port_arthur.shape)\n",
    "port_arthur.head()"
   ]
  },
  {
   "cell_type": "code",
   "execution_count": 12,
   "metadata": {},
   "outputs": [],
   "source": [
    "# Gather lists\n",
    "lists = [HOUSE_AREA, ACCESSIBILITY, YOUNG, ELDERLY, PETS, SHELTER, WATER]\n",
    "listnames = ['HOUSE_AREA', 'ACCESSIBILITY', 'YOUNG', 'ELDERLY', 'PETS', 'SHELTER', 'WATER']"
   ]
  },
  {
   "cell_type": "code",
   "execution_count": 13,
   "metadata": {},
   "outputs": [
    {
     "name": "stdout",
     "output_type": "stream",
     "text": [
      "6 ELDERLY grandma\n",
      "15 YOUNG kid\n",
      "15 YOUNG kids\n",
      "21 YOUNG kid\n",
      "21 YOUNG kids\n",
      "22 ELDERLY grandma\n",
      "30 ELDERLY grandma\n",
      "36 ELDERLY grandmother\n",
      "41 SHELTER roof\n",
      "45 YOUNG kid\n",
      "45 YOUNG kids\n",
      "49 YOUNG child\n",
      "52 HOUSE_AREA den\n",
      "62 SHELTER assistance\n",
      "63 SHELTER assistance\n",
      "64 ELDERLY grandmother\n",
      "66 SHELTER roof\n",
      "69 ACCESSIBILITY stuck\n",
      "69 ELDERLY grandpa\n",
      "69 ELDERLY grandparents\n",
      "71 PETS dog\n",
      "73 ACCESSIBILITY special needs\n",
      "73 YOUNG child\n",
      "74 ACCESSIBILITY wheelchair\n",
      "74 ELDERLY grandmother\n",
      "78 ELDERLY grandmother\n",
      "80 ELDERLY grandmother\n",
      "82 HOUSE_AREA attic\n",
      "82 ACCESSIBILITY stuck\n",
      "82 YOUNG kid\n",
      "82 YOUNG kids\n",
      "CPU times: user 21.9 ms, sys: 16.6 ms, total: 38.6 ms\n",
      "Wall time: 47.6 ms\n"
     ]
    }
   ],
   "source": [
    "%%time\n",
    "# simple loop to check if a keyword is in a message\n",
    "# pretty fast with few enough terms but how does this fit with the final output? \n",
    "for i, doc in enumerate(port_arthur):\n",
    "    for L, name in zip(lists,listnames): \n",
    "        for keyword in L:\n",
    "            if keyword in doc:\n",
    "                print(i, name, keyword)"
   ]
  },
  {
   "cell_type": "code",
   "execution_count": null,
   "metadata": {},
   "outputs": [],
   "source": []
  },
  {
   "cell_type": "code",
   "execution_count": 14,
   "metadata": {},
   "outputs": [
    {
     "name": "stdout",
     "output_type": "stream",
     "text": [
      "6 ELDERLY grandma\n",
      "13 ELDERLY GRANDPA\n",
      "13 YOUNG KIDS\n",
      "15 YOUNG kids\n",
      "21 YOUNG kids\n",
      "22 ELDERLY grandma\n",
      "24 YOUNG KIDS\n",
      "28 ELDERLY GRANDPARENTS\n",
      "30 ELDERLY grandma\n",
      "36 ELDERLY grandmother\n",
      "38 SHELTER Roof\n",
      "41 SHELTER roof\n",
      "45 YOUNG kids\n",
      "49 YOUNG child\n",
      "50 SHELTER APARTMENTS\n",
      "52 ELDERLY Elderly\n",
      "54 ACCESSIBILITY STUCK\n",
      "55 ELDERLY Grandma\n",
      "58 SHELTER ROOF\n",
      "58 YOUNG NEWBORN\n",
      "58 YOUNG BABY\n",
      "62 SHELTER assistance\n",
      "63 SHELTER assistance\n",
      "64 ELDERLY grandmother\n",
      "66 SHELTER roof\n",
      "67 ACCESSIBILITY SPECIAL NEEDS\n",
      "67 ACCESSIBILITY STUCK\n",
      "69 ELDERLY grandparents\n",
      "69 ACCESSIBILITY stuck\n",
      "71 PETS dog\n",
      "73 ACCESSIBILITY special needs\n",
      "73 YOUNG child\n",
      "74 ELDERLY grandmother\n",
      "74 ACCESSIBILITY wheelchair\n",
      "75 SHELTER EMERGENCY\n",
      "78 ELDERLY grandmother\n",
      "80 ELDERLY grandmother\n",
      "82 ACCESSIBILITY stuck\n",
      "82 HOUSE_AREA attic\n",
      "82 YOUNG kids\n",
      "83 YOUNG KIDS\n",
      "CPU times: user 211 ms, sys: 8.42 ms, total: 220 ms\n",
      "Wall time: 247 ms\n"
     ]
    }
   ],
   "source": [
    "%%time\n",
    "# same printing task but with spacy\n",
    "entities = []\n",
    "for i, doc in enumerate(nlp.pipe(port_arthur)):\n",
    "    matches = matcher(doc)\n",
    "    for match_id, start, end in matches:\n",
    "        rule_id = nlp.vocab.strings[match_id] # get unicode ID\n",
    "        span = doc[start:end] # get matched slice \n",
    "        print(i, rule_id, span.text)"
   ]
  },
  {
   "cell_type": "code",
   "execution_count": 15,
   "metadata": {},
   "outputs": [],
   "source": [
    "# Older way of custom spacy entity matcher - spacy 2.1 came out with EntityRuler\n",
    "class EntityMatcher(object):\n",
    "    name = 'entity_matcher'\n",
    "    \n",
    "    def __init__(self, nlp, term_lists, labels):\n",
    "        self.matcher = PhraseMatcher(nlp.vocab)\n",
    "        for tl, label in zip(term_lists, labels):\n",
    "            self.matcher.add(label, None, *list(nlp.pipe(tl)))\n",
    "            \n",
    "    def __call__(self, doc):\n",
    "        matches = self.matcher(doc) # one at a time\n",
    "        for match_id, start, end in matches:\n",
    "            span = Span(doc, start, end, label=match_id)\n",
    "            doc.ents = list(doc.ents) + [span]\n",
    "        return doc"
   ]
  },
  {
   "cell_type": "code",
   "execution_count": 17,
   "metadata": {},
   "outputs": [
    {
     "name": "stdout",
     "output_type": "stream",
     "text": [
      "['tagger', 'parser', 'ner']\n"
     ]
    }
   ],
   "source": [
    "nlp = spacy.load('en_core_web_md')\n",
    "print(nlp.pipe_names)"
   ]
  },
  {
   "cell_type": "code",
   "execution_count": 18,
   "metadata": {},
   "outputs": [],
   "source": [
    "# there was overlap between some of the term_lists, so truncated it\n",
    "lists = [HOUSE_AREA, ACCESSIBILITY, YOUNG, ELDERLY, PETS]\n",
    "listnames = ['HOUSE_AREA', 'ACCESSIBILITY', 'YOUNG', 'ELDERLY', 'PETS']"
   ]
  },
  {
   "cell_type": "code",
   "execution_count": 19,
   "metadata": {},
   "outputs": [
    {
     "name": "stdout",
     "output_type": "stream",
     "text": [
      "['tagger', 'parser', 'entity_matcher', 'ner']\n"
     ]
    }
   ],
   "source": [
    "entity_matcher = EntityMatcher(nlp, lists, listnames)\n",
    "nlp.add_pipe(entity_matcher, before='ner')\n",
    "print(nlp.pipe_names)"
   ]
  },
  {
   "cell_type": "code",
   "execution_count": 23,
   "metadata": {},
   "outputs": [
    {
     "name": "stdout",
     "output_type": "stream",
     "text": [
      "0 [('Fredrick', 'PERSON'), ('Arthur', 'PERSON'), ('776404097208322', 'CARDINAL'), ('Linda', 'PERSON')]\n",
      "1 [('Six', 'CARDINAL'), ('Port Arthur', 'FAC'), ('5235', 'CARDINAL')]\n",
      "2 [('2320', 'CARDINAL'), ('COX', 'ORG'), ('ST', 'GPE'), ('77640', 'DATE')]\n",
      "3 []\n",
      "4 []\n",
      "5 [('2611', 'CARDINAL'), ('12 th', 'QUANTITY'), ('Port Arthur', 'FAC'), ('77640', 'DATE'), ('74', 'CARDINAL')]\n",
      "6 [('one', 'CARDINAL'), ('grandma', 'ELDERLY'), ('Ophelia Kin', 'PERSON'), ('10 st Port Art hu', 'WORK_OF_ART')]\n",
      "7 [('4005 4 th', 'QUANTITY'), ('8322353561', 'DATE')]\n",
      "8 [('4209 7', 'QUANTITY'), ('St Port', 'FAC'), ('Arthur Tx Water', 'FAC')]\n",
      "9 [('6', 'CARDINAL'), ('5307', 'CARDINAL'), ('Gulf way', 'EVENT'), ('Apt 161', 'FAC'), ('TX', 'GPE')]\n",
      "10 [('Port Arthur', 'FAC')]\n",
      "11 []\n",
      "12 [('221 pecan', 'QUANTITY'), ('77575', 'CARDINAL')]\n",
      "13 [('5', 'CARDINAL'), ('PROCTOR PORT', 'FAC'), ('409', 'CARDINAL'), ('2561', 'GPE')]\n",
      "14 [('1329 Barbara Ln Port', 'QUANTITY')]\n",
      "15 [('Jacque lyn Foreman', 'PERSON'), ('Daisy Ave Port', 'FAC'), ('3', 'CARDINAL'), ('3', 'CARDINAL'), ('kids', 'YOUNG')]\n",
      "16 [('Brandon', 'PERSON'), ('409', 'CARDINAL'), ('7396', 'DATE'), ('4620 5 th', 'QUANTITY'), ('Arthur Texas', 'LOC')]\n",
      "17 [('RT', 'ORG'), ('3717 5 th st Port Arthur', 'QUANTITY')]\n",
      "18 [('Lonnie Phillip Collins', 'PERSON'), ('409', 'CARDINAL'), ('932 0689', 'DATE')]\n",
      "19 [('2021', 'DATE'), ('Arthur', 'GPE'), ('Texas', 'GPE')]\n",
      "20 [('800 10 th', 'QUANTITY'), ('Port Arthur', 'FAC'), ('1 year old', 'DATE')]\n",
      "21 [('4318', 'CARDINAL'), ('Arthur Tx', 'PERSON'), ('77642', 'DATE'), ('11', 'CARDINAL'), ('4', 'CARDINAL'), ('kids', 'YOUNG')]\n",
      "22 [('Gran', 'PERSON'), ('grandma', 'ELDERLY')]\n",
      "23 [('1113', 'CARDINAL')]\n",
      "24 [('3', 'CARDINAL'), ('5 month yr old', 'DATE'), ('2 5 2317', 'DATE'), ('17', 'DATE'), ('St PORT', 'FAC'), ('TX', 'GPE')]\n",
      "25 [('Port Arthur', 'FAC'), ('2021', 'CARDINAL'), ('17', 'CARDINAL'), ('Arth', 'GPE')]\n",
      "26 [('5249 4 th', 'QUANTITY'), ('3', 'CARDINAL')]\n",
      "27 [('628', 'CARDINAL'), ('12 th', 'QUANTITY'), ('Port Arthur', 'FAC'), ('77640', 'DATE')]\n",
      "28 [('13 mins ago', 'TIME'), ('1320 14 th', 'DATE'), ('Port Arthur', 'FAC'), ('Texas', 'GPE')]\n",
      "29 [('5208 13 th', 'QUANTITY'), ('Arthur tx 77742', 'ORG')]\n",
      "30 [('one', 'CARDINAL'), ('grandma', 'ELDERLY'), ('Ophelia Kin', 'PERSON'), ('10 st Port Art hu', 'WORK_OF_ART')]\n",
      "31 [('Port Arthur', 'FAC'), ('2815 34 th', 'QUANTITY')]\n",
      "32 [('340', 'CARDINAL')]\n",
      "33 [('5274 15 th', 'QUANTITY')]\n",
      "34 [('3', 'CARDINAL'), ('one 82 years old', 'DATE'), ('320', 'CARDINAL'), ('St Port Arthur', 'FAC'), ('77640', 'DATE')]\n",
      "35 [('TH STREET PORT', 'FAC'), ('TEXAS', 'GPE'), ('77642', 'DATE'), ('FRED', 'PERSON'), ('LORI DUPREE', 'PERSON')]\n",
      "36 [('grandmother', 'ELDERLY'), ('2 feet', 'QUANTITY'), ('5047 7 th', 'DATE'), ('Port Arthur', 'FAC'), ('77642', 'DATE')]\n",
      "37 [('2300 18 St Port Arthur', 'QUANTITY'), ('77640', 'DATE')]\n",
      "38 [('RT', 'ORG'), ('409', 'CARDINAL'), ('1172', 'CARDINAL')]\n",
      "39 [('2624', 'CARDINAL'), ('19 th St Port Arthur', 'FAC'), ('Texas', 'GPE')]\n",
      "40 [('911', 'CARDINAL'), ('820', 'CARDINAL'), ('Smith St Port Arthur', 'ORG'), ('77640', 'DATE')]\n",
      "41 [('424', 'CARDINAL'), ('WELFORD', 'ORG'), ('Gwen', 'PERSON')]\n",
      "42 [('Julian Dr Port Au', 'EVENT')]\n",
      "43 [('1300 17 th', 'DATE'), ('St Port Arthur', 'FAC')]\n",
      "44 [('Texas', 'GPE')]\n",
      "45 [('2', 'CARDINAL'), ('kids', 'YOUNG'), ('4410 4 th st', 'QUANTITY')]\n",
      "46 [('1500', 'CARDINAL')]\n",
      "47 [('6130', 'CARDINAL'), ('12', 'CARDINAL'), ('TH STREET PORT', 'FAC'), ('TEXAS', 'GPE'), ('77642', 'DATE'), ('LORI', 'PERSON'), ('FRED DUPREE', 'PERSON')]\n",
      "48 [('2319', 'CARDINAL'), ('texas', 'GPE')]\n",
      "49 [('2333', 'CARDINAL'), ('SHIRLEY ST PORT', 'LOC'), ('TX', 'GPE'), ('776403', 'DATE'), ('one', 'CARDINAL'), ('child', 'YOUNG'), ('69 years old', 'DATE')]\n",
      "50 [('553', 'CARDINAL')]\n",
      "51 [('Arthur', 'PERSON'), ('3832 7 th', 'MONEY'), ('Street Port Arthur', 'FAC'), ('Texas', 'GPE'), ('409', 'CARDINAL')]\n",
      "52 [('Gulf Health Care 6600', 'LOC'), ('th Ave Port Arthur', 'FAC'), ('150', 'CARDINAL'), ('Elderly', 'PRODUCT')]\n",
      "53 [('910', 'CARDINAL'), ('17', 'CARDINAL'), ('3', 'CARDINAL')]\n",
      "54 [('4021 3 rd', 'QUANTITY'), ('ARTHUR TX', 'LOC'), ('JOSEPH CHRETIEN', 'PERSON'), ('2', 'CARDINAL')]\n",
      "55 [('18 th', 'QUANTITY'), ('Arthur Tx 77640', 'FAC')]\n",
      "56 [('5247 5 th St Port', 'DATE')]\n",
      "57 [('4000 3', 'CARDINAL'), ('RD ST', 'GPE')]\n",
      "58 []\n",
      "59 [('40 th', 'QUANTITY'), ('Port Arthur', 'FAC'), ('77642', 'DATE')]\n",
      "60 [('13', 'CARDINAL'), ('4', 'CARDINAL')]\n",
      "61 [('19', 'DATE'), ('St Orange', 'GPE'), ('TX', 'GPE'), ('77630', 'CARDINAL'), ('192494', 'CARDINAL')]\n",
      "62 [('4248', 'CARDINAL')]\n",
      "63 [('614 12 th', 'QUANTITY'), ('Port Arthur', 'FAC')]\n",
      "64 [('grandmother', 'ELDERLY'), ('1040', 'CARDINAL'), ('18 th', 'QUANTITY'), ('Port Arthur', 'FAC')]\n",
      "65 [('Yo', 'ORG'), ('5048 Shreveport Ave Port Arthur', 'FAC')]\n",
      "66 [('6', 'CARDINAL')]\n",
      "67 []\n",
      "68 [('RT', 'ORG'), ('6314', 'CARDINAL'), ('Houston', 'GPE'), ('77049', 'DATE')]\n",
      "69 [('grandparents', 'ELDERLY'), ('stuck', 'ACCESSIBILITY'), ('Port Arthur', 'FAC'), ('1425 15 th', 'QUANTITY'), ('St Port Art', 'FAC')]\n",
      "70 [('937 18 th', 'QUANTITY')]\n",
      "71 [('634', 'CARDINAL'), ('Port Arthur', 'FAC'), ('dog', 'PETS'), ('4 hours', 'TIME')]\n",
      "72 [('26', 'CARDINAL'), ('St PORT', 'FAC')]\n",
      "73 [('Erica Wy', 'PERSON'), ('3180', 'CARDINAL'), ('26 th St Port Arthur', 'FAC'), ('4', 'CARDINAL'), ('1', 'CARDINAL'), ('special needs', 'ACCESSIBILITY'), ('child', 'YOUNG')]\n",
      "74 [('grandmother', 'ELDERLY'), ('wheelchair', 'ACCESSIBILITY'), ('2601 19', 'DATE'), ('Arthur Texas', 'FAC')]\n",
      "75 [('909', 'CARDINAL'), ('Phyllis St', 'PERSON'), ('77640', 'DATE'), ('60', 'CARDINAL')]\n",
      "76 [('5', 'CARDINAL'), ('3160 26 th', 'QUANTITY'), ('St Port Arthur', 'FAC')]\n",
      "77 [('4', 'CARDINAL'), ('5 a m', 'QUANTITY')]\n",
      "78 [('grandmother', 'ELDERLY'), ('2', 'CARDINAL'), ('3410', 'CARDINAL'), ('Avalon Ave Port', 'FAC')]\n",
      "79 [('920', 'CARDINAL'), ('TEXAS', 'GPE')]\n",
      "80 [('1119 11 th', 'QUANTITY'), ('Port Arthur', 'FAC'), ('4', 'CARDINAL'), ('one', 'CARDINAL'), ('83 year old', 'DATE'), ('grandmother', 'ELDERLY'), ('3', 'CARDINAL')]\n",
      "81 [('1535 15', 'DATE'), ('Arthur', 'PERSON')]\n",
      "82 [('stuck', 'ACCESSIBILITY'), ('attic', 'HOUSE_AREA'), ('2', 'CARDINAL'), ('kids', 'YOUNG'), ('500', 'CARDINAL'), ('Port Arthur', 'FAC')]\n",
      "83 [('1934', 'DATE'), ('15', 'CARDINAL'), ('US', 'GPE'), ('3', 'CARDINAL'), ('4', 'CARDINAL')]\n",
      "84 [('1605', 'CARDINAL'), ('15', 'CARDINAL'), ('Port Arthur', 'FAC'), ('Texas', 'GPE')]\n",
      "CPU times: user 823 ms, sys: 4.28 ms, total: 828 ms\n",
      "Wall time: 384 ms\n"
     ]
    }
   ],
   "source": [
    "%%time \n",
    "spacy_docs = []\n",
    "for i, doc in enumerate(nlp.pipe(port_arthur)):\n",
    "    print(i, [(ent.text, ent.label_) for ent in doc.ents])\n",
    "    if i in [24, 74, 82]:\n",
    "        spacy_docs.append(doc)"
   ]
  },
  {
   "cell_type": "code",
   "execution_count": 21,
   "metadata": {},
   "outputs": [],
   "source": []
  },
  {
   "cell_type": "code",
   "execution_count": 26,
   "metadata": {},
   "outputs": [],
   "source": [
    "samp = spacy_docs[1]"
   ]
  },
  {
   "cell_type": "code",
   "execution_count": 28,
   "metadata": {},
   "outputs": [
    {
     "data": {
      "text/html": [
       "<div class=\"entities\" style=\"line-height: 2.5; direction: ltr\">SOMEBODY GO HELP MY SISTER PLEASE SHE S IN THERE WITH <mark class=\"entity\" style=\"background: #e4e7d2; padding: 0.45em 0.6em; margin: 0 0.25em; line-height: 1; border-radius: 0.35em; box-decoration-break: clone; -webkit-box-decoration-break: clone\">3<span style=\"font-size: 0.8em; font-weight: bold; line-height: 1; border-radius: 0.35em; text-transform: uppercase; vertical-align: middle; margin-left: 0.5rem\">CARDINAL</span></mark> KIDS <mark class=\"entity\" style=\"background: #bfe1d9; padding: 0.45em 0.6em; margin: 0 0.25em; line-height: 1; border-radius: 0.35em; box-decoration-break: clone; -webkit-box-decoration-break: clone\">5 month yr old<span style=\"font-size: 0.8em; font-weight: bold; line-height: 1; border-radius: 0.35em; text-transform: uppercase; vertical-align: middle; margin-left: 0.5rem\">DATE</span></mark> <mark class=\"entity\" style=\"background: #bfe1d9; padding: 0.45em 0.6em; margin: 0 0.25em; line-height: 1; border-radius: 0.35em; box-decoration-break: clone; -webkit-box-decoration-break: clone\">2 5 2317<span style=\"font-size: 0.8em; font-weight: bold; line-height: 1; border-radius: 0.35em; text-transform: uppercase; vertical-align: middle; margin-left: 0.5rem\">DATE</span></mark> <mark class=\"entity\" style=\"background: #bfe1d9; padding: 0.45em 0.6em; margin: 0 0.25em; line-height: 1; border-radius: 0.35em; box-decoration-break: clone; -webkit-box-decoration-break: clone\">17<span style=\"font-size: 0.8em; font-weight: bold; line-height: 1; border-radius: 0.35em; text-transform: uppercase; vertical-align: middle; margin-left: 0.5rem\">DATE</span></mark> th <mark class=\"entity\" style=\"background: #ddd; padding: 0.45em 0.6em; margin: 0 0.25em; line-height: 1; border-radius: 0.35em; box-decoration-break: clone; -webkit-box-decoration-break: clone\">St PORT<span style=\"font-size: 0.8em; font-weight: bold; line-height: 1; border-radius: 0.35em; text-transform: uppercase; vertical-align: middle; margin-left: 0.5rem\">FAC</span></mark> ARTHUR <mark class=\"entity\" style=\"background: #feca74; padding: 0.45em 0.6em; margin: 0 0.25em; line-height: 1; border-radius: 0.35em; box-decoration-break: clone; -webkit-box-decoration-break: clone\">TX<span style=\"font-size: 0.8em; font-weight: bold; line-height: 1; border-radius: 0.35em; text-transform: uppercase; vertical-align: middle; margin-left: 0.5rem\">GPE</span></mark></div>"
      ],
      "text/plain": [
       "<IPython.core.display.HTML object>"
      ]
     },
     "metadata": {},
     "output_type": "display_data"
    }
   ],
   "source": [
    "displacy.render(spacy_docs[0], style='ent', page=False, minify=True, jupyter=True)"
   ]
  },
  {
   "cell_type": "code",
   "execution_count": 29,
   "metadata": {},
   "outputs": [
    {
     "data": {
      "text/html": [
       "<div class=\"entities\" style=\"line-height: 2.5; direction: ltr\">My <mark class=\"entity\" style=\"background: #ddd; padding: 0.45em 0.6em; margin: 0 0.25em; line-height: 1; border-radius: 0.35em; box-decoration-break: clone; -webkit-box-decoration-break: clone\">grandmother<span style=\"font-size: 0.8em; font-weight: bold; line-height: 1; border-radius: 0.35em; text-transform: uppercase; vertical-align: middle; margin-left: 0.5rem\">ELDERLY</span></mark> is <mark class=\"entity\" style=\"background: #ddd; padding: 0.45em 0.6em; margin: 0 0.25em; line-height: 1; border-radius: 0.35em; box-decoration-break: clone; -webkit-box-decoration-break: clone\">wheelchair<span style=\"font-size: 0.8em; font-weight: bold; line-height: 1; border-radius: 0.35em; text-transform: uppercase; vertical-align: middle; margin-left: 0.5rem\">ACCESSIBILITY</span></mark> bound and the water is to her knees at her house <mark class=\"entity\" style=\"background: #bfe1d9; padding: 0.45em 0.6em; margin: 0 0.25em; line-height: 1; border-radius: 0.35em; box-decoration-break: clone; -webkit-box-decoration-break: clone\">2601 19<span style=\"font-size: 0.8em; font-weight: bold; line-height: 1; border-radius: 0.35em; text-transform: uppercase; vertical-align: middle; margin-left: 0.5rem\">DATE</span></mark> th street port <mark class=\"entity\" style=\"background: #ddd; padding: 0.45em 0.6em; margin: 0 0.25em; line-height: 1; border-radius: 0.35em; box-decoration-break: clone; -webkit-box-decoration-break: clone\">Arthur Texas<span style=\"font-size: 0.8em; font-weight: bold; line-height: 1; border-radius: 0.35em; text-transform: uppercase; vertical-align: middle; margin-left: 0.5rem\">FAC</span></mark> PLEASE</div>"
      ],
      "text/plain": [
       "<IPython.core.display.HTML object>"
      ]
     },
     "metadata": {},
     "output_type": "display_data"
    }
   ],
   "source": [
    "displacy.render(spacy_docs[1], style='ent', page=False, minify=True, jupyter=True)\n",
    "# better coloring system? "
   ]
  },
  {
   "cell_type": "code",
   "execution_count": 30,
   "metadata": {},
   "outputs": [
    {
     "data": {
      "text/html": [
       "<div class=\"entities\" style=\"line-height: 2.5; direction: ltr\">A lady is <mark class=\"entity\" style=\"background: #ddd; padding: 0.45em 0.6em; margin: 0 0.25em; line-height: 1; border-radius: 0.35em; box-decoration-break: clone; -webkit-box-decoration-break: clone\">stuck<span style=\"font-size: 0.8em; font-weight: bold; line-height: 1; border-radius: 0.35em; text-transform: uppercase; vertical-align: middle; margin-left: 0.5rem\">ACCESSIBILITY</span></mark> in her <mark class=\"entity\" style=\"background: #ddd; padding: 0.45em 0.6em; margin: 0 0.25em; line-height: 1; border-radius: 0.35em; box-decoration-break: clone; -webkit-box-decoration-break: clone\">attic<span style=\"font-size: 0.8em; font-weight: bold; line-height: 1; border-radius: 0.35em; text-transform: uppercase; vertical-align: middle; margin-left: 0.5rem\">HOUSE_AREA</span></mark> with her <mark class=\"entity\" style=\"background: #e4e7d2; padding: 0.45em 0.6em; margin: 0 0.25em; line-height: 1; border-radius: 0.35em; box-decoration-break: clone; -webkit-box-decoration-break: clone\">2<span style=\"font-size: 0.8em; font-weight: bold; line-height: 1; border-radius: 0.35em; text-transform: uppercase; vertical-align: middle; margin-left: 0.5rem\">CARDINAL</span></mark> grand <mark class=\"entity\" style=\"background: #ddd; padding: 0.45em 0.6em; margin: 0 0.25em; line-height: 1; border-radius: 0.35em; box-decoration-break: clone; -webkit-box-decoration-break: clone\">kids<span style=\"font-size: 0.8em; font-weight: bold; line-height: 1; border-radius: 0.35em; text-transform: uppercase; vertical-align: middle; margin-left: 0.5rem\">YOUNG</span></mark> <mark class=\"entity\" style=\"background: #e4e7d2; padding: 0.45em 0.6em; margin: 0 0.25em; line-height: 1; border-radius: 0.35em; box-decoration-break: clone; -webkit-box-decoration-break: clone\">500<span style=\"font-size: 0.8em; font-weight: bold; line-height: 1; border-radius: 0.35em; text-transform: uppercase; vertical-align: middle; margin-left: 0.5rem\">CARDINAL</span></mark> nec he s ave street <mark class=\"entity\" style=\"background: #ddd; padding: 0.45em 0.6em; margin: 0 0.25em; line-height: 1; border-radius: 0.35em; box-decoration-break: clone; -webkit-box-decoration-break: clone\">Port Arthur<span style=\"font-size: 0.8em; font-weight: bold; line-height: 1; border-radius: 0.35em; text-transform: uppercase; vertical-align: middle; margin-left: 0.5rem\">FAC</span></mark> Please somebody help her</div>"
      ],
      "text/plain": [
       "<IPython.core.display.HTML object>"
      ]
     },
     "metadata": {},
     "output_type": "display_data"
    }
   ],
   "source": [
    "displacy.render(spacy_docs[2], style='ent', page=False, minify=True, jupyter=True)"
   ]
  },
  {
   "cell_type": "markdown",
   "metadata": {},
   "source": [
    "The default NER has a hard time with the address info. Might need to use a blank NER.\n",
    "\n",
    "### To do:\n",
    "1. Create more comprehensive and relevant term lists - need better categorization\n",
    "2. Use EntityRuler instead of EntityMatcher?\n",
    "    - generate a list of patterns in json form\n",
    "```py\n",
    "{\"label\": \"ORG\", \"pattern\": \"Apple\"}\n",
    "{\"label\": \"GPE\", \"pattern\": [{\"lower\": \"san\"}, {\"lower\": \"francisco\"}]}\n",
    "```"
   ]
  },
  {
   "cell_type": "code",
   "execution_count": null,
   "metadata": {},
   "outputs": [],
   "source": [
    "# Other lists:\n",
    "tweet_keywords = ['ablaze', 'accident', 'aftershock', 'airplane accident', 'ambulance', 'annihilated', 'annihilation', 'apocalypse', 'armageddon', 'army', 'arson', 'arsonist', 'attack', 'attacked', 'avalanche', 'battle', 'bioterror', 'bioterrorism', 'blaze', 'blazing', 'bleeding', 'blew up', 'blight', 'blizzard', 'blood', 'bloody', 'blown up', 'body bag', 'body bagging', 'body bags', 'bomb', 'bombed', 'bombing', 'bridge collapse', 'buildings burning', 'buildings on fire', 'burned', 'burning', 'burning buildings', 'bush fires', 'casualties', 'casualty', 'catastrophe', 'catastrophic', 'chemical emergency', 'cliff fall', 'collapse', 'collapsed', 'collide', 'collided', 'collision', 'crash', 'crashed', 'crush', 'crushed', 'curfew', 'cyclone', 'damage', 'danger', 'dead', 'death', 'deaths', 'debris', 'deluge', 'deluged', 'demolish', 'demolished', 'demolition', 'derail', 'derailed', 'derailment', 'desolate', 'desolation', 'destroy', 'destroyed', 'destruction', 'detonate', 'detonation', 'devastated', 'devastation', 'disaster', 'displaced', 'drought', 'drown', 'drowned', 'drowning', 'dust storm', 'earthquake', 'electrocute', 'electrocuted', 'emergency', 'emergency plan', 'emergency services', 'engulfed', 'epicentre', 'evacuate', 'evacuated', 'evacuation', 'explode', 'exploded', 'explosion', 'eyewitness', 'famine', 'fatal', 'fatalities', 'fatality', 'fear', 'fire', 'fire truck', 'first responders', 'flames', 'flattened', 'flood', 'flooding', 'floods', 'forest fire', 'forest fires', 'hail', 'hailstorm', 'harm', 'hazard', 'hazardous', 'heat wave', 'hellfire', 'hijack', 'hijacker', 'hijacking', 'hostage', 'hostages', 'hurricane', 'injured', 'injuries', 'injury', 'inundated', 'inundation', 'landslide', 'lava', 'lightning', 'loud bang', 'mass murder', 'mass murderer', 'massacre', 'mayhem', 'meltdown', 'military', 'mudslide', 'natural disaster', 'nuclear disaster', 'nuclear reactor', 'obliterate', 'obliterated', 'obliteration', 'oil spill', 'outbreak', 'pandemonium', 'panic', 'panicking', 'police', 'quarantine', 'quarantined', 'radiation emergency', 'rainstorm', 'razed', 'refugees', 'rescue', 'rescued', 'rescuers', 'riot', 'rioting', 'rubble', 'ruin', 'sandstorm', 'screamed', 'screaming', 'screams', 'seismic', 'sinkhole', 'sinking', 'siren', 'sirens', 'smoke', 'snowstorm', 'storm', 'stretcher', 'structural failure', 'suicide bomb', 'suicide bomber', 'suicide bombing', 'sunk', 'survive', 'survived', 'survivors', 'terrorism', 'terrorist', 'threat', 'thunder', 'thunderstorm', 'tornado', 'tragedy', 'trapped', 'trauma', 'traumatised', 'trouble', 'tsunami', 'twister', 'typhoon', 'upheaval', 'violent storm', 'volcano', 'war zone', 'weapon', 'weapons', 'whirlwind', 'wild fires', 'wildfire', 'windstorm', 'wounded', 'wounds', 'wreck', 'wreckage', 'wrecked']    "
   ]
  },
  {
   "cell_type": "markdown",
   "metadata": {},
   "source": [
    "# Generate fake messages "
   ]
  },
  {
   "cell_type": "code",
   "execution_count": 31,
   "metadata": {},
   "outputs": [
    {
     "data": {
      "text/plain": [
       "'front yard'"
      ]
     },
     "execution_count": 31,
     "metadata": {},
     "output_type": "execute_result"
    }
   ],
   "source": [
    "import random\n",
    "random.choice(HOUSE_AREA)"
   ]
  },
  {
   "cell_type": "code",
   "execution_count": null,
   "metadata": {},
   "outputs": [],
   "source": []
  }
 ],
 "metadata": {
  "kernelspec": {
   "display_name": "Python 3",
   "language": "python",
   "name": "python3"
  },
  "language_info": {
   "codemirror_mode": {
    "name": "ipython",
    "version": 3
   },
   "file_extension": ".py",
   "mimetype": "text/x-python",
   "name": "python",
   "nbconvert_exporter": "python",
   "pygments_lexer": "ipython3",
   "version": "3.6.8"
  }
 },
 "nbformat": 4,
 "nbformat_minor": 2
}

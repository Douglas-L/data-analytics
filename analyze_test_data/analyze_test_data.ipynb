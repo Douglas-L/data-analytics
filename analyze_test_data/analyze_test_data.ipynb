{
 "cells": [
  {
   "cell_type": "code",
   "execution_count": null,
   "metadata": {
    "collapsed": true
   },
   "outputs": [],
   "source": [
    "import pandas as pd\n",
    "import numpy as np\n",
    "import folium\n",
    "import ast"
   ]
  },
  {
   "cell_type": "markdown",
   "metadata": {},
   "source": [
    "# Data Cleaning Functions"
   ]
  },
  {
   "cell_type": "code",
   "execution_count": null,
   "metadata": {
    "collapsed": true
   },
   "outputs": [],
   "source": [
    "# Removing duplicates from device observations\n",
    "\n",
    "def clean_coordinates_df(df):\n",
    "    return df.drop_duplicates(subset='device_id', keep='last')"
   ]
  },
  {
   "cell_type": "code",
   "execution_count": null,
   "metadata": {
    "collapsed": true
   },
   "outputs": [],
   "source": [
    "# Turning 'payload' from string to dictionary\n",
    "\n",
    "def extract_path(df, col='payload', key='path', convert_string=True):\n",
    "    if convert_string:\n",
    "        df[col] = df[col].apply(lambda x: ast.literal_eval(x))\n",
    "        return df[col].apply(lambda x: x.get(key))\n",
    "    else:\n",
    "        return df[col].apply(lambda x: x.get(key))"
   ]
  },
  {
   "cell_type": "code",
   "execution_count": null,
   "metadata": {
    "collapsed": true
   },
   "outputs": [],
   "source": [
    "# Getting the device path from the 'path'\n",
    "\n",
    "def get_path(x, coordinates_df):\n",
    "    path = []\n",
    "    if x is not None:\n",
    "        for i in x.split(','):\n",
    "            try:\n",
    "                path.append(coordinates_df[coordinates_df['device_id'] == i][['latitude', 'longitude']].values[0])\n",
    "            except:\n",
    "                path.append(coordinates_df[coordinates_df['device_id'] == i][['latitude', 'longitude']].values)\n",
    "        return path\n",
    "    else:\n",
    "        return path"
   ]
  },
  {
   "cell_type": "code",
   "execution_count": null,
   "metadata": {
    "collapsed": true
   },
   "outputs": [],
   "source": [
    "# Getting gps location from android_debugging_messages\n",
    "\n",
    "def android_gps_location(row):\n",
    "    return list(ast.literal_eval(ast.literal_eval(row).get('gpsLocation')))"
   ]
  },
  {
   "cell_type": "markdown",
   "metadata": {},
   "source": [
    "# Mapping Functions"
   ]
  },
  {
   "cell_type": "code",
   "execution_count": null,
   "metadata": {
    "collapsed": true
   },
   "outputs": [],
   "source": [
    "# Generates the map\n",
    "\n",
    "def create_map(coordinates):\n",
    "    return folium.Map(location=coordinates, zoom_start=16, tiles='cartodbpositron')"
   ]
  },
  {
   "cell_type": "code",
   "execution_count": null,
   "metadata": {
    "collapsed": true
   },
   "outputs": [],
   "source": [
    "# Plots the ducks on the map\n",
    "\n",
    "def map_ducks(m, df, papa_id='44E855A4AE30'):    \n",
    "    for i in range(0,len(df)):\n",
    "        if df.iloc[i]['device_id'] == papa_id:\n",
    "            folium.CircleMarker(location=[df.iloc[i]['latitude'], df.iloc[i]['longitude']],\n",
    "                                radius=3,\n",
    "                                color='blue',\n",
    "                                fill=True,\n",
    "                                fill_color='blue',\n",
    "                                popup=\"<br>\".join([str(df.iloc[i]['device_id']), 'PapaDuck'])\n",
    "                               ).add_to(m)\n",
    "        else:\n",
    "            folium.CircleMarker(location=[df.iloc[i]['latitude'], df.iloc[i]['longitude']],\n",
    "                                radius=2,\n",
    "                                color='red',\n",
    "                                popup=\"<br>\".join([str(df.iloc[i]['device_id']), str(df.iloc[i]['device_type'])])\n",
    "                               ).add_to(m)\n",
    "    return m"
   ]
  },
  {
   "cell_type": "code",
   "execution_count": null,
   "metadata": {
    "collapsed": true
   },
   "outputs": [],
   "source": [
    "# Plots the path of the messages and saves it as html\n",
    "\n",
    "def plot_path(gps_location, clusterdata, device_observations, papa_id='44E855A4AE30', arrow=True):\n",
    "    #clusterdata = clusterdata.drop_duplicates(subset='path', keep='last')\n",
    "    for idx,val in enumerate(clusterdata['path_coordinates']):\n",
    "        test = folium.Map(location=gps_location, zoom_start=14, tiles='cartodbdark_matter')\n",
    "        test = map_ducks(test, device_observations)\n",
    "        folium.PolyLine(val, weight=1, color='green').add_to(test)\n",
    "        if arrow:\n",
    "            arr = []\n",
    "            if len(val)>1:\n",
    "                for i in range(len(val)-1):\n",
    "                    if (len(val[i]) != 0 and len(val[i+1]) != 0):\n",
    "                        arr.append(get_arrows(locations=[val[i], val[i+1]]))\n",
    "                for tri in arr:\n",
    "                    tri[0].add_to(test)\n",
    "        for j in val:\n",
    "            if len(j)==2:\n",
    "                folium.CircleMarker(location=[j[0], j[1]],\n",
    "                                    radius=1,\n",
    "                                    color='green'\n",
    "                                    ).add_to(test)\n",
    "        test.save(outfile=str(idx)+'isabela.html')\n",
    "    return print('Complete!')"
   ]
  },
  {
   "cell_type": "code",
   "execution_count": null,
   "metadata": {
    "collapsed": true
   },
   "outputs": [],
   "source": [
    "# https://medium.com/@bobhaffner/folium-lines-with-arrows-25a0fe88e4e\n",
    "\n",
    "from collections import namedtuple\n",
    "\n",
    "def get_arrows(locations, color='green', size=6, n_arrows=1):\n",
    "    \n",
    "    '''\n",
    "    Get a list of correctly placed and rotated \n",
    "    arrows/markers to be plotted\n",
    "    \n",
    "    Parameters\n",
    "    locations : list of lists of lat lons that represent the \n",
    "                start and end of the line. \n",
    "                eg [[41.1132, -96.1993],[41.3810, -95.8021]]\n",
    "    arrow_color : default is 'blue'\n",
    "    size : default is 6\n",
    "    n_arrows : number of arrows to create.  default is 3\n",
    "    Return\n",
    "    list of arrows/markers\n",
    "    '''\n",
    "\n",
    "    Point = namedtuple('Point', field_names=['lat', 'lon'])\n",
    "\n",
    "    # creating point from our Point named tuple\n",
    "    p1 = Point(locations[i][0], locations[i][1])\n",
    "    p2 = Point(locations[i+1][0], locations[i+1][1])\n",
    "\n",
    "    # getting the rotation needed for our marker.  \n",
    "    # Subtracting 90 to account for the marker's orientation\n",
    "    # of due East(get_bearing returns North)\n",
    "    rotation = get_bearing(p1, p2) - 90\n",
    "\n",
    "    # get an evenly space list of lats and lons for our arrows\n",
    "    # note that I'm discarding the first and last for aesthetics\n",
    "    # as I'm using markers to denote the start and end\n",
    "    arrow_lats = np.linspace(p1.lat, p2.lat, n_arrows + 2)[1:n_arrows+1]\n",
    "    arrow_lons = np.linspace(p1.lon, p2.lon, n_arrows + 2)[1:n_arrows+1]\n",
    "\n",
    "    arrows = []\n",
    "\n",
    "    #creating each \"arrow\" and appending them to our arrows list\n",
    "    for points in zip(arrow_lats, arrow_lons):\n",
    "        arrows.append(folium.RegularPolygonMarker(location=points, \n",
    "                        fill_color=color, number_of_sides=3, \n",
    "                        radius=size, rotation=rotation))\n",
    "    return arrows\n",
    "\n",
    "def get_bearing(p1, p2):\n",
    "    \n",
    "    '''\n",
    "    Returns compass bearing from p1 to p2\n",
    "    \n",
    "    Parameters\n",
    "    p1 : namedtuple with lat lon\n",
    "    p2 : namedtuple with lat lon\n",
    "    \n",
    "    Return\n",
    "    compass bearing of type float\n",
    "    \n",
    "    Notes\n",
    "    Based on https://gist.github.com/jeromer/2005586\n",
    "    '''\n",
    "    \n",
    "    long_diff = np.radians(p2.lon - p1.lon)\n",
    "    \n",
    "    lat1 = np.radians(p1.lat)\n",
    "    lat2 = np.radians(p2.lat)\n",
    "    \n",
    "    x = np.sin(long_diff) * np.cos(lat2)\n",
    "    y = (np.cos(lat1) * np.sin(lat2) \n",
    "        - (np.sin(lat1) * np.cos(lat2) \n",
    "        * np.cos(long_diff)))\n",
    "    bearing = np.degrees(np.arctan2(x, y))\n",
    "    \n",
    "    # adjusting for compass bearing\n",
    "    if bearing < 0:\n",
    "        return bearing + 360\n",
    "    return bearing"
   ]
  }
 ],
 "metadata": {
  "kernelspec": {
   "display_name": "Python 3",
   "language": "python",
   "name": "python3"
  },
  "language_info": {
   "codemirror_mode": {
    "name": "ipython",
    "version": 3
   },
   "file_extension": ".py",
   "mimetype": "text/x-python",
   "name": "python",
   "nbconvert_exporter": "python",
   "pygments_lexer": "ipython3",
   "version": "3.6.6"
  }
 },
 "nbformat": 4,
 "nbformat_minor": 2
}

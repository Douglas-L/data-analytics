{
 "cells": [
  {
   "cell_type": "markdown",
   "metadata": {},
   "source": [
    "# Data for Everyone - Natural Disaster terms\n",
    "Exploring three data sets to see relevant words used when talking about natural disasters. \n",
    "1. Tweets and whether they are relevant to a natural disaster [Jump](#tweets)\n",
    "    - tone of these tweets are more news like than like a help request as in OWL\n",
    "    - keyword list could be useful, but need to be sorted\n",
    "    - also includes a possible OWL message \n",
    "2. Paired terms: is this term relevant for topic [Jump](#paired)\n",
    "    - good source of terms: medical list stood out in particular\n",
    "    - issue is how to utilize these terms - how many would we actually see in OWL messages?\n",
    "    - need \n",
    "3. More paired terms [Jump](#relief)\n",
    "    - \n",
    "Data Source: https://www.figure-eight.com/data-for-everyone/"
   ]
  },
  {
   "cell_type": "code",
   "execution_count": 1,
   "metadata": {},
   "outputs": [],
   "source": [
    "import pandas as pd\n",
    "import numpy as np\n",
    "import matplotlib.pyplot as plt \n",
    "import seaborn as sns\n",
    "sns.set()\n",
    "\n",
    "import spacy\n",
    "import wordninja # split words that are missing spaces in between \n",
    "from sklearn.feature_extraction.text import CountVectorizer, TfidfVectorizer\n",
    "from spacy.lang.en.stop_words import STOP_WORDS\n",
    "import string\n",
    "import pickle"
   ]
  },
  {
   "cell_type": "markdown",
   "metadata": {},
   "source": [
    "<a id='tweets'></a>\n",
    "# Natural Disaster Tweets"
   ]
  },
  {
   "cell_type": "code",
   "execution_count": 2,
   "metadata": {},
   "outputs": [],
   "source": [
    "sm = pd.read_csv('./data/socialmedia-disaster-tweets-DFE.csv', encoding='latin-1') # a simple encoding to ignore complex characters"
   ]
  },
  {
   "cell_type": "code",
   "execution_count": 3,
   "metadata": {},
   "outputs": [
    {
     "data": {
      "text/plain": [
       "(10876, 13)"
      ]
     },
     "execution_count": 3,
     "metadata": {},
     "output_type": "execute_result"
    }
   ],
   "source": [
    "sm.shape"
   ]
  },
  {
   "cell_type": "code",
   "execution_count": 4,
   "metadata": {},
   "outputs": [
    {
     "data": {
      "text/html": [
       "<div>\n",
       "<style scoped>\n",
       "    .dataframe tbody tr th:only-of-type {\n",
       "        vertical-align: middle;\n",
       "    }\n",
       "\n",
       "    .dataframe tbody tr th {\n",
       "        vertical-align: top;\n",
       "    }\n",
       "\n",
       "    .dataframe thead th {\n",
       "        text-align: right;\n",
       "    }\n",
       "</style>\n",
       "<table border=\"1\" class=\"dataframe\">\n",
       "  <thead>\n",
       "    <tr style=\"text-align: right;\">\n",
       "      <th></th>\n",
       "      <th>_unit_id</th>\n",
       "      <th>_golden</th>\n",
       "      <th>_unit_state</th>\n",
       "      <th>_trusted_judgments</th>\n",
       "      <th>_last_judgment_at</th>\n",
       "      <th>choose_one</th>\n",
       "      <th>choose_one:confidence</th>\n",
       "      <th>choose_one_gold</th>\n",
       "      <th>keyword</th>\n",
       "      <th>location</th>\n",
       "      <th>text</th>\n",
       "      <th>tweetid</th>\n",
       "      <th>userid</th>\n",
       "    </tr>\n",
       "  </thead>\n",
       "  <tbody>\n",
       "    <tr>\n",
       "      <th>0</th>\n",
       "      <td>778243823</td>\n",
       "      <td>True</td>\n",
       "      <td>golden</td>\n",
       "      <td>156</td>\n",
       "      <td>NaN</td>\n",
       "      <td>Relevant</td>\n",
       "      <td>1.0000</td>\n",
       "      <td>Relevant</td>\n",
       "      <td>NaN</td>\n",
       "      <td>NaN</td>\n",
       "      <td>Just happened a terrible car crash</td>\n",
       "      <td>1.0</td>\n",
       "      <td>NaN</td>\n",
       "    </tr>\n",
       "    <tr>\n",
       "      <th>1</th>\n",
       "      <td>778243824</td>\n",
       "      <td>True</td>\n",
       "      <td>golden</td>\n",
       "      <td>152</td>\n",
       "      <td>NaN</td>\n",
       "      <td>Relevant</td>\n",
       "      <td>1.0000</td>\n",
       "      <td>Relevant</td>\n",
       "      <td>NaN</td>\n",
       "      <td>NaN</td>\n",
       "      <td>Our Deeds are the Reason of this #earthquake M...</td>\n",
       "      <td>13.0</td>\n",
       "      <td>NaN</td>\n",
       "    </tr>\n",
       "    <tr>\n",
       "      <th>2</th>\n",
       "      <td>778243825</td>\n",
       "      <td>True</td>\n",
       "      <td>golden</td>\n",
       "      <td>137</td>\n",
       "      <td>NaN</td>\n",
       "      <td>Relevant</td>\n",
       "      <td>1.0000</td>\n",
       "      <td>Relevant</td>\n",
       "      <td>NaN</td>\n",
       "      <td>NaN</td>\n",
       "      <td>Heard about #earthquake is different cities, s...</td>\n",
       "      <td>14.0</td>\n",
       "      <td>NaN</td>\n",
       "    </tr>\n",
       "    <tr>\n",
       "      <th>3</th>\n",
       "      <td>778243826</td>\n",
       "      <td>True</td>\n",
       "      <td>golden</td>\n",
       "      <td>136</td>\n",
       "      <td>NaN</td>\n",
       "      <td>Relevant</td>\n",
       "      <td>0.9603</td>\n",
       "      <td>Relevant</td>\n",
       "      <td>NaN</td>\n",
       "      <td>NaN</td>\n",
       "      <td>there is a forest fire at spot pond, geese are...</td>\n",
       "      <td>15.0</td>\n",
       "      <td>NaN</td>\n",
       "    </tr>\n",
       "    <tr>\n",
       "      <th>4</th>\n",
       "      <td>778243827</td>\n",
       "      <td>True</td>\n",
       "      <td>golden</td>\n",
       "      <td>138</td>\n",
       "      <td>NaN</td>\n",
       "      <td>Relevant</td>\n",
       "      <td>1.0000</td>\n",
       "      <td>Relevant</td>\n",
       "      <td>NaN</td>\n",
       "      <td>NaN</td>\n",
       "      <td>Forest fire near La Ronge Sask. Canada</td>\n",
       "      <td>16.0</td>\n",
       "      <td>NaN</td>\n",
       "    </tr>\n",
       "  </tbody>\n",
       "</table>\n",
       "</div>"
      ],
      "text/plain": [
       "    _unit_id  _golden _unit_state  _trusted_judgments _last_judgment_at  \\\n",
       "0  778243823     True      golden                 156               NaN   \n",
       "1  778243824     True      golden                 152               NaN   \n",
       "2  778243825     True      golden                 137               NaN   \n",
       "3  778243826     True      golden                 136               NaN   \n",
       "4  778243827     True      golden                 138               NaN   \n",
       "\n",
       "  choose_one  choose_one:confidence choose_one_gold keyword location  \\\n",
       "0   Relevant                 1.0000        Relevant     NaN      NaN   \n",
       "1   Relevant                 1.0000        Relevant     NaN      NaN   \n",
       "2   Relevant                 1.0000        Relevant     NaN      NaN   \n",
       "3   Relevant                 0.9603        Relevant     NaN      NaN   \n",
       "4   Relevant                 1.0000        Relevant     NaN      NaN   \n",
       "\n",
       "                                                text  tweetid  userid  \n",
       "0                 Just happened a terrible car crash      1.0     NaN  \n",
       "1  Our Deeds are the Reason of this #earthquake M...     13.0     NaN  \n",
       "2  Heard about #earthquake is different cities, s...     14.0     NaN  \n",
       "3  there is a forest fire at spot pond, geese are...     15.0     NaN  \n",
       "4             Forest fire near La Ronge Sask. Canada     16.0     NaN  "
      ]
     },
     "execution_count": 4,
     "metadata": {},
     "output_type": "execute_result"
    }
   ],
   "source": [
    "sm.head()"
   ]
  },
  {
   "cell_type": "code",
   "execution_count": 5,
   "metadata": {},
   "outputs": [
    {
     "data": {
      "text/plain": [
       "_unit_id                 10876\n",
       "_golden                      2\n",
       "_unit_state                  2\n",
       "_trusted_judgments          45\n",
       "_last_judgment_at          696\n",
       "choose_one                   3\n",
       "choose_one:confidence      463\n",
       "choose_one_gold              4\n",
       "keyword                    221\n",
       "location                  4521\n",
       "text                     10678\n",
       "tweetid                   1243\n",
       "userid                    9781\n",
       "dtype: int64"
      ]
     },
     "execution_count": 5,
     "metadata": {},
     "output_type": "execute_result"
    }
   ],
   "source": [
    "sm.nunique()"
   ]
  },
  {
   "cell_type": "code",
   "execution_count": 6,
   "metadata": {},
   "outputs": [
    {
     "data": {
      "text/plain": [
       "_unit_id                   int64\n",
       "_golden                     bool\n",
       "_unit_state               object\n",
       "_trusted_judgments         int64\n",
       "_last_judgment_at         object\n",
       "choose_one                object\n",
       "choose_one:confidence    float64\n",
       "choose_one_gold           object\n",
       "keyword                   object\n",
       "location                  object\n",
       "text                      object\n",
       "tweetid                  float64\n",
       "userid                   float64\n",
       "dtype: object"
      ]
     },
     "execution_count": 6,
     "metadata": {},
     "output_type": "execute_result"
    }
   ],
   "source": [
    "sm.dtypes"
   ]
  },
  {
   "cell_type": "markdown",
   "metadata": {},
   "source": [
    "### Figure out what individual columns are\n",
    "Relevant means tweet relevant to a natural disaster event. Not relevant if used jokingly or in other manners.\n",
    "DATA_DICT:\n",
    "1. _unit_id: int, primary key\n",
    "2. _golden: bool, is_gold_standard\n",
    "3. _unit_state: str, ['golden', finalized'] \n",
    "4. _trusted_judgments: int, number of people who judged relevancy of tweet\n",
    "5. _last_judgment_at: datetime, timestamp for when comment was last judged\n",
    "6. _choose_one: str, [Relevant', 'Not Relevant', \"Can't Decide\"]\n",
    "7. choose_one:confidence: float, fraction that agrees on label?\n",
    "8. choose_one_gold: ['Relevant', \"Relevant\\nCan't Decide\", 'Not Relevant', \"Not Relevant\\nCan't Decide\", nan]\n",
    "9. keyword: str, word used to find tweets, can have space character %20\n",
    "10. location: str, geo tag?\n",
    "11. text: str, tweet text\n",
    "12. tweetid: float, useless as identifier\n",
    "13. userid: float, userid not unique"
   ]
  },
  {
   "cell_type": "code",
   "execution_count": 7,
   "metadata": {},
   "outputs": [
    {
     "data": {
      "text/html": [
       "<div>\n",
       "<style scoped>\n",
       "    .dataframe tbody tr th:only-of-type {\n",
       "        vertical-align: middle;\n",
       "    }\n",
       "\n",
       "    .dataframe tbody tr th {\n",
       "        vertical-align: top;\n",
       "    }\n",
       "\n",
       "    .dataframe thead th {\n",
       "        text-align: right;\n",
       "    }\n",
       "</style>\n",
       "<table border=\"1\" class=\"dataframe\">\n",
       "  <thead>\n",
       "    <tr style=\"text-align: right;\">\n",
       "      <th></th>\n",
       "      <th>_unit_id</th>\n",
       "      <th>_golden</th>\n",
       "      <th>_unit_state</th>\n",
       "      <th>_trusted_judgments</th>\n",
       "      <th>_last_judgment_at</th>\n",
       "      <th>choose_one</th>\n",
       "      <th>choose_one:confidence</th>\n",
       "      <th>choose_one_gold</th>\n",
       "      <th>keyword</th>\n",
       "      <th>location</th>\n",
       "      <th>text</th>\n",
       "      <th>tweetid</th>\n",
       "      <th>userid</th>\n",
       "    </tr>\n",
       "  </thead>\n",
       "  <tbody>\n",
       "    <tr>\n",
       "      <th>0</th>\n",
       "      <td>778243823</td>\n",
       "      <td>True</td>\n",
       "      <td>golden</td>\n",
       "      <td>156</td>\n",
       "      <td>NaN</td>\n",
       "      <td>Relevant</td>\n",
       "      <td>1.0000</td>\n",
       "      <td>Relevant</td>\n",
       "      <td>NaN</td>\n",
       "      <td>NaN</td>\n",
       "      <td>Just happened a terrible car crash</td>\n",
       "      <td>1.0</td>\n",
       "      <td>NaN</td>\n",
       "    </tr>\n",
       "    <tr>\n",
       "      <th>1</th>\n",
       "      <td>778243824</td>\n",
       "      <td>True</td>\n",
       "      <td>golden</td>\n",
       "      <td>152</td>\n",
       "      <td>NaN</td>\n",
       "      <td>Relevant</td>\n",
       "      <td>1.0000</td>\n",
       "      <td>Relevant</td>\n",
       "      <td>NaN</td>\n",
       "      <td>NaN</td>\n",
       "      <td>Our Deeds are the Reason of this #earthquake M...</td>\n",
       "      <td>13.0</td>\n",
       "      <td>NaN</td>\n",
       "    </tr>\n",
       "    <tr>\n",
       "      <th>2</th>\n",
       "      <td>778243825</td>\n",
       "      <td>True</td>\n",
       "      <td>golden</td>\n",
       "      <td>137</td>\n",
       "      <td>NaN</td>\n",
       "      <td>Relevant</td>\n",
       "      <td>1.0000</td>\n",
       "      <td>Relevant</td>\n",
       "      <td>NaN</td>\n",
       "      <td>NaN</td>\n",
       "      <td>Heard about #earthquake is different cities, s...</td>\n",
       "      <td>14.0</td>\n",
       "      <td>NaN</td>\n",
       "    </tr>\n",
       "    <tr>\n",
       "      <th>3</th>\n",
       "      <td>778243826</td>\n",
       "      <td>True</td>\n",
       "      <td>golden</td>\n",
       "      <td>136</td>\n",
       "      <td>NaN</td>\n",
       "      <td>Relevant</td>\n",
       "      <td>0.9603</td>\n",
       "      <td>Relevant</td>\n",
       "      <td>NaN</td>\n",
       "      <td>NaN</td>\n",
       "      <td>there is a forest fire at spot pond, geese are...</td>\n",
       "      <td>15.0</td>\n",
       "      <td>NaN</td>\n",
       "    </tr>\n",
       "    <tr>\n",
       "      <th>4</th>\n",
       "      <td>778243827</td>\n",
       "      <td>True</td>\n",
       "      <td>golden</td>\n",
       "      <td>138</td>\n",
       "      <td>NaN</td>\n",
       "      <td>Relevant</td>\n",
       "      <td>1.0000</td>\n",
       "      <td>Relevant</td>\n",
       "      <td>NaN</td>\n",
       "      <td>NaN</td>\n",
       "      <td>Forest fire near La Ronge Sask. Canada</td>\n",
       "      <td>16.0</td>\n",
       "      <td>NaN</td>\n",
       "    </tr>\n",
       "  </tbody>\n",
       "</table>\n",
       "</div>"
      ],
      "text/plain": [
       "    _unit_id  _golden _unit_state  _trusted_judgments _last_judgment_at  \\\n",
       "0  778243823     True      golden                 156               NaN   \n",
       "1  778243824     True      golden                 152               NaN   \n",
       "2  778243825     True      golden                 137               NaN   \n",
       "3  778243826     True      golden                 136               NaN   \n",
       "4  778243827     True      golden                 138               NaN   \n",
       "\n",
       "  choose_one  choose_one:confidence choose_one_gold keyword location  \\\n",
       "0   Relevant                 1.0000        Relevant     NaN      NaN   \n",
       "1   Relevant                 1.0000        Relevant     NaN      NaN   \n",
       "2   Relevant                 1.0000        Relevant     NaN      NaN   \n",
       "3   Relevant                 0.9603        Relevant     NaN      NaN   \n",
       "4   Relevant                 1.0000        Relevant     NaN      NaN   \n",
       "\n",
       "                                                text  tweetid  userid  \n",
       "0                 Just happened a terrible car crash      1.0     NaN  \n",
       "1  Our Deeds are the Reason of this #earthquake M...     13.0     NaN  \n",
       "2  Heard about #earthquake is different cities, s...     14.0     NaN  \n",
       "3  there is a forest fire at spot pond, geese are...     15.0     NaN  \n",
       "4             Forest fire near La Ronge Sask. Canada     16.0     NaN  "
      ]
     },
     "execution_count": 7,
     "metadata": {},
     "output_type": "execute_result"
    }
   ],
   "source": [
    "sm.head()"
   ]
  },
  {
   "cell_type": "markdown",
   "metadata": {},
   "source": [
    "#### Judgments"
   ]
  },
  {
   "cell_type": "code",
   "execution_count": 8,
   "metadata": {},
   "outputs": [
    {
     "data": {
      "text/plain": [
       "finalized    10789\n",
       "golden          87\n",
       "Name: _unit_state, dtype: int64"
      ]
     },
     "execution_count": 8,
     "metadata": {},
     "output_type": "execute_result"
    }
   ],
   "source": [
    "sm['_unit_state'].value_counts(dropna=False)\n",
    "# What does finalized mean? \n",
    "# golden should mean has verified label"
   ]
  },
  {
   "cell_type": "code",
   "execution_count": 9,
   "metadata": {},
   "outputs": [
    {
     "data": {
      "text/plain": [
       "5     9833\n",
       "6      698\n",
       "7      217\n",
       "8       41\n",
       "99       8\n",
       "Name: _trusted_judgments, dtype: int64"
      ]
     },
     "execution_count": 9,
     "metadata": {},
     "output_type": "execute_result"
    }
   ],
   "source": [
    "sm['_trusted_judgments'].value_counts(dropna=False).head()\n",
    "# looks like number of raters? 5 raters the most unccomon, leading to 1, 0.8, 0.6 being the most common confidence\n",
    "# So confidence is probably the fraction of votes"
   ]
  },
  {
   "cell_type": "code",
   "execution_count": 10,
   "metadata": {},
   "outputs": [
    {
     "name": "stderr",
     "output_type": "stream",
     "text": [
      "/home/douglas/anaconda3/lib/python3.6/site-packages/scipy/stats/stats.py:1713: FutureWarning: Using a non-tuple sequence for multidimensional indexing is deprecated; use `arr[tuple(seq)]` instead of `arr[seq]`. In the future this will be interpreted as an array index, `arr[np.array(seq)]`, which will result either in an error or a different result.\n",
      "  return np.add.reduce(sorted[indexer] * weights, axis=axis) / sumval\n"
     ]
    },
    {
     "data": {
      "text/plain": [
       "<matplotlib.axes._subplots.AxesSubplot at 0x7f12c01e5978>"
      ]
     },
     "execution_count": 10,
     "metadata": {},
     "output_type": "execute_result"
    },
    {
     "data": {
      "image/png": "[encoded data removed]",
      "text/plain": [
       "<matplotlib.figure.Figure at 0x7f12c01e51d0>"
      ]
     },
     "metadata": {},
     "output_type": "display_data"
    }
   ],
   "source": [
    "sns.distplot(sm['choose_one:confidence'])"
   ]
  },
  {
   "cell_type": "code",
   "execution_count": 11,
   "metadata": {},
   "outputs": [
    {
     "data": {
      "text/plain": [
       "array([nan, '8/26/15 15:56', '8/28/15 19:14', '8/29/15 1:27',\n",
       "       '8/26/15 16:31'], dtype=object)"
      ]
     },
     "execution_count": 11,
     "metadata": {},
     "output_type": "execute_result"
    }
   ],
   "source": [
    "sm['_last_judgment_at'].unique()[:5]\n",
    "# looks like time when this was rated last? "
   ]
  },
  {
   "cell_type": "code",
   "execution_count": 12,
   "metadata": {},
   "outputs": [],
   "source": [
    "dates = pd.to_datetime(sm['_last_judgment_at'])"
   ]
  },
  {
   "cell_type": "code",
   "execution_count": 13,
   "metadata": {},
   "outputs": [
    {
     "data": {
      "text/plain": [
       "count                   10792\n",
       "unique                    696\n",
       "top       2015-08-27 16:12:00\n",
       "freq                       72\n",
       "first     2015-08-26 15:56:00\n",
       "last      2015-09-02 23:38:00\n",
       "Name: _last_judgment_at, dtype: object"
      ]
     },
     "execution_count": 13,
     "metadata": {},
     "output_type": "execute_result"
    }
   ],
   "source": [
    "dates.describe() # rated between one week \n",
    "# Any major events in this time period? Probably not"
   ]
  },
  {
   "cell_type": "markdown",
   "metadata": {},
   "source": [
    "#### Text"
   ]
  },
  {
   "cell_type": "code",
   "execution_count": 14,
   "metadata": {},
   "outputs": [
    {
     "data": {
      "text/plain": [
       "10517    ! Residents Return To Destroyed Homes As Washi...\n",
       "2798     ! Sex-themed e-books given curfew in Germany o...\n",
       "1383     # handbags Genuine Mulberry Antony Cross Body ...\n",
       "8314     #360WiseNews : China's Stock Market Crash: Are...\n",
       "8302     #360WiseNews : China's Stock Market Crash: Are...\n",
       "8334     #360WiseNews : China's Stock Market Crash: Are...\n",
       "8301     #360WiseNews : China's Stock Market Crash: Are...\n",
       "8341     #360WiseNews : China's Stock Market Crash: Are...\n",
       "8338     #360WiseNews : China's Stock Market Crash: Are...\n",
       "8316     #360WiseNews : China's Stock Market Crash: Are...\n",
       "1398     #3682 Nikon D50 6.1 MP Digital SLR Camera Body...\n",
       "106      #3: Car Recorder ZeroEdgeå¨ Dual-lens Car Came...\n",
       "7095     #3: TITAN WarriorCord 100 Feet - Authentic Mil...\n",
       "4351     #3Novices : Renison mine sees seismic event ht...\n",
       "3641     #4: The Hobbit: The Desolation of Smaug (Bilin...\n",
       "1413     #7294 Nikon D50 6.1 MP Digital SLR Camera Body...\n",
       "3106     #?? #?? #??? #??? MH370: Aircraft debris found...\n",
       "3109     #?? #?? #??? #??? MH370: Aircraft debris found...\n",
       "3135     #?? #?? #??? #??? MH370: Aircraft debris found...\n",
       "9171     #?? #?? #??? #??? Suicide bomber kills 15 in S...\n",
       "9184     #?? #?? #??? #??? Suicide bomber kills 15 in S...\n",
       "9191     #?? #?? #??? #??? Suicide bomber kills 15 in S...\n",
       "7966     #?? #?? #??? #??? The Latest: More Homes Razed...\n",
       "3112     #?? #???? #??? #??? MH370: Aircraft debris fou...\n",
       "3118     #?? #???? #??? #??? MH370: Aircraft debris fou...\n",
       "3126     #??? #?? #??? #??? MH370: Aircraft debris foun...\n",
       "10852    #??? #?? #??? #??? MH370: Aircraft debris foun...\n",
       "3529     #???? #?? #??? #??? Trains derailment: 'It's t...\n",
       "6444     #???? #?? #??? #??? Udhampur terror attack: Mi...\n",
       "1914     #?x?: :and to counter acts such as the burning...\n",
       "                               ...                        \n",
       "9888     ÛÏ@_keits: @LIVA_GOTTA get a gold chain you'l...\n",
       "4576     ÛÏ@based_georgie: yo forreal we need to have ...\n",
       "8469     ÛÏ@beachboyIrh: AT GMA THE SECURITY GUY SAID ...\n",
       "1544     ÛÏ@dylanmcclure55: Working at zumiez is the h...\n",
       "4848     ÛÏA voluntary evacuation is being recommended...\n",
       "3974     ÛÏEven in the midst of devastation something ...\n",
       "5905     ÛÏFor I know the plans I have for youÛ decl...\n",
       "1514     ÛÏParties and body bags go together like drin...\n",
       "3914     ÛÏRichmond Coaches were devastated to hear of...\n",
       "3911     ÛÏRichmond Coaches were devastated to hear of...\n",
       "3901     ÛÏRichmond Coaches were devastated to hear of...\n",
       "9041     ÛÏStretcher in 5 min // Speaker DeckÛ http:...\n",
       "9020     ÛÏStretcher in 5 min // Speaker DeckÛ http:...\n",
       "1581     ÛÏTell Shinichi Kudo that IÛªm giving him 3 ...\n",
       "2046     ÛÏThe road to power is paved with hypocrisy a...\n",
       "6587     ÛÏWe live in an area thatÛªs inundated with ...\n",
       "5486     ÛÏYou see the devastation &amp; itÛªs shocki...\n",
       "1883     ÛÓ bulletproof and black like a funeral; the ...\n",
       "1323     Û÷A Nightmare On Elm StreetÛª Is Getting Rem...\n",
       "9431     Û÷Faceless body belonged to my sisterÛª: #Hi...\n",
       "6258     Û÷Good SamaritansÛª shot in horror hijacking...\n",
       "6278     Û÷Good SamaritansÛª shot in horror hijacking...\n",
       "6216     Û÷Hijacker copsÛª back in the dock - http://...\n",
       "6293     Û÷RansomwareÛª holds B.C. manÛªs computer f...\n",
       "8990     Û÷SexistÛª peer review causes storm online h...\n",
       "5420     Û÷We Can HelpÛª Says Denver Firefighter Work...\n",
       "1414     å_? New Ladies Shoulder Tote #Handbag Faux Lea...\n",
       "1394     å¤} New Ladies Shoulder Tote #Handbag Faux Lea...\n",
       "4006     å¬'Only the sea knows how many are dead' @MSF_...\n",
       "2351     åÈMGN-AFRICAå¨ pin:263789F4 åÈ Correction: Ten...\n",
       "Name: text, Length: 10876, dtype: object"
      ]
     },
     "execution_count": 14,
     "metadata": {},
     "output_type": "execute_result"
    }
   ],
   "source": [
    "sm['text'].sort_values()"
   ]
  },
  {
   "cell_type": "markdown",
   "metadata": {},
   "source": [
    "#### Gold Standards"
   ]
  },
  {
   "cell_type": "code",
   "execution_count": 15,
   "metadata": {},
   "outputs": [
    {
     "data": {
      "text/plain": [
       "False    10792\n",
       "True        84\n",
       "Name: _golden, dtype: int64"
      ]
     },
     "execution_count": 15,
     "metadata": {},
     "output_type": "execute_result"
    }
   ],
   "source": [
    "sm['_golden'].value_counts(dropna=False)"
   ]
  },
  {
   "cell_type": "code",
   "execution_count": 16,
   "metadata": {},
   "outputs": [
    {
     "data": {
      "text/plain": [
       "NaN                           10789\n",
       "Relevant                         57\n",
       "Not Relevant                     24\n",
       "Relevant\\nCan't Decide            4\n",
       "Not Relevant\\nCan't Decide        2\n",
       "Name: choose_one_gold, dtype: int64"
      ]
     },
     "execution_count": 16,
     "metadata": {},
     "output_type": "execute_result"
    }
   ],
   "source": [
    "sm['choose_one_gold'].value_counts(dropna=False) \n",
    "# 87 gold but only 84 True for _golden"
   ]
  },
  {
   "cell_type": "code",
   "execution_count": 17,
   "metadata": {},
   "outputs": [
    {
     "data": {
      "text/html": [
       "<div>\n",
       "<style scoped>\n",
       "    .dataframe tbody tr th:only-of-type {\n",
       "        vertical-align: middle;\n",
       "    }\n",
       "\n",
       "    .dataframe tbody tr th {\n",
       "        vertical-align: top;\n",
       "    }\n",
       "\n",
       "    .dataframe thead th {\n",
       "        text-align: right;\n",
       "    }\n",
       "</style>\n",
       "<table border=\"1\" class=\"dataframe\">\n",
       "  <thead>\n",
       "    <tr style=\"text-align: right;\">\n",
       "      <th></th>\n",
       "      <th>_unit_id</th>\n",
       "      <th>_golden</th>\n",
       "      <th>_unit_state</th>\n",
       "      <th>_trusted_judgments</th>\n",
       "      <th>_last_judgment_at</th>\n",
       "      <th>choose_one</th>\n",
       "      <th>choose_one:confidence</th>\n",
       "      <th>choose_one_gold</th>\n",
       "      <th>keyword</th>\n",
       "      <th>location</th>\n",
       "      <th>text</th>\n",
       "      <th>tweetid</th>\n",
       "      <th>userid</th>\n",
       "    </tr>\n",
       "  </thead>\n",
       "  <tbody>\n",
       "    <tr>\n",
       "      <th>9</th>\n",
       "      <td>778243834</td>\n",
       "      <td>True</td>\n",
       "      <td>golden</td>\n",
       "      <td>136</td>\n",
       "      <td>NaN</td>\n",
       "      <td>Relevant</td>\n",
       "      <td>0.9606</td>\n",
       "      <td>Relevant\\nCan't Decide</td>\n",
       "      <td>NaN</td>\n",
       "      <td>NaN</td>\n",
       "      <td>Apocalypse lighting. #Spokane #wildfires</td>\n",
       "      <td>21.0</td>\n",
       "      <td>NaN</td>\n",
       "    </tr>\n",
       "    <tr>\n",
       "      <th>13</th>\n",
       "      <td>778243838</td>\n",
       "      <td>True</td>\n",
       "      <td>golden</td>\n",
       "      <td>140</td>\n",
       "      <td>NaN</td>\n",
       "      <td>Relevant</td>\n",
       "      <td>0.9607</td>\n",
       "      <td>Relevant\\nCan't Decide</td>\n",
       "      <td>NaN</td>\n",
       "      <td>NaN</td>\n",
       "      <td>I'm on top of the hill and I can see a fire in...</td>\n",
       "      <td>7.0</td>\n",
       "      <td>NaN</td>\n",
       "    </tr>\n",
       "    <tr>\n",
       "      <th>15</th>\n",
       "      <td>778243840</td>\n",
       "      <td>True</td>\n",
       "      <td>golden</td>\n",
       "      <td>147</td>\n",
       "      <td>NaN</td>\n",
       "      <td>Relevant</td>\n",
       "      <td>0.7177</td>\n",
       "      <td>Relevant\\nCan't Decide</td>\n",
       "      <td>NaN</td>\n",
       "      <td>NaN</td>\n",
       "      <td>I'm afraid that the tornado is coming to our a...</td>\n",
       "      <td>9.0</td>\n",
       "      <td>NaN</td>\n",
       "    </tr>\n",
       "    <tr>\n",
       "      <th>19</th>\n",
       "      <td>778243844</td>\n",
       "      <td>True</td>\n",
       "      <td>golden</td>\n",
       "      <td>147</td>\n",
       "      <td>NaN</td>\n",
       "      <td>Relevant</td>\n",
       "      <td>0.6761</td>\n",
       "      <td>Relevant\\nCan't Decide</td>\n",
       "      <td>NaN</td>\n",
       "      <td>NaN</td>\n",
       "      <td>#Flood in Bago Myanmar #We arrived Bago</td>\n",
       "      <td>24.0</td>\n",
       "      <td>NaN</td>\n",
       "    </tr>\n",
       "  </tbody>\n",
       "</table>\n",
       "</div>"
      ],
      "text/plain": [
       "     _unit_id  _golden _unit_state  _trusted_judgments _last_judgment_at  \\\n",
       "9   778243834     True      golden                 136               NaN   \n",
       "13  778243838     True      golden                 140               NaN   \n",
       "15  778243840     True      golden                 147               NaN   \n",
       "19  778243844     True      golden                 147               NaN   \n",
       "\n",
       "   choose_one  choose_one:confidence         choose_one_gold keyword location  \\\n",
       "9    Relevant                 0.9606  Relevant\\nCan't Decide     NaN      NaN   \n",
       "13   Relevant                 0.9607  Relevant\\nCan't Decide     NaN      NaN   \n",
       "15   Relevant                 0.7177  Relevant\\nCan't Decide     NaN      NaN   \n",
       "19   Relevant                 0.6761  Relevant\\nCan't Decide     NaN      NaN   \n",
       "\n",
       "                                                 text  tweetid  userid  \n",
       "9            Apocalypse lighting. #Spokane #wildfires     21.0     NaN  \n",
       "13  I'm on top of the hill and I can see a fire in...      7.0     NaN  \n",
       "15  I'm afraid that the tornado is coming to our a...      9.0     NaN  \n",
       "19            #Flood in Bago Myanmar #We arrived Bago     24.0     NaN  "
      ]
     },
     "execution_count": 17,
     "metadata": {},
     "output_type": "execute_result"
    }
   ],
   "source": [
    "sm[sm['choose_one_gold'] == \"Relevant\\nCan't Decide\"]"
   ]
  },
  {
   "cell_type": "code",
   "execution_count": 18,
   "metadata": {},
   "outputs": [
    {
     "data": {
      "text/html": [
       "<div>\n",
       "<style scoped>\n",
       "    .dataframe tbody tr th:only-of-type {\n",
       "        vertical-align: middle;\n",
       "    }\n",
       "\n",
       "    .dataframe tbody tr th {\n",
       "        vertical-align: top;\n",
       "    }\n",
       "\n",
       "    .dataframe thead th {\n",
       "        text-align: right;\n",
       "    }\n",
       "</style>\n",
       "<table border=\"1\" class=\"dataframe\">\n",
       "  <thead>\n",
       "    <tr style=\"text-align: right;\">\n",
       "      <th></th>\n",
       "      <th>_unit_id</th>\n",
       "      <th>_golden</th>\n",
       "      <th>_unit_state</th>\n",
       "      <th>_trusted_judgments</th>\n",
       "      <th>_last_judgment_at</th>\n",
       "      <th>choose_one</th>\n",
       "      <th>choose_one:confidence</th>\n",
       "      <th>choose_one_gold</th>\n",
       "      <th>keyword</th>\n",
       "      <th>location</th>\n",
       "      <th>text</th>\n",
       "      <th>tweetid</th>\n",
       "      <th>userid</th>\n",
       "    </tr>\n",
       "  </thead>\n",
       "  <tbody>\n",
       "    <tr>\n",
       "      <th>42</th>\n",
       "      <td>778243871</td>\n",
       "      <td>True</td>\n",
       "      <td>golden</td>\n",
       "      <td>147</td>\n",
       "      <td>NaN</td>\n",
       "      <td>Not Relevant</td>\n",
       "      <td>1.0000</td>\n",
       "      <td>Not Relevant\\nCan't Decide</td>\n",
       "      <td>NaN</td>\n",
       "      <td>NaN</td>\n",
       "      <td>No don't tell me that!</td>\n",
       "      <td>47.0</td>\n",
       "      <td>NaN</td>\n",
       "    </tr>\n",
       "    <tr>\n",
       "      <th>44</th>\n",
       "      <td>778243874</td>\n",
       "      <td>True</td>\n",
       "      <td>golden</td>\n",
       "      <td>134</td>\n",
       "      <td>NaN</td>\n",
       "      <td>Not Relevant</td>\n",
       "      <td>0.5945</td>\n",
       "      <td>Not Relevant\\nCan't Decide</td>\n",
       "      <td>NaN</td>\n",
       "      <td>NaN</td>\n",
       "      <td>The end!</td>\n",
       "      <td>49.0</td>\n",
       "      <td>NaN</td>\n",
       "    </tr>\n",
       "  </tbody>\n",
       "</table>\n",
       "</div>"
      ],
      "text/plain": [
       "     _unit_id  _golden _unit_state  _trusted_judgments _last_judgment_at  \\\n",
       "42  778243871     True      golden                 147               NaN   \n",
       "44  778243874     True      golden                 134               NaN   \n",
       "\n",
       "      choose_one  choose_one:confidence             choose_one_gold keyword  \\\n",
       "42  Not Relevant                 1.0000  Not Relevant\\nCan't Decide     NaN   \n",
       "44  Not Relevant                 0.5945  Not Relevant\\nCan't Decide     NaN   \n",
       "\n",
       "   location                    text  tweetid  userid  \n",
       "42      NaN  No don't tell me that!     47.0     NaN  \n",
       "44      NaN                The end!     49.0     NaN  "
      ]
     },
     "execution_count": 18,
     "metadata": {},
     "output_type": "execute_result"
    }
   ],
   "source": [
    "sm[sm['choose_one_gold'] == \"Not Relevant\\nCan't Decide\"]"
   ]
  },
  {
   "cell_type": "code",
   "execution_count": 19,
   "metadata": {},
   "outputs": [
    {
     "name": "stdout",
     "output_type": "stream",
     "text": [
      "3\n"
     ]
    },
    {
     "data": {
      "text/html": [
       "<div>\n",
       "<style scoped>\n",
       "    .dataframe tbody tr th:only-of-type {\n",
       "        vertical-align: middle;\n",
       "    }\n",
       "\n",
       "    .dataframe tbody tr th {\n",
       "        vertical-align: top;\n",
       "    }\n",
       "\n",
       "    .dataframe thead th {\n",
       "        text-align: right;\n",
       "    }\n",
       "</style>\n",
       "<table border=\"1\" class=\"dataframe\">\n",
       "  <thead>\n",
       "    <tr style=\"text-align: right;\">\n",
       "      <th></th>\n",
       "      <th>_unit_id</th>\n",
       "      <th>_golden</th>\n",
       "      <th>_unit_state</th>\n",
       "      <th>_trusted_judgments</th>\n",
       "      <th>_last_judgment_at</th>\n",
       "      <th>choose_one</th>\n",
       "      <th>choose_one:confidence</th>\n",
       "      <th>choose_one_gold</th>\n",
       "      <th>keyword</th>\n",
       "      <th>location</th>\n",
       "      <th>text</th>\n",
       "      <th>tweetid</th>\n",
       "      <th>userid</th>\n",
       "    </tr>\n",
       "  </thead>\n",
       "  <tbody>\n",
       "    <tr>\n",
       "      <th>10841</th>\n",
       "      <td>778261075</td>\n",
       "      <td>False</td>\n",
       "      <td>golden</td>\n",
       "      <td>11</td>\n",
       "      <td>8/27/15 16:33</td>\n",
       "      <td>Not Relevant</td>\n",
       "      <td>0.6324</td>\n",
       "      <td>Relevant</td>\n",
       "      <td>NaN</td>\n",
       "      <td>NaN</td>\n",
       "      <td>Sirens everywhere!</td>\n",
       "      <td>235.0</td>\n",
       "      <td>NaN</td>\n",
       "    </tr>\n",
       "    <tr>\n",
       "      <th>10848</th>\n",
       "      <td>778261082</td>\n",
       "      <td>False</td>\n",
       "      <td>golden</td>\n",
       "      <td>14</td>\n",
       "      <td>8/27/15 16:20</td>\n",
       "      <td>Not Relevant</td>\n",
       "      <td>0.5696</td>\n",
       "      <td>Relevant</td>\n",
       "      <td>NaN</td>\n",
       "      <td>NaN</td>\n",
       "      <td>I just heard a really loud bang and everyone i...</td>\n",
       "      <td>7807.0</td>\n",
       "      <td>NaN</td>\n",
       "    </tr>\n",
       "    <tr>\n",
       "      <th>10861</th>\n",
       "      <td>778261095</td>\n",
       "      <td>False</td>\n",
       "      <td>golden</td>\n",
       "      <td>3</td>\n",
       "      <td>8/27/15 13:52</td>\n",
       "      <td>Not Relevant</td>\n",
       "      <td>0.6678</td>\n",
       "      <td>Relevant</td>\n",
       "      <td>NaN</td>\n",
       "      <td>NaN</td>\n",
       "      <td>EARTHQUAKE SAFETY LOS ANGELES ÛÒ SAFETY FASTE...</td>\n",
       "      <td>242635.0</td>\n",
       "      <td>NaN</td>\n",
       "    </tr>\n",
       "  </tbody>\n",
       "</table>\n",
       "</div>"
      ],
      "text/plain": [
       "        _unit_id  _golden _unit_state  _trusted_judgments _last_judgment_at  \\\n",
       "10841  778261075    False      golden                  11     8/27/15 16:33   \n",
       "10848  778261082    False      golden                  14     8/27/15 16:20   \n",
       "10861  778261095    False      golden                   3     8/27/15 13:52   \n",
       "\n",
       "         choose_one  choose_one:confidence choose_one_gold keyword location  \\\n",
       "10841  Not Relevant                 0.6324        Relevant     NaN      NaN   \n",
       "10848  Not Relevant                 0.5696        Relevant     NaN      NaN   \n",
       "10861  Not Relevant                 0.6678        Relevant     NaN      NaN   \n",
       "\n",
       "                                                    text   tweetid  userid  \n",
       "10841                                 Sirens everywhere!     235.0     NaN  \n",
       "10848  I just heard a really loud bang and everyone i...    7807.0     NaN  \n",
       "10861  EARTHQUAKE SAFETY LOS ANGELES ÛÒ SAFETY FASTE...  242635.0     NaN  "
      ]
     },
     "execution_count": 19,
     "metadata": {},
     "output_type": "execute_result"
    }
   ],
   "source": [
    "print(len(sm[(~sm['_golden']) & (sm['choose_one_gold'] == 'Relevant')])) # check length reveals this is the discrepancy\n",
    "sm[(~sm['_golden']) & (sm['choose_one_gold'] == 'Relevant')] "
   ]
  },
  {
   "cell_type": "code",
   "execution_count": 20,
   "metadata": {},
   "outputs": [],
   "source": [
    "# Fix inconsistency\n",
    "sm.loc[(~sm['_golden']) & (sm['choose_one_gold'] == 'Relevant'), '_golden'] = True "
   ]
  },
  {
   "cell_type": "code",
   "execution_count": 21,
   "metadata": {},
   "outputs": [],
   "source": [
    "# Q: How often is choose_one correct vs choose_one_gold? "
   ]
  },
  {
   "cell_type": "code",
   "execution_count": 22,
   "metadata": {},
   "outputs": [
    {
     "data": {
      "text/plain": [
       "Not Relevant    6187\n",
       "Relevant        4673\n",
       "Can't Decide      16\n",
       "Name: choose_one, dtype: int64"
      ]
     },
     "execution_count": 22,
     "metadata": {},
     "output_type": "execute_result"
    }
   ],
   "source": [
    "sm['choose_one'].value_counts()"
   ]
  },
  {
   "cell_type": "code",
   "execution_count": 23,
   "metadata": {},
   "outputs": [
    {
     "data": {
      "text/plain": [
       "78"
      ]
     },
     "execution_count": 23,
     "metadata": {},
     "output_type": "execute_result"
    }
   ],
   "source": [
    "(sm['choose_one'] == sm['choose_one_gold']).sum()"
   ]
  },
  {
   "cell_type": "code",
   "execution_count": 24,
   "metadata": {},
   "outputs": [
    {
     "data": {
      "text/plain": [
       "78"
      ]
     },
     "execution_count": 24,
     "metadata": {},
     "output_type": "execute_result"
    }
   ],
   "source": [
    "(sm.loc[sm['_golden'], 'choose_one'] == sm.loc[sm['_golden'], 'choose_one_gold']).sum() \n",
    "# Ratings from 78/87 gold standard comments are correct"
   ]
  },
  {
   "cell_type": "code",
   "execution_count": 25,
   "metadata": {},
   "outputs": [
    {
     "data": {
      "text/html": [
       "<div>\n",
       "<style scoped>\n",
       "    .dataframe tbody tr th:only-of-type {\n",
       "        vertical-align: middle;\n",
       "    }\n",
       "\n",
       "    .dataframe tbody tr th {\n",
       "        vertical-align: top;\n",
       "    }\n",
       "\n",
       "    .dataframe thead th {\n",
       "        text-align: right;\n",
       "    }\n",
       "</style>\n",
       "<table border=\"1\" class=\"dataframe\">\n",
       "  <thead>\n",
       "    <tr style=\"text-align: right;\">\n",
       "      <th></th>\n",
       "      <th>_unit_id</th>\n",
       "      <th>_golden</th>\n",
       "      <th>_unit_state</th>\n",
       "      <th>_trusted_judgments</th>\n",
       "      <th>_last_judgment_at</th>\n",
       "      <th>choose_one</th>\n",
       "      <th>choose_one:confidence</th>\n",
       "      <th>choose_one_gold</th>\n",
       "      <th>keyword</th>\n",
       "      <th>location</th>\n",
       "      <th>text</th>\n",
       "      <th>tweetid</th>\n",
       "      <th>userid</th>\n",
       "    </tr>\n",
       "  </thead>\n",
       "  <tbody>\n",
       "    <tr>\n",
       "      <th>9</th>\n",
       "      <td>778243834</td>\n",
       "      <td>True</td>\n",
       "      <td>golden</td>\n",
       "      <td>136</td>\n",
       "      <td>NaN</td>\n",
       "      <td>Relevant</td>\n",
       "      <td>0.9606</td>\n",
       "      <td>Relevant\\nCan't Decide</td>\n",
       "      <td>NaN</td>\n",
       "      <td>NaN</td>\n",
       "      <td>Apocalypse lighting. #Spokane #wildfires</td>\n",
       "      <td>21.0</td>\n",
       "      <td>NaN</td>\n",
       "    </tr>\n",
       "    <tr>\n",
       "      <th>13</th>\n",
       "      <td>778243838</td>\n",
       "      <td>True</td>\n",
       "      <td>golden</td>\n",
       "      <td>140</td>\n",
       "      <td>NaN</td>\n",
       "      <td>Relevant</td>\n",
       "      <td>0.9607</td>\n",
       "      <td>Relevant\\nCan't Decide</td>\n",
       "      <td>NaN</td>\n",
       "      <td>NaN</td>\n",
       "      <td>I'm on top of the hill and I can see a fire in...</td>\n",
       "      <td>7.0</td>\n",
       "      <td>NaN</td>\n",
       "    </tr>\n",
       "    <tr>\n",
       "      <th>15</th>\n",
       "      <td>778243840</td>\n",
       "      <td>True</td>\n",
       "      <td>golden</td>\n",
       "      <td>147</td>\n",
       "      <td>NaN</td>\n",
       "      <td>Relevant</td>\n",
       "      <td>0.7177</td>\n",
       "      <td>Relevant\\nCan't Decide</td>\n",
       "      <td>NaN</td>\n",
       "      <td>NaN</td>\n",
       "      <td>I'm afraid that the tornado is coming to our a...</td>\n",
       "      <td>9.0</td>\n",
       "      <td>NaN</td>\n",
       "    </tr>\n",
       "    <tr>\n",
       "      <th>19</th>\n",
       "      <td>778243844</td>\n",
       "      <td>True</td>\n",
       "      <td>golden</td>\n",
       "      <td>147</td>\n",
       "      <td>NaN</td>\n",
       "      <td>Relevant</td>\n",
       "      <td>0.6761</td>\n",
       "      <td>Relevant\\nCan't Decide</td>\n",
       "      <td>NaN</td>\n",
       "      <td>NaN</td>\n",
       "      <td>#Flood in Bago Myanmar #We arrived Bago</td>\n",
       "      <td>24.0</td>\n",
       "      <td>NaN</td>\n",
       "    </tr>\n",
       "    <tr>\n",
       "      <th>42</th>\n",
       "      <td>778243871</td>\n",
       "      <td>True</td>\n",
       "      <td>golden</td>\n",
       "      <td>147</td>\n",
       "      <td>NaN</td>\n",
       "      <td>Not Relevant</td>\n",
       "      <td>1.0000</td>\n",
       "      <td>Not Relevant\\nCan't Decide</td>\n",
       "      <td>NaN</td>\n",
       "      <td>NaN</td>\n",
       "      <td>No don't tell me that!</td>\n",
       "      <td>47.0</td>\n",
       "      <td>NaN</td>\n",
       "    </tr>\n",
       "    <tr>\n",
       "      <th>44</th>\n",
       "      <td>778243874</td>\n",
       "      <td>True</td>\n",
       "      <td>golden</td>\n",
       "      <td>134</td>\n",
       "      <td>NaN</td>\n",
       "      <td>Not Relevant</td>\n",
       "      <td>0.5945</td>\n",
       "      <td>Not Relevant\\nCan't Decide</td>\n",
       "      <td>NaN</td>\n",
       "      <td>NaN</td>\n",
       "      <td>The end!</td>\n",
       "      <td>49.0</td>\n",
       "      <td>NaN</td>\n",
       "    </tr>\n",
       "    <tr>\n",
       "      <th>10841</th>\n",
       "      <td>778261075</td>\n",
       "      <td>True</td>\n",
       "      <td>golden</td>\n",
       "      <td>11</td>\n",
       "      <td>8/27/15 16:33</td>\n",
       "      <td>Not Relevant</td>\n",
       "      <td>0.6324</td>\n",
       "      <td>Relevant</td>\n",
       "      <td>NaN</td>\n",
       "      <td>NaN</td>\n",
       "      <td>Sirens everywhere!</td>\n",
       "      <td>235.0</td>\n",
       "      <td>NaN</td>\n",
       "    </tr>\n",
       "    <tr>\n",
       "      <th>10848</th>\n",
       "      <td>778261082</td>\n",
       "      <td>True</td>\n",
       "      <td>golden</td>\n",
       "      <td>14</td>\n",
       "      <td>8/27/15 16:20</td>\n",
       "      <td>Not Relevant</td>\n",
       "      <td>0.5696</td>\n",
       "      <td>Relevant</td>\n",
       "      <td>NaN</td>\n",
       "      <td>NaN</td>\n",
       "      <td>I just heard a really loud bang and everyone i...</td>\n",
       "      <td>7807.0</td>\n",
       "      <td>NaN</td>\n",
       "    </tr>\n",
       "    <tr>\n",
       "      <th>10861</th>\n",
       "      <td>778261095</td>\n",
       "      <td>True</td>\n",
       "      <td>golden</td>\n",
       "      <td>3</td>\n",
       "      <td>8/27/15 13:52</td>\n",
       "      <td>Not Relevant</td>\n",
       "      <td>0.6678</td>\n",
       "      <td>Relevant</td>\n",
       "      <td>NaN</td>\n",
       "      <td>NaN</td>\n",
       "      <td>EARTHQUAKE SAFETY LOS ANGELES ÛÒ SAFETY FASTE...</td>\n",
       "      <td>242635.0</td>\n",
       "      <td>NaN</td>\n",
       "    </tr>\n",
       "  </tbody>\n",
       "</table>\n",
       "</div>"
      ],
      "text/plain": [
       "        _unit_id  _golden _unit_state  _trusted_judgments _last_judgment_at  \\\n",
       "9      778243834     True      golden                 136               NaN   \n",
       "13     778243838     True      golden                 140               NaN   \n",
       "15     778243840     True      golden                 147               NaN   \n",
       "19     778243844     True      golden                 147               NaN   \n",
       "42     778243871     True      golden                 147               NaN   \n",
       "44     778243874     True      golden                 134               NaN   \n",
       "10841  778261075     True      golden                  11     8/27/15 16:33   \n",
       "10848  778261082     True      golden                  14     8/27/15 16:20   \n",
       "10861  778261095     True      golden                   3     8/27/15 13:52   \n",
       "\n",
       "         choose_one  choose_one:confidence             choose_one_gold  \\\n",
       "9          Relevant                 0.9606      Relevant\\nCan't Decide   \n",
       "13         Relevant                 0.9607      Relevant\\nCan't Decide   \n",
       "15         Relevant                 0.7177      Relevant\\nCan't Decide   \n",
       "19         Relevant                 0.6761      Relevant\\nCan't Decide   \n",
       "42     Not Relevant                 1.0000  Not Relevant\\nCan't Decide   \n",
       "44     Not Relevant                 0.5945  Not Relevant\\nCan't Decide   \n",
       "10841  Not Relevant                 0.6324                    Relevant   \n",
       "10848  Not Relevant                 0.5696                    Relevant   \n",
       "10861  Not Relevant                 0.6678                    Relevant   \n",
       "\n",
       "      keyword location                                               text  \\\n",
       "9         NaN      NaN           Apocalypse lighting. #Spokane #wildfires   \n",
       "13        NaN      NaN  I'm on top of the hill and I can see a fire in...   \n",
       "15        NaN      NaN  I'm afraid that the tornado is coming to our a...   \n",
       "19        NaN      NaN            #Flood in Bago Myanmar #We arrived Bago   \n",
       "42        NaN      NaN                             No don't tell me that!   \n",
       "44        NaN      NaN                                           The end!   \n",
       "10841     NaN      NaN                                 Sirens everywhere!   \n",
       "10848     NaN      NaN  I just heard a really loud bang and everyone i...   \n",
       "10861     NaN      NaN  EARTHQUAKE SAFETY LOS ANGELES ÛÒ SAFETY FASTE...   \n",
       "\n",
       "        tweetid  userid  \n",
       "9          21.0     NaN  \n",
       "13          7.0     NaN  \n",
       "15          9.0     NaN  \n",
       "19         24.0     NaN  \n",
       "42         47.0     NaN  \n",
       "44         49.0     NaN  \n",
       "10841     235.0     NaN  \n",
       "10848    7807.0     NaN  \n",
       "10861  242635.0     NaN  "
      ]
     },
     "execution_count": 25,
     "metadata": {},
     "output_type": "execute_result"
    }
   ],
   "source": [
    "# Where did they disagree?\n",
    "sm.loc[sm['_golden']][(sm.loc[sm['_golden'], 'choose_one'] != sm.loc[sm['_golden'], 'choose_one_gold'])]\n",
    "# Mostly the can't deicde's. "
   ]
  },
  {
   "cell_type": "markdown",
   "metadata": {},
   "source": [
    "#### Keyword and Location"
   ]
  },
  {
   "cell_type": "code",
   "execution_count": 26,
   "metadata": {},
   "outputs": [
    {
     "data": {
      "text/plain": [
       "military                50\n",
       "electrocuted            50\n",
       "structural%20failure    50\n",
       "damage                  50\n",
       "desolation              50\n",
       "Name: keyword, dtype: int64"
      ]
     },
     "execution_count": 26,
     "metadata": {},
     "output_type": "execute_result"
    }
   ],
   "source": [
    "sm['keyword'].value_counts().head()\n",
    "# probably the key word used to find each tweet \n",
    "# For OWL - shouldn't have to worry about keywords being used jokingly\n",
    "# Can use these in text generation? "
   ]
  },
  {
   "cell_type": "code",
   "execution_count": 27,
   "metadata": {},
   "outputs": [],
   "source": [
    "keywords = [s.replace('%20', ' ') for s in sm['keyword'].unique().tolist()[1:]] # remove nan"
   ]
  },
  {
   "cell_type": "code",
   "execution_count": 28,
   "metadata": {},
   "outputs": [
    {
     "data": {
      "text/plain": [
       "array(['dead', 'explode', 'fire', 'bioterrorism', 'fatality', 'oil spill',\n",
       "       'curfew', 'oil spill', 'fatalities', 'sirens'], dtype='<U19')"
      ]
     },
     "execution_count": 28,
     "metadata": {},
     "output_type": "execute_result"
    }
   ],
   "source": [
    "np.random.choice(keywords, 10)"
   ]
  },
  {
   "cell_type": "code",
   "execution_count": 29,
   "metadata": {},
   "outputs": [
    {
     "data": {
      "text/plain": [
       "NaN              3638\n",
       "USA               141\n",
       "New York          109\n",
       "United States      65\n",
       "London             58\n",
       "Name: location, dtype: int64"
      ]
     },
     "execution_count": 29,
     "metadata": {},
     "output_type": "execute_result"
    }
   ],
   "source": [
    "sm['location'].value_counts(dropna=False).head()"
   ]
  },
  {
   "cell_type": "code",
   "execution_count": 30,
   "metadata": {},
   "outputs": [
    {
     "name": "stdout",
     "output_type": "stream",
     "text": [
      "228    See how a judge ruled in this 2009 accident at #JFK Airport? involving Korean Air?.\\n\\nhttp://t.co/Yh1cGlN3rl http://t.co/6F5ShPKjOB       \n",
      "507    SHARK ARMY Black Date Stainless Steel Quartz Men Sport Watch - Full read by eBay http://t.co/k6OzC4wFQd http://t.co/H2ZC4nTdZN             \n",
      "517    INFANTRY Mens Lume Dial Army Analog Quartz Wrist Watch Sport Blue Nylon Fabric  - Full reaÛ_ http://t.co/hEP9k0XgHb http://t.co/80EBvglmrA\n",
      "528    WWI WWII JAPANESE ARMY NAVY MILITARY JAPAN LEATHER WATCH WAR MIDO WW1 2 - Full read by eBay http://t.co/F9j3l2Yjl4 http://t.co/mwwWOWCayO  \n",
      "540    WWI WWII JAPANESE ARMY NAVY MILITARY JAPAN LEATHER WATCH WAR MIDO WW1 2 - Full read by eBay http://t.co/QUmcE7W2tY http://t.co/KTKG2sDhHl  \n",
      "Name: text, dtype: object\n"
     ]
    }
   ],
   "source": [
    "with pd.option_context('max_colwidth', -1):\n",
    "    print(sm[sm['location'] == 'New York']['text'].head())\n",
    "# Not sure how location is determined - tweet geo tag? "
   ]
  },
  {
   "cell_type": "markdown",
   "metadata": {},
   "source": [
    "#### IDs"
   ]
  },
  {
   "cell_type": "code",
   "execution_count": 31,
   "metadata": {},
   "outputs": [
    {
     "data": {
      "text/plain": [
       "6.290840e+17    197\n",
       "6.290830e+17    190\n",
       "6.290990e+17    166\n",
       "6.290800e+17    157\n",
       "6.290820e+17    152\n",
       "Name: tweetid, dtype: int64"
      ]
     },
     "execution_count": 31,
     "metadata": {},
     "output_type": "execute_result"
    }
   ],
   "source": [
    "sm['tweetid'].value_counts(dropna=False).head()"
   ]
  },
  {
   "cell_type": "code",
   "execution_count": 32,
   "metadata": {},
   "outputs": [
    {
     "data": {
      "text/plain": [
       "6.29084e+17"
      ]
     },
     "execution_count": 32,
     "metadata": {},
     "output_type": "execute_result"
    }
   ],
   "source": [
    "sm[sm['tweetid'].astype('str').str.contains('6.29084')]['tweetid'][547]"
   ]
  },
  {
   "cell_type": "code",
   "execution_count": 33,
   "metadata": {},
   "outputs": [
    {
     "data": {
      "text/html": [
       "<div>\n",
       "<style scoped>\n",
       "    .dataframe tbody tr th:only-of-type {\n",
       "        vertical-align: middle;\n",
       "    }\n",
       "\n",
       "    .dataframe tbody tr th {\n",
       "        vertical-align: top;\n",
       "    }\n",
       "\n",
       "    .dataframe thead th {\n",
       "        text-align: right;\n",
       "    }\n",
       "</style>\n",
       "<table border=\"1\" class=\"dataframe\">\n",
       "  <thead>\n",
       "    <tr style=\"text-align: right;\">\n",
       "      <th></th>\n",
       "      <th>_unit_id</th>\n",
       "      <th>_golden</th>\n",
       "      <th>_unit_state</th>\n",
       "      <th>_trusted_judgments</th>\n",
       "      <th>_last_judgment_at</th>\n",
       "      <th>choose_one</th>\n",
       "      <th>choose_one:confidence</th>\n",
       "      <th>choose_one_gold</th>\n",
       "      <th>keyword</th>\n",
       "      <th>location</th>\n",
       "      <th>text</th>\n",
       "      <th>tweetid</th>\n",
       "      <th>userid</th>\n",
       "    </tr>\n",
       "  </thead>\n",
       "  <tbody>\n",
       "    <tr>\n",
       "      <th>547</th>\n",
       "      <td>778245363</td>\n",
       "      <td>False</td>\n",
       "      <td>finalized</td>\n",
       "      <td>5</td>\n",
       "      <td>8/28/15 7:33</td>\n",
       "      <td>Relevant</td>\n",
       "      <td>1.0000</td>\n",
       "      <td>NaN</td>\n",
       "      <td>arson</td>\n",
       "      <td>NaN</td>\n",
       "      <td>Cheesehead Report - Arson charges filed in Jac...</td>\n",
       "      <td>6.290840e+17</td>\n",
       "      <td>3.115227e+09</td>\n",
       "    </tr>\n",
       "    <tr>\n",
       "      <th>966</th>\n",
       "      <td>778245782</td>\n",
       "      <td>False</td>\n",
       "      <td>finalized</td>\n",
       "      <td>5</td>\n",
       "      <td>9/1/15 17:59</td>\n",
       "      <td>Not Relevant</td>\n",
       "      <td>1.0000</td>\n",
       "      <td>NaN</td>\n",
       "      <td>blaze</td>\n",
       "      <td>NaN</td>\n",
       "      <td>Craving slurpees ;-;</td>\n",
       "      <td>6.290840e+17</td>\n",
       "      <td>2.423798e+09</td>\n",
       "    </tr>\n",
       "    <tr>\n",
       "      <th>970</th>\n",
       "      <td>778245786</td>\n",
       "      <td>False</td>\n",
       "      <td>finalized</td>\n",
       "      <td>5</td>\n",
       "      <td>9/2/15 7:32</td>\n",
       "      <td>Relevant</td>\n",
       "      <td>0.8047</td>\n",
       "      <td>NaN</td>\n",
       "      <td>blaze</td>\n",
       "      <td>Lithgow, NSW, Australia</td>\n",
       "      <td>Lithgow News: Homeless after blaze near Portla...</td>\n",
       "      <td>6.290840e+17</td>\n",
       "      <td>2.763639e+08</td>\n",
       "    </tr>\n",
       "    <tr>\n",
       "      <th>994</th>\n",
       "      <td>778245810</td>\n",
       "      <td>False</td>\n",
       "      <td>finalized</td>\n",
       "      <td>5</td>\n",
       "      <td>8/31/15 0:13</td>\n",
       "      <td>Not Relevant</td>\n",
       "      <td>0.8006</td>\n",
       "      <td>NaN</td>\n",
       "      <td>blazing</td>\n",
       "      <td>State of Georgia</td>\n",
       "      <td>@Blazing_Ben @PattyDs50 @gwfrazee @JoshuaAssar...</td>\n",
       "      <td>6.290840e+17</td>\n",
       "      <td>3.031839e+09</td>\n",
       "    </tr>\n",
       "    <tr>\n",
       "      <th>1036</th>\n",
       "      <td>778245852</td>\n",
       "      <td>False</td>\n",
       "      <td>finalized</td>\n",
       "      <td>5</td>\n",
       "      <td>8/27/15 17:05</td>\n",
       "      <td>Not Relevant</td>\n",
       "      <td>1.0000</td>\n",
       "      <td>NaN</td>\n",
       "      <td>bleeding</td>\n",
       "      <td>NaN</td>\n",
       "      <td>now my nose is bleeding. the last one was like...</td>\n",
       "      <td>6.290840e+17</td>\n",
       "      <td>3.561959e+08</td>\n",
       "    </tr>\n",
       "  </tbody>\n",
       "</table>\n",
       "</div>"
      ],
      "text/plain": [
       "       _unit_id  _golden _unit_state  _trusted_judgments _last_judgment_at  \\\n",
       "547   778245363    False   finalized                   5      8/28/15 7:33   \n",
       "966   778245782    False   finalized                   5      9/1/15 17:59   \n",
       "970   778245786    False   finalized                   5       9/2/15 7:32   \n",
       "994   778245810    False   finalized                   5      8/31/15 0:13   \n",
       "1036  778245852    False   finalized                   5     8/27/15 17:05   \n",
       "\n",
       "        choose_one  choose_one:confidence choose_one_gold   keyword  \\\n",
       "547       Relevant                 1.0000             NaN     arson   \n",
       "966   Not Relevant                 1.0000             NaN     blaze   \n",
       "970       Relevant                 0.8047             NaN     blaze   \n",
       "994   Not Relevant                 0.8006             NaN   blazing   \n",
       "1036  Not Relevant                 1.0000             NaN  bleeding   \n",
       "\n",
       "                     location  \\\n",
       "547                       NaN   \n",
       "966                       NaN   \n",
       "970   Lithgow, NSW, Australia   \n",
       "994          State of Georgia   \n",
       "1036                      NaN   \n",
       "\n",
       "                                                   text       tweetid  \\\n",
       "547   Cheesehead Report - Arson charges filed in Jac...  6.290840e+17   \n",
       "966                                Craving slurpees ;-;  6.290840e+17   \n",
       "970   Lithgow News: Homeless after blaze near Portla...  6.290840e+17   \n",
       "994   @Blazing_Ben @PattyDs50 @gwfrazee @JoshuaAssar...  6.290840e+17   \n",
       "1036  now my nose is bleeding. the last one was like...  6.290840e+17   \n",
       "\n",
       "            userid  \n",
       "547   3.115227e+09  \n",
       "966   2.423798e+09  \n",
       "970   2.763639e+08  \n",
       "994   3.031839e+09  \n",
       "1036  3.561959e+08  "
      ]
     },
     "execution_count": 33,
     "metadata": {},
     "output_type": "execute_result"
    }
   ],
   "source": [
    "sm[sm['tweetid'] == 6.29084e+17].head()\n",
    "# Tweetid "
   ]
  },
  {
   "cell_type": "code",
   "execution_count": 34,
   "metadata": {},
   "outputs": [
    {
     "data": {
      "text/plain": [
       "NaN              87\n",
       " 1.370295e+09    26\n",
       " 1.651824e+09    14\n",
       " 1.732410e+09    14\n",
       " 2.915192e+09    11\n",
       "Name: userid, dtype: int64"
      ]
     },
     "execution_count": 34,
     "metadata": {},
     "output_type": "execute_result"
    }
   ],
   "source": [
    "sm['userid'].value_counts(dropna=False).head()"
   ]
  },
  {
   "cell_type": "code",
   "execution_count": 35,
   "metadata": {},
   "outputs": [
    {
     "data": {
      "text/plain": [
       "1370295024.0"
      ]
     },
     "execution_count": 35,
     "metadata": {},
     "output_type": "execute_result"
    }
   ],
   "source": [
    "sm[sm['userid'].astype('str').str.contains('1370295')]['userid'][6799]"
   ]
  },
  {
   "cell_type": "code",
   "execution_count": 36,
   "metadata": {},
   "outputs": [
    {
     "data": {
      "text/html": [
       "<div>\n",
       "<style scoped>\n",
       "    .dataframe tbody tr th:only-of-type {\n",
       "        vertical-align: middle;\n",
       "    }\n",
       "\n",
       "    .dataframe tbody tr th {\n",
       "        vertical-align: top;\n",
       "    }\n",
       "\n",
       "    .dataframe thead th {\n",
       "        text-align: right;\n",
       "    }\n",
       "</style>\n",
       "<table border=\"1\" class=\"dataframe\">\n",
       "  <thead>\n",
       "    <tr style=\"text-align: right;\">\n",
       "      <th></th>\n",
       "      <th>_unit_id</th>\n",
       "      <th>_golden</th>\n",
       "      <th>_unit_state</th>\n",
       "      <th>_trusted_judgments</th>\n",
       "      <th>_last_judgment_at</th>\n",
       "      <th>choose_one</th>\n",
       "      <th>choose_one:confidence</th>\n",
       "      <th>choose_one_gold</th>\n",
       "      <th>keyword</th>\n",
       "      <th>location</th>\n",
       "      <th>text</th>\n",
       "      <th>tweetid</th>\n",
       "      <th>userid</th>\n",
       "    </tr>\n",
       "  </thead>\n",
       "  <tbody>\n",
       "    <tr>\n",
       "      <th>6799</th>\n",
       "      <td>778251616</td>\n",
       "      <td>False</td>\n",
       "      <td>finalized</td>\n",
       "      <td>5</td>\n",
       "      <td>8/30/15 5:51</td>\n",
       "      <td>Not Relevant</td>\n",
       "      <td>0.5941</td>\n",
       "      <td>NaN</td>\n",
       "      <td>loud%20bang</td>\n",
       "      <td>Kenya</td>\n",
       "      <td>kabwandi_: Breaking news! Unconfirmed! I just ...</td>\n",
       "      <td>6.288590e+17</td>\n",
       "      <td>1.370295e+09</td>\n",
       "    </tr>\n",
       "    <tr>\n",
       "      <th>6800</th>\n",
       "      <td>778251617</td>\n",
       "      <td>False</td>\n",
       "      <td>finalized</td>\n",
       "      <td>5</td>\n",
       "      <td>8/27/15 16:35</td>\n",
       "      <td>Not Relevant</td>\n",
       "      <td>1.0000</td>\n",
       "      <td>NaN</td>\n",
       "      <td>loud%20bang</td>\n",
       "      <td>Kenya</td>\n",
       "      <td>tkyonly1fmk: Breaking news! Unconfirmed! I jus...</td>\n",
       "      <td>6.285760e+17</td>\n",
       "      <td>1.370295e+09</td>\n",
       "    </tr>\n",
       "    <tr>\n",
       "      <th>6804</th>\n",
       "      <td>778251621</td>\n",
       "      <td>False</td>\n",
       "      <td>finalized</td>\n",
       "      <td>5</td>\n",
       "      <td>8/27/15 18:25</td>\n",
       "      <td>Not Relevant</td>\n",
       "      <td>0.5957</td>\n",
       "      <td>NaN</td>\n",
       "      <td>loud%20bang</td>\n",
       "      <td>Kenya</td>\n",
       "      <td>Ercjmnea: Breaking news! Unconfirmed! I just h...</td>\n",
       "      <td>6.289120e+17</td>\n",
       "      <td>1.370295e+09</td>\n",
       "    </tr>\n",
       "    <tr>\n",
       "      <th>6805</th>\n",
       "      <td>778251622</td>\n",
       "      <td>False</td>\n",
       "      <td>finalized</td>\n",
       "      <td>5</td>\n",
       "      <td>8/30/15 11:13</td>\n",
       "      <td>Not Relevant</td>\n",
       "      <td>0.7982</td>\n",
       "      <td>NaN</td>\n",
       "      <td>loud%20bang</td>\n",
       "      <td>Kenya</td>\n",
       "      <td>iBliz140: Breaking news! Unconfirmed! I just h...</td>\n",
       "      <td>6.290330e+17</td>\n",
       "      <td>1.370295e+09</td>\n",
       "    </tr>\n",
       "    <tr>\n",
       "      <th>6807</th>\n",
       "      <td>778251624</td>\n",
       "      <td>False</td>\n",
       "      <td>finalized</td>\n",
       "      <td>5</td>\n",
       "      <td>8/30/15 4:36</td>\n",
       "      <td>Not Relevant</td>\n",
       "      <td>0.5965</td>\n",
       "      <td>NaN</td>\n",
       "      <td>loud%20bang</td>\n",
       "      <td>Kenya</td>\n",
       "      <td>kotolily_: Breaking news! Unconfirmed! I just ...</td>\n",
       "      <td>6.288740e+17</td>\n",
       "      <td>1.370295e+09</td>\n",
       "    </tr>\n",
       "  </tbody>\n",
       "</table>\n",
       "</div>"
      ],
      "text/plain": [
       "       _unit_id  _golden _unit_state  _trusted_judgments _last_judgment_at  \\\n",
       "6799  778251616    False   finalized                   5      8/30/15 5:51   \n",
       "6800  778251617    False   finalized                   5     8/27/15 16:35   \n",
       "6804  778251621    False   finalized                   5     8/27/15 18:25   \n",
       "6805  778251622    False   finalized                   5     8/30/15 11:13   \n",
       "6807  778251624    False   finalized                   5      8/30/15 4:36   \n",
       "\n",
       "        choose_one  choose_one:confidence choose_one_gold      keyword  \\\n",
       "6799  Not Relevant                 0.5941             NaN  loud%20bang   \n",
       "6800  Not Relevant                 1.0000             NaN  loud%20bang   \n",
       "6804  Not Relevant                 0.5957             NaN  loud%20bang   \n",
       "6805  Not Relevant                 0.7982             NaN  loud%20bang   \n",
       "6807  Not Relevant                 0.5965             NaN  loud%20bang   \n",
       "\n",
       "     location                                               text  \\\n",
       "6799    Kenya  kabwandi_: Breaking news! Unconfirmed! I just ...   \n",
       "6800    Kenya  tkyonly1fmk: Breaking news! Unconfirmed! I jus...   \n",
       "6804    Kenya  Ercjmnea: Breaking news! Unconfirmed! I just h...   \n",
       "6805    Kenya  iBliz140: Breaking news! Unconfirmed! I just h...   \n",
       "6807    Kenya  kotolily_: Breaking news! Unconfirmed! I just ...   \n",
       "\n",
       "           tweetid        userid  \n",
       "6799  6.288590e+17  1.370295e+09  \n",
       "6800  6.285760e+17  1.370295e+09  \n",
       "6804  6.289120e+17  1.370295e+09  \n",
       "6805  6.290330e+17  1.370295e+09  \n",
       "6807  6.288740e+17  1.370295e+09  "
      ]
     },
     "execution_count": 36,
     "metadata": {},
     "output_type": "execute_result"
    }
   ],
   "source": [
    "sm[sm['userid'] == 1370295024].head()\n",
    "# all from same user and same message"
   ]
  },
  {
   "cell_type": "markdown",
   "metadata": {},
   "source": [
    "# Text Processing"
   ]
  },
  {
   "cell_type": "code",
   "execution_count": 37,
   "metadata": {},
   "outputs": [],
   "source": [
    "nlp = spacy.load('en_core_web_sm')"
   ]
  },
  {
   "cell_type": "code",
   "execution_count": 38,
   "metadata": {},
   "outputs": [
    {
     "name": "stdout",
     "output_type": "stream",
     "text": [
      "CPU times: user 1min 13s, sys: 4.59 s, total: 1min 17s\n",
      "Wall time: 51.2 s\n"
     ]
    }
   ],
   "source": [
    "%time spacy_docs = pd.Series(nlp.pipe(sm['text']))\n"
   ]
  },
  {
   "cell_type": "code",
   "execution_count": 39,
   "metadata": {},
   "outputs": [
    {
     "data": {
      "text/plain": [
       "0            (Just, happened, a, terrible, car, crash)\n",
       "1    (Our, Deeds, are, the, Reason, of, this, #, ea...\n",
       "2    (Heard, about, #, earthquake, is, different, c...\n",
       "3    (there, is, a, forest, fire, at, spot, pond, ,...\n",
       "4     (Forest, fire, near, La, Ronge, Sask, ., Canada)\n",
       "dtype: object"
      ]
     },
     "execution_count": 39,
     "metadata": {},
     "output_type": "execute_result"
    }
   ],
   "source": [
    "spacy_docs.head()"
   ]
  },
  {
   "cell_type": "code",
   "execution_count": 40,
   "metadata": {},
   "outputs": [],
   "source": [
    "# testing some spacy token attributes\n",
    "# for token in spacy_docs[46]:\n",
    "#     print(token.has_vector, token.is_quote, token.is_digit, token.like_url, token.like_email)"
   ]
  },
  {
   "cell_type": "markdown",
   "metadata": {},
   "source": [
    "#### Things to Remove\n",
    "\\#  \n",
    "token.like_url  \n",
    "@...\n"
   ]
  },
  {
   "cell_type": "code",
   "execution_count": 41,
   "metadata": {},
   "outputs": [
    {
     "data": {
      "text/plain": [
       "0        (Just, happened, a, terrible, car, crash)                                                                                                                                    \n",
       "1        (Our, Deeds, are, the, Reason, of, this, #, earthquake, May, ALLAH, Forgive, us, all)                                                                                        \n",
       "2        (Heard, about, #, earthquake, is, different, cities, ,, stay, safe, everyone, .)                                                                                             \n",
       "3        (there, is, a, forest, fire, at, spot, pond, ,, geese, are, fleeing, across, the, street, ,, I, can, not, save, them, all)                                                   \n",
       "4        (Forest, fire, near, La, Ronge, Sask, ., Canada)                                                                                                                             \n",
       "10871    (M1.94, [, 01:04, UTC]?5, km, S, of, Volcano, Hawaii, ., http://t.co/zDtoyd8EbJ)                                                                                             \n",
       "10872    (Police, investigating, after, an, e, -, bike, collided, with, a, car, in, Little, Portugal, ., E, -, bike, rider, suffered, serious, non, -, life, threatening, injuries, .)\n",
       "10873    (The, Latest, :, More, Homes, Razed, by, Northern, California, Wildfire, -, ABC, News, http://t.co/YmY4rSkQ3d)                                                               \n",
       "10874    (MEG, issues, Hazardous, Weather, Outlook, (, HWO, ), http://t.co/3X6RBQJHn3)                                                                                                \n",
       "10875    (#, CityofCalgary, has, activated, its, Municipal, Emergency, Plan, ., #, yycstorm)                                                                                          \n",
       "dtype: object"
      ]
     },
     "execution_count": 41,
     "metadata": {},
     "output_type": "execute_result"
    }
   ],
   "source": [
    "# Samples \n",
    "pd.set_option('max_colwidth', -1)\n",
    "pd.concat([spacy_docs[sm['choose_one'] == 'Relevant'].head(), spacy_docs[sm['choose_one'] == 'Relevant'].tail()], axis=0)"
   ]
  },
  {
   "cell_type": "code",
   "execution_count": 42,
   "metadata": {},
   "outputs": [
    {
     "data": {
      "text/plain": [
       "10850    (NWS, :, Flash, Flood, Warning, Continued, for, Shelby, County, until, 08:00, PM, Wednesday, ., http://t.co/nZ7ACKRrJi, #, tnwx)        \n",
       "40       (Cooool, :))                                                                                                                            \n",
       "10853    (Father, -, of, -, three, Lost, Control, of, Car, After, Overtaking, and, Collided, #, BathAndNorthEastSomerset, http://t.co/fa3FcnlN86)\n",
       "10841    (Sirens, everywhere, !)                                                                                                                 \n",
       "19       (#, Flood, in, Bago, Myanmar, #, We, arrived, Bago)                                                                                     \n",
       "dtype: object"
      ]
     },
     "execution_count": 42,
     "metadata": {},
     "output_type": "execute_result"
    }
   ],
   "source": [
    "# Golden standard tokens\n",
    "spacy_docs[sm['_golden']].sample(5)"
   ]
  },
  {
   "cell_type": "code",
   "execution_count": 43,
   "metadata": {},
   "outputs": [
    {
     "data": {
      "text/plain": [
       "'Rocky Fire Update California Hwy 20 closed in both directions due to Lake County fire CA fire wildfires'"
      ]
     },
     "execution_count": 43,
     "metadata": {},
     "output_type": "execute_result"
    }
   ],
   "source": [
    "\" \".join(wordninja.split(sm.loc[8, 'text']))"
   ]
  },
  {
   "cell_type": "markdown",
   "metadata": {},
   "source": [
    "### What might be an OWL message look like?"
   ]
  },
  {
   "cell_type": "code",
   "execution_count": 44,
   "metadata": {},
   "outputs": [],
   "source": [
    "owl_msg = 'Have a family of four stuck on the roof. Access by boat only. 12 year old child inmedical distress, missing insulin.'"
   ]
  },
  {
   "cell_type": "code",
   "execution_count": 45,
   "metadata": {},
   "outputs": [
    {
     "name": "stdout",
     "output_type": "stream",
     "text": [
      "CPU times: user 1.04 ms, sys: 0 ns, total: 1.04 ms\n",
      "Wall time: 1.05 ms\n"
     ]
    },
    {
     "data": {
      "text/plain": [
       "'Have a family of four stuck on the roof Access by boat only 12 year old child in medical distress missing insulin'"
      ]
     },
     "execution_count": 45,
     "metadata": {},
     "output_type": "execute_result"
    }
   ],
   "source": [
    "%time \" \".join(wordninja.split(owl_msg))"
   ]
  },
  {
   "cell_type": "markdown",
   "metadata": {},
   "source": [
    "### To do: Create Terminology Lists\n",
    "1. Medicine list \n",
    "2. house features?\n",
    "3. Child"
   ]
  },
  {
   "cell_type": "code",
   "execution_count": 46,
   "metadata": {},
   "outputs": [],
   "source": [
    "owl_doc = nlp(\" \".join(wordninja.split(owl_msg)))"
   ]
  },
  {
   "cell_type": "code",
   "execution_count": 47,
   "metadata": {},
   "outputs": [
    {
     "data": {
      "text/plain": [
       "(four, Access, 12 year old)"
      ]
     },
     "execution_count": 47,
     "metadata": {},
     "output_type": "execute_result"
    }
   ],
   "source": [
    "owl_doc.ents"
   ]
  },
  {
   "cell_type": "code",
   "execution_count": 48,
   "metadata": {},
   "outputs": [
    {
     "name": "stdout",
     "output_type": "stream",
     "text": [
      "four CARDINAL\n",
      "Access PRODUCT\n",
      "12 year old DATE\n"
     ]
    }
   ],
   "source": [
    "for ent in owl_doc.ents:\n",
    "    print(ent, ent.label_)\n",
    "# default ent recognition not too helpful"
   ]
  },
  {
   "cell_type": "code",
   "execution_count": 49,
   "metadata": {},
   "outputs": [],
   "source": [
    "# displacy.serve(owl_doc, style='dep')"
   ]
  },
  {
   "cell_type": "markdown",
   "metadata": {},
   "source": [
    "### Most common words"
   ]
  },
  {
   "cell_type": "code",
   "execution_count": 50,
   "metadata": {},
   "outputs": [],
   "source": [
    "def dummy(doc):\n",
    "    \"already preprocessed input\"\n",
    "    return doc\n",
    "\n",
    "def to_list(doc):\n",
    "    \"return as list of tokens\"\n",
    "    return [token.text for token in doc]\n"
   ]
  },
  {
   "cell_type": "code",
   "execution_count": 51,
   "metadata": {},
   "outputs": [
    {
     "data": {
      "text/plain": [
       "TfidfVectorizer(analyzer='word', binary=False, decode_error='strict',\n",
       "                dtype=<class 'numpy.float64'>, encoding='utf-8',\n",
       "                input='content', lowercase=True, max_df=0.9, max_features=None,\n",
       "                min_df=2, ngram_range=(1, 1), norm='l2',\n",
       "                preprocessor=<function dummy at 0x7f12bfbbe7b8>,\n",
       "                smooth_idf=True,\n",
       "                stop_words={'!', '\"', '#', '$', '%', '&', \"'\", \"'d\", \"'ll\",\n",
       "                            \"'m\", \"'re\", \"'s\", \"'ve\", '(', ')', '*', '+', ',',\n",
       "                            '-', '.', '/', ':', ';', '<', '=', '>', '?', '@',\n",
       "                            '[', '\\\\', ...},\n",
       "                strip_accents=None, sublinear_tf=False,\n",
       "                token_pattern='(?u)\\\\b\\\\w\\\\w+\\\\b',\n",
       "                tokenizer=<function to_list at 0x7f12bfbbe9d8>, use_idf=True,\n",
       "                vocabulary=None)"
      ]
     },
     "execution_count": 51,
     "metadata": {},
     "output_type": "execute_result"
    }
   ],
   "source": [
    "tv = TfidfVectorizer(\n",
    "    stop_words=STOP_WORDS.union(set(string.punctuation)),\n",
    "    tokenizer=to_list,\n",
    "    preprocessor=dummy,\n",
    "    max_df=0.90, \n",
    "    min_df=2\n",
    ")  \n",
    "\n",
    "tv.fit(spacy_docs[sm['choose_one'] == 'Relevant'])"
   ]
  },
  {
   "cell_type": "code",
   "execution_count": 52,
   "metadata": {},
   "outputs": [],
   "source": [
    "tv_bow = tv.transform(spacy_docs[sm['choose_one'] == 'Relevant'])\n"
   ]
  },
  {
   "cell_type": "code",
   "execution_count": 53,
   "metadata": {},
   "outputs": [
    {
     "data": {
      "text/plain": [
       "(4673, 5319)"
      ]
     },
     "execution_count": 53,
     "metadata": {},
     "output_type": "execute_result"
    }
   ],
   "source": [
    "tv_bow.shape"
   ]
  },
  {
   "cell_type": "code",
   "execution_count": 54,
   "metadata": {},
   "outputs": [
    {
     "data": {
      "text/plain": [
       "[('crash', 24.28098628252701),\n",
       " ('disaster', 23.865055903622256),\n",
       " ('bombing', 23.800676177811706),\n",
       " ('buildings', 23.5048945826562),\n",
       " ('Northern', 22.91487124969396),\n",
       " ('\\n\\n', 22.684144623914076),\n",
       " ('This', 22.549577277335334),\n",
       " ('bomb', 22.409516348577476),\n",
       " ('attack', 22.255553650494278),\n",
       " ('storm', 21.622642900667024),\n",
       " ('We', 21.507152589062468),\n",
       " ('..', 21.393980401508365),\n",
       " ('Legionnaires', 20.886619742384138),\n",
       " ('burning', 20.69105828144166),\n",
       " ('bomber', 20.589469737269663),\n",
       " ('police', 20.52925947298368),\n",
       " ('PM', 20.250780387762187),\n",
       " ('train', 20.185028868053905),\n",
       " ('mass', 20.174310069743882),\n",
       " ('RT', 20.1629917250109),\n",
       " ('It', 19.9566713678492),\n",
       " ('Japan', 19.326452520500492),\n",
       " ('Malaysia', 19.26115079810518),\n",
       " ('families', 19.057592017210233),\n",
       " ('Obama', 18.77728370949394),\n",
       " ('fatal', 18.727350222884727),\n",
       " ('Disaster', 18.041585780065994),\n",
       " ('nuclear', 17.744342036766128),\n",
       " ('Fire', 17.714281260814253),\n",
       " ('old', 17.6543435544052)]"
      ]
     },
     "execution_count": 54,
     "metadata": {},
     "output_type": "execute_result"
    }
   ],
   "source": [
    "sum_words_def = tv_bow.sum(axis=0)\n",
    "word_freqs_def = [(word, sum_words_def[0, idx]) for word, idx in tv.vocabulary_.items()] # map token back to its word\n",
    "word_freqs_def = sorted(word_freqs_def, key=lambda x: x[1], reverse=True) # sort by most common\n",
    "top_words_def = word_freqs_def[20:50]\n",
    "top_words_def"
   ]
  },
  {
   "cell_type": "markdown",
   "metadata": {},
   "source": [
    "<a id='paired'></a>\n",
    "# 2. Paired Terms Data"
   ]
  },
  {
   "cell_type": "code",
   "execution_count": 55,
   "metadata": {},
   "outputs": [],
   "source": [
    "pt = pd.read_csv('./data/paired_terms_disaster_relef.csv')"
   ]
  },
  {
   "cell_type": "code",
   "execution_count": 56,
   "metadata": {},
   "outputs": [
    {
     "data": {
      "text/plain": [
       "count    18128.000000\n",
       "mean     3.629188    \n",
       "std      0.763086    \n",
       "min      1.000000    \n",
       "25%      3.330000    \n",
       "50%      4.000000    \n",
       "75%      4.000000    \n",
       "max      5.000000    \n",
       "Name: relevance, dtype: float64"
      ]
     },
     "execution_count": 56,
     "metadata": {},
     "output_type": "execute_result"
    }
   ],
   "source": [
    "pt['relevance'].describe() # a ranking from 1 to 5"
   ]
  },
  {
   "cell_type": "code",
   "execution_count": 57,
   "metadata": {},
   "outputs": [
    {
     "data": {
      "text/plain": [
       "3    16016\n",
       "4    1764 \n",
       "5    249  \n",
       "6    23   \n",
       "7    9    \n",
       "Name: _trusted_judgments, dtype: int64"
      ]
     },
     "execution_count": 57,
     "metadata": {},
     "output_type": "execute_result"
    }
   ],
   "source": [
    "pt['_trusted_judgments'].value_counts().head()"
   ]
  },
  {
   "cell_type": "code",
   "execution_count": 58,
   "metadata": {},
   "outputs": [
    {
     "data": {
      "text/html": [
       "<div>\n",
       "<style scoped>\n",
       "    .dataframe tbody tr th:only-of-type {\n",
       "        vertical-align: middle;\n",
       "    }\n",
       "\n",
       "    .dataframe tbody tr th {\n",
       "        vertical-align: top;\n",
       "    }\n",
       "\n",
       "    .dataframe thead th {\n",
       "        text-align: right;\n",
       "    }\n",
       "</style>\n",
       "<table border=\"1\" class=\"dataframe\">\n",
       "  <thead>\n",
       "    <tr style=\"text-align: right;\">\n",
       "      <th></th>\n",
       "      <th>15040</th>\n",
       "      <th>2055</th>\n",
       "      <th>14634</th>\n",
       "      <th>14338</th>\n",
       "      <th>2587</th>\n",
       "    </tr>\n",
       "  </thead>\n",
       "  <tbody>\n",
       "    <tr>\n",
       "      <th>_unit_id</th>\n",
       "      <td>879654077</td>\n",
       "      <td>867853261</td>\n",
       "      <td>879653071</td>\n",
       "      <td>879652688</td>\n",
       "      <td>867853813</td>\n",
       "    </tr>\n",
       "    <tr>\n",
       "      <th>_golden</th>\n",
       "      <td>False</td>\n",
       "      <td>False</td>\n",
       "      <td>False</td>\n",
       "      <td>False</td>\n",
       "      <td>False</td>\n",
       "    </tr>\n",
       "    <tr>\n",
       "      <th>_unit_state</th>\n",
       "      <td>finalized</td>\n",
       "      <td>finalized</td>\n",
       "      <td>finalized</td>\n",
       "      <td>finalized</td>\n",
       "      <td>finalized</td>\n",
       "    </tr>\n",
       "    <tr>\n",
       "      <th>_trusted_judgments</th>\n",
       "      <td>3</td>\n",
       "      <td>3</td>\n",
       "      <td>3</td>\n",
       "      <td>3</td>\n",
       "      <td>4</td>\n",
       "    </tr>\n",
       "    <tr>\n",
       "      <th>_last_judgment_at</th>\n",
       "      <td>2/16/2016 14:04:53</td>\n",
       "      <td>1/29/2016 15:19:39</td>\n",
       "      <td>2/14/2016 18:43:25</td>\n",
       "      <td>2/15/2016 22:30:24</td>\n",
       "      <td>1/29/2016 20:34:11</td>\n",
       "    </tr>\n",
       "    <tr>\n",
       "      <th>is_the_term</th>\n",
       "      <td>a_specific_person_or_place</td>\n",
       "      <td>NaN</td>\n",
       "      <td>misspelled_or_ungrammatical</td>\n",
       "      <td>NaN</td>\n",
       "      <td>a_specific_person_or_place</td>\n",
       "    </tr>\n",
       "    <tr>\n",
       "      <th>is_the_term:confidence</th>\n",
       "      <td>1</td>\n",
       "      <td>NaN</td>\n",
       "      <td>1</td>\n",
       "      <td>NaN</td>\n",
       "      <td>1</td>\n",
       "    </tr>\n",
       "    <tr>\n",
       "      <th>relevance</th>\n",
       "      <td>4</td>\n",
       "      <td>4</td>\n",
       "      <td>4</td>\n",
       "      <td>2.33</td>\n",
       "      <td>4.5</td>\n",
       "    </tr>\n",
       "    <tr>\n",
       "      <th>relevance:variance</th>\n",
       "      <td>0.816</td>\n",
       "      <td>0</td>\n",
       "      <td>0</td>\n",
       "      <td>0.943</td>\n",
       "      <td>0.5</td>\n",
       "    </tr>\n",
       "    <tr>\n",
       "      <th>definition</th>\n",
       "      <td>Any humanitarian crisis or natural disaster situation involving sanitation disruption, including lack of waste removal, sewage problems, etc.</td>\n",
       "      <td>Any humanitarian crisis or natural disaster situation involving shelter availability, including destruction of homes, unsafe shelter conditions, etc.</td>\n",
       "      <td>Any situation involving violent unrest including riots, insurgencies, looting, etc. or any wide-spread criminal activity</td>\n",
       "      <td>Any humanitarian crisis or natural disaster situation involving water supply, including lack of water, contamination of water, etc.</td>\n",
       "      <td>Any humanitarian crisis or natural disaster situation involving food supply, including lack of food/food sources.</td>\n",
       "    </tr>\n",
       "    <tr>\n",
       "      <th>dist</th>\n",
       "      <td>0.669869</td>\n",
       "      <td>0.749912</td>\n",
       "      <td>0.705759</td>\n",
       "      <td>0.413472</td>\n",
       "      <td>0.375173</td>\n",
       "    </tr>\n",
       "    <tr>\n",
       "      <th>example</th>\n",
       "      <td>Meanwhile, the UN agency, UNICEF is providing litter bins for markets in Freetown, while mobile telephone companies are currently working towards constructing more public toilets in Freetown as part of their corporate social responsibilities.</td>\n",
       "      <td>The floodwaters inundated two-thirds of Dhaka, a city of some 10 million people, and three-quarters of Bangladesh.</td>\n",
       "      <td>No example sentence available.</td>\n",
       "      <td>No example sentence available.</td>\n",
       "      <td>\"Delayed assistance will lead to heightened food insecurity, increased public health threats, loss of land tenure agreements due to farmers' inability to pay their debts, population displacement and longer-term dependence on food aid,\" Kevin Gallagher, FAO Representative in Pakistan said.</td>\n",
       "    </tr>\n",
       "    <tr>\n",
       "      <th>freq</th>\n",
       "      <td>1</td>\n",
       "      <td>24</td>\n",
       "      <td>0</td>\n",
       "      <td>0</td>\n",
       "      <td>10</td>\n",
       "    </tr>\n",
       "    <tr>\n",
       "      <th>id</th>\n",
       "      <td>1781</td>\n",
       "      <td>721</td>\n",
       "      <td>1854</td>\n",
       "      <td>1876</td>\n",
       "      <td>807</td>\n",
       "    </tr>\n",
       "    <tr>\n",
       "      <th>is_the_term_gold</th>\n",
       "      <td>NaN</td>\n",
       "      <td>NaN</td>\n",
       "      <td>NaN</td>\n",
       "      <td>NaN</td>\n",
       "      <td>NaN</td>\n",
       "    </tr>\n",
       "    <tr>\n",
       "      <th>len</th>\n",
       "      <td>2</td>\n",
       "      <td>2</td>\n",
       "      <td>3</td>\n",
       "      <td>3</td>\n",
       "      <td>3</td>\n",
       "    </tr>\n",
       "    <tr>\n",
       "      <th>relevance_gold</th>\n",
       "      <td>NaN</td>\n",
       "      <td>NaN</td>\n",
       "      <td>NaN</td>\n",
       "      <td>NaN</td>\n",
       "      <td>NaN</td>\n",
       "    </tr>\n",
       "    <tr>\n",
       "      <th>search</th>\n",
       "      <td>https://www.google.com/search?q=%22LITTER%20BINS%22</td>\n",
       "      <td>https://www.google.com/search?q=%22FLOODWATERS%20INUNDATED%22</td>\n",
       "      <td>https://www.google.com/search?q=%22BACKLASH%20GROWS%20AGAINST%22</td>\n",
       "      <td>https://www.google.com/search?q=%22WATER%20HEATER%20INSTALLATION%22</td>\n",
       "      <td>https://www.google.com/search?q=%22HEIGHTENED%20FOOD%20INSECURITY%22</td>\n",
       "    </tr>\n",
       "    <tr>\n",
       "      <th>seed</th>\n",
       "      <td>0</td>\n",
       "      <td>0</td>\n",
       "      <td>0</td>\n",
       "      <td>0</td>\n",
       "      <td>0</td>\n",
       "    </tr>\n",
       "    <tr>\n",
       "      <th>term</th>\n",
       "      <td>LITTER BINS</td>\n",
       "      <td>FLOODWATERS INUNDATED</td>\n",
       "      <td>BACKLASH GROWS AGAINST</td>\n",
       "      <td>WATER HEATER INSTALLATION</td>\n",
       "      <td>HEIGHTENED FOOD INSECURITY</td>\n",
       "    </tr>\n",
       "    <tr>\n",
       "      <th>topic</th>\n",
       "      <td>Sanitation</td>\n",
       "      <td>Shelter</td>\n",
       "      <td>Violent Civil Unrest</td>\n",
       "      <td>Water</td>\n",
       "      <td>Food</td>\n",
       "    </tr>\n",
       "  </tbody>\n",
       "</table>\n",
       "</div>"
      ],
      "text/plain": [
       "                                                                                                                                                                                                                                                                     15040  \\\n",
       "_unit_id                879654077                                                                                                                                                                                                                                            \n",
       "_golden                 False                                                                                                                                                                                                                                                \n",
       "_unit_state             finalized                                                                                                                                                                                                                                            \n",
       "_trusted_judgments      3                                                                                                                                                                                                                                                    \n",
       "_last_judgment_at       2/16/2016 14:04:53                                                                                                                                                                                                                                   \n",
       "is_the_term             a_specific_person_or_place                                                                                                                                                                                                                           \n",
       "is_the_term:confidence  1                                                                                                                                                                                                                                                    \n",
       "relevance               4                                                                                                                                                                                                                                                    \n",
       "relevance:variance      0.816                                                                                                                                                                                                                                                \n",
       "definition              Any humanitarian crisis or natural disaster situation involving sanitation disruption, including lack of waste removal, sewage problems, etc.                                                                                                        \n",
       "dist                    0.669869                                                                                                                                                                                                                                             \n",
       "example                 Meanwhile, the UN agency, UNICEF is providing litter bins for markets in Freetown, while mobile telephone companies are currently working towards constructing more public toilets in Freetown as part of their corporate social responsibilities.   \n",
       "freq                    1                                                                                                                                                                                                                                                    \n",
       "id                      1781                                                                                                                                                                                                                                                 \n",
       "is_the_term_gold        NaN                                                                                                                                                                                                                                                  \n",
       "len                     2                                                                                                                                                                                                                                                    \n",
       "relevance_gold          NaN                                                                                                                                                                                                                                                  \n",
       "search                  https://www.google.com/search?q=%22LITTER%20BINS%22                                                                                                                                                                                                  \n",
       "seed                    0                                                                                                                                                                                                                                                    \n",
       "term                    LITTER BINS                                                                                                                                                                                                                                          \n",
       "topic                   Sanitation                                                                                                                                                                                                                                           \n",
       "\n",
       "                                                                                                                                                                         2055  \\\n",
       "_unit_id                867853261                                                                                                                                               \n",
       "_golden                 False                                                                                                                                                   \n",
       "_unit_state             finalized                                                                                                                                               \n",
       "_trusted_judgments      3                                                                                                                                                       \n",
       "_last_judgment_at       1/29/2016 15:19:39                                                                                                                                      \n",
       "is_the_term             NaN                                                                                                                                                     \n",
       "is_the_term:confidence  NaN                                                                                                                                                     \n",
       "relevance               4                                                                                                                                                       \n",
       "relevance:variance      0                                                                                                                                                       \n",
       "definition              Any humanitarian crisis or natural disaster situation involving shelter availability, including destruction of homes, unsafe shelter conditions, etc.   \n",
       "dist                    0.749912                                                                                                                                                \n",
       "example                 The floodwaters inundated two-thirds of Dhaka, a city of some 10 million people, and three-quarters of Bangladesh.                                      \n",
       "freq                    24                                                                                                                                                      \n",
       "id                      721                                                                                                                                                     \n",
       "is_the_term_gold        NaN                                                                                                                                                     \n",
       "len                     2                                                                                                                                                       \n",
       "relevance_gold          NaN                                                                                                                                                     \n",
       "search                  https://www.google.com/search?q=%22FLOODWATERS%20INUNDATED%22                                                                                           \n",
       "seed                    0                                                                                                                                                       \n",
       "term                    FLOODWATERS INUNDATED                                                                                                                                   \n",
       "topic                   Shelter                                                                                                                                                 \n",
       "\n",
       "                                                                                                                                           14634  \\\n",
       "_unit_id                879653071                                                                                                                  \n",
       "_golden                 False                                                                                                                      \n",
       "_unit_state             finalized                                                                                                                  \n",
       "_trusted_judgments      3                                                                                                                          \n",
       "_last_judgment_at       2/14/2016 18:43:25                                                                                                         \n",
       "is_the_term             misspelled_or_ungrammatical                                                                                                \n",
       "is_the_term:confidence  1                                                                                                                          \n",
       "relevance               4                                                                                                                          \n",
       "relevance:variance      0                                                                                                                          \n",
       "definition              Any situation involving violent unrest including riots, insurgencies, looting, etc. or any wide-spread criminal activity   \n",
       "dist                    0.705759                                                                                                                   \n",
       "example                 No example sentence available.                                                                                             \n",
       "freq                    0                                                                                                                          \n",
       "id                      1854                                                                                                                       \n",
       "is_the_term_gold        NaN                                                                                                                        \n",
       "len                     3                                                                                                                          \n",
       "relevance_gold          NaN                                                                                                                        \n",
       "search                  https://www.google.com/search?q=%22BACKLASH%20GROWS%20AGAINST%22                                                           \n",
       "seed                    0                                                                                                                          \n",
       "term                    BACKLASH GROWS AGAINST                                                                                                     \n",
       "topic                   Violent Civil Unrest                                                                                                       \n",
       "\n",
       "                                                                                                                                                      14338  \\\n",
       "_unit_id                879652688                                                                                                                             \n",
       "_golden                 False                                                                                                                                 \n",
       "_unit_state             finalized                                                                                                                             \n",
       "_trusted_judgments      3                                                                                                                                     \n",
       "_last_judgment_at       2/15/2016 22:30:24                                                                                                                    \n",
       "is_the_term             NaN                                                                                                                                   \n",
       "is_the_term:confidence  NaN                                                                                                                                   \n",
       "relevance               2.33                                                                                                                                  \n",
       "relevance:variance      0.943                                                                                                                                 \n",
       "definition              Any humanitarian crisis or natural disaster situation involving water supply, including lack of water, contamination of water, etc.   \n",
       "dist                    0.413472                                                                                                                              \n",
       "example                 No example sentence available.                                                                                                        \n",
       "freq                    0                                                                                                                                     \n",
       "id                      1876                                                                                                                                  \n",
       "is_the_term_gold        NaN                                                                                                                                   \n",
       "len                     3                                                                                                                                     \n",
       "relevance_gold          NaN                                                                                                                                   \n",
       "search                  https://www.google.com/search?q=%22WATER%20HEATER%20INSTALLATION%22                                                                   \n",
       "seed                    0                                                                                                                                     \n",
       "term                    WATER HEATER INSTALLATION                                                                                                             \n",
       "topic                   Water                                                                                                                                 \n",
       "\n",
       "                                                                                                                                                                                                                                                                                                                     2587  \n",
       "_unit_id                867853813                                                                                                                                                                                                                                                                                          \n",
       "_golden                 False                                                                                                                                                                                                                                                                                              \n",
       "_unit_state             finalized                                                                                                                                                                                                                                                                                          \n",
       "_trusted_judgments      4                                                                                                                                                                                                                                                                                                  \n",
       "_last_judgment_at       1/29/2016 20:34:11                                                                                                                                                                                                                                                                                 \n",
       "is_the_term             a_specific_person_or_place                                                                                                                                                                                                                                                                         \n",
       "is_the_term:confidence  1                                                                                                                                                                                                                                                                                                  \n",
       "relevance               4.5                                                                                                                                                                                                                                                                                                \n",
       "relevance:variance      0.5                                                                                                                                                                                                                                                                                                \n",
       "definition              Any humanitarian crisis or natural disaster situation involving food supply, including lack of food/food sources.                                                                                                                                                                                  \n",
       "dist                    0.375173                                                                                                                                                                                                                                                                                           \n",
       "example                 \"Delayed assistance will lead to heightened food insecurity, increased public health threats, loss of land tenure agreements due to farmers' inability to pay their debts, population displacement and longer-term dependence on food aid,\" Kevin Gallagher, FAO Representative in Pakistan said.  \n",
       "freq                    10                                                                                                                                                                                                                                                                                                 \n",
       "id                      807                                                                                                                                                                                                                                                                                                \n",
       "is_the_term_gold        NaN                                                                                                                                                                                                                                                                                                \n",
       "len                     3                                                                                                                                                                                                                                                                                                  \n",
       "relevance_gold          NaN                                                                                                                                                                                                                                                                                                \n",
       "search                  https://www.google.com/search?q=%22HEIGHTENED%20FOOD%20INSECURITY%22                                                                                                                                                                                                                               \n",
       "seed                    0                                                                                                                                                                                                                                                                                                  \n",
       "term                    HEIGHTENED FOOD INSECURITY                                                                                                                                                                                                                                                                         \n",
       "topic                   Food                                                                                                                                                                                                                                                                                               "
      ]
     },
     "execution_count": 58,
     "metadata": {},
     "output_type": "execute_result"
    }
   ],
   "source": [
    "pt.sample(5).T"
   ]
  },
  {
   "cell_type": "code",
   "execution_count": 59,
   "metadata": {},
   "outputs": [
    {
     "data": {
      "text/plain": [
       "BIRTHDAY PARTY           26\n",
       "MUSIC LIBRARY            23\n",
       "MICROSOFT EXCEL          20\n",
       "HYDROPOWER FACILITIES    19\n",
       "FLAVORED TOBACCO         18\n",
       "Name: term, dtype: int64"
      ]
     },
     "execution_count": 59,
     "metadata": {},
     "output_type": "execute_result"
    }
   ],
   "source": [
    "pt['term'].value_counts(dropna=False).head() # not all terms are relevant"
   ]
  },
  {
   "cell_type": "code",
   "execution_count": 60,
   "metadata": {},
   "outputs": [
    {
     "data": {
      "text/plain": [
       "topic\n",
       "Elections and Politics          1326\n",
       "Energy                          1319\n",
       "Evacuation                      1247\n",
       "Extreme Violence, Terrorism     1284\n",
       "Food                            1278\n",
       "Infrastructure and Utilities    1123\n",
       "Intervention                    1277\n",
       "Medical                         1353\n",
       "Sanitation                      1006\n",
       "Search and Rescue               1338\n",
       "Shelter                         1092\n",
       "Violent Civil Unrest            1278\n",
       "Water                           1325\n",
       "Name: term, dtype: int64"
      ]
     },
     "execution_count": 60,
     "metadata": {},
     "output_type": "execute_result"
    }
   ],
   "source": [
    "pt.groupby('topic')['term'].nunique()"
   ]
  },
  {
   "cell_type": "code",
   "execution_count": 61,
   "metadata": {},
   "outputs": [
    {
     "data": {
      "text/plain": [
       "array(['ORDERED DEPARTURE', 'UNHINDERED HUMANITARIAN', 'FLOOD DEBRIS',\n",
       "       'TRIAGE TENT', 'MILITARISED FRONTIER', 'REPATRIATING REFUGEES',\n",
       "       'RELIEVE OVERCROWDING', 'INTERNALLY DISPLACED PEOPLES',\n",
       "       'MEDEVAC SYSTEM', 'ONWARD DELIVERY'], dtype=object)"
      ]
     },
     "execution_count": 61,
     "metadata": {},
     "output_type": "execute_result"
    }
   ],
   "source": [
    "pt[(pt['topic'] == 'Evacuation') & (pt['relevance'] > 3)]['term'].unique()[:10]\n",
    "# 902 unique for evacuation"
   ]
  },
  {
   "cell_type": "code",
   "execution_count": 62,
   "metadata": {},
   "outputs": [
    {
     "data": {
      "text/plain": [
       "['PSYCHIATRIC TREATMENT',\n",
       " 'VISCERAL LEISHMANIASIS',\n",
       " 'UNEXPLAINED FEVER',\n",
       " 'PNEUMONIA PATIENTS',\n",
       " 'ACUTE RESPIRATORY DISTRESS',\n",
       " 'PAIN MEDICATION',\n",
       " 'MEASLES EPIDEMICS',\n",
       " 'ARSENIC POISONING',\n",
       " 'ORAL POLIO VACCINATION',\n",
       " 'MENINGOCOCCAL DISEASE',\n",
       " 'DIARRHOEAL DISEASE OUTBREAKS',\n",
       " 'LETHAL DISEASE',\n",
       " 'MOSQUITO-BORNE VIRUS',\n",
       " 'GRADE FEVER',\n",
       " 'LUNG INFECTIONS',\n",
       " 'UNDIAGNOSED DISEASE',\n",
       " 'INPATIENT TREATMENT',\n",
       " 'CENTERS FOR DISEASE CONTROL',\n",
       " 'SEPTICEMIA',\n",
       " 'WHOOPING COUGH OUTBREAK']"
      ]
     },
     "execution_count": 62,
     "metadata": {},
     "output_type": "execute_result"
    }
   ],
   "source": [
    "medical_terms = pt[(pt['topic'] == 'Medical')  & (pt['relevance'] > 3)]['term'].unique().tolist()\n",
    "medical_terms[:20] # could be a nice list if someone ticks the MEDICAL label in OWL and specifies what disease or what medication they need"
   ]
  },
  {
   "cell_type": "code",
   "execution_count": 63,
   "metadata": {},
   "outputs": [],
   "source": [
    "# with open('paired_medical_terms.pkl', 'wb') as picklefile:\n",
    "#     pickle.dump(medical_terms, picklefile)"
   ]
  },
  {
   "cell_type": "code",
   "execution_count": 64,
   "metadata": {},
   "outputs": [
    {
     "name": "stdout",
     "output_type": "stream",
     "text": [
      "914\n"
     ]
    }
   ],
   "source": [
    "print(len(pt[(pt['topic'] == 'Shelter')  & (pt['relevance'] > 3)]['term'].unique()))"
   ]
  },
  {
   "cell_type": "code",
   "execution_count": null,
   "metadata": {},
   "outputs": [],
   "source": []
  },
  {
   "cell_type": "markdown",
   "metadata": {},
   "source": [
    "<a id='relief'></a>\n",
    "# 3. Disaster relief \n",
    "Another term to topic relevance annotation. May have some overlap with previous but an interesting exercise parsing a messy csv file. "
   ]
  },
  {
   "cell_type": "code",
   "execution_count": 65,
   "metadata": {},
   "outputs": [],
   "source": [
    "# !sed -i \"s/, / /g\" data/disaster-relief-dfe-854578.csv \n",
    "# deal with commas within a field, noting that delimiter commas don't have a space "
   ]
  },
  {
   "cell_type": "code",
   "execution_count": 66,
   "metadata": {},
   "outputs": [
    {
     "data": {
      "text/plain": [
       "Index(['#NAME?', '#NAME?.1', '#NAME?.2', '#NAME?.3', '#NAME?.4',\n",
       "       'is+AF8-the+AF8-term', 'is+AF8-the+AF8-term:confidence', 'relevance',\n",
       "       'relevance:variance', 'definition', 'dist', 'example', 'freq', 'id',\n",
       "       'is+AF8-the+AF8-term+AF8-gold', 'len', 'relevance+AF8-gold', 'search',\n",
       "       'seed', 'term', 'topic', 'Unnamed: 21', 'Unnamed: 22', 'Unnamed: 23',\n",
       "       'Unnamed: 24', 'Unnamed: 25', 'Unnamed: 26', 'Unnamed: 27',\n",
       "       'Unnamed: 28', 'Unnamed: 29', 'Unnamed: 30', 'Unnamed: 31',\n",
       "       'Unnamed: 32', 'Unnamed: 33', 'Unnamed: 34', 'Unnamed: 35',\n",
       "       'Unnamed: 36', 'Unnamed: 37', 'Unnamed: 38', 'Unnamed: 39',\n",
       "       'Unnamed: 40', 'Unnamed: 41'],\n",
       "      dtype='object')"
      ]
     },
     "execution_count": 66,
     "metadata": {},
     "output_type": "execute_result"
    }
   ],
   "source": [
    "# Approach 1: naive pandas read\n",
    "dr = pd.read_csv('./data/disaster-relief-dfe-854578.csv', encoding='latin-1') # a simple encoding to ignore complex characters\n",
    "dr.columns"
   ]
  },
  {
   "cell_type": "code",
   "execution_count": 67,
   "metadata": {},
   "outputs": [
    {
     "data": {
      "text/html": [
       "<div>\n",
       "<style scoped>\n",
       "    .dataframe tbody tr th:only-of-type {\n",
       "        vertical-align: middle;\n",
       "    }\n",
       "\n",
       "    .dataframe tbody tr th {\n",
       "        vertical-align: top;\n",
       "    }\n",
       "\n",
       "    .dataframe thead th {\n",
       "        text-align: right;\n",
       "    }\n",
       "</style>\n",
       "<table border=\"1\" class=\"dataframe\">\n",
       "  <thead>\n",
       "    <tr style=\"text-align: right;\">\n",
       "      <th></th>\n",
       "      <th>0</th>\n",
       "      <th>1</th>\n",
       "      <th>2</th>\n",
       "      <th>3</th>\n",
       "      <th>4</th>\n",
       "    </tr>\n",
       "  </thead>\n",
       "  <tbody>\n",
       "    <tr>\n",
       "      <th>#NAME?</th>\n",
       "      <td>867405675</td>\n",
       "      <td>5+ACI-</td>\n",
       "      <td>867405676</td>\n",
       "      <td>5+ACI-</td>\n",
       "      <td>867405677</td>\n",
       "    </tr>\n",
       "    <tr>\n",
       "      <th>#NAME?.1</th>\n",
       "      <td>TRUE</td>\n",
       "      <td>https://www.google.com/search?q+AD0AJQ-22WATER+ACU-20SHORTAGES+ACU-22</td>\n",
       "      <td>TRUE</td>\n",
       "      <td>https://www.google.com/search?q+AD0AJQ-22VACCINATION+ACU-20CAMPAIGNS+ACU-22</td>\n",
       "      <td>TRUE</td>\n",
       "    </tr>\n",
       "    <tr>\n",
       "      <th>#NAME?.2</th>\n",
       "      <td>golden</td>\n",
       "      <td>0</td>\n",
       "      <td>golden</td>\n",
       "      <td>0</td>\n",
       "      <td>golden</td>\n",
       "    </tr>\n",
       "    <tr>\n",
       "      <th>#NAME?.3</th>\n",
       "      <td>119</td>\n",
       "      <td>WATER SHORTAGES</td>\n",
       "      <td>120</td>\n",
       "      <td>VACCINATION CAMPAIGNS</td>\n",
       "      <td>123</td>\n",
       "    </tr>\n",
       "    <tr>\n",
       "      <th>#NAME?.4</th>\n",
       "      <td>NaN</td>\n",
       "      <td>Animal Management</td>\n",
       "      <td>NaN</td>\n",
       "      <td>Epidemic</td>\n",
       "      <td>NaN</td>\n",
       "    </tr>\n",
       "    <tr>\n",
       "      <th>is+AF8-the+AF8-term</th>\n",
       "      <td>a+AF8-specific+AF8-person+AF8-or+AF8-place</td>\n",
       "      <td>NaN</td>\n",
       "      <td>a+AF8-specific+AF8-person+AF8-or+AF8-place</td>\n",
       "      <td>NaN</td>\n",
       "      <td>a+AF8-specific+AF8-person+AF8-or+AF8-place</td>\n",
       "    </tr>\n",
       "    <tr>\n",
       "      <th>is+AF8-the+AF8-term:confidence</th>\n",
       "      <td>1</td>\n",
       "      <td>NaN</td>\n",
       "      <td>1</td>\n",
       "      <td>NaN</td>\n",
       "      <td>1</td>\n",
       "    </tr>\n",
       "    <tr>\n",
       "      <th>relevance</th>\n",
       "      <td>3.05</td>\n",
       "      <td>NaN</td>\n",
       "      <td>4.33</td>\n",
       "      <td>NaN</td>\n",
       "      <td>3.53</td>\n",
       "    </tr>\n",
       "    <tr>\n",
       "      <th>relevance:variance</th>\n",
       "      <td>1.068</td>\n",
       "      <td>NaN</td>\n",
       "      <td>0.61</td>\n",
       "      <td>NaN</td>\n",
       "      <td>0.99</td>\n",
       "    </tr>\n",
       "    <tr>\n",
       "      <th>definition</th>\n",
       "      <td>#NAME? living missing displaced or injured/dead in relation to a humanitarian crisis or natural disaster situation.+ACI-</td>\n",
       "      <td>NaN</td>\n",
       "      <td>Any situation involving widespread outbreak of infectious disease.</td>\n",
       "      <td>NaN</td>\n",
       "      <td>Services needed or offered by volunteers or professionals in a humanitarian crisis or natural disaster situation.</td>\n",
       "    </tr>\n",
       "    <tr>\n",
       "      <th>dist</th>\n",
       "      <td>0.767274</td>\n",
       "      <td>NaN</td>\n",
       "      <td>0.672936</td>\n",
       "      <td>NaN</td>\n",
       "      <td>0.768769</td>\n",
       "    </tr>\n",
       "    <tr>\n",
       "      <th>example</th>\n",
       "      <td>+ACI-We+//0A4v/9AID//QCZ-re racing to reduce the impact of water shortages by constructing wells drilling boreholes and installing storage devices to capture future rainfall in addition to promoting hygiene to prevent the spread of diarrhea cholera and other water+AC0-borne diseases.+ACI-</td>\n",
       "      <td>NaN</td>\n",
       "      <td>+ACI-WHO assistant director general Marie+AC0-Paule Kieny said the goal was to be able to ship initial supplies to Africa by early 2015 though mass vaccination campaigns are not yet on the cards.+ACI-</td>\n",
       "      <td>NaN</td>\n",
       "      <td>The suffering of internally displaced persons in Afghanistan has been exacerbated by an extremely cold winter.</td>\n",
       "    </tr>\n",
       "    <tr>\n",
       "      <th>freq</th>\n",
       "      <td>765</td>\n",
       "      <td>NaN</td>\n",
       "      <td>343</td>\n",
       "      <td>NaN</td>\n",
       "      <td>1688</td>\n",
       "    </tr>\n",
       "    <tr>\n",
       "      <th>id</th>\n",
       "      <td>58</td>\n",
       "      <td>NaN</td>\n",
       "      <td>62</td>\n",
       "      <td>NaN</td>\n",
       "      <td>85</td>\n",
       "    </tr>\n",
       "    <tr>\n",
       "      <th>is+AF8-the+AF8-term+AF8-gold</th>\n",
       "      <td>NaN</td>\n",
       "      <td>NaN</td>\n",
       "      <td>NaN</td>\n",
       "      <td>NaN</td>\n",
       "      <td>NaN</td>\n",
       "    </tr>\n",
       "    <tr>\n",
       "      <th>len</th>\n",
       "      <td>2</td>\n",
       "      <td>NaN</td>\n",
       "      <td>2</td>\n",
       "      <td>NaN</td>\n",
       "      <td>3</td>\n",
       "    </tr>\n",
       "    <tr>\n",
       "      <th>relevance+AF8-gold</th>\n",
       "      <td>#NAME?</td>\n",
       "      <td>NaN</td>\n",
       "      <td>#NAME?</td>\n",
       "      <td>NaN</td>\n",
       "      <td>#NAME?</td>\n",
       "    </tr>\n",
       "    <tr>\n",
       "      <th>search</th>\n",
       "      <td>NaN</td>\n",
       "      <td>NaN</td>\n",
       "      <td>NaN</td>\n",
       "      <td>NaN</td>\n",
       "      <td>NaN</td>\n",
       "    </tr>\n",
       "    <tr>\n",
       "      <th>seed</th>\n",
       "      <td>NaN</td>\n",
       "      <td>NaN</td>\n",
       "      <td>NaN</td>\n",
       "      <td>NaN</td>\n",
       "      <td>NaN</td>\n",
       "    </tr>\n",
       "    <tr>\n",
       "      <th>term</th>\n",
       "      <td>NaN</td>\n",
       "      <td>NaN</td>\n",
       "      <td>NaN</td>\n",
       "      <td>NaN</td>\n",
       "      <td>NaN</td>\n",
       "    </tr>\n",
       "    <tr>\n",
       "      <th>topic</th>\n",
       "      <td>NaN</td>\n",
       "      <td>NaN</td>\n",
       "      <td>NaN</td>\n",
       "      <td>NaN</td>\n",
       "      <td>NaN</td>\n",
       "    </tr>\n",
       "    <tr>\n",
       "      <th>Unnamed: 21</th>\n",
       "      <td>NaN</td>\n",
       "      <td>NaN</td>\n",
       "      <td>NaN</td>\n",
       "      <td>NaN</td>\n",
       "      <td>NaN</td>\n",
       "    </tr>\n",
       "    <tr>\n",
       "      <th>Unnamed: 22</th>\n",
       "      <td>NaN</td>\n",
       "      <td>NaN</td>\n",
       "      <td>NaN</td>\n",
       "      <td>NaN</td>\n",
       "      <td>NaN</td>\n",
       "    </tr>\n",
       "    <tr>\n",
       "      <th>Unnamed: 23</th>\n",
       "      <td>NaN</td>\n",
       "      <td>NaN</td>\n",
       "      <td>NaN</td>\n",
       "      <td>NaN</td>\n",
       "      <td>NaN</td>\n",
       "    </tr>\n",
       "    <tr>\n",
       "      <th>Unnamed: 24</th>\n",
       "      <td>NaN</td>\n",
       "      <td>NaN</td>\n",
       "      <td>NaN</td>\n",
       "      <td>NaN</td>\n",
       "      <td>NaN</td>\n",
       "    </tr>\n",
       "    <tr>\n",
       "      <th>Unnamed: 25</th>\n",
       "      <td>NaN</td>\n",
       "      <td>NaN</td>\n",
       "      <td>NaN</td>\n",
       "      <td>NaN</td>\n",
       "      <td>NaN</td>\n",
       "    </tr>\n",
       "    <tr>\n",
       "      <th>Unnamed: 26</th>\n",
       "      <td>NaN</td>\n",
       "      <td>NaN</td>\n",
       "      <td>NaN</td>\n",
       "      <td>NaN</td>\n",
       "      <td>NaN</td>\n",
       "    </tr>\n",
       "    <tr>\n",
       "      <th>Unnamed: 27</th>\n",
       "      <td>NaN</td>\n",
       "      <td>NaN</td>\n",
       "      <td>NaN</td>\n",
       "      <td>NaN</td>\n",
       "      <td>NaN</td>\n",
       "    </tr>\n",
       "    <tr>\n",
       "      <th>Unnamed: 28</th>\n",
       "      <td>NaN</td>\n",
       "      <td>NaN</td>\n",
       "      <td>NaN</td>\n",
       "      <td>NaN</td>\n",
       "      <td>NaN</td>\n",
       "    </tr>\n",
       "    <tr>\n",
       "      <th>Unnamed: 29</th>\n",
       "      <td>NaN</td>\n",
       "      <td>NaN</td>\n",
       "      <td>NaN</td>\n",
       "      <td>NaN</td>\n",
       "      <td>NaN</td>\n",
       "    </tr>\n",
       "    <tr>\n",
       "      <th>Unnamed: 30</th>\n",
       "      <td>NaN</td>\n",
       "      <td>NaN</td>\n",
       "      <td>NaN</td>\n",
       "      <td>NaN</td>\n",
       "      <td>NaN</td>\n",
       "    </tr>\n",
       "    <tr>\n",
       "      <th>Unnamed: 31</th>\n",
       "      <td>NaN</td>\n",
       "      <td>NaN</td>\n",
       "      <td>NaN</td>\n",
       "      <td>NaN</td>\n",
       "      <td>NaN</td>\n",
       "    </tr>\n",
       "    <tr>\n",
       "      <th>Unnamed: 32</th>\n",
       "      <td>NaN</td>\n",
       "      <td>NaN</td>\n",
       "      <td>NaN</td>\n",
       "      <td>NaN</td>\n",
       "      <td>NaN</td>\n",
       "    </tr>\n",
       "    <tr>\n",
       "      <th>Unnamed: 33</th>\n",
       "      <td>NaN</td>\n",
       "      <td>NaN</td>\n",
       "      <td>NaN</td>\n",
       "      <td>NaN</td>\n",
       "      <td>NaN</td>\n",
       "    </tr>\n",
       "    <tr>\n",
       "      <th>Unnamed: 34</th>\n",
       "      <td>NaN</td>\n",
       "      <td>NaN</td>\n",
       "      <td>NaN</td>\n",
       "      <td>NaN</td>\n",
       "      <td>NaN</td>\n",
       "    </tr>\n",
       "    <tr>\n",
       "      <th>Unnamed: 35</th>\n",
       "      <td>NaN</td>\n",
       "      <td>NaN</td>\n",
       "      <td>NaN</td>\n",
       "      <td>NaN</td>\n",
       "      <td>NaN</td>\n",
       "    </tr>\n",
       "    <tr>\n",
       "      <th>Unnamed: 36</th>\n",
       "      <td>NaN</td>\n",
       "      <td>NaN</td>\n",
       "      <td>NaN</td>\n",
       "      <td>NaN</td>\n",
       "      <td>NaN</td>\n",
       "    </tr>\n",
       "    <tr>\n",
       "      <th>Unnamed: 37</th>\n",
       "      <td>NaN</td>\n",
       "      <td>NaN</td>\n",
       "      <td>NaN</td>\n",
       "      <td>NaN</td>\n",
       "      <td>NaN</td>\n",
       "    </tr>\n",
       "    <tr>\n",
       "      <th>Unnamed: 38</th>\n",
       "      <td>NaN</td>\n",
       "      <td>NaN</td>\n",
       "      <td>NaN</td>\n",
       "      <td>NaN</td>\n",
       "      <td>NaN</td>\n",
       "    </tr>\n",
       "    <tr>\n",
       "      <th>Unnamed: 39</th>\n",
       "      <td>NaN</td>\n",
       "      <td>NaN</td>\n",
       "      <td>NaN</td>\n",
       "      <td>NaN</td>\n",
       "      <td>NaN</td>\n",
       "    </tr>\n",
       "    <tr>\n",
       "      <th>Unnamed: 40</th>\n",
       "      <td>NaN</td>\n",
       "      <td>NaN</td>\n",
       "      <td>NaN</td>\n",
       "      <td>NaN</td>\n",
       "      <td>NaN</td>\n",
       "    </tr>\n",
       "    <tr>\n",
       "      <th>Unnamed: 41</th>\n",
       "      <td>NaN</td>\n",
       "      <td>NaN</td>\n",
       "      <td>NaN</td>\n",
       "      <td>NaN</td>\n",
       "      <td>NaN</td>\n",
       "    </tr>\n",
       "  </tbody>\n",
       "</table>\n",
       "</div>"
      ],
      "text/plain": [
       "                                                                                                                                                                                                                                                                                                                                0  \\\n",
       "#NAME?                          867405675                                                                                                                                                                                                                                                                                           \n",
       "#NAME?.1                        TRUE                                                                                                                                                                                                                                                                                                \n",
       "#NAME?.2                        golden                                                                                                                                                                                                                                                                                              \n",
       "#NAME?.3                        119                                                                                                                                                                                                                                                                                                 \n",
       "#NAME?.4                        NaN                                                                                                                                                                                                                                                                                                 \n",
       "is+AF8-the+AF8-term             a+AF8-specific+AF8-person+AF8-or+AF8-place                                                                                                                                                                                                                                                          \n",
       "is+AF8-the+AF8-term:confidence  1                                                                                                                                                                                                                                                                                                   \n",
       "relevance                       3.05                                                                                                                                                                                                                                                                                                \n",
       "relevance:variance              1.068                                                                                                                                                                                                                                                                                               \n",
       "definition                      #NAME? living missing displaced or injured/dead in relation to a humanitarian crisis or natural disaster situation.+ACI-                                                                                                                                                                            \n",
       "dist                            0.767274                                                                                                                                                                                                                                                                                            \n",
       "example                         +ACI-We+//0A4v/9AID//QCZ-re racing to reduce the impact of water shortages by constructing wells drilling boreholes and installing storage devices to capture future rainfall in addition to promoting hygiene to prevent the spread of diarrhea cholera and other water+AC0-borne diseases.+ACI-   \n",
       "freq                            765                                                                                                                                                                                                                                                                                                 \n",
       "id                              58                                                                                                                                                                                                                                                                                                  \n",
       "is+AF8-the+AF8-term+AF8-gold    NaN                                                                                                                                                                                                                                                                                                 \n",
       "len                             2                                                                                                                                                                                                                                                                                                   \n",
       "relevance+AF8-gold              #NAME?                                                                                                                                                                                                                                                                                              \n",
       "search                          NaN                                                                                                                                                                                                                                                                                                 \n",
       "seed                            NaN                                                                                                                                                                                                                                                                                                 \n",
       "term                            NaN                                                                                                                                                                                                                                                                                                 \n",
       "topic                           NaN                                                                                                                                                                                                                                                                                                 \n",
       "Unnamed: 21                     NaN                                                                                                                                                                                                                                                                                                 \n",
       "Unnamed: 22                     NaN                                                                                                                                                                                                                                                                                                 \n",
       "Unnamed: 23                     NaN                                                                                                                                                                                                                                                                                                 \n",
       "Unnamed: 24                     NaN                                                                                                                                                                                                                                                                                                 \n",
       "Unnamed: 25                     NaN                                                                                                                                                                                                                                                                                                 \n",
       "Unnamed: 26                     NaN                                                                                                                                                                                                                                                                                                 \n",
       "Unnamed: 27                     NaN                                                                                                                                                                                                                                                                                                 \n",
       "Unnamed: 28                     NaN                                                                                                                                                                                                                                                                                                 \n",
       "Unnamed: 29                     NaN                                                                                                                                                                                                                                                                                                 \n",
       "Unnamed: 30                     NaN                                                                                                                                                                                                                                                                                                 \n",
       "Unnamed: 31                     NaN                                                                                                                                                                                                                                                                                                 \n",
       "Unnamed: 32                     NaN                                                                                                                                                                                                                                                                                                 \n",
       "Unnamed: 33                     NaN                                                                                                                                                                                                                                                                                                 \n",
       "Unnamed: 34                     NaN                                                                                                                                                                                                                                                                                                 \n",
       "Unnamed: 35                     NaN                                                                                                                                                                                                                                                                                                 \n",
       "Unnamed: 36                     NaN                                                                                                                                                                                                                                                                                                 \n",
       "Unnamed: 37                     NaN                                                                                                                                                                                                                                                                                                 \n",
       "Unnamed: 38                     NaN                                                                                                                                                                                                                                                                                                 \n",
       "Unnamed: 39                     NaN                                                                                                                                                                                                                                                                                                 \n",
       "Unnamed: 40                     NaN                                                                                                                                                                                                                                                                                                 \n",
       "Unnamed: 41                     NaN                                                                                                                                                                                                                                                                                                 \n",
       "\n",
       "                                                                                                    1  \\\n",
       "#NAME?                          5+ACI-                                                                  \n",
       "#NAME?.1                        https://www.google.com/search?q+AD0AJQ-22WATER+ACU-20SHORTAGES+ACU-22   \n",
       "#NAME?.2                        0                                                                       \n",
       "#NAME?.3                        WATER SHORTAGES                                                         \n",
       "#NAME?.4                        Animal Management                                                       \n",
       "is+AF8-the+AF8-term             NaN                                                                     \n",
       "is+AF8-the+AF8-term:confidence  NaN                                                                     \n",
       "relevance                       NaN                                                                     \n",
       "relevance:variance              NaN                                                                     \n",
       "definition                      NaN                                                                     \n",
       "dist                            NaN                                                                     \n",
       "example                         NaN                                                                     \n",
       "freq                            NaN                                                                     \n",
       "id                              NaN                                                                     \n",
       "is+AF8-the+AF8-term+AF8-gold    NaN                                                                     \n",
       "len                             NaN                                                                     \n",
       "relevance+AF8-gold              NaN                                                                     \n",
       "search                          NaN                                                                     \n",
       "seed                            NaN                                                                     \n",
       "term                            NaN                                                                     \n",
       "topic                           NaN                                                                     \n",
       "Unnamed: 21                     NaN                                                                     \n",
       "Unnamed: 22                     NaN                                                                     \n",
       "Unnamed: 23                     NaN                                                                     \n",
       "Unnamed: 24                     NaN                                                                     \n",
       "Unnamed: 25                     NaN                                                                     \n",
       "Unnamed: 26                     NaN                                                                     \n",
       "Unnamed: 27                     NaN                                                                     \n",
       "Unnamed: 28                     NaN                                                                     \n",
       "Unnamed: 29                     NaN                                                                     \n",
       "Unnamed: 30                     NaN                                                                     \n",
       "Unnamed: 31                     NaN                                                                     \n",
       "Unnamed: 32                     NaN                                                                     \n",
       "Unnamed: 33                     NaN                                                                     \n",
       "Unnamed: 34                     NaN                                                                     \n",
       "Unnamed: 35                     NaN                                                                     \n",
       "Unnamed: 36                     NaN                                                                     \n",
       "Unnamed: 37                     NaN                                                                     \n",
       "Unnamed: 38                     NaN                                                                     \n",
       "Unnamed: 39                     NaN                                                                     \n",
       "Unnamed: 40                     NaN                                                                     \n",
       "Unnamed: 41                     NaN                                                                     \n",
       "\n",
       "                                                                                                                                                                                                                                       2  \\\n",
       "#NAME?                          867405676                                                                                                                                                                                                  \n",
       "#NAME?.1                        TRUE                                                                                                                                                                                                       \n",
       "#NAME?.2                        golden                                                                                                                                                                                                     \n",
       "#NAME?.3                        120                                                                                                                                                                                                        \n",
       "#NAME?.4                        NaN                                                                                                                                                                                                        \n",
       "is+AF8-the+AF8-term             a+AF8-specific+AF8-person+AF8-or+AF8-place                                                                                                                                                                 \n",
       "is+AF8-the+AF8-term:confidence  1                                                                                                                                                                                                          \n",
       "relevance                       4.33                                                                                                                                                                                                       \n",
       "relevance:variance              0.61                                                                                                                                                                                                       \n",
       "definition                      Any situation involving widespread outbreak of infectious disease.                                                                                                                                         \n",
       "dist                            0.672936                                                                                                                                                                                                   \n",
       "example                         +ACI-WHO assistant director general Marie+AC0-Paule Kieny said the goal was to be able to ship initial supplies to Africa by early 2015 though mass vaccination campaigns are not yet on the cards.+ACI-   \n",
       "freq                            343                                                                                                                                                                                                        \n",
       "id                              62                                                                                                                                                                                                         \n",
       "is+AF8-the+AF8-term+AF8-gold    NaN                                                                                                                                                                                                        \n",
       "len                             2                                                                                                                                                                                                          \n",
       "relevance+AF8-gold              #NAME?                                                                                                                                                                                                     \n",
       "search                          NaN                                                                                                                                                                                                        \n",
       "seed                            NaN                                                                                                                                                                                                        \n",
       "term                            NaN                                                                                                                                                                                                        \n",
       "topic                           NaN                                                                                                                                                                                                        \n",
       "Unnamed: 21                     NaN                                                                                                                                                                                                        \n",
       "Unnamed: 22                     NaN                                                                                                                                                                                                        \n",
       "Unnamed: 23                     NaN                                                                                                                                                                                                        \n",
       "Unnamed: 24                     NaN                                                                                                                                                                                                        \n",
       "Unnamed: 25                     NaN                                                                                                                                                                                                        \n",
       "Unnamed: 26                     NaN                                                                                                                                                                                                        \n",
       "Unnamed: 27                     NaN                                                                                                                                                                                                        \n",
       "Unnamed: 28                     NaN                                                                                                                                                                                                        \n",
       "Unnamed: 29                     NaN                                                                                                                                                                                                        \n",
       "Unnamed: 30                     NaN                                                                                                                                                                                                        \n",
       "Unnamed: 31                     NaN                                                                                                                                                                                                        \n",
       "Unnamed: 32                     NaN                                                                                                                                                                                                        \n",
       "Unnamed: 33                     NaN                                                                                                                                                                                                        \n",
       "Unnamed: 34                     NaN                                                                                                                                                                                                        \n",
       "Unnamed: 35                     NaN                                                                                                                                                                                                        \n",
       "Unnamed: 36                     NaN                                                                                                                                                                                                        \n",
       "Unnamed: 37                     NaN                                                                                                                                                                                                        \n",
       "Unnamed: 38                     NaN                                                                                                                                                                                                        \n",
       "Unnamed: 39                     NaN                                                                                                                                                                                                        \n",
       "Unnamed: 40                     NaN                                                                                                                                                                                                        \n",
       "Unnamed: 41                     NaN                                                                                                                                                                                                        \n",
       "\n",
       "                                                                                                          3  \\\n",
       "#NAME?                          5+ACI-                                                                        \n",
       "#NAME?.1                        https://www.google.com/search?q+AD0AJQ-22VACCINATION+ACU-20CAMPAIGNS+ACU-22   \n",
       "#NAME?.2                        0                                                                             \n",
       "#NAME?.3                        VACCINATION CAMPAIGNS                                                         \n",
       "#NAME?.4                        Epidemic                                                                      \n",
       "is+AF8-the+AF8-term             NaN                                                                           \n",
       "is+AF8-the+AF8-term:confidence  NaN                                                                           \n",
       "relevance                       NaN                                                                           \n",
       "relevance:variance              NaN                                                                           \n",
       "definition                      NaN                                                                           \n",
       "dist                            NaN                                                                           \n",
       "example                         NaN                                                                           \n",
       "freq                            NaN                                                                           \n",
       "id                              NaN                                                                           \n",
       "is+AF8-the+AF8-term+AF8-gold    NaN                                                                           \n",
       "len                             NaN                                                                           \n",
       "relevance+AF8-gold              NaN                                                                           \n",
       "search                          NaN                                                                           \n",
       "seed                            NaN                                                                           \n",
       "term                            NaN                                                                           \n",
       "topic                           NaN                                                                           \n",
       "Unnamed: 21                     NaN                                                                           \n",
       "Unnamed: 22                     NaN                                                                           \n",
       "Unnamed: 23                     NaN                                                                           \n",
       "Unnamed: 24                     NaN                                                                           \n",
       "Unnamed: 25                     NaN                                                                           \n",
       "Unnamed: 26                     NaN                                                                           \n",
       "Unnamed: 27                     NaN                                                                           \n",
       "Unnamed: 28                     NaN                                                                           \n",
       "Unnamed: 29                     NaN                                                                           \n",
       "Unnamed: 30                     NaN                                                                           \n",
       "Unnamed: 31                     NaN                                                                           \n",
       "Unnamed: 32                     NaN                                                                           \n",
       "Unnamed: 33                     NaN                                                                           \n",
       "Unnamed: 34                     NaN                                                                           \n",
       "Unnamed: 35                     NaN                                                                           \n",
       "Unnamed: 36                     NaN                                                                           \n",
       "Unnamed: 37                     NaN                                                                           \n",
       "Unnamed: 38                     NaN                                                                           \n",
       "Unnamed: 39                     NaN                                                                           \n",
       "Unnamed: 40                     NaN                                                                           \n",
       "Unnamed: 41                     NaN                                                                           \n",
       "\n",
       "                                                                                                                                                4  \n",
       "#NAME?                          867405677                                                                                                          \n",
       "#NAME?.1                        TRUE                                                                                                               \n",
       "#NAME?.2                        golden                                                                                                             \n",
       "#NAME?.3                        123                                                                                                                \n",
       "#NAME?.4                        NaN                                                                                                                \n",
       "is+AF8-the+AF8-term             a+AF8-specific+AF8-person+AF8-or+AF8-place                                                                         \n",
       "is+AF8-the+AF8-term:confidence  1                                                                                                                  \n",
       "relevance                       3.53                                                                                                               \n",
       "relevance:variance              0.99                                                                                                               \n",
       "definition                      Services needed or offered by volunteers or professionals in a humanitarian crisis or natural disaster situation.  \n",
       "dist                            0.768769                                                                                                           \n",
       "example                         The suffering of internally displaced persons in Afghanistan has been exacerbated by an extremely cold winter.     \n",
       "freq                            1688                                                                                                               \n",
       "id                              85                                                                                                                 \n",
       "is+AF8-the+AF8-term+AF8-gold    NaN                                                                                                                \n",
       "len                             3                                                                                                                  \n",
       "relevance+AF8-gold              #NAME?                                                                                                             \n",
       "search                          NaN                                                                                                                \n",
       "seed                            NaN                                                                                                                \n",
       "term                            NaN                                                                                                                \n",
       "topic                           NaN                                                                                                                \n",
       "Unnamed: 21                     NaN                                                                                                                \n",
       "Unnamed: 22                     NaN                                                                                                                \n",
       "Unnamed: 23                     NaN                                                                                                                \n",
       "Unnamed: 24                     NaN                                                                                                                \n",
       "Unnamed: 25                     NaN                                                                                                                \n",
       "Unnamed: 26                     NaN                                                                                                                \n",
       "Unnamed: 27                     NaN                                                                                                                \n",
       "Unnamed: 28                     NaN                                                                                                                \n",
       "Unnamed: 29                     NaN                                                                                                                \n",
       "Unnamed: 30                     NaN                                                                                                                \n",
       "Unnamed: 31                     NaN                                                                                                                \n",
       "Unnamed: 32                     NaN                                                                                                                \n",
       "Unnamed: 33                     NaN                                                                                                                \n",
       "Unnamed: 34                     NaN                                                                                                                \n",
       "Unnamed: 35                     NaN                                                                                                                \n",
       "Unnamed: 36                     NaN                                                                                                                \n",
       "Unnamed: 37                     NaN                                                                                                                \n",
       "Unnamed: 38                     NaN                                                                                                                \n",
       "Unnamed: 39                     NaN                                                                                                                \n",
       "Unnamed: 40                     NaN                                                                                                                \n",
       "Unnamed: 41                     NaN                                                                                                                "
      ]
     },
     "execution_count": 67,
     "metadata": {},
     "output_type": "execute_result"
    }
   ],
   "source": [
    "dr.head().T\n",
    "# commas too inconsistent"
   ]
  },
  {
   "cell_type": "code",
   "execution_count": 68,
   "metadata": {},
   "outputs": [],
   "source": [
    "# Approach 2: parse by line\n",
    "records = []\n",
    "with open('./data/disaster-relief-dfe-854578.csv', 'rt') as file:\n",
    "    for r in file:\n",
    "        tokens = r.replace('\\n', '').replace('#NAME?', '.').strip(',').split(',') \n",
    "        if 'finalized' in tokens:\n",
    "            values = (tokens[7], tokens[8], tokens[-2], tokens[-1])\n",
    "            records.append(values)\n"
   ]
  },
  {
   "cell_type": "code",
   "execution_count": 69,
   "metadata": {},
   "outputs": [],
   "source": [
    "terms = pd.DataFrame(records, columns=['relevance', 'relevance:variance', 'term', 'topic']) \n",
    "# columns 7, 8, -2, -1 respectively once strip removes the trailing commas\n",
    "# did skip some rows that overflowed to two lines within file using the 'finalized' condition"
   ]
  },
  {
   "cell_type": "code",
   "execution_count": 70,
   "metadata": {},
   "outputs": [],
   "source": [
    "# clean up characters like '+ACI-' and lower case for consistency\n",
    "terms['topic'] = terms['topic'].str.replace(r'\\+.+-', ' ').str.replace('\\.', ' ').str.strip().str.lower()\n",
    "terms['term'] = terms['term'].str.replace(r'\\+.+-', ' ').str.replace('\\.', ' ').str.strip().str.lower() "
   ]
  },
  {
   "cell_type": "code",
   "execution_count": 71,
   "metadata": {},
   "outputs": [
    {
     "data": {
      "text/plain": [
       "(7510, 4)"
      ]
     },
     "execution_count": 71,
     "metadata": {},
     "output_type": "execute_result"
    }
   ],
   "source": [
    "terms.shape"
   ]
  },
  {
   "cell_type": "code",
   "execution_count": 72,
   "metadata": {},
   "outputs": [
    {
     "data": {
      "text/html": [
       "<div>\n",
       "<style scoped>\n",
       "    .dataframe tbody tr th:only-of-type {\n",
       "        vertical-align: middle;\n",
       "    }\n",
       "\n",
       "    .dataframe tbody tr th {\n",
       "        vertical-align: top;\n",
       "    }\n",
       "\n",
       "    .dataframe thead th {\n",
       "        text-align: right;\n",
       "    }\n",
       "</style>\n",
       "<table border=\"1\" class=\"dataframe\">\n",
       "  <thead>\n",
       "    <tr style=\"text-align: right;\">\n",
       "      <th></th>\n",
       "      <th>relevance</th>\n",
       "      <th>relevance:variance</th>\n",
       "      <th>term</th>\n",
       "      <th>topic</th>\n",
       "    </tr>\n",
       "  </thead>\n",
       "  <tbody>\n",
       "    <tr>\n",
       "      <th>3480</th>\n",
       "      <td>1</td>\n",
       "      <td>0</td>\n",
       "      <td>wedding arrangements</td>\n",
       "      <td>evacuation</td>\n",
       "    </tr>\n",
       "    <tr>\n",
       "      <th>2150</th>\n",
       "      <td>1</td>\n",
       "      <td>0</td>\n",
       "      <td>birthday party</td>\n",
       "      <td>medical</td>\n",
       "    </tr>\n",
       "    <tr>\n",
       "      <th>784</th>\n",
       "      <td>1</td>\n",
       "      <td>0</td>\n",
       "      <td>grammy awards</td>\n",
       "      <td>energy</td>\n",
       "    </tr>\n",
       "    <tr>\n",
       "      <th>3363</th>\n",
       "      <td>1</td>\n",
       "      <td>0</td>\n",
       "      <td>handmade desk</td>\n",
       "      <td>search rescue</td>\n",
       "    </tr>\n",
       "    <tr>\n",
       "      <th>6851</th>\n",
       "      <td>1</td>\n",
       "      <td>0</td>\n",
       "      <td>paper recycling</td>\n",
       "      <td>evacuation</td>\n",
       "    </tr>\n",
       "  </tbody>\n",
       "</table>\n",
       "</div>"
      ],
      "text/plain": [
       "     relevance relevance:variance                  term          topic\n",
       "3480  1         0                  wedding arrangements  evacuation   \n",
       "2150  1         0                  birthday party        medical      \n",
       "784   1         0                  grammy awards         energy       \n",
       "3363  1         0                  handmade desk         search rescue\n",
       "6851  1         0                  paper recycling       evacuation   "
      ]
     },
     "execution_count": 72,
     "metadata": {},
     "output_type": "execute_result"
    }
   ],
   "source": [
    "# not all terms are relevant\n",
    "terms.sort_values('relevance').head()"
   ]
  },
  {
   "cell_type": "code",
   "execution_count": 73,
   "metadata": {},
   "outputs": [
    {
     "data": {
      "text/plain": [
       "4       2308\n",
       "4.33    2110\n",
       "4.67    845 \n",
       "3.67    615 \n",
       "3.33    563 \n",
       "3       318 \n",
       "5       178 \n",
       "2.67    154 \n",
       "2       113 \n",
       "2.33    112 \n",
       "1.33    78  \n",
       "1       66  \n",
       "1.67    50  \n",
       "Name: relevance, dtype: int64"
      ]
     },
     "execution_count": 73,
     "metadata": {},
     "output_type": "execute_result"
    }
   ],
   "source": [
    "# check distribution\n",
    "terms['relevance'].value_counts()"
   ]
  },
  {
   "cell_type": "code",
   "execution_count": 74,
   "metadata": {},
   "outputs": [
    {
     "name": "stderr",
     "output_type": "stream",
     "text": [
      "/home/douglas/anaconda3/lib/python3.6/site-packages/scipy/stats/stats.py:1713: FutureWarning: Using a non-tuple sequence for multidimensional indexing is deprecated; use `arr[tuple(seq)]` instead of `arr[seq]`. In the future this will be interpreted as an array index, `arr[np.array(seq)]`, which will result either in an error or a different result.\n",
      "  return np.add.reduce(sorted[indexer] * weights, axis=axis) / sumval\n"
     ]
    },
    {
     "data": {
      "text/plain": [
       "<matplotlib.axes._subplots.AxesSubplot at 0x7f12b71dda90>"
      ]
     },
     "execution_count": 74,
     "metadata": {},
     "output_type": "execute_result"
    },
    {
     "data": {
      "image/png": "[encoded data removed]",
      "text/plain": [
       "<matplotlib.figure.Figure at 0x7f12b77f83c8>"
      ]
     },
     "metadata": {},
     "output_type": "display_data"
    }
   ],
   "source": [
    "sns.distplot(terms['relevance'].astype('float'))"
   ]
  },
  {
   "cell_type": "code",
   "execution_count": 75,
   "metadata": {},
   "outputs": [
    {
     "name": "stdout",
     "output_type": "stream",
     "text": [
      "(6619, 4)\n"
     ]
    },
    {
     "data": {
      "text/html": [
       "<div>\n",
       "<style scoped>\n",
       "    .dataframe tbody tr th:only-of-type {\n",
       "        vertical-align: middle;\n",
       "    }\n",
       "\n",
       "    .dataframe tbody tr th {\n",
       "        vertical-align: top;\n",
       "    }\n",
       "\n",
       "    .dataframe thead th {\n",
       "        text-align: right;\n",
       "    }\n",
       "</style>\n",
       "<table border=\"1\" class=\"dataframe\">\n",
       "  <thead>\n",
       "    <tr style=\"text-align: right;\">\n",
       "      <th></th>\n",
       "      <th>relevance</th>\n",
       "      <th>relevance:variance</th>\n",
       "      <th>term</th>\n",
       "      <th>topic</th>\n",
       "    </tr>\n",
       "  </thead>\n",
       "  <tbody>\n",
       "    <tr>\n",
       "      <th>0</th>\n",
       "      <td>4</td>\n",
       "      <td>0</td>\n",
       "      <td>river basin</td>\n",
       "      <td>water</td>\n",
       "    </tr>\n",
       "    <tr>\n",
       "      <th>1</th>\n",
       "      <td>4</td>\n",
       "      <td>0</td>\n",
       "      <td>power supply</td>\n",
       "      <td>energy</td>\n",
       "    </tr>\n",
       "    <tr>\n",
       "      <th>2</th>\n",
       "      <td>4.33</td>\n",
       "      <td>0.471</td>\n",
       "      <td>field hospitals</td>\n",
       "      <td>search and rescue</td>\n",
       "    </tr>\n",
       "    <tr>\n",
       "      <th>3</th>\n",
       "      <td>4</td>\n",
       "      <td>0</td>\n",
       "      <td>sales force</td>\n",
       "      <td>elections</td>\n",
       "    </tr>\n",
       "    <tr>\n",
       "      <th>4</th>\n",
       "      <td>4.33</td>\n",
       "      <td>0.471</td>\n",
       "      <td>severely injured</td>\n",
       "      <td>search and rescue</td>\n",
       "    </tr>\n",
       "  </tbody>\n",
       "</table>\n",
       "</div>"
      ],
      "text/plain": [
       "  relevance relevance:variance              term              topic\n",
       "0  4         0                  river basin       water            \n",
       "1  4         0                  power supply      energy           \n",
       "2  4.33      0.471              field hospitals   search and rescue\n",
       "3  4         0                  sales force       elections        \n",
       "4  4.33      0.471              severely injured  search and rescue"
      ]
     },
     "execution_count": 75,
     "metadata": {},
     "output_type": "execute_result"
    }
   ],
   "source": [
    "# relevance of 3 was a reasonale cut off point for irrelevant terms\n",
    "relevant = terms[terms['relevance'].astype('float') > 3]\n",
    "print(relevant.shape)\n",
    "relevant.head()"
   ]
  },
  {
   "cell_type": "code",
   "execution_count": 76,
   "metadata": {},
   "outputs": [
    {
     "name": "stdout",
     "output_type": "stream",
     "text": [
      "18 topics\n"
     ]
    },
    {
     "data": {
      "text/plain": [
       "elections and politics          547\n",
       "medical                         542\n",
       "terrorism                       528\n",
       "food                            525\n",
       "violent civil unrest            523\n",
       "infrastructure and utilities    520\n",
       "water                           518\n",
       "intervention                    513\n",
       "shelter                         500\n",
       "sanitation                      494\n",
       "search and rescue               493\n",
       "evacuation                      489\n",
       "energy                          412\n",
       "violent unrest                  4  \n",
       "search rescue                   3  \n",
       "extreme violence                3  \n",
       "infrastructure                  3  \n",
       "elections                       2  \n",
       "Name: topic, dtype: int64"
      ]
     },
     "execution_count": 76,
     "metadata": {},
     "output_type": "execute_result"
    }
   ],
   "source": [
    "print(f'{relevant[\"topic\"].nunique()} topics')\n",
    "relevant['topic'].value_counts()"
   ]
  },
  {
   "cell_type": "code",
   "execution_count": 77,
   "metadata": {},
   "outputs": [],
   "source": [
    "# Try out differnet ways to consolidate the topics\n",
    "# all were roughly the same speed\n",
    "topic_map_dict = {'violent unrest': 'violent civil unrest', \n",
    "                  'infrastructure':'infrastructure and utilities', \n",
    "                  'search rescue': 'search and rescue',\n",
    "                  'elections':'elections and politics'}\n",
    "\n",
    "def map_topics(topic):\n",
    "    '''Update values for '''\n",
    "    if topic in topic_map_dict.keys():\n",
    "        return topic_map_dict[topic]\n",
    "    else:\n",
    "        return topic"
   ]
  },
  {
   "cell_type": "code",
   "execution_count": 78,
   "metadata": {},
   "outputs": [
    {
     "name": "stderr",
     "output_type": "stream",
     "text": [
      "/home/douglas/anaconda3/lib/python3.6/site-packages/ipykernel_launcher.py:1: SettingWithCopyWarning: \n",
      "A value is trying to be set on a copy of a slice from a DataFrame.\n",
      "Try using .loc[row_indexer,col_indexer] = value instead\n",
      "\n",
      "See the caveats in the documentation: http://pandas.pydata.org/pandas-docs/stable/indexing.html#indexing-view-versus-copy\n",
      "  \"\"\"Entry point for launching an IPython kernel.\n"
     ]
    },
    {
     "name": "stdout",
     "output_type": "stream",
     "text": [
      "95.9 ms ± 1.59 ms per loop (mean ± std. dev. of 7 runs, 10 loops each)\n"
     ]
    }
   ],
   "source": [
    "%timeit relevant['topic'] = relevant['topic'].map(map_topics)"
   ]
  },
  {
   "cell_type": "code",
   "execution_count": 79,
   "metadata": {},
   "outputs": [
    {
     "name": "stderr",
     "output_type": "stream",
     "text": [
      "/home/douglas/anaconda3/lib/python3.6/site-packages/ipykernel_launcher.py:1: SettingWithCopyWarning: \n",
      "A value is trying to be set on a copy of a slice from a DataFrame.\n",
      "Try using .loc[row_indexer,col_indexer] = value instead\n",
      "\n",
      "See the caveats in the documentation: http://pandas.pydata.org/pandas-docs/stable/indexing.html#indexing-view-versus-copy\n",
      "  \"\"\"Entry point for launching an IPython kernel.\n"
     ]
    },
    {
     "name": "stdout",
     "output_type": "stream",
     "text": [
      "103 ms ± 4.14 ms per loop (mean ± std. dev. of 7 runs, 10 loops each)\n"
     ]
    }
   ],
   "source": [
    "%timeit relevant['topic'] = relevant['topic'].map(topic_map_dict).fillna(relevant['topic'])"
   ]
  },
  {
   "cell_type": "code",
   "execution_count": 80,
   "metadata": {},
   "outputs": [
    {
     "name": "stderr",
     "output_type": "stream",
     "text": [
      "/home/douglas/anaconda3/lib/python3.6/site-packages/ipykernel_launcher.py:1: SettingWithCopyWarning: \n",
      "A value is trying to be set on a copy of a slice from a DataFrame.\n",
      "Try using .loc[row_indexer,col_indexer] = value instead\n",
      "\n",
      "See the caveats in the documentation: http://pandas.pydata.org/pandas-docs/stable/indexing.html#indexing-view-versus-copy\n",
      "  \"\"\"Entry point for launching an IPython kernel.\n"
     ]
    },
    {
     "name": "stdout",
     "output_type": "stream",
     "text": [
      "105 ms ± 6.78 ms per loop (mean ± std. dev. of 7 runs, 10 loops each)\n"
     ]
    }
   ],
   "source": [
    "%timeit relevant['topic'] = relevant['topic'].replace(topic_map_dict)"
   ]
  },
  {
   "cell_type": "code",
   "execution_count": 81,
   "metadata": {},
   "outputs": [
    {
     "data": {
      "text/plain": [
       "elections and politics          549\n",
       "medical                         542\n",
       "terrorism                       528\n",
       "violent civil unrest            527\n",
       "food                            525\n",
       "infrastructure and utilities    523\n",
       "water                           518\n",
       "intervention                    513\n",
       "shelter                         500\n",
       "search and rescue               496\n",
       "sanitation                      494\n",
       "evacuation                      489\n",
       "energy                          412\n",
       "extreme violence                3  \n",
       "Name: topic, dtype: int64"
      ]
     },
     "execution_count": 81,
     "metadata": {},
     "output_type": "execute_result"
    }
   ],
   "source": [
    "relevant['topic'].value_counts()"
   ]
  },
  {
   "cell_type": "code",
   "execution_count": 82,
   "metadata": {},
   "outputs": [
    {
     "data": {
      "text/plain": [
       "array(['potentially contaminated', 'bathing places', 'salty water',\n",
       "       'poor drainage system', 'boreholes', 'pump wells', 'turbid',\n",
       "       'piping', 'through portable tankers', 'drinking water supplies'],\n",
       "      dtype=object)"
      ]
     },
     "execution_count": 82,
     "metadata": {},
     "output_type": "execute_result"
    }
   ],
   "source": [
    "np.random.choice(relevant[relevant['topic']=='water']['term'].unique(), 10)"
   ]
  },
  {
   "cell_type": "code",
   "execution_count": 83,
   "metadata": {},
   "outputs": [],
   "source": [
    "# print a bunch of the terms for each topic\n",
    "# relevant.groupby('topic')['term'].unique()"
   ]
  },
  {
   "cell_type": "markdown",
   "metadata": {},
   "source": [
    "# Takeaway \n",
    "Exploring these data sets were useful to get more familiar with the vocabulary used when dealing with natural disasters and will help in generating terminology lists to catch keywords that might show up in an OWL message. However, the context for these are not the best fit for our current task of generating and parsing potentia OWL help requests due to the generality and formality of some of the topics.\n",
    "\n",
    "I explore more personal tweets in [EDA]Hurricane_Harvey and work on matching against terminology lists in [EDA]Phrase_matcher."
   ]
  },
  {
   "cell_type": "code",
   "execution_count": null,
   "metadata": {},
   "outputs": [],
   "source": []
  }
 ],
 "metadata": {
  "kernelspec": {
   "display_name": "Python 3",
   "language": "python",
   "name": "python3"
  },
  "language_info": {
   "codemirror_mode": {
    "name": "ipython",
    "version": 3
   },
   "file_extension": ".py",
   "mimetype": "text/x-python",
   "name": "python",
   "nbconvert_exporter": "python",
   "pygments_lexer": "ipython3",
   "version": "3.6.8"
  }
 },
 "nbformat": 4,
 "nbformat_minor": 2
}

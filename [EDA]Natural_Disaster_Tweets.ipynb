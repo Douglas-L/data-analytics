{
 "cells": [
  {
   "cell_type": "code",
   "execution_count": 1,
   "metadata": {},
   "outputs": [],
   "source": [
    "import pandas as pd\n",
    "import numpy as np\n",
    "import matplotlib.pyplot as plt \n",
    "import seaborn as sns\n",
    "sns.set()"
   ]
  },
  {
   "cell_type": "markdown",
   "metadata": {},
   "source": [
    "# Load and explore available data"
   ]
  },
  {
   "cell_type": "code",
   "execution_count": 4,
   "metadata": {},
   "outputs": [],
   "source": [
    "sm = pd.read_csv('./data/socialmedia-disaster-tweets-DFE.csv', encoding='latin-1') # a simple encoding to ignore complex characters"
   ]
  },
  {
   "cell_type": "code",
   "execution_count": 6,
   "metadata": {},
   "outputs": [
    {
     "data": {
      "text/plain": [
       "(10876, 13)"
      ]
     },
     "execution_count": 6,
     "metadata": {},
     "output_type": "execute_result"
    }
   ],
   "source": [
    "sm.shape"
   ]
  },
  {
   "cell_type": "code",
   "execution_count": 5,
   "metadata": {},
   "outputs": [
    {
     "data": {
      "text/html": [
       "<div>\n",
       "<style scoped>\n",
       "    .dataframe tbody tr th:only-of-type {\n",
       "        vertical-align: middle;\n",
       "    }\n",
       "\n",
       "    .dataframe tbody tr th {\n",
       "        vertical-align: top;\n",
       "    }\n",
       "\n",
       "    .dataframe thead th {\n",
       "        text-align: right;\n",
       "    }\n",
       "</style>\n",
       "<table border=\"1\" class=\"dataframe\">\n",
       "  <thead>\n",
       "    <tr style=\"text-align: right;\">\n",
       "      <th></th>\n",
       "      <th>_unit_id</th>\n",
       "      <th>_golden</th>\n",
       "      <th>_unit_state</th>\n",
       "      <th>_trusted_judgments</th>\n",
       "      <th>_last_judgment_at</th>\n",
       "      <th>choose_one</th>\n",
       "      <th>choose_one:confidence</th>\n",
       "      <th>choose_one_gold</th>\n",
       "      <th>keyword</th>\n",
       "      <th>location</th>\n",
       "      <th>text</th>\n",
       "      <th>tweetid</th>\n",
       "      <th>userid</th>\n",
       "    </tr>\n",
       "  </thead>\n",
       "  <tbody>\n",
       "    <tr>\n",
       "      <th>0</th>\n",
       "      <td>778243823</td>\n",
       "      <td>True</td>\n",
       "      <td>golden</td>\n",
       "      <td>156</td>\n",
       "      <td>NaN</td>\n",
       "      <td>Relevant</td>\n",
       "      <td>1.0000</td>\n",
       "      <td>Relevant</td>\n",
       "      <td>NaN</td>\n",
       "      <td>NaN</td>\n",
       "      <td>Just happened a terrible car crash</td>\n",
       "      <td>1.0</td>\n",
       "      <td>NaN</td>\n",
       "    </tr>\n",
       "    <tr>\n",
       "      <th>1</th>\n",
       "      <td>778243824</td>\n",
       "      <td>True</td>\n",
       "      <td>golden</td>\n",
       "      <td>152</td>\n",
       "      <td>NaN</td>\n",
       "      <td>Relevant</td>\n",
       "      <td>1.0000</td>\n",
       "      <td>Relevant</td>\n",
       "      <td>NaN</td>\n",
       "      <td>NaN</td>\n",
       "      <td>Our Deeds are the Reason of this #earthquake M...</td>\n",
       "      <td>13.0</td>\n",
       "      <td>NaN</td>\n",
       "    </tr>\n",
       "    <tr>\n",
       "      <th>2</th>\n",
       "      <td>778243825</td>\n",
       "      <td>True</td>\n",
       "      <td>golden</td>\n",
       "      <td>137</td>\n",
       "      <td>NaN</td>\n",
       "      <td>Relevant</td>\n",
       "      <td>1.0000</td>\n",
       "      <td>Relevant</td>\n",
       "      <td>NaN</td>\n",
       "      <td>NaN</td>\n",
       "      <td>Heard about #earthquake is different cities, s...</td>\n",
       "      <td>14.0</td>\n",
       "      <td>NaN</td>\n",
       "    </tr>\n",
       "    <tr>\n",
       "      <th>3</th>\n",
       "      <td>778243826</td>\n",
       "      <td>True</td>\n",
       "      <td>golden</td>\n",
       "      <td>136</td>\n",
       "      <td>NaN</td>\n",
       "      <td>Relevant</td>\n",
       "      <td>0.9603</td>\n",
       "      <td>Relevant</td>\n",
       "      <td>NaN</td>\n",
       "      <td>NaN</td>\n",
       "      <td>there is a forest fire at spot pond, geese are...</td>\n",
       "      <td>15.0</td>\n",
       "      <td>NaN</td>\n",
       "    </tr>\n",
       "    <tr>\n",
       "      <th>4</th>\n",
       "      <td>778243827</td>\n",
       "      <td>True</td>\n",
       "      <td>golden</td>\n",
       "      <td>138</td>\n",
       "      <td>NaN</td>\n",
       "      <td>Relevant</td>\n",
       "      <td>1.0000</td>\n",
       "      <td>Relevant</td>\n",
       "      <td>NaN</td>\n",
       "      <td>NaN</td>\n",
       "      <td>Forest fire near La Ronge Sask. Canada</td>\n",
       "      <td>16.0</td>\n",
       "      <td>NaN</td>\n",
       "    </tr>\n",
       "  </tbody>\n",
       "</table>\n",
       "</div>"
      ],
      "text/plain": [
       "    _unit_id  _golden _unit_state  _trusted_judgments _last_judgment_at  \\\n",
       "0  778243823     True      golden                 156               NaN   \n",
       "1  778243824     True      golden                 152               NaN   \n",
       "2  778243825     True      golden                 137               NaN   \n",
       "3  778243826     True      golden                 136               NaN   \n",
       "4  778243827     True      golden                 138               NaN   \n",
       "\n",
       "  choose_one  choose_one:confidence choose_one_gold keyword location  \\\n",
       "0   Relevant                 1.0000        Relevant     NaN      NaN   \n",
       "1   Relevant                 1.0000        Relevant     NaN      NaN   \n",
       "2   Relevant                 1.0000        Relevant     NaN      NaN   \n",
       "3   Relevant                 0.9603        Relevant     NaN      NaN   \n",
       "4   Relevant                 1.0000        Relevant     NaN      NaN   \n",
       "\n",
       "                                                text  tweetid  userid  \n",
       "0                 Just happened a terrible car crash      1.0     NaN  \n",
       "1  Our Deeds are the Reason of this #earthquake M...     13.0     NaN  \n",
       "2  Heard about #earthquake is different cities, s...     14.0     NaN  \n",
       "3  there is a forest fire at spot pond, geese are...     15.0     NaN  \n",
       "4             Forest fire near La Ronge Sask. Canada     16.0     NaN  "
      ]
     },
     "execution_count": 5,
     "metadata": {},
     "output_type": "execute_result"
    }
   ],
   "source": [
    "sm.head()"
   ]
  },
  {
   "cell_type": "code",
   "execution_count": 24,
   "metadata": {},
   "outputs": [
    {
     "data": {
      "text/plain": [
       "_unit_id                 10876\n",
       "_golden                      2\n",
       "_unit_state                  2\n",
       "_trusted_judgments          45\n",
       "_last_judgment_at          696\n",
       "choose_one                   3\n",
       "choose_one:confidence      463\n",
       "choose_one_gold              4\n",
       "keyword                    221\n",
       "location                  4521\n",
       "text                     10678\n",
       "tweetid                   1243\n",
       "userid                    9781\n",
       "dtype: int64"
      ]
     },
     "execution_count": 24,
     "metadata": {},
     "output_type": "execute_result"
    }
   ],
   "source": [
    "sm.nunique()"
   ]
  },
  {
   "cell_type": "code",
   "execution_count": 57,
   "metadata": {},
   "outputs": [
    {
     "data": {
      "text/plain": [
       "_unit_id                   int64\n",
       "_golden                     bool\n",
       "_unit_state               object\n",
       "_trusted_judgments         int64\n",
       "_last_judgment_at         object\n",
       "choose_one                object\n",
       "choose_one:confidence    float64\n",
       "choose_one_gold           object\n",
       "keyword                   object\n",
       "location                  object\n",
       "text                      object\n",
       "tweetid                  float64\n",
       "userid                   float64\n",
       "dtype: object"
      ]
     },
     "execution_count": 57,
     "metadata": {},
     "output_type": "execute_result"
    }
   ],
   "source": [
    "sm.dtypes"
   ]
  },
  {
   "cell_type": "markdown",
   "metadata": {},
   "source": [
    "### Figure out what individual columns are\n",
    "Relevant means tweet relevant to a natural disaster event. Not relevant if used jokingly or in other manners.\n",
    "DATA_DICT:\n",
    "1. _unit_id: int, primary key\n",
    "2. _golden: bool, is_gold_standard\n",
    "3. _unit_state: str, ['golden', finalized'] \n",
    "4. _trusted_judgments: int, number of people who judged relevancy of tweet\n",
    "5. _last_judgment_at: datetime, timestamp for when comment was last judged\n",
    "6. _choose_one: str, [Relevant', 'Not Relevant', \"Can't Decide\"]\n",
    "7. choose_one:confidence: float, fraction that agrees on label?\n",
    "8. choose_one_gold: ['Relevant', \"Relevant\\nCan't Decide\", 'Not Relevant', \"Not Relevant\\nCan't Decide\", nan]\n",
    "9. keyword: str, word used to find tweets, can have space character %20\n",
    "10. location: str, geo tag?\n",
    "11. text: str, tweet text\n",
    "12. tweetid: float, useless as identifier\n",
    "13. userid: float, userid not unique"
   ]
  },
  {
   "cell_type": "code",
   "execution_count": 106,
   "metadata": {},
   "outputs": [
    {
     "data": {
      "text/html": [
       "<div>\n",
       "<style scoped>\n",
       "    .dataframe tbody tr th:only-of-type {\n",
       "        vertical-align: middle;\n",
       "    }\n",
       "\n",
       "    .dataframe tbody tr th {\n",
       "        vertical-align: top;\n",
       "    }\n",
       "\n",
       "    .dataframe thead th {\n",
       "        text-align: right;\n",
       "    }\n",
       "</style>\n",
       "<table border=\"1\" class=\"dataframe\">\n",
       "  <thead>\n",
       "    <tr style=\"text-align: right;\">\n",
       "      <th></th>\n",
       "      <th>_unit_id</th>\n",
       "      <th>_golden</th>\n",
       "      <th>_unit_state</th>\n",
       "      <th>_trusted_judgments</th>\n",
       "      <th>_last_judgment_at</th>\n",
       "      <th>choose_one</th>\n",
       "      <th>choose_one:confidence</th>\n",
       "      <th>choose_one_gold</th>\n",
       "      <th>keyword</th>\n",
       "      <th>location</th>\n",
       "      <th>text</th>\n",
       "      <th>tweetid</th>\n",
       "      <th>userid</th>\n",
       "    </tr>\n",
       "  </thead>\n",
       "  <tbody>\n",
       "    <tr>\n",
       "      <th>0</th>\n",
       "      <td>778243823</td>\n",
       "      <td>True</td>\n",
       "      <td>golden</td>\n",
       "      <td>156</td>\n",
       "      <td>NaN</td>\n",
       "      <td>Relevant</td>\n",
       "      <td>1.0000</td>\n",
       "      <td>Relevant</td>\n",
       "      <td>NaN</td>\n",
       "      <td>NaN</td>\n",
       "      <td>Just happened a terrible car crash</td>\n",
       "      <td>1.0</td>\n",
       "      <td>NaN</td>\n",
       "    </tr>\n",
       "    <tr>\n",
       "      <th>1</th>\n",
       "      <td>778243824</td>\n",
       "      <td>True</td>\n",
       "      <td>golden</td>\n",
       "      <td>152</td>\n",
       "      <td>NaN</td>\n",
       "      <td>Relevant</td>\n",
       "      <td>1.0000</td>\n",
       "      <td>Relevant</td>\n",
       "      <td>NaN</td>\n",
       "      <td>NaN</td>\n",
       "      <td>Our Deeds are the Reason of this #earthquake May ALLAH Forgive us all</td>\n",
       "      <td>13.0</td>\n",
       "      <td>NaN</td>\n",
       "    </tr>\n",
       "    <tr>\n",
       "      <th>2</th>\n",
       "      <td>778243825</td>\n",
       "      <td>True</td>\n",
       "      <td>golden</td>\n",
       "      <td>137</td>\n",
       "      <td>NaN</td>\n",
       "      <td>Relevant</td>\n",
       "      <td>1.0000</td>\n",
       "      <td>Relevant</td>\n",
       "      <td>NaN</td>\n",
       "      <td>NaN</td>\n",
       "      <td>Heard about #earthquake is different cities, stay safe everyone.</td>\n",
       "      <td>14.0</td>\n",
       "      <td>NaN</td>\n",
       "    </tr>\n",
       "    <tr>\n",
       "      <th>3</th>\n",
       "      <td>778243826</td>\n",
       "      <td>True</td>\n",
       "      <td>golden</td>\n",
       "      <td>136</td>\n",
       "      <td>NaN</td>\n",
       "      <td>Relevant</td>\n",
       "      <td>0.9603</td>\n",
       "      <td>Relevant</td>\n",
       "      <td>NaN</td>\n",
       "      <td>NaN</td>\n",
       "      <td>there is a forest fire at spot pond, geese are fleeing across the street, I cannot save them all</td>\n",
       "      <td>15.0</td>\n",
       "      <td>NaN</td>\n",
       "    </tr>\n",
       "    <tr>\n",
       "      <th>4</th>\n",
       "      <td>778243827</td>\n",
       "      <td>True</td>\n",
       "      <td>golden</td>\n",
       "      <td>138</td>\n",
       "      <td>NaN</td>\n",
       "      <td>Relevant</td>\n",
       "      <td>1.0000</td>\n",
       "      <td>Relevant</td>\n",
       "      <td>NaN</td>\n",
       "      <td>NaN</td>\n",
       "      <td>Forest fire near La Ronge Sask. Canada</td>\n",
       "      <td>16.0</td>\n",
       "      <td>NaN</td>\n",
       "    </tr>\n",
       "  </tbody>\n",
       "</table>\n",
       "</div>"
      ],
      "text/plain": [
       "    _unit_id  _golden _unit_state  _trusted_judgments _last_judgment_at  \\\n",
       "0  778243823     True      golden                 156               NaN   \n",
       "1  778243824     True      golden                 152               NaN   \n",
       "2  778243825     True      golden                 137               NaN   \n",
       "3  778243826     True      golden                 136               NaN   \n",
       "4  778243827     True      golden                 138               NaN   \n",
       "\n",
       "  choose_one  choose_one:confidence choose_one_gold keyword location  \\\n",
       "0   Relevant                 1.0000        Relevant     NaN      NaN   \n",
       "1   Relevant                 1.0000        Relevant     NaN      NaN   \n",
       "2   Relevant                 1.0000        Relevant     NaN      NaN   \n",
       "3   Relevant                 0.9603        Relevant     NaN      NaN   \n",
       "4   Relevant                 1.0000        Relevant     NaN      NaN   \n",
       "\n",
       "                                                                                               text  \\\n",
       "0                                                                Just happened a terrible car crash   \n",
       "1                             Our Deeds are the Reason of this #earthquake May ALLAH Forgive us all   \n",
       "2                                  Heard about #earthquake is different cities, stay safe everyone.   \n",
       "3  there is a forest fire at spot pond, geese are fleeing across the street, I cannot save them all   \n",
       "4                                                            Forest fire near La Ronge Sask. Canada   \n",
       "\n",
       "   tweetid  userid  \n",
       "0      1.0     NaN  \n",
       "1     13.0     NaN  \n",
       "2     14.0     NaN  \n",
       "3     15.0     NaN  \n",
       "4     16.0     NaN  "
      ]
     },
     "execution_count": 106,
     "metadata": {},
     "output_type": "execute_result"
    }
   ],
   "source": [
    "sm.head()"
   ]
  },
  {
   "cell_type": "markdown",
   "metadata": {},
   "source": [
    "#### Judgments"
   ]
  },
  {
   "cell_type": "code",
   "execution_count": 33,
   "metadata": {},
   "outputs": [
    {
     "data": {
      "text/plain": [
       "finalized    10789\n",
       "golden          87\n",
       "Name: _unit_state, dtype: int64"
      ]
     },
     "execution_count": 33,
     "metadata": {},
     "output_type": "execute_result"
    }
   ],
   "source": [
    "sm['_unit_state'].value_counts(dropna=False)\n",
    "# What does finalized mean? \n",
    "# golden should mean has verified label"
   ]
  },
  {
   "cell_type": "code",
   "execution_count": 35,
   "metadata": {},
   "outputs": [
    {
     "data": {
      "text/plain": [
       "5     9833\n",
       "6      698\n",
       "7      217\n",
       "8       41\n",
       "99       8\n",
       "Name: _trusted_judgments, dtype: int64"
      ]
     },
     "execution_count": 35,
     "metadata": {},
     "output_type": "execute_result"
    }
   ],
   "source": [
    "sm['_trusted_judgments'].value_counts(dropna=False).head()\n",
    "# looks like number of raters? 5 raters the most unccomon, leading to 1, 0.8, 0.6 being the most common confidence\n",
    "# So confidence is probably the fraction of votes"
   ]
  },
  {
   "cell_type": "code",
   "execution_count": 36,
   "metadata": {},
   "outputs": [
    {
     "name": "stderr",
     "output_type": "stream",
     "text": [
      "/home/douglas/anaconda3/lib/python3.6/site-packages/scipy/stats/stats.py:1713: FutureWarning: Using a non-tuple sequence for multidimensional indexing is deprecated; use `arr[tuple(seq)]` instead of `arr[seq]`. In the future this will be interpreted as an array index, `arr[np.array(seq)]`, which will result either in an error or a different result.\n",
      "  return np.add.reduce(sorted[indexer] * weights, axis=axis) / sumval\n"
     ]
    },
    {
     "data": {
      "text/plain": [
       "<matplotlib.axes._subplots.AxesSubplot at 0x7f178ec1ae10>"
      ]
     },
     "execution_count": 36,
     "metadata": {},
     "output_type": "execute_result"
    },
    {
     "data": {
      "image/png": "[encoded data removed]",
      "text/plain": [
       "<matplotlib.figure.Figure at 0x7f178e8ffa58>"
      ]
     },
     "metadata": {},
     "output_type": "display_data"
    }
   ],
   "source": [
    "sns.distplot(sm['choose_one:confidence'])"
   ]
  },
  {
   "cell_type": "code",
   "execution_count": 32,
   "metadata": {},
   "outputs": [
    {
     "data": {
      "text/plain": [
       "array([nan, '8/26/15 15:56', '8/28/15 19:14', '8/29/15 1:27',\n",
       "       '8/26/15 16:31'], dtype=object)"
      ]
     },
     "execution_count": 32,
     "metadata": {},
     "output_type": "execute_result"
    }
   ],
   "source": [
    "sm['_last_judgment_at'].unique()[:5]\n",
    "# looks like time when this was rated last? "
   ]
  },
  {
   "cell_type": "code",
   "execution_count": 40,
   "metadata": {},
   "outputs": [],
   "source": [
    "dates = pd.to_datetime(sm['_last_judgment_at'])"
   ]
  },
  {
   "cell_type": "code",
   "execution_count": 41,
   "metadata": {},
   "outputs": [
    {
     "data": {
      "text/plain": [
       "count                   10792\n",
       "unique                    696\n",
       "top       2015-08-27 16:12:00\n",
       "freq                       72\n",
       "first     2015-08-26 15:56:00\n",
       "last      2015-09-02 23:38:00\n",
       "Name: _last_judgment_at, dtype: object"
      ]
     },
     "execution_count": 41,
     "metadata": {},
     "output_type": "execute_result"
    }
   ],
   "source": [
    "dates.describe() # rated between one week \n",
    "# Any major events in this time period? Probably not"
   ]
  },
  {
   "cell_type": "markdown",
   "metadata": {},
   "source": [
    "#### Text"
   ]
  },
  {
   "cell_type": "code",
   "execution_count": 7,
   "metadata": {},
   "outputs": [
    {
     "data": {
      "text/plain": [
       "10517    ! Residents Return To Destroyed Homes As Washi...\n",
       "2798     ! Sex-themed e-books given curfew in Germany o...\n",
       "1383     # handbags Genuine Mulberry Antony Cross Body ...\n",
       "8314     #360WiseNews : China's Stock Market Crash: Are...\n",
       "8302     #360WiseNews : China's Stock Market Crash: Are...\n",
       "8334     #360WiseNews : China's Stock Market Crash: Are...\n",
       "8301     #360WiseNews : China's Stock Market Crash: Are...\n",
       "8341     #360WiseNews : China's Stock Market Crash: Are...\n",
       "8338     #360WiseNews : China's Stock Market Crash: Are...\n",
       "8316     #360WiseNews : China's Stock Market Crash: Are...\n",
       "1398     #3682 Nikon D50 6.1 MP Digital SLR Camera Body...\n",
       "106      #3: Car Recorder ZeroEdgeå¨ Dual-lens Car Came...\n",
       "7095     #3: TITAN WarriorCord 100 Feet - Authentic Mil...\n",
       "4351     #3Novices : Renison mine sees seismic event ht...\n",
       "3641     #4: The Hobbit: The Desolation of Smaug (Bilin...\n",
       "1413     #7294 Nikon D50 6.1 MP Digital SLR Camera Body...\n",
       "3106     #?? #?? #??? #??? MH370: Aircraft debris found...\n",
       "3109     #?? #?? #??? #??? MH370: Aircraft debris found...\n",
       "3135     #?? #?? #??? #??? MH370: Aircraft debris found...\n",
       "9171     #?? #?? #??? #??? Suicide bomber kills 15 in S...\n",
       "9184     #?? #?? #??? #??? Suicide bomber kills 15 in S...\n",
       "9191     #?? #?? #??? #??? Suicide bomber kills 15 in S...\n",
       "7966     #?? #?? #??? #??? The Latest: More Homes Razed...\n",
       "3112     #?? #???? #??? #??? MH370: Aircraft debris fou...\n",
       "3118     #?? #???? #??? #??? MH370: Aircraft debris fou...\n",
       "3126     #??? #?? #??? #??? MH370: Aircraft debris foun...\n",
       "10852    #??? #?? #??? #??? MH370: Aircraft debris foun...\n",
       "3529     #???? #?? #??? #??? Trains derailment: 'It's t...\n",
       "6444     #???? #?? #??? #??? Udhampur terror attack: Mi...\n",
       "1914     #?x?: :and to counter acts such as the burning...\n",
       "                               ...                        \n",
       "9888     ÛÏ@_keits: @LIVA_GOTTA get a gold chain you'l...\n",
       "4576     ÛÏ@based_georgie: yo forreal we need to have ...\n",
       "8469     ÛÏ@beachboyIrh: AT GMA THE SECURITY GUY SAID ...\n",
       "1544     ÛÏ@dylanmcclure55: Working at zumiez is the h...\n",
       "4848     ÛÏA voluntary evacuation is being recommended...\n",
       "3974     ÛÏEven in the midst of devastation something ...\n",
       "5905     ÛÏFor I know the plans I have for youÛ decl...\n",
       "1514     ÛÏParties and body bags go together like drin...\n",
       "3914     ÛÏRichmond Coaches were devastated to hear of...\n",
       "3911     ÛÏRichmond Coaches were devastated to hear of...\n",
       "3901     ÛÏRichmond Coaches were devastated to hear of...\n",
       "9041     ÛÏStretcher in 5 min // Speaker DeckÛ http:...\n",
       "9020     ÛÏStretcher in 5 min // Speaker DeckÛ http:...\n",
       "1581     ÛÏTell Shinichi Kudo that IÛªm giving him 3 ...\n",
       "2046     ÛÏThe road to power is paved with hypocrisy a...\n",
       "6587     ÛÏWe live in an area thatÛªs inundated with ...\n",
       "5486     ÛÏYou see the devastation &amp; itÛªs shocki...\n",
       "1883     ÛÓ bulletproof and black like a funeral; the ...\n",
       "1323     Û÷A Nightmare On Elm StreetÛª Is Getting Rem...\n",
       "9431     Û÷Faceless body belonged to my sisterÛª: #Hi...\n",
       "6258     Û÷Good SamaritansÛª shot in horror hijacking...\n",
       "6278     Û÷Good SamaritansÛª shot in horror hijacking...\n",
       "6216     Û÷Hijacker copsÛª back in the dock - http://...\n",
       "6293     Û÷RansomwareÛª holds B.C. manÛªs computer f...\n",
       "8990     Û÷SexistÛª peer review causes storm online h...\n",
       "5420     Û÷We Can HelpÛª Says Denver Firefighter Work...\n",
       "1414     å_? New Ladies Shoulder Tote #Handbag Faux Lea...\n",
       "1394     å¤} New Ladies Shoulder Tote #Handbag Faux Lea...\n",
       "4006     å¬'Only the sea knows how many are dead' @MSF_...\n",
       "2351     åÈMGN-AFRICAå¨ pin:263789F4 åÈ Correction: Ten...\n",
       "Name: text, Length: 10876, dtype: object"
      ]
     },
     "execution_count": 7,
     "metadata": {},
     "output_type": "execute_result"
    }
   ],
   "source": [
    "sm['text'].sort_values()"
   ]
  },
  {
   "cell_type": "markdown",
   "metadata": {},
   "source": [
    "#### Gold Standards"
   ]
  },
  {
   "cell_type": "code",
   "execution_count": 21,
   "metadata": {},
   "outputs": [
    {
     "data": {
      "text/plain": [
       "False    10792\n",
       "True        84\n",
       "Name: _golden, dtype: int64"
      ]
     },
     "execution_count": 21,
     "metadata": {},
     "output_type": "execute_result"
    }
   ],
   "source": [
    "sm['_golden'].value_counts(dropna=False)"
   ]
  },
  {
   "cell_type": "code",
   "execution_count": 28,
   "metadata": {},
   "outputs": [
    {
     "data": {
      "text/plain": [
       "NaN                           10789\n",
       "Relevant                         57\n",
       "Not Relevant                     24\n",
       "Relevant\\nCan't Decide            4\n",
       "Not Relevant\\nCan't Decide        2\n",
       "Name: choose_one_gold, dtype: int64"
      ]
     },
     "execution_count": 28,
     "metadata": {},
     "output_type": "execute_result"
    }
   ],
   "source": [
    "sm['choose_one_gold'].value_counts(dropna=False) "
   ]
  },
  {
   "cell_type": "code",
   "execution_count": 27,
   "metadata": {},
   "outputs": [
    {
     "data": {
      "text/html": [
       "<div>\n",
       "<style scoped>\n",
       "    .dataframe tbody tr th:only-of-type {\n",
       "        vertical-align: middle;\n",
       "    }\n",
       "\n",
       "    .dataframe tbody tr th {\n",
       "        vertical-align: top;\n",
       "    }\n",
       "\n",
       "    .dataframe thead th {\n",
       "        text-align: right;\n",
       "    }\n",
       "</style>\n",
       "<table border=\"1\" class=\"dataframe\">\n",
       "  <thead>\n",
       "    <tr style=\"text-align: right;\">\n",
       "      <th></th>\n",
       "      <th>_unit_id</th>\n",
       "      <th>_golden</th>\n",
       "      <th>_unit_state</th>\n",
       "      <th>_trusted_judgments</th>\n",
       "      <th>_last_judgment_at</th>\n",
       "      <th>choose_one</th>\n",
       "      <th>choose_one:confidence</th>\n",
       "      <th>choose_one_gold</th>\n",
       "      <th>keyword</th>\n",
       "      <th>location</th>\n",
       "      <th>text</th>\n",
       "      <th>tweetid</th>\n",
       "      <th>userid</th>\n",
       "    </tr>\n",
       "  </thead>\n",
       "  <tbody>\n",
       "    <tr>\n",
       "      <th>9</th>\n",
       "      <td>778243834</td>\n",
       "      <td>True</td>\n",
       "      <td>golden</td>\n",
       "      <td>136</td>\n",
       "      <td>NaN</td>\n",
       "      <td>Relevant</td>\n",
       "      <td>0.9606</td>\n",
       "      <td>Relevant\\nCan't Decide</td>\n",
       "      <td>NaN</td>\n",
       "      <td>NaN</td>\n",
       "      <td>Apocalypse lighting. #Spokane #wildfires</td>\n",
       "      <td>21.0</td>\n",
       "      <td>NaN</td>\n",
       "    </tr>\n",
       "    <tr>\n",
       "      <th>13</th>\n",
       "      <td>778243838</td>\n",
       "      <td>True</td>\n",
       "      <td>golden</td>\n",
       "      <td>140</td>\n",
       "      <td>NaN</td>\n",
       "      <td>Relevant</td>\n",
       "      <td>0.9607</td>\n",
       "      <td>Relevant\\nCan't Decide</td>\n",
       "      <td>NaN</td>\n",
       "      <td>NaN</td>\n",
       "      <td>I'm on top of the hill and I can see a fire in...</td>\n",
       "      <td>7.0</td>\n",
       "      <td>NaN</td>\n",
       "    </tr>\n",
       "    <tr>\n",
       "      <th>15</th>\n",
       "      <td>778243840</td>\n",
       "      <td>True</td>\n",
       "      <td>golden</td>\n",
       "      <td>147</td>\n",
       "      <td>NaN</td>\n",
       "      <td>Relevant</td>\n",
       "      <td>0.7177</td>\n",
       "      <td>Relevant\\nCan't Decide</td>\n",
       "      <td>NaN</td>\n",
       "      <td>NaN</td>\n",
       "      <td>I'm afraid that the tornado is coming to our a...</td>\n",
       "      <td>9.0</td>\n",
       "      <td>NaN</td>\n",
       "    </tr>\n",
       "    <tr>\n",
       "      <th>19</th>\n",
       "      <td>778243844</td>\n",
       "      <td>True</td>\n",
       "      <td>golden</td>\n",
       "      <td>147</td>\n",
       "      <td>NaN</td>\n",
       "      <td>Relevant</td>\n",
       "      <td>0.6761</td>\n",
       "      <td>Relevant\\nCan't Decide</td>\n",
       "      <td>NaN</td>\n",
       "      <td>NaN</td>\n",
       "      <td>#Flood in Bago Myanmar #We arrived Bago</td>\n",
       "      <td>24.0</td>\n",
       "      <td>NaN</td>\n",
       "    </tr>\n",
       "  </tbody>\n",
       "</table>\n",
       "</div>"
      ],
      "text/plain": [
       "     _unit_id  _golden _unit_state  _trusted_judgments _last_judgment_at  \\\n",
       "9   778243834     True      golden                 136               NaN   \n",
       "13  778243838     True      golden                 140               NaN   \n",
       "15  778243840     True      golden                 147               NaN   \n",
       "19  778243844     True      golden                 147               NaN   \n",
       "\n",
       "   choose_one  choose_one:confidence         choose_one_gold keyword location  \\\n",
       "9    Relevant                 0.9606  Relevant\\nCan't Decide     NaN      NaN   \n",
       "13   Relevant                 0.9607  Relevant\\nCan't Decide     NaN      NaN   \n",
       "15   Relevant                 0.7177  Relevant\\nCan't Decide     NaN      NaN   \n",
       "19   Relevant                 0.6761  Relevant\\nCan't Decide     NaN      NaN   \n",
       "\n",
       "                                                 text  tweetid  userid  \n",
       "9            Apocalypse lighting. #Spokane #wildfires     21.0     NaN  \n",
       "13  I'm on top of the hill and I can see a fire in...      7.0     NaN  \n",
       "15  I'm afraid that the tornado is coming to our a...      9.0     NaN  \n",
       "19            #Flood in Bago Myanmar #We arrived Bago     24.0     NaN  "
      ]
     },
     "execution_count": 27,
     "metadata": {},
     "output_type": "execute_result"
    }
   ],
   "source": [
    "sm[sm['choose_one_gold'] == \"Relevant\\nCan't Decide\"]"
   ]
  },
  {
   "cell_type": "code",
   "execution_count": 26,
   "metadata": {},
   "outputs": [
    {
     "data": {
      "text/html": [
       "<div>\n",
       "<style scoped>\n",
       "    .dataframe tbody tr th:only-of-type {\n",
       "        vertical-align: middle;\n",
       "    }\n",
       "\n",
       "    .dataframe tbody tr th {\n",
       "        vertical-align: top;\n",
       "    }\n",
       "\n",
       "    .dataframe thead th {\n",
       "        text-align: right;\n",
       "    }\n",
       "</style>\n",
       "<table border=\"1\" class=\"dataframe\">\n",
       "  <thead>\n",
       "    <tr style=\"text-align: right;\">\n",
       "      <th></th>\n",
       "      <th>_unit_id</th>\n",
       "      <th>_golden</th>\n",
       "      <th>_unit_state</th>\n",
       "      <th>_trusted_judgments</th>\n",
       "      <th>_last_judgment_at</th>\n",
       "      <th>choose_one</th>\n",
       "      <th>choose_one:confidence</th>\n",
       "      <th>choose_one_gold</th>\n",
       "      <th>keyword</th>\n",
       "      <th>location</th>\n",
       "      <th>text</th>\n",
       "      <th>tweetid</th>\n",
       "      <th>userid</th>\n",
       "    </tr>\n",
       "  </thead>\n",
       "  <tbody>\n",
       "    <tr>\n",
       "      <th>42</th>\n",
       "      <td>778243871</td>\n",
       "      <td>True</td>\n",
       "      <td>golden</td>\n",
       "      <td>147</td>\n",
       "      <td>NaN</td>\n",
       "      <td>Not Relevant</td>\n",
       "      <td>1.0000</td>\n",
       "      <td>Not Relevant\\nCan't Decide</td>\n",
       "      <td>NaN</td>\n",
       "      <td>NaN</td>\n",
       "      <td>No don't tell me that!</td>\n",
       "      <td>47.0</td>\n",
       "      <td>NaN</td>\n",
       "    </tr>\n",
       "    <tr>\n",
       "      <th>44</th>\n",
       "      <td>778243874</td>\n",
       "      <td>True</td>\n",
       "      <td>golden</td>\n",
       "      <td>134</td>\n",
       "      <td>NaN</td>\n",
       "      <td>Not Relevant</td>\n",
       "      <td>0.5945</td>\n",
       "      <td>Not Relevant\\nCan't Decide</td>\n",
       "      <td>NaN</td>\n",
       "      <td>NaN</td>\n",
       "      <td>The end!</td>\n",
       "      <td>49.0</td>\n",
       "      <td>NaN</td>\n",
       "    </tr>\n",
       "  </tbody>\n",
       "</table>\n",
       "</div>"
      ],
      "text/plain": [
       "     _unit_id  _golden _unit_state  _trusted_judgments _last_judgment_at  \\\n",
       "42  778243871     True      golden                 147               NaN   \n",
       "44  778243874     True      golden                 134               NaN   \n",
       "\n",
       "      choose_one  choose_one:confidence             choose_one_gold keyword  \\\n",
       "42  Not Relevant                 1.0000  Not Relevant\\nCan't Decide     NaN   \n",
       "44  Not Relevant                 0.5945  Not Relevant\\nCan't Decide     NaN   \n",
       "\n",
       "   location                    text  tweetid  userid  \n",
       "42      NaN  No don't tell me that!     47.0     NaN  \n",
       "44      NaN                The end!     49.0     NaN  "
      ]
     },
     "execution_count": 26,
     "metadata": {},
     "output_type": "execute_result"
    }
   ],
   "source": [
    "sm[sm['choose_one_gold'] == \"Not Relevant\\nCan't Decide\"]"
   ]
  },
  {
   "cell_type": "code",
   "execution_count": 30,
   "metadata": {},
   "outputs": [
    {
     "data": {
      "text/html": [
       "<div>\n",
       "<style scoped>\n",
       "    .dataframe tbody tr th:only-of-type {\n",
       "        vertical-align: middle;\n",
       "    }\n",
       "\n",
       "    .dataframe tbody tr th {\n",
       "        vertical-align: top;\n",
       "    }\n",
       "\n",
       "    .dataframe thead th {\n",
       "        text-align: right;\n",
       "    }\n",
       "</style>\n",
       "<table border=\"1\" class=\"dataframe\">\n",
       "  <thead>\n",
       "    <tr style=\"text-align: right;\">\n",
       "      <th></th>\n",
       "      <th>_unit_id</th>\n",
       "      <th>_golden</th>\n",
       "      <th>_unit_state</th>\n",
       "      <th>_trusted_judgments</th>\n",
       "      <th>_last_judgment_at</th>\n",
       "      <th>choose_one</th>\n",
       "      <th>choose_one:confidence</th>\n",
       "      <th>choose_one_gold</th>\n",
       "      <th>keyword</th>\n",
       "      <th>location</th>\n",
       "      <th>text</th>\n",
       "      <th>tweetid</th>\n",
       "      <th>userid</th>\n",
       "    </tr>\n",
       "  </thead>\n",
       "  <tbody>\n",
       "    <tr>\n",
       "      <th>10841</th>\n",
       "      <td>778261075</td>\n",
       "      <td>False</td>\n",
       "      <td>golden</td>\n",
       "      <td>11</td>\n",
       "      <td>8/27/15 16:33</td>\n",
       "      <td>Not Relevant</td>\n",
       "      <td>0.6324</td>\n",
       "      <td>Relevant</td>\n",
       "      <td>NaN</td>\n",
       "      <td>NaN</td>\n",
       "      <td>Sirens everywhere!</td>\n",
       "      <td>235.0</td>\n",
       "      <td>NaN</td>\n",
       "    </tr>\n",
       "    <tr>\n",
       "      <th>10848</th>\n",
       "      <td>778261082</td>\n",
       "      <td>False</td>\n",
       "      <td>golden</td>\n",
       "      <td>14</td>\n",
       "      <td>8/27/15 16:20</td>\n",
       "      <td>Not Relevant</td>\n",
       "      <td>0.5696</td>\n",
       "      <td>Relevant</td>\n",
       "      <td>NaN</td>\n",
       "      <td>NaN</td>\n",
       "      <td>I just heard a really loud bang and everyone i...</td>\n",
       "      <td>7807.0</td>\n",
       "      <td>NaN</td>\n",
       "    </tr>\n",
       "    <tr>\n",
       "      <th>10861</th>\n",
       "      <td>778261095</td>\n",
       "      <td>False</td>\n",
       "      <td>golden</td>\n",
       "      <td>3</td>\n",
       "      <td>8/27/15 13:52</td>\n",
       "      <td>Not Relevant</td>\n",
       "      <td>0.6678</td>\n",
       "      <td>Relevant</td>\n",
       "      <td>NaN</td>\n",
       "      <td>NaN</td>\n",
       "      <td>EARTHQUAKE SAFETY LOS ANGELES ÛÒ SAFETY FASTE...</td>\n",
       "      <td>242635.0</td>\n",
       "      <td>NaN</td>\n",
       "    </tr>\n",
       "  </tbody>\n",
       "</table>\n",
       "</div>"
      ],
      "text/plain": [
       "        _unit_id  _golden _unit_state  _trusted_judgments _last_judgment_at  \\\n",
       "10841  778261075    False      golden                  11     8/27/15 16:33   \n",
       "10848  778261082    False      golden                  14     8/27/15 16:20   \n",
       "10861  778261095    False      golden                   3     8/27/15 13:52   \n",
       "\n",
       "         choose_one  choose_one:confidence choose_one_gold keyword location  \\\n",
       "10841  Not Relevant                 0.6324        Relevant     NaN      NaN   \n",
       "10848  Not Relevant                 0.5696        Relevant     NaN      NaN   \n",
       "10861  Not Relevant                 0.6678        Relevant     NaN      NaN   \n",
       "\n",
       "                                                    text   tweetid  userid  \n",
       "10841                                 Sirens everywhere!     235.0     NaN  \n",
       "10848  I just heard a really loud bang and everyone i...    7807.0     NaN  \n",
       "10861  EARTHQUAKE SAFETY LOS ANGELES ÛÒ SAFETY FASTE...  242635.0     NaN  "
      ]
     },
     "execution_count": 30,
     "metadata": {},
     "output_type": "execute_result"
    }
   ],
   "source": [
    "len(sm[(~sm['_golden']) & (sm['choose_one_gold'] == 'Relevant')]) # check length reveals this is the discrepancy\n",
    "sm[(~sm['_golden']) & (sm['choose_one_gold'] == 'Relevant')] "
   ]
  },
  {
   "cell_type": "code",
   "execution_count": 56,
   "metadata": {},
   "outputs": [],
   "source": [
    "# Fix inconsistency\n",
    "sm.loc[(~sm['_golden']) & (sm['choose_one_gold'] == 'Relevant'), '_golden'] = True "
   ]
  },
  {
   "cell_type": "code",
   "execution_count": null,
   "metadata": {},
   "outputs": [],
   "source": [
    "# Q: How often is choose_one correct vs choose_one_gold? "
   ]
  },
  {
   "cell_type": "code",
   "execution_count": 17,
   "metadata": {},
   "outputs": [
    {
     "data": {
      "text/plain": [
       "Not Relevant    6187\n",
       "Relevant        4673\n",
       "Can't Decide      16\n",
       "Name: choose_one, dtype: int64"
      ]
     },
     "execution_count": 17,
     "metadata": {},
     "output_type": "execute_result"
    }
   ],
   "source": [
    "sm['choose_one'].value_counts()"
   ]
  },
  {
   "cell_type": "code",
   "execution_count": 60,
   "metadata": {},
   "outputs": [
    {
     "data": {
      "text/plain": [
       "78"
      ]
     },
     "execution_count": 60,
     "metadata": {},
     "output_type": "execute_result"
    }
   ],
   "source": [
    "(sm['choose_one'] == sm['choose_one_gold']).sum()"
   ]
  },
  {
   "cell_type": "code",
   "execution_count": 62,
   "metadata": {},
   "outputs": [
    {
     "data": {
      "text/plain": [
       "78"
      ]
     },
     "execution_count": 62,
     "metadata": {},
     "output_type": "execute_result"
    }
   ],
   "source": [
    "(sm.loc[sm['_golden'], 'choose_one'] == sm.loc[sm['_golden'], 'choose_one_gold']).sum() \n",
    "# Ratings from 78/87 gold standard comments are correct"
   ]
  },
  {
   "cell_type": "code",
   "execution_count": 71,
   "metadata": {},
   "outputs": [
    {
     "data": {
      "text/html": [
       "<div>\n",
       "<style scoped>\n",
       "    .dataframe tbody tr th:only-of-type {\n",
       "        vertical-align: middle;\n",
       "    }\n",
       "\n",
       "    .dataframe tbody tr th {\n",
       "        vertical-align: top;\n",
       "    }\n",
       "\n",
       "    .dataframe thead th {\n",
       "        text-align: right;\n",
       "    }\n",
       "</style>\n",
       "<table border=\"1\" class=\"dataframe\">\n",
       "  <thead>\n",
       "    <tr style=\"text-align: right;\">\n",
       "      <th></th>\n",
       "      <th>_unit_id</th>\n",
       "      <th>_golden</th>\n",
       "      <th>_unit_state</th>\n",
       "      <th>_trusted_judgments</th>\n",
       "      <th>_last_judgment_at</th>\n",
       "      <th>choose_one</th>\n",
       "      <th>choose_one:confidence</th>\n",
       "      <th>choose_one_gold</th>\n",
       "      <th>keyword</th>\n",
       "      <th>location</th>\n",
       "      <th>text</th>\n",
       "      <th>tweetid</th>\n",
       "      <th>userid</th>\n",
       "    </tr>\n",
       "  </thead>\n",
       "  <tbody>\n",
       "    <tr>\n",
       "      <th>9</th>\n",
       "      <td>778243834</td>\n",
       "      <td>True</td>\n",
       "      <td>golden</td>\n",
       "      <td>136</td>\n",
       "      <td>NaN</td>\n",
       "      <td>Relevant</td>\n",
       "      <td>0.9606</td>\n",
       "      <td>Relevant\\nCan't Decide</td>\n",
       "      <td>NaN</td>\n",
       "      <td>NaN</td>\n",
       "      <td>Apocalypse lighting. #Spokane #wildfires</td>\n",
       "      <td>21.0</td>\n",
       "      <td>NaN</td>\n",
       "    </tr>\n",
       "    <tr>\n",
       "      <th>13</th>\n",
       "      <td>778243838</td>\n",
       "      <td>True</td>\n",
       "      <td>golden</td>\n",
       "      <td>140</td>\n",
       "      <td>NaN</td>\n",
       "      <td>Relevant</td>\n",
       "      <td>0.9607</td>\n",
       "      <td>Relevant\\nCan't Decide</td>\n",
       "      <td>NaN</td>\n",
       "      <td>NaN</td>\n",
       "      <td>I'm on top of the hill and I can see a fire in the woods...</td>\n",
       "      <td>7.0</td>\n",
       "      <td>NaN</td>\n",
       "    </tr>\n",
       "    <tr>\n",
       "      <th>15</th>\n",
       "      <td>778243840</td>\n",
       "      <td>True</td>\n",
       "      <td>golden</td>\n",
       "      <td>147</td>\n",
       "      <td>NaN</td>\n",
       "      <td>Relevant</td>\n",
       "      <td>0.7177</td>\n",
       "      <td>Relevant\\nCan't Decide</td>\n",
       "      <td>NaN</td>\n",
       "      <td>NaN</td>\n",
       "      <td>I'm afraid that the tornado is coming to our area...</td>\n",
       "      <td>9.0</td>\n",
       "      <td>NaN</td>\n",
       "    </tr>\n",
       "    <tr>\n",
       "      <th>19</th>\n",
       "      <td>778243844</td>\n",
       "      <td>True</td>\n",
       "      <td>golden</td>\n",
       "      <td>147</td>\n",
       "      <td>NaN</td>\n",
       "      <td>Relevant</td>\n",
       "      <td>0.6761</td>\n",
       "      <td>Relevant\\nCan't Decide</td>\n",
       "      <td>NaN</td>\n",
       "      <td>NaN</td>\n",
       "      <td>#Flood in Bago Myanmar #We arrived Bago</td>\n",
       "      <td>24.0</td>\n",
       "      <td>NaN</td>\n",
       "    </tr>\n",
       "    <tr>\n",
       "      <th>42</th>\n",
       "      <td>778243871</td>\n",
       "      <td>True</td>\n",
       "      <td>golden</td>\n",
       "      <td>147</td>\n",
       "      <td>NaN</td>\n",
       "      <td>Not Relevant</td>\n",
       "      <td>1.0000</td>\n",
       "      <td>Not Relevant\\nCan't Decide</td>\n",
       "      <td>NaN</td>\n",
       "      <td>NaN</td>\n",
       "      <td>No don't tell me that!</td>\n",
       "      <td>47.0</td>\n",
       "      <td>NaN</td>\n",
       "    </tr>\n",
       "    <tr>\n",
       "      <th>44</th>\n",
       "      <td>778243874</td>\n",
       "      <td>True</td>\n",
       "      <td>golden</td>\n",
       "      <td>134</td>\n",
       "      <td>NaN</td>\n",
       "      <td>Not Relevant</td>\n",
       "      <td>0.5945</td>\n",
       "      <td>Not Relevant\\nCan't Decide</td>\n",
       "      <td>NaN</td>\n",
       "      <td>NaN</td>\n",
       "      <td>The end!</td>\n",
       "      <td>49.0</td>\n",
       "      <td>NaN</td>\n",
       "    </tr>\n",
       "    <tr>\n",
       "      <th>10841</th>\n",
       "      <td>778261075</td>\n",
       "      <td>True</td>\n",
       "      <td>golden</td>\n",
       "      <td>11</td>\n",
       "      <td>8/27/15 16:33</td>\n",
       "      <td>Not Relevant</td>\n",
       "      <td>0.6324</td>\n",
       "      <td>Relevant</td>\n",
       "      <td>NaN</td>\n",
       "      <td>NaN</td>\n",
       "      <td>Sirens everywhere!</td>\n",
       "      <td>235.0</td>\n",
       "      <td>NaN</td>\n",
       "    </tr>\n",
       "    <tr>\n",
       "      <th>10848</th>\n",
       "      <td>778261082</td>\n",
       "      <td>True</td>\n",
       "      <td>golden</td>\n",
       "      <td>14</td>\n",
       "      <td>8/27/15 16:20</td>\n",
       "      <td>Not Relevant</td>\n",
       "      <td>0.5696</td>\n",
       "      <td>Relevant</td>\n",
       "      <td>NaN</td>\n",
       "      <td>NaN</td>\n",
       "      <td>I just heard a really loud bang and everyone is asleep great</td>\n",
       "      <td>7807.0</td>\n",
       "      <td>NaN</td>\n",
       "    </tr>\n",
       "    <tr>\n",
       "      <th>10861</th>\n",
       "      <td>778261095</td>\n",
       "      <td>True</td>\n",
       "      <td>golden</td>\n",
       "      <td>3</td>\n",
       "      <td>8/27/15 13:52</td>\n",
       "      <td>Not Relevant</td>\n",
       "      <td>0.6678</td>\n",
       "      <td>Relevant</td>\n",
       "      <td>NaN</td>\n",
       "      <td>NaN</td>\n",
       "      <td>EARTHQUAKE SAFETY LOS ANGELES ÛÒ SAFETY FASTENERS XrWn</td>\n",
       "      <td>242635.0</td>\n",
       "      <td>NaN</td>\n",
       "    </tr>\n",
       "  </tbody>\n",
       "</table>\n",
       "</div>"
      ],
      "text/plain": [
       "        _unit_id  _golden _unit_state  _trusted_judgments _last_judgment_at  \\\n",
       "9      778243834     True      golden                 136               NaN   \n",
       "13     778243838     True      golden                 140               NaN   \n",
       "15     778243840     True      golden                 147               NaN   \n",
       "19     778243844     True      golden                 147               NaN   \n",
       "42     778243871     True      golden                 147               NaN   \n",
       "44     778243874     True      golden                 134               NaN   \n",
       "10841  778261075     True      golden                  11     8/27/15 16:33   \n",
       "10848  778261082     True      golden                  14     8/27/15 16:20   \n",
       "10861  778261095     True      golden                   3     8/27/15 13:52   \n",
       "\n",
       "         choose_one  choose_one:confidence             choose_one_gold  \\\n",
       "9          Relevant                 0.9606      Relevant\\nCan't Decide   \n",
       "13         Relevant                 0.9607      Relevant\\nCan't Decide   \n",
       "15         Relevant                 0.7177      Relevant\\nCan't Decide   \n",
       "19         Relevant                 0.6761      Relevant\\nCan't Decide   \n",
       "42     Not Relevant                 1.0000  Not Relevant\\nCan't Decide   \n",
       "44     Not Relevant                 0.5945  Not Relevant\\nCan't Decide   \n",
       "10841  Not Relevant                 0.6324                    Relevant   \n",
       "10848  Not Relevant                 0.5696                    Relevant   \n",
       "10861  Not Relevant                 0.6678                    Relevant   \n",
       "\n",
       "      keyword location  \\\n",
       "9         NaN      NaN   \n",
       "13        NaN      NaN   \n",
       "15        NaN      NaN   \n",
       "19        NaN      NaN   \n",
       "42        NaN      NaN   \n",
       "44        NaN      NaN   \n",
       "10841     NaN      NaN   \n",
       "10848     NaN      NaN   \n",
       "10861     NaN      NaN   \n",
       "\n",
       "                                                               text   tweetid  \\\n",
       "9                          Apocalypse lighting. #Spokane #wildfires      21.0   \n",
       "13      I'm on top of the hill and I can see a fire in the woods...       7.0   \n",
       "15             I'm afraid that the tornado is coming to our area...       9.0   \n",
       "19                          #Flood in Bago Myanmar #We arrived Bago      24.0   \n",
       "42                                           No don't tell me that!      47.0   \n",
       "44                                                         The end!      49.0   \n",
       "10841                                            Sirens everywhere!     235.0   \n",
       "10848  I just heard a really loud bang and everyone is asleep great    7807.0   \n",
       "10861       EARTHQUAKE SAFETY LOS ANGELES ÛÒ SAFETY FASTENERS XrWn  242635.0   \n",
       "\n",
       "       userid  \n",
       "9         NaN  \n",
       "13        NaN  \n",
       "15        NaN  \n",
       "19        NaN  \n",
       "42        NaN  \n",
       "44        NaN  \n",
       "10841     NaN  \n",
       "10848     NaN  \n",
       "10861     NaN  "
      ]
     },
     "execution_count": 71,
     "metadata": {},
     "output_type": "execute_result"
    }
   ],
   "source": [
    "# Where did they disagree?\n",
    "sm.loc[sm['_golden']][(sm.loc[sm['_golden'], 'choose_one'] != sm.loc[sm['_golden'], 'choose_one_gold'])]\n",
    "# Mostly the can't deicde's. "
   ]
  },
  {
   "cell_type": "markdown",
   "metadata": {},
   "source": [
    "#### Keyword and Location"
   ]
  },
  {
   "cell_type": "code",
   "execution_count": 43,
   "metadata": {},
   "outputs": [
    {
     "data": {
      "text/plain": [
       "casualties        50\n",
       "whirlwind         50\n",
       "suicide%20bomb    50\n",
       "evacuate          50\n",
       "snowstorm         50\n",
       "Name: keyword, dtype: int64"
      ]
     },
     "execution_count": 43,
     "metadata": {},
     "output_type": "execute_result"
    }
   ],
   "source": [
    "sm['keyword'].value_counts().head()\n",
    "# probably the key word used to find each tweet \n",
    "# For OWL - shouldn't have to worry about keywords being used jokingly\n",
    "# Can use these in text generation? "
   ]
  },
  {
   "cell_type": "code",
   "execution_count": 55,
   "metadata": {},
   "outputs": [
    {
     "data": {
      "text/plain": [
       "NaN              3638\n",
       "USA               141\n",
       "New York          109\n",
       "United States      65\n",
       "London             58\n",
       "Name: location, dtype: int64"
      ]
     },
     "execution_count": 55,
     "metadata": {},
     "output_type": "execute_result"
    }
   ],
   "source": [
    "sm['location'].value_counts(dropna=False).head()"
   ]
  },
  {
   "cell_type": "code",
   "execution_count": 54,
   "metadata": {},
   "outputs": [
    {
     "name": "stdout",
     "output_type": "stream",
     "text": [
      "228    See how a judge ruled in this 2009 accident at #JFK Airport? involving Korean Air?.\\n\\nhttp://t.co/Yh1cGlN3rl http://t.co/6F5ShPKjOB       \n",
      "507    SHARK ARMY Black Date Stainless Steel Quartz Men Sport Watch - Full read by eBay http://t.co/k6OzC4wFQd http://t.co/H2ZC4nTdZN             \n",
      "517    INFANTRY Mens Lume Dial Army Analog Quartz Wrist Watch Sport Blue Nylon Fabric  - Full reaÛ_ http://t.co/hEP9k0XgHb http://t.co/80EBvglmrA\n",
      "528    WWI WWII JAPANESE ARMY NAVY MILITARY JAPAN LEATHER WATCH WAR MIDO WW1 2 - Full read by eBay http://t.co/F9j3l2Yjl4 http://t.co/mwwWOWCayO  \n",
      "540    WWI WWII JAPANESE ARMY NAVY MILITARY JAPAN LEATHER WATCH WAR MIDO WW1 2 - Full read by eBay http://t.co/QUmcE7W2tY http://t.co/KTKG2sDhHl  \n",
      "Name: text, dtype: object\n"
     ]
    }
   ],
   "source": [
    "with pd.option_context('max_colwidth', -1):\n",
    "    print(sm[sm['location'] == 'New York']['text'].head())\n",
    "# Not sure how location is determined - tweet geo tag? "
   ]
  },
  {
   "cell_type": "markdown",
   "metadata": {},
   "source": [
    "#### IDs"
   ]
  },
  {
   "cell_type": "code",
   "execution_count": 94,
   "metadata": {},
   "outputs": [
    {
     "data": {
      "text/plain": [
       "6.290840e+17    197\n",
       "6.290830e+17    190\n",
       "6.290990e+17    166\n",
       "6.290800e+17    157\n",
       "6.290820e+17    152\n",
       "Name: tweetid, dtype: int64"
      ]
     },
     "execution_count": 94,
     "metadata": {},
     "output_type": "execute_result"
    }
   ],
   "source": [
    "sm['tweetid'].value_counts(dropna=False).head()"
   ]
  },
  {
   "cell_type": "code",
   "execution_count": 102,
   "metadata": {},
   "outputs": [
    {
     "data": {
      "text/plain": [
       "6.29084e+17"
      ]
     },
     "execution_count": 102,
     "metadata": {},
     "output_type": "execute_result"
    }
   ],
   "source": [
    "sm[sm['tweetid'].astype('str').str.contains('6.29084')]['tweetid'][547]"
   ]
  },
  {
   "cell_type": "code",
   "execution_count": 105,
   "metadata": {},
   "outputs": [
    {
     "data": {
      "text/html": [
       "<div>\n",
       "<style scoped>\n",
       "    .dataframe tbody tr th:only-of-type {\n",
       "        vertical-align: middle;\n",
       "    }\n",
       "\n",
       "    .dataframe tbody tr th {\n",
       "        vertical-align: top;\n",
       "    }\n",
       "\n",
       "    .dataframe thead th {\n",
       "        text-align: right;\n",
       "    }\n",
       "</style>\n",
       "<table border=\"1\" class=\"dataframe\">\n",
       "  <thead>\n",
       "    <tr style=\"text-align: right;\">\n",
       "      <th></th>\n",
       "      <th>_unit_id</th>\n",
       "      <th>_golden</th>\n",
       "      <th>_unit_state</th>\n",
       "      <th>_trusted_judgments</th>\n",
       "      <th>_last_judgment_at</th>\n",
       "      <th>choose_one</th>\n",
       "      <th>choose_one:confidence</th>\n",
       "      <th>choose_one_gold</th>\n",
       "      <th>keyword</th>\n",
       "      <th>location</th>\n",
       "      <th>text</th>\n",
       "      <th>tweetid</th>\n",
       "      <th>userid</th>\n",
       "    </tr>\n",
       "  </thead>\n",
       "  <tbody>\n",
       "    <tr>\n",
       "      <th>547</th>\n",
       "      <td>778245363</td>\n",
       "      <td>False</td>\n",
       "      <td>finalized</td>\n",
       "      <td>5</td>\n",
       "      <td>8/28/15 7:33</td>\n",
       "      <td>Relevant</td>\n",
       "      <td>1.0000</td>\n",
       "      <td>NaN</td>\n",
       "      <td>arson</td>\n",
       "      <td>NaN</td>\n",
       "      <td>Cheesehead Report - Arson charges filed in Jackson County house fire http://t.co/I3Y1ZWjBzO</td>\n",
       "      <td>6.290840e+17</td>\n",
       "      <td>3.115227e+09</td>\n",
       "    </tr>\n",
       "    <tr>\n",
       "      <th>966</th>\n",
       "      <td>778245782</td>\n",
       "      <td>False</td>\n",
       "      <td>finalized</td>\n",
       "      <td>5</td>\n",
       "      <td>9/1/15 17:59</td>\n",
       "      <td>Not Relevant</td>\n",
       "      <td>1.0000</td>\n",
       "      <td>NaN</td>\n",
       "      <td>blaze</td>\n",
       "      <td>NaN</td>\n",
       "      <td>Craving slurpees ;-;</td>\n",
       "      <td>6.290840e+17</td>\n",
       "      <td>2.423798e+09</td>\n",
       "    </tr>\n",
       "    <tr>\n",
       "      <th>970</th>\n",
       "      <td>778245786</td>\n",
       "      <td>False</td>\n",
       "      <td>finalized</td>\n",
       "      <td>5</td>\n",
       "      <td>9/2/15 7:32</td>\n",
       "      <td>Relevant</td>\n",
       "      <td>0.8047</td>\n",
       "      <td>NaN</td>\n",
       "      <td>blaze</td>\n",
       "      <td>Lithgow, NSW, Australia</td>\n",
       "      <td>Lithgow News: Homeless after blaze near Portland http://t.co/Cht5w3znIK</td>\n",
       "      <td>6.290840e+17</td>\n",
       "      <td>2.763639e+08</td>\n",
       "    </tr>\n",
       "    <tr>\n",
       "      <th>994</th>\n",
       "      <td>778245810</td>\n",
       "      <td>False</td>\n",
       "      <td>finalized</td>\n",
       "      <td>5</td>\n",
       "      <td>8/31/15 0:13</td>\n",
       "      <td>Not Relevant</td>\n",
       "      <td>0.8006</td>\n",
       "      <td>NaN</td>\n",
       "      <td>blazing</td>\n",
       "      <td>State of Georgia</td>\n",
       "      <td>@Blazing_Ben @PattyDs50 @gwfrazee @JoshuaAssaraf Not really. Sadly I have come to expect that from Obama.</td>\n",
       "      <td>6.290840e+17</td>\n",
       "      <td>3.031839e+09</td>\n",
       "    </tr>\n",
       "    <tr>\n",
       "      <th>1036</th>\n",
       "      <td>778245852</td>\n",
       "      <td>False</td>\n",
       "      <td>finalized</td>\n",
       "      <td>5</td>\n",
       "      <td>8/27/15 17:05</td>\n",
       "      <td>Not Relevant</td>\n",
       "      <td>1.0000</td>\n",
       "      <td>NaN</td>\n",
       "      <td>bleeding</td>\n",
       "      <td>NaN</td>\n",
       "      <td>now my nose is bleeding. the last one was like 10 years ago</td>\n",
       "      <td>6.290840e+17</td>\n",
       "      <td>3.561959e+08</td>\n",
       "    </tr>\n",
       "  </tbody>\n",
       "</table>\n",
       "</div>"
      ],
      "text/plain": [
       "       _unit_id  _golden _unit_state  _trusted_judgments _last_judgment_at  \\\n",
       "547   778245363    False   finalized                   5      8/28/15 7:33   \n",
       "966   778245782    False   finalized                   5      9/1/15 17:59   \n",
       "970   778245786    False   finalized                   5       9/2/15 7:32   \n",
       "994   778245810    False   finalized                   5      8/31/15 0:13   \n",
       "1036  778245852    False   finalized                   5     8/27/15 17:05   \n",
       "\n",
       "        choose_one  choose_one:confidence choose_one_gold   keyword  \\\n",
       "547       Relevant                 1.0000             NaN     arson   \n",
       "966   Not Relevant                 1.0000             NaN     blaze   \n",
       "970       Relevant                 0.8047             NaN     blaze   \n",
       "994   Not Relevant                 0.8006             NaN   blazing   \n",
       "1036  Not Relevant                 1.0000             NaN  bleeding   \n",
       "\n",
       "                     location  \\\n",
       "547                       NaN   \n",
       "966                       NaN   \n",
       "970   Lithgow, NSW, Australia   \n",
       "994          State of Georgia   \n",
       "1036                      NaN   \n",
       "\n",
       "                                                                                                           text  \\\n",
       "547                 Cheesehead Report - Arson charges filed in Jackson County house fire http://t.co/I3Y1ZWjBzO   \n",
       "966                                                                                        Craving slurpees ;-;   \n",
       "970                                     Lithgow News: Homeless after blaze near Portland http://t.co/Cht5w3znIK   \n",
       "994   @Blazing_Ben @PattyDs50 @gwfrazee @JoshuaAssaraf Not really. Sadly I have come to expect that from Obama.   \n",
       "1036                                                now my nose is bleeding. the last one was like 10 years ago   \n",
       "\n",
       "           tweetid        userid  \n",
       "547   6.290840e+17  3.115227e+09  \n",
       "966   6.290840e+17  2.423798e+09  \n",
       "970   6.290840e+17  2.763639e+08  \n",
       "994   6.290840e+17  3.031839e+09  \n",
       "1036  6.290840e+17  3.561959e+08  "
      ]
     },
     "execution_count": 105,
     "metadata": {},
     "output_type": "execute_result"
    }
   ],
   "source": [
    "sm[sm['tweetid'] == 6.29084e+17].head()\n",
    "# Tweetid "
   ]
  },
  {
   "cell_type": "code",
   "execution_count": 79,
   "metadata": {},
   "outputs": [
    {
     "data": {
      "text/plain": [
       "NaN              87\n",
       " 1.370295e+09    26\n",
       " 1.651824e+09    14\n",
       " 1.732410e+09    14\n",
       " 2.915192e+09    11\n",
       "Name: userid, dtype: int64"
      ]
     },
     "execution_count": 79,
     "metadata": {},
     "output_type": "execute_result"
    }
   ],
   "source": [
    "sm['userid'].value_counts(dropna=False).head()"
   ]
  },
  {
   "cell_type": "code",
   "execution_count": 91,
   "metadata": {},
   "outputs": [
    {
     "data": {
      "text/plain": [
       "1370295024.0"
      ]
     },
     "execution_count": 91,
     "metadata": {},
     "output_type": "execute_result"
    }
   ],
   "source": [
    "sm[sm['userid'].astype('str').str.contains('1370295')]['userid'][6799]"
   ]
  },
  {
   "cell_type": "code",
   "execution_count": 93,
   "metadata": {},
   "outputs": [
    {
     "data": {
      "text/html": [
       "<div>\n",
       "<style scoped>\n",
       "    .dataframe tbody tr th:only-of-type {\n",
       "        vertical-align: middle;\n",
       "    }\n",
       "\n",
       "    .dataframe tbody tr th {\n",
       "        vertical-align: top;\n",
       "    }\n",
       "\n",
       "    .dataframe thead th {\n",
       "        text-align: right;\n",
       "    }\n",
       "</style>\n",
       "<table border=\"1\" class=\"dataframe\">\n",
       "  <thead>\n",
       "    <tr style=\"text-align: right;\">\n",
       "      <th></th>\n",
       "      <th>_unit_id</th>\n",
       "      <th>_golden</th>\n",
       "      <th>_unit_state</th>\n",
       "      <th>_trusted_judgments</th>\n",
       "      <th>_last_judgment_at</th>\n",
       "      <th>choose_one</th>\n",
       "      <th>choose_one:confidence</th>\n",
       "      <th>choose_one_gold</th>\n",
       "      <th>keyword</th>\n",
       "      <th>location</th>\n",
       "      <th>text</th>\n",
       "      <th>tweetid</th>\n",
       "      <th>userid</th>\n",
       "    </tr>\n",
       "  </thead>\n",
       "  <tbody>\n",
       "    <tr>\n",
       "      <th>6799</th>\n",
       "      <td>778251616</td>\n",
       "      <td>False</td>\n",
       "      <td>finalized</td>\n",
       "      <td>5</td>\n",
       "      <td>8/30/15 5:51</td>\n",
       "      <td>Not Relevant</td>\n",
       "      <td>0.5941</td>\n",
       "      <td>NaN</td>\n",
       "      <td>loud%20bang</td>\n",
       "      <td>Kenya</td>\n",
       "      <td>kabwandi_: Breaking news! Unconfirmed! I just heard a loud bang nearby. in what appears to be a blast of wind from my neighbour's ass.</td>\n",
       "      <td>6.288590e+17</td>\n",
       "      <td>1.370295e+09</td>\n",
       "    </tr>\n",
       "    <tr>\n",
       "      <th>6800</th>\n",
       "      <td>778251617</td>\n",
       "      <td>False</td>\n",
       "      <td>finalized</td>\n",
       "      <td>5</td>\n",
       "      <td>8/27/15 16:35</td>\n",
       "      <td>Not Relevant</td>\n",
       "      <td>1.0000</td>\n",
       "      <td>NaN</td>\n",
       "      <td>loud%20bang</td>\n",
       "      <td>Kenya</td>\n",
       "      <td>tkyonly1fmk: Breaking news! Unconfirmed! I just heard a loud bang nearby. in what appears to be a blast of wind from my neighbour's ass.</td>\n",
       "      <td>6.285760e+17</td>\n",
       "      <td>1.370295e+09</td>\n",
       "    </tr>\n",
       "    <tr>\n",
       "      <th>6804</th>\n",
       "      <td>778251621</td>\n",
       "      <td>False</td>\n",
       "      <td>finalized</td>\n",
       "      <td>5</td>\n",
       "      <td>8/27/15 18:25</td>\n",
       "      <td>Not Relevant</td>\n",
       "      <td>0.5957</td>\n",
       "      <td>NaN</td>\n",
       "      <td>loud%20bang</td>\n",
       "      <td>Kenya</td>\n",
       "      <td>Ercjmnea: Breaking news! Unconfirmed! I just heard a loud bang nearby. in what appears to be a blast of wind from my neighbour's ass.</td>\n",
       "      <td>6.289120e+17</td>\n",
       "      <td>1.370295e+09</td>\n",
       "    </tr>\n",
       "    <tr>\n",
       "      <th>6805</th>\n",
       "      <td>778251622</td>\n",
       "      <td>False</td>\n",
       "      <td>finalized</td>\n",
       "      <td>5</td>\n",
       "      <td>8/30/15 11:13</td>\n",
       "      <td>Not Relevant</td>\n",
       "      <td>0.7982</td>\n",
       "      <td>NaN</td>\n",
       "      <td>loud%20bang</td>\n",
       "      <td>Kenya</td>\n",
       "      <td>iBliz140: Breaking news! Unconfirmed! I just heard a loud bang nearby. in what appears to be a blast of wind from my neighbour's ass.</td>\n",
       "      <td>6.290330e+17</td>\n",
       "      <td>1.370295e+09</td>\n",
       "    </tr>\n",
       "    <tr>\n",
       "      <th>6807</th>\n",
       "      <td>778251624</td>\n",
       "      <td>False</td>\n",
       "      <td>finalized</td>\n",
       "      <td>5</td>\n",
       "      <td>8/30/15 4:36</td>\n",
       "      <td>Not Relevant</td>\n",
       "      <td>0.5965</td>\n",
       "      <td>NaN</td>\n",
       "      <td>loud%20bang</td>\n",
       "      <td>Kenya</td>\n",
       "      <td>kotolily_: Breaking news! Unconfirmed! I just heard a loud bang nearby. in what appears to be a blast of wind from my neighbour's ass.</td>\n",
       "      <td>6.288740e+17</td>\n",
       "      <td>1.370295e+09</td>\n",
       "    </tr>\n",
       "  </tbody>\n",
       "</table>\n",
       "</div>"
      ],
      "text/plain": [
       "       _unit_id  _golden _unit_state  _trusted_judgments _last_judgment_at  \\\n",
       "6799  778251616    False   finalized                   5      8/30/15 5:51   \n",
       "6800  778251617    False   finalized                   5     8/27/15 16:35   \n",
       "6804  778251621    False   finalized                   5     8/27/15 18:25   \n",
       "6805  778251622    False   finalized                   5     8/30/15 11:13   \n",
       "6807  778251624    False   finalized                   5      8/30/15 4:36   \n",
       "\n",
       "        choose_one  choose_one:confidence choose_one_gold      keyword  \\\n",
       "6799  Not Relevant                 0.5941             NaN  loud%20bang   \n",
       "6800  Not Relevant                 1.0000             NaN  loud%20bang   \n",
       "6804  Not Relevant                 0.5957             NaN  loud%20bang   \n",
       "6805  Not Relevant                 0.7982             NaN  loud%20bang   \n",
       "6807  Not Relevant                 0.5965             NaN  loud%20bang   \n",
       "\n",
       "     location  \\\n",
       "6799    Kenya   \n",
       "6800    Kenya   \n",
       "6804    Kenya   \n",
       "6805    Kenya   \n",
       "6807    Kenya   \n",
       "\n",
       "                                                                                                                                          text  \\\n",
       "6799    kabwandi_: Breaking news! Unconfirmed! I just heard a loud bang nearby. in what appears to be a blast of wind from my neighbour's ass.   \n",
       "6800  tkyonly1fmk: Breaking news! Unconfirmed! I just heard a loud bang nearby. in what appears to be a blast of wind from my neighbour's ass.   \n",
       "6804     Ercjmnea: Breaking news! Unconfirmed! I just heard a loud bang nearby. in what appears to be a blast of wind from my neighbour's ass.   \n",
       "6805     iBliz140: Breaking news! Unconfirmed! I just heard a loud bang nearby. in what appears to be a blast of wind from my neighbour's ass.   \n",
       "6807    kotolily_: Breaking news! Unconfirmed! I just heard a loud bang nearby. in what appears to be a blast of wind from my neighbour's ass.   \n",
       "\n",
       "           tweetid        userid  \n",
       "6799  6.288590e+17  1.370295e+09  \n",
       "6800  6.285760e+17  1.370295e+09  \n",
       "6804  6.289120e+17  1.370295e+09  \n",
       "6805  6.290330e+17  1.370295e+09  \n",
       "6807  6.288740e+17  1.370295e+09  "
      ]
     },
     "execution_count": 93,
     "metadata": {},
     "output_type": "execute_result"
    }
   ],
   "source": [
    "sm[sm['userid'] == 1370295024].head()\n",
    "# all from same user and same message"
   ]
  },
  {
   "cell_type": "markdown",
   "metadata": {},
   "source": [
    "# Text Processing"
   ]
  },
  {
   "cell_type": "code",
   "execution_count": 8,
   "metadata": {},
   "outputs": [],
   "source": [
    "import spacy"
   ]
  },
  {
   "cell_type": "code",
   "execution_count": 12,
   "metadata": {},
   "outputs": [],
   "source": [
    "nlp = spacy.load('en_core_web_sm')"
   ]
  },
  {
   "cell_type": "code",
   "execution_count": 13,
   "metadata": {},
   "outputs": [
    {
     "name": "stdout",
     "output_type": "stream",
     "text": [
      "CPU times: user 3min 3s, sys: 1.52 s, total: 3min 5s\n",
      "Wall time: 1min 14s\n"
     ]
    }
   ],
   "source": [
    "%time spacy_docs = pd.Series(nlp.pipe(sm['text']))\n"
   ]
  },
  {
   "cell_type": "code",
   "execution_count": 14,
   "metadata": {},
   "outputs": [
    {
     "data": {
      "text/plain": [
       "0            (Just, happened, a, terrible, car, crash)\n",
       "1    (Our, Deeds, are, the, Reason, of, this, #, ea...\n",
       "2    (Heard, about, #, earthquake, is, different, c...\n",
       "3    (there, is, a, forest, fire, at, spot, pond, ,...\n",
       "4     (Forest, fire, near, La, Ronge, Sask, ., Canada)\n",
       "dtype: object"
      ]
     },
     "execution_count": 14,
     "metadata": {},
     "output_type": "execute_result"
    }
   ],
   "source": [
    "spacy_docs.head()"
   ]
  },
  {
   "cell_type": "code",
   "execution_count": 152,
   "metadata": {},
   "outputs": [
    {
     "name": "stdout",
     "output_type": "stream",
     "text": [
      "True False False False False\n",
      "True False False False False\n",
      "True False False False False\n",
      "True False False False False\n",
      "True False False False False\n",
      "True False False False False\n",
      "True False False False False\n",
      "True False False False False\n",
      "True False False False False\n",
      "True False False False False\n",
      "True False False False False\n",
      "True False False False False\n",
      "True False False False False\n",
      "True False False False False\n",
      "True False False False False\n",
      "True False False False False\n",
      "True False False True False\n"
     ]
    }
   ],
   "source": [
    "for token in spacy_docs[46]:\n",
    "    print(token.has_vector, token.is_quote, token.is_digit, token.like_url, token.like_email)"
   ]
  },
  {
   "cell_type": "markdown",
   "metadata": {},
   "source": [
    "# Things to Remove\n",
    "\\# \n",
    "token.like_url\n",
    "@...\n"
   ]
  },
  {
   "cell_type": "code",
   "execution_count": 110,
   "metadata": {},
   "outputs": [
    {
     "data": {
      "text/plain": [
       "0                                                                                                                                                  (Just, happened, a, terrible, car, crash)\n",
       "1                                                                                                      (Our, Deeds, are, the, Reason, of, this, #, earthquake, May, ALLAH, Forgive, us, all)\n",
       "2                                                                                                           (Heard, about, #, earthquake, is, different, cities, ,, stay, safe, everyone, .)\n",
       "3                                                                 (there, is, a, forest, fire, at, spot, pond, ,, geese, are, fleeing, across, the, street, ,, I, can, not, save, them, all)\n",
       "4                                                                                                                                           (Forest, fire, near, La, Ronge, Sask, ., Canada)\n",
       "5                         (All, residents, asked, to, ', shelter, in, place, ', are, being, notified, by, officers, ., No, other, evacuation, or, shelter, in, place, orders, are, expected)\n",
       "6                                                                                                                (13,000, people, receive, #, wildfires, evacuation, orders, in, California)\n",
       "7                                                                               (Just, got, sent, this, photo, from, Ruby, #, Alaska, as, smoke, from, #, wildfires, pours, into, a, school)\n",
       "8                                                (#, RockyFire, Update, =, >, California, Hwy, ., 20, closed, in, both, directions, due, to, Lake, County, fire, -, #, CAfire, #, wildfires)\n",
       "9                                                                                                                                        (Apocalypse, lighting, ., #, Spokane, #, wildfires)\n",
       "10                                                                      (#, flood, #, disaster, Heavy, rain, causes, flash, flooding, of, streets, in, Manitou, ,, Colorado, Springs, areas)\n",
       "11                                                                                                                                    (Typhoon, Soudelor, kills, 28, in, China, and, Taiwan)\n",
       "12                                                                                                                                           (We, 're, shaking, ..., It, 's, an, earthquake)\n",
       "13                                                                                                           (I, 'm, on, top, of, the, hill, and, I, can, see, a, fire, in, the, woods, ...)\n",
       "14                                                                                            (There, 's, an, emergency, evacuation, happening, now, in, the, building, across, the, street)\n",
       "15                                                                                                                       (I, 'm, afraid, that, the, tornado, is, coming, to, our, area, ...)\n",
       "16                                                                                                                                     (Three, people, died, from, the, heat, wave, so, far)\n",
       "17                           (Haha, South, Tampa, is, getting, flooded, hah-, WAIT, A, SECOND, I, LIVE, IN, SOUTH, TAMPA, WHAT, AM, I, GONNA, DO, WHAT, AM, I, GONNA, DO, FVCK, #, flooding)\n",
       "18                                                                                    (#, raining, #, flooding, #, Florida, #, TampaBay, #, Tampa, 18, or, 19, days, ., I, 've, lost, count)\n",
       "19                                                                                                                                       (#, Flood, in, Bago, Myanmar, #, We, arrived, Bago)\n",
       "20                                                                                                                     (Damage, to, school, bus, on, 80, in, multi, car, crash, #, BREAKING)\n",
       "46                                               (Birmingham, Wholesale, Market, is, ablaze, BBC, News, -, Fire, breaks, out, at, Birmingham, 's, Wholesale, Market, http://t.co/irWqCEZWEU)\n",
       "48                                                                                                                             (@bbcmtd, Wholesale, Markets, ablaze, http://t.co/lHYXEOHY6C)\n",
       "50                                                                                    (#, AFRICANBAZE, :, Breaking, news, :, Nigeria, flag, set, ablaze, in, Aba, ., http://t.co/2nndBGwyEi)\n",
       "55                                                                                                                          (INEC, Office, in, Abia, Set, Ablaze, -, http://t.co/3ImaomknnA)\n",
       "56                  (Barbados, #, Bridgetown, JAMAICA, ÛÒ, Two, cars, set, ablaze, :, SANTA, CRUZ, ÛÓ, Head, of, the, St, Elizabeth, Police, Superintende, ...,  , http://t.co/wDUEaj8Q4J)\n",
       "66                                                                         (How, the, West, was, burned, :, Thousands, of, wildfires, ablaze, in, California, alone, http://t.co/vl5TBR3wbr)\n",
       "73                                                                                                     (Deputies, :, Man, shot, before, Brighton, home, set, ablaze, http://t.co/gWNRhMSO8k)\n",
       "74                                                                                               (Man, wife, get, six, years, jail, for, setting, ablaze, niece, \\n, http://t.co/eV1ahOUCZA)\n",
       "75                   (Rape, victim, dies, as, she, sets, herself, ablaze, :, A, 16-year, -, old, girl, died, of, burn, injuries, as, she, set, herself, ablazeÛ, _, http://t.co/UK8hNrbOob)\n",
       "                                                                                                ...                                                                                         \n",
       "10844    (SEVERE, WEATHER, BULLETIN, No, ., 5, FOR, :, TYPHOON, ÛÏ#HannaPHÛ, (, SOUDELOR, ), TROPICAL, CYCLONE, :, WARNING, ISSUED, AT, 5:00, PM, 06, ..., http://t.co/tHhjJw51PE, Û, _)\n",
       "10845                                                                                          (Officials, :, Alabama, home, quarantined, over, possible, Ebola, case, -, Washington, Times)\n",
       "10846                                                                                 (Heat, wave, warning, aa, ?, Ayyo, dei, ., Just, when, I, plan, to, visit, friends, after, a, year, .)\n",
       "10847                   (An, IS, group, suicide, bomber, detonated, an, explosives, -, packed, vest, in, a, mosque, inside, a, Saudi, special, forces, headquarters, killing, 15, people, .)\n",
       "10849                                                                      (A, gas, thing, just, exploded, and, I, heard, screams, and, now, the, whole, street, smells, of, gas, ..., ?, ?)\n",
       "10850                                                       (NWS, :, Flash, Flood, Warning, Continued, for, Shelby, County, until, 08:00, PM, Wednesday, ., http://t.co/nZ7ACKRrJi, #, tnwx)\n",
       "10851              (RT, @LivingSafely, :, #, NWS, issues, Severe, #, Thunderstorm, Warnings, for, parts, of, #, AR, #, NC, #, OK, ., Expect, more, trauma, cases, :, http://t.co/FWqfCKNCQW)\n",
       "10852                  (#, ?, ?, ?, #, ?, ?, #, ?, ?, ?, #, ?, ?, ?, MH370, :, Aircraft, debris, found, on, La, Reunion, is, from, missing, Malaysia, Airlines, ..., http://t.co/5B7qT2YxdA)\n",
       "10853                                               (Father, -, of, -, three, Lost, Control, of, Car, After, Overtaking, and, Collided, #, BathAndNorthEastSomerset, http://t.co/fa3FcnlN86)\n",
       "10854                             (1.3, #, Earthquake, in, 9Km, Ssw, Of, Anza, California, #, iPhone, users, download, the, Earthquake, app, for, more, information, http://t.co/V3aZWOAmzK)\n",
       "10855                                                                               (Evacuation, order, lifted, for, town, of, Roosevelt, :, http://t.co/EDyfo6E2PU, http://t.co/M5KxLPKFA1)\n",
       "10856                      (See, the, 16yr, old, PKK, suicide, bomber, who, detonated, bomb, in, Turkey, Army, trench, released, :, Harun, Ìàekdar, ..., http://t.co/hKuT5mSdtP, @MsOreo, _)\n",
       "10857                       (To, conference, attendees, !, The, blue, line, from, the, airport, has, DERAILED, -, please, look, into, taking, a, taxi, to, the, hotel, !, See, you, soon, !)\n",
       "10858           (The, death, toll, in, a, #, IS, -, suicide, car, bombing, on, a, #, YPG, position, in, the, Village, of, Rajman, in, the, eastern, province, of, Hasaka, has, risen, to, 9)\n",
       "10859                                                                  (#, breaking, #, LA, Refugio, oil, spill, may, have, been, costlier, bigger, than, projected, http://t.co/5ueCmcv2Pk)\n",
       "10860                                                                                                    (a, siren, just, went, off, and, it, was, n't, the, Forney, tornado, warning, ?, ?)\n",
       "10862                        (Officials, say, a, quarantine, is, in, place, at, an, Alabama, home, over, a, possible, Ebola, case, after, developing, symptoms, ..., http://t.co/rqKK15uhEY)\n",
       "10863               (#, WorldNews, Fallen, powerlines, on, G, :, link, tram, :, UPDATE, :, FIRE, crews, have, evacuated, up, to, 30, passengers, who, were, tr, ..., http://t.co/EYSVvzA7Qm)\n",
       "10864                                        (on, the, flip, side, I, 'm, at, Walmart, and, there, is, a, bomb, and, everyone, had, to, evacuate, so, stay, tuned, if, I, blow, up, or, not)\n",
       "10865            (Storm, in, RI, worse, than, last, hurricane, ., My, city&amp;3others, hardest, hit, ., My, yard, looks, like, it, was, bombed, ., Around, 20000, K, still, without, power)\n",
       "10866                                         (Suicide, bomber, kills, 15, in, Saudi, security, site, mosque, -, Reuters, via, World, -, Google, News, -, Wall, ..., http://t.co/nF4IculOje)\n",
       "10867                              (#, stormchase, Violent, Record, Breaking, EF-5, El, Reno, Oklahoma, Tornado, Nearly, Runs, Over, ..., -, http://t.co/3SICroAaNz, http://t.co/I27Oa0HISp)\n",
       "10868                                                                                                                         (Green, Line, derailment, in, Chicago, http://t.co/UtbXLcBIuY)\n",
       "10869                                                                                        (Two, giant, cranes, holding, a, bridge, collapse, into, nearby, homes, http://t.co/STfMbbZFB5)\n",
       "10870                                 (@aria_ahrary, @TheTawniest, The, out, of, control, wild, fires, in, California, even, in, the, Northern, part, of, the, state, ., Very, troubling, .)\n",
       "10871                                                                                                       (M1.94, [, 01:04, UTC]?5, km, S, of, Volcano, Hawaii, ., http://t.co/zDtoyd8EbJ)\n",
       "10872          (Police, investigating, after, an, e, -, bike, collided, with, a, car, in, Little, Portugal, ., E, -, bike, rider, suffered, serious, non, -, life, threatening, injuries, .)\n",
       "10873                                                                         (The, Latest, :, More, Homes, Razed, by, Northern, California, Wildfire, -, ABC, News, http://t.co/YmY4rSkQ3d)\n",
       "10874                                                                                                          (MEG, issues, Hazardous, Weather, Outlook, (, HWO, ), http://t.co/3X6RBQJHn3)\n",
       "10875                                                                                                    (#, CityofCalgary, has, activated, its, Municipal, Emergency, Plan, ., #, yycstorm)\n",
       "Length: 4673, dtype: object"
      ]
     },
     "execution_count": 110,
     "metadata": {},
     "output_type": "execute_result"
    }
   ],
   "source": [
    "spacy_docs[sm['choose_one'] == 'Relevant']"
   ]
  },
  {
   "cell_type": "code",
   "execution_count": 145,
   "metadata": {},
   "outputs": [
    {
     "data": {
      "text/plain": [
       "10855                                                                     (Evacuation, order, lifted, for, town, of, Roosevelt, :, http://t.co/EDyfo6E2PU, http://t.co/M5KxLPKFA1)\n",
       "10851    (RT, @LivingSafely, :, #, NWS, issues, Severe, #, Thunderstorm, Warnings, for, parts, of, #, AR, #, NC, #, OK, ., Expect, more, trauma, cases, :, http://t.co/FWqfCKNCQW)\n",
       "10836                (#, Ebola, #, EbolaOutbreak, Ebola, Virus, :, Birmingham, Ala., Firefighters, Quarantined, After, Possible, Exposure, Officials, Say, http://t.co/tjpYlU9fOX)\n",
       "10874                                                                                                (MEG, issues, Hazardous, Weather, Outlook, (, HWO, ), http://t.co/3X6RBQJHn3)\n",
       "10859                                                        (#, breaking, #, LA, Refugio, oil, spill, may, have, been, costlier, bigger, than, projected, http://t.co/5ueCmcv2Pk)\n",
       "dtype: object"
      ]
     },
     "execution_count": 145,
     "metadata": {},
     "output_type": "execute_result"
    }
   ],
   "source": [
    "# Golden stahdard tokens\n",
    "spacy_docs[sm['_golden']].sample(5)"
   ]
  },
  {
   "cell_type": "code",
   "execution_count": 147,
   "metadata": {},
   "outputs": [
    {
     "data": {
      "text/plain": [
       "'Rocky Fire Update California Hwy 20 closed in both directions due to Lake County fire CA fire wildfires'"
      ]
     },
     "execution_count": 147,
     "metadata": {},
     "output_type": "execute_result"
    }
   ],
   "source": [
    "\" \".join(wordninja.split(sm.loc[8, 'text']))"
   ]
  },
  {
   "cell_type": "code",
   "execution_count": 115,
   "metadata": {},
   "outputs": [],
   "source": [
    "import wordninja # split words that are missing spaces in between "
   ]
  },
  {
   "cell_type": "code",
   "execution_count": 126,
   "metadata": {},
   "outputs": [],
   "source": [
    "owl_msg = 'Have a family of four stuck on the roof. Access by boat only. 12 year old child inmedical distress, missing insulin.'"
   ]
  },
  {
   "cell_type": "code",
   "execution_count": 136,
   "metadata": {},
   "outputs": [
    {
     "name": "stdout",
     "output_type": "stream",
     "text": [
      "CPU times: user 1.03 ms, sys: 31 µs, total: 1.06 ms\n",
      "Wall time: 1.07 ms\n"
     ]
    },
    {
     "data": {
      "text/plain": [
       "'Have a family of four stuck on the roof Access by boat only 12 year old child in medical distress missing insulin'"
      ]
     },
     "execution_count": 136,
     "metadata": {},
     "output_type": "execute_result"
    }
   ],
   "source": [
    "%time \" \".join(wordninja.split(owl_msg))"
   ]
  },
  {
   "cell_type": "code",
   "execution_count": null,
   "metadata": {},
   "outputs": [],
   "source": [
    "## Things to consider\n",
    "1. Medicine list \n",
    "2. house features?\n",
    "3. Child"
   ]
  },
  {
   "cell_type": "code",
   "execution_count": 129,
   "metadata": {},
   "outputs": [],
   "source": [
    "owl_doc = nlp(\" \".join(wordninja.split(owl_msg)))"
   ]
  },
  {
   "cell_type": "code",
   "execution_count": 143,
   "metadata": {},
   "outputs": [
    {
     "data": {
      "text/plain": [
       "(four, only 12 year old)"
      ]
     },
     "execution_count": 143,
     "metadata": {},
     "output_type": "execute_result"
    }
   ],
   "source": [
    "owl_doc.ents"
   ]
  },
  {
   "cell_type": "code",
   "execution_count": 122,
   "metadata": {},
   "outputs": [
    {
     "name": "stdout",
     "output_type": "stream",
     "text": [
      "\n",
      "\u001b[93m    Serving on port 5000...\u001b[0m\n",
      "    Using the 'dep' visualizer\n",
      "\n"
     ]
    },
    {
     "name": "stderr",
     "output_type": "stream",
     "text": [
      "127.0.0.1 - - [05/Jun/2019 23:02:25] \"GET / HTTP/1.1\" 200 15072\n",
      "127.0.0.1 - - [05/Jun/2019 23:02:25] \"GET /favicon.ico HTTP/1.1\" 200 15072\n"
     ]
    },
    {
     "name": "stdout",
     "output_type": "stream",
     "text": [
      "\n",
      "    Shutting down server on port 5000.\n",
      "\n"
     ]
    }
   ],
   "source": [
    "# displacy.serve(owl_doc, style='dep')"
   ]
  },
  {
   "cell_type": "markdown",
   "metadata": {},
   "source": [
    "# Most common words"
   ]
  },
  {
   "cell_type": "code",
   "execution_count": 137,
   "metadata": {},
   "outputs": [],
   "source": [
    "from sklearn.feature_extraction.text import CountVectorizer, TfidfVectorizer"
   ]
  },
  {
   "cell_type": "code",
   "execution_count": 156,
   "metadata": {},
   "outputs": [],
   "source": [
    "from spacy.lang.en.stop_words import STOP_WORDS"
   ]
  },
  {
   "cell_type": "code",
   "execution_count": 140,
   "metadata": {},
   "outputs": [],
   "source": [
    "# from keras.preprocessing.text import Tokenizer"
   ]
  },
  {
   "cell_type": "code",
   "execution_count": 155,
   "metadata": {},
   "outputs": [],
   "source": [
    "def dummy(doc):\n",
    "    \"already preprocessed input\"\n",
    "    return doc\n",
    "\n",
    "def to_list(doc):\n",
    "    \"return as list of tokens\"\n",
    "    return [token.text for token in doc]\n"
   ]
  },
  {
   "cell_type": "code",
   "execution_count": 171,
   "metadata": {},
   "outputs": [],
   "source": [
    "import string"
   ]
  },
  {
   "cell_type": "code",
   "execution_count": 176,
   "metadata": {},
   "outputs": [
    {
     "data": {
      "text/plain": [
       "TfidfVectorizer(analyzer='word', binary=False, decode_error='strict',\n",
       "        dtype=<class 'numpy.int64'>, encoding='utf-8', input='content',\n",
       "        lowercase=True, max_df=0.9, max_features=None, min_df=2,\n",
       "        ngram_range=(1, 1), norm='l2',\n",
       "        preprocessor=<function dummy at 0x7f177d1e9400>, smooth_idf=True,\n",
       "        stop_words={'these', 'how', 'being', '=', 'onto', 'amount', '/', 'up', 'thence', '|', '(', '}', 'side', 'again', 'except', '_', 'what', 'who', 'between', 'ourselves', 'much', 'until', 'latter', 'almost', 'after', '$', 'most', 'their', 'had', 'well', 'through', 'though', 'above', 'about', 'noone', 't...\\\\', 'mostly', 'used', 'another', 'made', '%', 'a', 'latterly', 'somewhere', 'sometime', 'becoming'},\n",
       "        strip_accents=None, sublinear_tf=False,\n",
       "        token_pattern='(?u)\\\\b\\\\w\\\\w+\\\\b',\n",
       "        tokenizer=<function to_list at 0x7f177d1e9d08>, use_idf=True,\n",
       "        vocabulary=None)"
      ]
     },
     "execution_count": 176,
     "metadata": {},
     "output_type": "execute_result"
    }
   ],
   "source": [
    "# haven't added max_df, min_df\n",
    "tv = TfidfVectorizer(\n",
    "    stop_words=STOP_WORDS.union(set(string.punctuation)),\n",
    "    tokenizer=to_list,\n",
    "    preprocessor=dummy,\n",
    "    max_df=0.90, \n",
    "    min_df=2\n",
    ")  \n",
    "\n",
    "tv.fit(spacy_docs[sm['choose_one'] == 'Relevant'])"
   ]
  },
  {
   "cell_type": "code",
   "execution_count": 177,
   "metadata": {},
   "outputs": [],
   "source": [
    "tv_bow = tv.transform(spacy_docs[sm['choose_one'] == 'Relevant'])\n"
   ]
  },
  {
   "cell_type": "code",
   "execution_count": 178,
   "metadata": {},
   "outputs": [
    {
     "data": {
      "text/plain": [
       "(4673, 5327)"
      ]
     },
     "execution_count": 178,
     "metadata": {},
     "output_type": "execute_result"
    }
   ],
   "source": [
    "tv_bow.shape"
   ]
  },
  {
   "cell_type": "code",
   "execution_count": 179,
   "metadata": {},
   "outputs": [
    {
     "data": {
      "text/plain": [
       "[('2', 25.321168374614516),\n",
       " ('More', 24.575947838026693),\n",
       " ('crash', 24.020442458883323),\n",
       " ('disaster', 23.780005141597208),\n",
       " ('bombing', 23.717417054753607),\n",
       " ('buildings', 23.279179993864908),\n",
       " ('Northern', 22.91487124969396),\n",
       " ('\\n\\n', 22.57152151213476),\n",
       " ('This', 22.4807052560692),\n",
       " ('bomb', 22.38401547456711),\n",
       " ('attack', 22.16964088942754),\n",
       " ('storm', 21.49296949626163),\n",
       " ('..', 21.13810856741191),\n",
       " ('We', 21.06366448469012),\n",
       " ('Legionnaires', 20.860763253470115),\n",
       " ('bomber', 20.589469737269663),\n",
       " ('police', 20.50252112317931),\n",
       " ('burning', 20.42568924960253),\n",
       " ('PM', 20.24574707750047),\n",
       " ('RT', 20.138062572865),\n",
       " ('train', 20.06859670633849),\n",
       " ('mass', 19.930874088246632),\n",
       " ('It', 19.48646217487349),\n",
       " ('Malaysia', 19.25341803995096),\n",
       " ('Japan', 19.23753653287022),\n",
       " ('families', 19.057592017210233),\n",
       " ('Obama', 18.77170579040576),\n",
       " ('fatal', 18.723873361827305),\n",
       " ('Disaster', 17.963485731744047),\n",
       " ('Fire', 17.682623387847613)]"
      ]
     },
     "execution_count": 179,
     "metadata": {},
     "output_type": "execute_result"
    }
   ],
   "source": [
    "sum_words_def = tv_bow.sum(axis=0)\n",
    "word_freqs_def = [(word, sum_words_def[0, idx]) for word, idx in tv.vocabulary_.items()] # map token back to its word\n",
    "word_freqs_def = sorted(word_freqs_def, key=lambda x: x[1], reverse=True) # sort by most common\n",
    "top_words_def = word_freqs_def[20:50]\n",
    "top_words_def"
   ]
  },
  {
   "cell_type": "markdown",
   "metadata": {},
   "source": [
    "# Paired Terms Data"
   ]
  },
  {
   "cell_type": "code",
   "execution_count": 188,
   "metadata": {},
   "outputs": [],
   "source": [
    "pt = pd.read_csv('./data/paired_terms_disaster_relef.csv')"
   ]
  },
  {
   "cell_type": "code",
   "execution_count": 197,
   "metadata": {},
   "outputs": [
    {
     "data": {
      "text/plain": [
       "count    18128.000000\n",
       "mean         3.629188\n",
       "std          0.763086\n",
       "min          1.000000\n",
       "25%          3.330000\n",
       "50%          4.000000\n",
       "75%          4.000000\n",
       "max          5.000000\n",
       "Name: relevance, dtype: float64"
      ]
     },
     "execution_count": 197,
     "metadata": {},
     "output_type": "execute_result"
    }
   ],
   "source": [
    "pt['relevance'].describe() # a ranking from 1 to 5"
   ]
  },
  {
   "cell_type": "code",
   "execution_count": 200,
   "metadata": {},
   "outputs": [
    {
     "data": {
      "text/plain": [
       "3      16016\n",
       "4       1764\n",
       "5        249\n",
       "6         23\n",
       "7          9\n",
       "236        7\n",
       "243        7\n",
       "237        6\n",
       "239        5\n",
       "238        5\n",
       "244        4\n",
       "240        4\n",
       "235        4\n",
       "246        3\n",
       "247        3\n",
       "245        3\n",
       "234        3\n",
       "242        3\n",
       "241        2\n",
       "230        2\n",
       "231        1\n",
       "229        1\n",
       "232        1\n",
       "233        1\n",
       "158        1\n",
       "225        1\n",
       "Name: _trusted_judgments, dtype: int64"
      ]
     },
     "execution_count": 200,
     "metadata": {},
     "output_type": "execute_result"
    }
   ],
   "source": [
    "pt['_trusted_judgments'].value_counts()"
   ]
  },
  {
   "cell_type": "code",
   "execution_count": 198,
   "metadata": {},
   "outputs": [
    {
     "data": {
      "text/html": [
       "<div>\n",
       "<style scoped>\n",
       "    .dataframe tbody tr th:only-of-type {\n",
       "        vertical-align: middle;\n",
       "    }\n",
       "\n",
       "    .dataframe tbody tr th {\n",
       "        vertical-align: top;\n",
       "    }\n",
       "\n",
       "    .dataframe thead th {\n",
       "        text-align: right;\n",
       "    }\n",
       "</style>\n",
       "<table border=\"1\" class=\"dataframe\">\n",
       "  <thead>\n",
       "    <tr style=\"text-align: right;\">\n",
       "      <th></th>\n",
       "      <th>16469</th>\n",
       "      <th>16527</th>\n",
       "      <th>2812</th>\n",
       "      <th>1201</th>\n",
       "      <th>11339</th>\n",
       "    </tr>\n",
       "  </thead>\n",
       "  <tbody>\n",
       "    <tr>\n",
       "      <th>_unit_id</th>\n",
       "      <td>879656115</td>\n",
       "      <td>879656190</td>\n",
       "      <td>867854038</td>\n",
       "      <td>867852345</td>\n",
       "      <td>872551379</td>\n",
       "    </tr>\n",
       "    <tr>\n",
       "      <th>_golden</th>\n",
       "      <td>False</td>\n",
       "      <td>False</td>\n",
       "      <td>False</td>\n",
       "      <td>False</td>\n",
       "      <td>False</td>\n",
       "    </tr>\n",
       "    <tr>\n",
       "      <th>_unit_state</th>\n",
       "      <td>finalized</td>\n",
       "      <td>finalized</td>\n",
       "      <td>finalized</td>\n",
       "      <td>finalized</td>\n",
       "      <td>finalized</td>\n",
       "    </tr>\n",
       "    <tr>\n",
       "      <th>_trusted_judgments</th>\n",
       "      <td>3</td>\n",
       "      <td>3</td>\n",
       "      <td>3</td>\n",
       "      <td>3</td>\n",
       "      <td>3</td>\n",
       "    </tr>\n",
       "    <tr>\n",
       "      <th>_last_judgment_at</th>\n",
       "      <td>2/18/2016 06:58:26</td>\n",
       "      <td>2/17/2016 18:37:02</td>\n",
       "      <td>2/2/2016 14:38:53</td>\n",
       "      <td>1/29/2016 14:39:03</td>\n",
       "      <td>2/9/2016 01:19:43</td>\n",
       "    </tr>\n",
       "    <tr>\n",
       "      <th>is_the_term</th>\n",
       "      <td>NaN</td>\n",
       "      <td>NaN</td>\n",
       "      <td>NaN</td>\n",
       "      <td>NaN</td>\n",
       "      <td>misspelled_or_ungrammatical</td>\n",
       "    </tr>\n",
       "    <tr>\n",
       "      <th>is_the_term:confidence</th>\n",
       "      <td>NaN</td>\n",
       "      <td>NaN</td>\n",
       "      <td>NaN</td>\n",
       "      <td>NaN</td>\n",
       "      <td>1</td>\n",
       "    </tr>\n",
       "    <tr>\n",
       "      <th>relevance</th>\n",
       "      <td>2</td>\n",
       "      <td>4.33</td>\n",
       "      <td>3.67</td>\n",
       "      <td>3.67</td>\n",
       "      <td>3.67</td>\n",
       "    </tr>\n",
       "    <tr>\n",
       "      <th>relevance:variance</th>\n",
       "      <td>0</td>\n",
       "      <td>0.471</td>\n",
       "      <td>0.471</td>\n",
       "      <td>0.471</td>\n",
       "      <td>1.247</td>\n",
       "    </tr>\n",
       "    <tr>\n",
       "      <th>definition</th>\n",
       "      <td>Any humanitarian crisis or natural disaster situation involving shelter availability, including destruction of homes, unsafe shelter conditions, etc.</td>\n",
       "      <td>Any humanitarian crisis or natural disaster situation involving intervention of US or other government or NGOs in an attempt to provide aid.</td>\n",
       "      <td>Any humanitarian crisis or natural disaster situation involving intervention of US or other government or NGOs in an attempt to provide aid.</td>\n",
       "      <td>Any humanitarian crisis or natural disaster situation involving the need for evacuation of people from a specific \"danger zone.\"</td>\n",
       "      <td>Any humanitarian crisis or natural disaster situation involving intervention of US or other government or NGOs in an attempt to provide aid.</td>\n",
       "    </tr>\n",
       "    <tr>\n",
       "      <th>dist</th>\n",
       "      <td>0.774716</td>\n",
       "      <td>0.707861</td>\n",
       "      <td>NaN</td>\n",
       "      <td>0.691974</td>\n",
       "      <td>0.559719</td>\n",
       "    </tr>\n",
       "    <tr>\n",
       "      <th>example</th>\n",
       "      <td>Local television images showed flood victims at a sit-in protest carrying cardboards which read ''Why does the flood have to come every year?''</td>\n",
       "      <td>No example sentence available.</td>\n",
       "      <td>No example sentence available.</td>\n",
       "      <td>The next year, the family moved into one of the 35,000 \"domiks\" - Soviet cargo containers or shacks sent to Gyumri as temporary shelters.</td>\n",
       "      <td>No example sentence available.</td>\n",
       "    </tr>\n",
       "    <tr>\n",
       "      <th>freq</th>\n",
       "      <td>2</td>\n",
       "      <td>NaN</td>\n",
       "      <td>NaN</td>\n",
       "      <td>9</td>\n",
       "      <td>0</td>\n",
       "    </tr>\n",
       "    <tr>\n",
       "      <th>id</th>\n",
       "      <td>1695</td>\n",
       "      <td>1639</td>\n",
       "      <td>1</td>\n",
       "      <td>655</td>\n",
       "      <td>1532</td>\n",
       "    </tr>\n",
       "    <tr>\n",
       "      <th>is_the_term_gold</th>\n",
       "      <td>NaN</td>\n",
       "      <td>NaN</td>\n",
       "      <td>NaN</td>\n",
       "      <td>NaN</td>\n",
       "      <td>NaN</td>\n",
       "    </tr>\n",
       "    <tr>\n",
       "      <th>len</th>\n",
       "      <td>1</td>\n",
       "      <td>2</td>\n",
       "      <td>NaN</td>\n",
       "      <td>2</td>\n",
       "      <td>2</td>\n",
       "    </tr>\n",
       "    <tr>\n",
       "      <th>relevance_gold</th>\n",
       "      <td>NaN</td>\n",
       "      <td>NaN</td>\n",
       "      <td>NaN</td>\n",
       "      <td>NaN</td>\n",
       "      <td>NaN</td>\n",
       "    </tr>\n",
       "    <tr>\n",
       "      <th>search</th>\n",
       "      <td>https://www.google.com/search?q=%22CARDBOARDS%22</td>\n",
       "      <td>https://www.google.com/search?q=%22ECONOMIC%20INTERVENTION%22</td>\n",
       "      <td>https://www.google.com/search?q=%22PLASTIC%20SILVERWARE%22</td>\n",
       "      <td>https://www.google.com/search?q=%22CARGO%20CONTAINERS%22</td>\n",
       "      <td>https://www.google.com/search?q=%22DONOR%20MARROW%22</td>\n",
       "    </tr>\n",
       "    <tr>\n",
       "      <th>seed</th>\n",
       "      <td>0</td>\n",
       "      <td>1</td>\n",
       "      <td>-1</td>\n",
       "      <td>0</td>\n",
       "      <td>0</td>\n",
       "    </tr>\n",
       "    <tr>\n",
       "      <th>term</th>\n",
       "      <td>CARDBOARDS</td>\n",
       "      <td>ECONOMIC INTERVENTION</td>\n",
       "      <td>PLASTIC SILVERWARE</td>\n",
       "      <td>CARGO CONTAINERS</td>\n",
       "      <td>DONOR MARROW</td>\n",
       "    </tr>\n",
       "    <tr>\n",
       "      <th>topic</th>\n",
       "      <td>Shelter</td>\n",
       "      <td>Intervention</td>\n",
       "      <td>Intervention</td>\n",
       "      <td>Evacuation</td>\n",
       "      <td>Intervention</td>\n",
       "    </tr>\n",
       "  </tbody>\n",
       "</table>\n",
       "</div>"
      ],
      "text/plain": [
       "                                                                                                                                                                        16469  \\\n",
       "_unit_id                                                                                                                                                            879656115   \n",
       "_golden                                                                                                                                                                 False   \n",
       "_unit_state                                                                                                                                                         finalized   \n",
       "_trusted_judgments                                                                                                                                                          3   \n",
       "_last_judgment_at                                                                                                                                          2/18/2016 06:58:26   \n",
       "is_the_term                                                                                                                                                               NaN   \n",
       "is_the_term:confidence                                                                                                                                                    NaN   \n",
       "relevance                                                                                                                                                                   2   \n",
       "relevance:variance                                                                                                                                                          0   \n",
       "definition              Any humanitarian crisis or natural disaster situation involving shelter availability, including destruction of homes, unsafe shelter conditions, etc.   \n",
       "dist                                                                                                                                                                 0.774716   \n",
       "example                       Local television images showed flood victims at a sit-in protest carrying cardboards which read ''Why does the flood have to come every year?''   \n",
       "freq                                                                                                                                                                        2   \n",
       "id                                                                                                                                                                       1695   \n",
       "is_the_term_gold                                                                                                                                                          NaN   \n",
       "len                                                                                                                                                                         1   \n",
       "relevance_gold                                                                                                                                                            NaN   \n",
       "search                                                                                                                       https://www.google.com/search?q=%22CARDBOARDS%22   \n",
       "seed                                                                                                                                                                        0   \n",
       "term                                                                                                                                                               CARDBOARDS   \n",
       "topic                                                                                                                                                                 Shelter   \n",
       "\n",
       "                                                                                                                                                               16527  \\\n",
       "_unit_id                                                                                                                                                   879656190   \n",
       "_golden                                                                                                                                                        False   \n",
       "_unit_state                                                                                                                                                finalized   \n",
       "_trusted_judgments                                                                                                                                                 3   \n",
       "_last_judgment_at                                                                                                                                 2/17/2016 18:37:02   \n",
       "is_the_term                                                                                                                                                      NaN   \n",
       "is_the_term:confidence                                                                                                                                           NaN   \n",
       "relevance                                                                                                                                                       4.33   \n",
       "relevance:variance                                                                                                                                             0.471   \n",
       "definition              Any humanitarian crisis or natural disaster situation involving intervention of US or other government or NGOs in an attempt to provide aid.   \n",
       "dist                                                                                                                                                        0.707861   \n",
       "example                                                                                                                               No example sentence available.   \n",
       "freq                                                                                                                                                             NaN   \n",
       "id                                                                                                                                                              1639   \n",
       "is_the_term_gold                                                                                                                                                 NaN   \n",
       "len                                                                                                                                                                2   \n",
       "relevance_gold                                                                                                                                                   NaN   \n",
       "search                                                                                                 https://www.google.com/search?q=%22ECONOMIC%20INTERVENTION%22   \n",
       "seed                                                                                                                                                               1   \n",
       "term                                                                                                                                           ECONOMIC INTERVENTION   \n",
       "topic                                                                                                                                                   Intervention   \n",
       "\n",
       "                                                                                                                                                               2812   \\\n",
       "_unit_id                                                                                                                                                   867854038   \n",
       "_golden                                                                                                                                                        False   \n",
       "_unit_state                                                                                                                                                finalized   \n",
       "_trusted_judgments                                                                                                                                                 3   \n",
       "_last_judgment_at                                                                                                                                  2/2/2016 14:38:53   \n",
       "is_the_term                                                                                                                                                      NaN   \n",
       "is_the_term:confidence                                                                                                                                           NaN   \n",
       "relevance                                                                                                                                                       3.67   \n",
       "relevance:variance                                                                                                                                             0.471   \n",
       "definition              Any humanitarian crisis or natural disaster situation involving intervention of US or other government or NGOs in an attempt to provide aid.   \n",
       "dist                                                                                                                                                             NaN   \n",
       "example                                                                                                                               No example sentence available.   \n",
       "freq                                                                                                                                                             NaN   \n",
       "id                                                                                                                                                                 1   \n",
       "is_the_term_gold                                                                                                                                                 NaN   \n",
       "len                                                                                                                                                              NaN   \n",
       "relevance_gold                                                                                                                                                   NaN   \n",
       "search                                                                                                    https://www.google.com/search?q=%22PLASTIC%20SILVERWARE%22   \n",
       "seed                                                                                                                                                              -1   \n",
       "term                                                                                                                                              PLASTIC SILVERWARE   \n",
       "topic                                                                                                                                                   Intervention   \n",
       "\n",
       "                                                                                                                                                            1201   \\\n",
       "_unit_id                                                                                                                                                867852345   \n",
       "_golden                                                                                                                                                     False   \n",
       "_unit_state                                                                                                                                             finalized   \n",
       "_trusted_judgments                                                                                                                                              3   \n",
       "_last_judgment_at                                                                                                                              1/29/2016 14:39:03   \n",
       "is_the_term                                                                                                                                                   NaN   \n",
       "is_the_term:confidence                                                                                                                                        NaN   \n",
       "relevance                                                                                                                                                    3.67   \n",
       "relevance:variance                                                                                                                                          0.471   \n",
       "definition                       Any humanitarian crisis or natural disaster situation involving the need for evacuation of people from a specific \"danger zone.\"   \n",
       "dist                                                                                                                                                     0.691974   \n",
       "example                 The next year, the family moved into one of the 35,000 \"domiks\" - Soviet cargo containers or shacks sent to Gyumri as temporary shelters.   \n",
       "freq                                                                                                                                                            9   \n",
       "id                                                                                                                                                            655   \n",
       "is_the_term_gold                                                                                                                                              NaN   \n",
       "len                                                                                                                                                             2   \n",
       "relevance_gold                                                                                                                                                NaN   \n",
       "search                                                                                                   https://www.google.com/search?q=%22CARGO%20CONTAINERS%22   \n",
       "seed                                                                                                                                                            0   \n",
       "term                                                                                                                                             CARGO CONTAINERS   \n",
       "topic                                                                                                                                                  Evacuation   \n",
       "\n",
       "                                                                                                                                                               11339  \n",
       "_unit_id                                                                                                                                                   872551379  \n",
       "_golden                                                                                                                                                        False  \n",
       "_unit_state                                                                                                                                                finalized  \n",
       "_trusted_judgments                                                                                                                                                 3  \n",
       "_last_judgment_at                                                                                                                                  2/9/2016 01:19:43  \n",
       "is_the_term                                                                                                                              misspelled_or_ungrammatical  \n",
       "is_the_term:confidence                                                                                                                                             1  \n",
       "relevance                                                                                                                                                       3.67  \n",
       "relevance:variance                                                                                                                                             1.247  \n",
       "definition              Any humanitarian crisis or natural disaster situation involving intervention of US or other government or NGOs in an attempt to provide aid.  \n",
       "dist                                                                                                                                                        0.559719  \n",
       "example                                                                                                                               No example sentence available.  \n",
       "freq                                                                                                                                                               0  \n",
       "id                                                                                                                                                              1532  \n",
       "is_the_term_gold                                                                                                                                                 NaN  \n",
       "len                                                                                                                                                                2  \n",
       "relevance_gold                                                                                                                                                   NaN  \n",
       "search                                                                                                          https://www.google.com/search?q=%22DONOR%20MARROW%22  \n",
       "seed                                                                                                                                                               0  \n",
       "term                                                                                                                                                    DONOR MARROW  \n",
       "topic                                                                                                                                                   Intervention  "
      ]
     },
     "execution_count": 198,
     "metadata": {},
     "output_type": "execute_result"
    }
   ],
   "source": [
    "pt.sample(5).T"
   ]
  },
  {
   "cell_type": "code",
   "execution_count": 191,
   "metadata": {},
   "outputs": [
    {
     "data": {
      "text/plain": [
       "Medical                         1503\n",
       "Energy                          1481\n",
       "Elections and Politics          1480\n",
       "Search and Rescue               1472\n",
       "Water                           1461\n",
       "Extreme Violence, Terrorism     1447\n",
       "Violent Civil Unrest            1436\n",
       "Food                            1421\n",
       "Intervention                    1421\n",
       "Evacuation                      1398\n",
       "Infrastructure and Utilities    1244\n",
       "Shelter                         1230\n",
       "Sanitation                      1134\n",
       "Name: topic, dtype: int64"
      ]
     },
     "execution_count": 191,
     "metadata": {},
     "output_type": "execute_result"
    }
   ],
   "source": [
    "pt['topic'].value_counts(dropna=False)"
   ]
  },
  {
   "cell_type": "code",
   "execution_count": 190,
   "metadata": {},
   "outputs": [
    {
     "data": {
      "text/plain": [
       "BIRTHDAY PARTY              26\n",
       "MUSIC LIBRARY               23\n",
       "MICROSOFT EXCEL             20\n",
       "HYDROPOWER FACILITIES       19\n",
       "FLAVORED TOBACCO            18\n",
       "SALES FORCE                 18\n",
       "MULTIPLE-CHOICE TEST        18\n",
       "POWER LINES                 17\n",
       "FINE-TIP PEN                17\n",
       "TEENAGE WASTELAND           17\n",
       "BHUDDISM                    16\n",
       "PUBLIC HEALTH               16\n",
       "EAGLES GUITARIST            16\n",
       "RIOT POLICE                 16\n",
       "FIFA CORRUPTION             15\n",
       "REBRANDING                  15\n",
       "LUXERY TRAINS               15\n",
       "POWER SUPPLY                14\n",
       "CLOUD SERVICES              14\n",
       "HERBAL TEA                  13\n",
       "RADIOSHAQ                   13\n",
       "EXCRETED INFECTIONS         13\n",
       "TRENCH LATRINES             13\n",
       "DOG TAGS                    13\n",
       "PAPER PLATES                13\n",
       "POLKA DOTS                  13\n",
       "BACHELOR PARTY              13\n",
       "DOG FOOD                    13\n",
       "TEAR GAS                    13\n",
       "HIGH-PURITY COCAINE         13\n",
       "                            ..\n",
       "KHARIJITES                   1\n",
       "SECTARIAN STRIFE             1\n",
       "POPULAR VOTE                 1\n",
       "ALUMINUM LED BACKUP          1\n",
       "CONSTITUTIONAL COMMITTEE     1\n",
       "FOMENT STRIFE                1\n",
       "REMOTER AREAS                1\n",
       "DEHYDRATION EXHAUSTION       1\n",
       "MILD INJURIES                1\n",
       "AK PARTY                     1\n",
       "DEFICIENCY SYNDROME          1\n",
       "PARBOILED                    1\n",
       "ANTIBACTERIAL DRUG           1\n",
       "HOOLIGAN                     1\n",
       "HELICOPER                    1\n",
       "PRO-DEMOCRATIC               1\n",
       "GRANDPASS                    1\n",
       "SHIITE FADILA PARTY          1\n",
       "UPND PF PACT                 1\n",
       "FOOD PANTRY                  1\n",
       "ASYNCHRONOUS MOTORS          1\n",
       "GENOCIDAL REGIME             1\n",
       "SKYDIVER DIES                1\n",
       "CABLING                      1\n",
       "MEDIVAC AMBULANCE            1\n",
       "UNEXPLAINED FEVERS           1\n",
       "TRANPARENCY                  1\n",
       "DISENFRANCHISE BLACK         1\n",
       "ELECTRONIC STABILITY         1\n",
       "SAFETY WATCHDOG              1\n",
       "Name: term, Length: 14483, dtype: int64"
      ]
     },
     "execution_count": 190,
     "metadata": {},
     "output_type": "execute_result"
    }
   ],
   "source": [
    "pt['term'].value_counts(dropna=False)"
   ]
  },
  {
   "cell_type": "code",
   "execution_count": 181,
   "metadata": {},
   "outputs": [],
   "source": [
    "dr = pd.read_csv('./data/disaster-relief-dfe-854578.csv', encoding='latin-1') # a simple encoding to ignore complex characters"
   ]
  },
  {
   "cell_type": "code",
   "execution_count": 183,
   "metadata": {},
   "outputs": [
    {
     "data": {
      "text/plain": [
       "Index(['#NAME?', '#NAME?.1', '#NAME?.2', '#NAME?.3', '#NAME?.4',\n",
       "       'is+AF8-the+AF8-term', 'is+AF8-the+AF8-term:confidence', 'relevance',\n",
       "       'relevance:variance', 'definition', 'dist', 'example', 'freq', 'id',\n",
       "       'is+AF8-the+AF8-term+AF8-gold', 'len', 'relevance+AF8-gold', 'search',\n",
       "       'seed', 'term', 'topic', 'Unnamed: 21', 'Unnamed: 22', 'Unnamed: 23',\n",
       "       'Unnamed: 24', 'Unnamed: 25', 'Unnamed: 26', 'Unnamed: 27',\n",
       "       'Unnamed: 28', 'Unnamed: 29', 'Unnamed: 30', 'Unnamed: 31',\n",
       "       'Unnamed: 32', 'Unnamed: 33', 'Unnamed: 34', 'Unnamed: 35',\n",
       "       'Unnamed: 36', 'Unnamed: 37', 'Unnamed: 38', 'Unnamed: 39',\n",
       "       'Unnamed: 40', 'Unnamed: 41'],\n",
       "      dtype='object')"
      ]
     },
     "execution_count": 183,
     "metadata": {},
     "output_type": "execute_result"
    }
   ],
   "source": [
    "dr.columns"
   ]
  },
  {
   "cell_type": "code",
   "execution_count": null,
   "metadata": {},
   "outputs": [],
   "source": []
  }
 ],
 "metadata": {
  "kernelspec": {
   "display_name": "Python 3",
   "language": "python",
   "name": "python3"
  },
  "language_info": {
   "codemirror_mode": {
    "name": "ipython",
    "version": 3
   },
   "file_extension": ".py",
   "mimetype": "text/x-python",
   "name": "python",
   "nbconvert_exporter": "python",
   "pygments_lexer": "ipython3",
   "version": "3.6.8"
  }
 },
 "nbformat": 4,
 "nbformat_minor": 2
}
